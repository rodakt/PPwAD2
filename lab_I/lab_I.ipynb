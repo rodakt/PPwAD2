{
 "cells": [
  {
   "cell_type": "markdown",
   "metadata": {},
   "source": [
    "# Podstawy programowania (AD) 2\n",
    "### Tomasz Rodak\n",
    "## Lab I\n",
    "\n",
    "\n",
    "---\n",
    "## Zadanie I.1\n",
    "\n",
    "Napisz program wyświetlający tablicę jak niżej:\n",
    "\n",
    "```\n",
    "11 12 13 14 15 16 17 18 19 \n",
    "21 22 23 24 25 26 27 28 29 \n",
    "31 32 33 34 35 36 37 38 39 \n",
    "41 42 43 44 45 46 47 48 49 \n",
    "51 52 53 54 55 56 57 58 59 \n",
    "61 62 63 64 65 66 67 68 69 \n",
    "71 72 73 74 75 76 77 78 79 \n",
    "81 82 83 84 85 86 87 88 89 \n",
    "91 92 93 94 95 96 97 98 99\n",
    "```\n",
    "\n",
    "Program powinien generować tablicę, nie kopiuj jej."
   ]
  },
  {
   "cell_type": "markdown",
   "metadata": {},
   "source": [
    "---\n",
    "## Zadanie I.2\n",
    "\n",
    "Napisz program wyświetlający tabliczkę mnożenia dla zadanej wartości $1\\leqslant n\\leqslant 15$. Liczbę $n$ wprowadza użytkownik.\n",
    "\n",
    "Przykład dla $n=9$:\n",
    "\n",
    "```\n",
    "1   2   3   4   5   6   7   8   9   \n",
    "2   4   6   8   10  12  14  16  18  \n",
    "3   6   9   12  15  18  21  24  27  \n",
    "4   8   12  16  20  24  28  32  36  \n",
    "5   10  15  20  25  30  35  40  45  \n",
    "6   12  18  24  30  36  42  48  54  \n",
    "7   14  21  28  35  42  49  56  63  \n",
    "8   16  24  32  40  48  56  64  72  \n",
    "9   18  27  36  45  54  63  72  81\n",
    "```\n",
    "\n",
    "W programie wykorzystaj formatowanie łańcuchów (metoda [`str.format()`](https://docs.python.org/3/library/stdtypes.html#str.format) lub [f-strings](https://docs.python.org/3/tutorial/inputoutput.html#tut-f-strings))."
   ]
  },
  {
   "cell_type": "markdown",
   "metadata": {},
   "source": [
    "---\n",
    "## Zadanie I.3\n",
    "\n",
    "Napisz program, który pobiera od użytkownika dodatnią liczbę całkowitą `n`. Następnie dla liczb od `1` do `n` program wyświetla:\n",
    "\n",
    " * `FizzBuzz`, jeśli liczba jest podzielna przez `3` i `5`;\n",
    " * `Fizz`, jeśli liczba jest podzielna przez `3`;\n",
    " * `Buzz`, jeśli liczba jest podzielna przez `5`;\n",
    " * liczbę, jeśli liczba nie jest podzielna przez `3` ani przez `5`."
   ]
  },
  {
   "cell_type": "markdown",
   "metadata": {},
   "source": [
    "---\n",
    "## Zadanie I.4\n",
    "\n",
    "Napisz program, który wyświetli najmniejszą liczbę $n$, dla której\n",
    "\n",
    "$$\n",
    "1+\\frac{1}{2}+\\frac{1}{3}+\\cdots+\\frac{1}{n}\\geqslant 10\n",
    "$$\n",
    "\n",
    "Taka liczba w ogóle istnieje? Zobacz [szereg harmoniczny](https://pl.wikipedia.org/wiki/Szereg_harmoniczny)."
   ]
  },
  {
   "cell_type": "markdown",
   "metadata": {},
   "source": [
    "---\n",
    "## Zadanie I.5\n",
    "\n",
    "Niech $p$, $q$ będą dodatnimi liczbami całkowitymi. Napisz program, który wyznaczy liczbę całkowitą $x$ spełniającą równość\n",
    "\n",
    "$$\n",
    "x^3+px=q\n",
    "$$\n",
    "\n",
    "lub stwierdzi, że takiej liczby nie ma.\n",
    "\n",
    "Przykłady:\n",
    "\n",
    "* $p=1$, $q=10$ ==> $x=2$;\n",
    "* $p=123456789$, $q=963418328815428240221153430$ ==> $x=987654321$;\n",
    "* $p=2$ lub $p=3$, $q=10$ ==> brak rozwiązania;\n",
    "* $p=123$, $q=56798$ ==> brak rozwiązania."
   ]
  },
  {
   "cell_type": "markdown",
   "metadata": {},
   "source": [
    "---\n",
    "## Zadanie I.6. Symulacja dryfu genetycznego\n",
    "\n",
    "[Dryf genetyczny](https://en.wikipedia.org/wiki/Genetic_drift) to zjawisko polegające na losowej zmianie częstości allelu w populacji. Jest to ważny przykład procesu prowadzącego do ewolucji nieadaptatywnej. \n",
    "\n",
    "Celem tego ćwiczenia jest stworzenie symulacji ilustrującej działanie dryfu genetycznego.\n",
    "\n",
    "Niech *A*, *a* będą dwoma allelami (wariantami) jednego genu. Zakładamy, że:\n",
    "* Dana jest populacja osobników, w której każdy osobnik ma dwie kopie genu w dowolnych wariantach (czyli są to osobniki diploidalne). \n",
    "* Zmiana jednego allelu na drugi nie ma żadnego znaczenia adaptacyjnego. \n",
    "* W populacji pokolenia nie zachodzą na siebie, kojarzenie jest płciowe i całkowicie losowe a każda para organizmów rodzicielskich ma dwa organizmy potomne. \n",
    "* W organizmie potomnym warianty genu dobierane są losowo, z równym prawdopodobieństwem, po jednym od każdego z organizmów rodzicielskich. Przykład: dla organizmów rodzicielskich o genotypach *aA*, *AA*, mamy cztery możliwe genotypy potomne *aA*, *aA*, *AA*, *AA* odpowiadające wylosowaniu pozycji (1, 1), (1, 2), (2, 1), (2, 2).\n",
    "\n",
    "Napisz program, który losowo utworzy populację o ustalonej z góry liczbie osobników (najlepiej parzystej) a następnie wykona dla tej populacji symulację pewnej liczby cykli życiowych. \n",
    "\n",
    "Zaobserwuj:\n",
    "\n",
    "1. Jak zmienia się częstość alleli w populacji?\n",
    "2. Jak zmiana ta zależy od początkowej liczby osobników? Jak od liczby pokoleń?\n",
    "\n",
    "Zobacz link [Time to fixation or loss](https://en.wikipedia.org/wiki/Genetic_drift#Time_to_fixation_or_loss). Sprawdź jak zawarte tam przewidywania mają się do rezultatów Twojej symulacji."
   ]
  }
 ],
 "metadata": {
  "anaconda-cloud": {},
  "kernelspec": {
   "display_name": "Python 3 (ipykernel)",
   "language": "python",
   "name": "python3"
  },
  "language_info": {
   "codemirror_mode": {
    "name": "ipython",
    "version": 3
   },
   "file_extension": ".py",
   "mimetype": "text/x-python",
   "name": "python",
   "nbconvert_exporter": "python",
   "pygments_lexer": "ipython3",
   "version": "3.7.11"
  }
 },
 "nbformat": 4,
 "nbformat_minor": 1
}
