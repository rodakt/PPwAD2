{
 "cells": [
  {
   "cell_type": "markdown",
   "metadata": {},
   "source": [
    "# Podstawy programowania (AD) 2\n",
    "### Tomasz Rodak\n",
    "## Lab II\n",
    "\n",
    "---"
   ]
  },
  {
   "cell_type": "markdown",
   "metadata": {},
   "source": [
    "### Zadanie II.1\n",
    "\n",
    "Napisz program, który pobiera od użytkownika dwie liczby całkowite i oblicza ich iloraz. Program powinien obsługiwać dwa rodzaje wyjątków:\n",
    "\n",
    "* `ValueError`: jeśli użytkownik wprowadzi tekst zamiast liczby całkowitej\n",
    "* `ZeroDivisionError`: jeśli użytkownik wprowadzi jako dzielnik liczbę 0\n",
    "\n",
    "Program powinien wyświetlać komunikat o błędzie odpowiedni do typu wyjątku, który został zgłoszony."
   ]
  },
  {
   "cell_type": "markdown",
   "metadata": {},
   "source": [
    "### Zadanie II.2\n",
    "\n",
    "Napisz program, który pobiera od użytkownika ciąg liczb całkowitych rozdzielonych spacjami lub tabami (dowolną ilością). Program ma wyświetlać sumę i średnią arytmetyczną tego ciągu (ile wynosi średnia arytmetyczna ciągu pustego?!). Program powinien wymuszać wprowadzenie danych w poprawnym formacie: po podaniu niepoprawnych danych program ponownie żąda ich wprowadzenia.\n",
    "\n",
    "Wykorzystaj instrukcję `try`. Łańcuch znaków przetwórz metodą łańcuchów `.split()` i funkcją `int()`.\n",
    "\n",
    "Przykład:\n",
    "\n",
    "```\n",
    "Liczby: 4 3 2 1 5\n",
    "Suma: 15\n",
    "Średnia: 3.0\n",
    "```"
   ]
  },
  {
   "cell_type": "markdown",
   "metadata": {},
   "source": [
    "### Zadanie II.3\n",
    "\n",
    "Zmień program z punktu II.2 tak, aby dawał użytkownikowi trzy szanse na wprowadzenie prawidłowych danych -- później program kończy działanie stosownym komunikatem."
   ]
  },
  {
   "cell_type": "markdown",
   "metadata": {},
   "source": [
    "### Zadanie II.4\n",
    "\n",
    "Używając klucza `ma-li-no-we-bu-ty` można zaszyfrować wiadomość wymieniając znaki leżące wewnątrz tych samych sylab klucza: `m --> a`, `a --> m`, `l --> i`, `i --> l`, itd. Znaki, których nie ma w kluczu, pozostawia się bez zmian. Przykładowo tekst `ziemia jest płaska` wymaga wymienienia 9 znaków i po zaszyfrowaniu ma postać `zlwalm jwsy płmskm`. Powtórne zaszyfrowanie przywraca pierwotną postać tekstu. \n",
    "\n",
    "Napisz program, który:\n",
    "\n",
    "* pobiera od użytkownika ścieżki:\n",
    "  * do pliku tekstowego zawierającego wiadomość do zaszyfrowania,\n",
    "  * do pliku tekstowego przeznaczonego na zaszyfrowaną wiadomość.\n",
    "* zaszyfrowuje wiadomość i zapisuje ją w przeznaczonym do tego celu pliku.\n",
    "\n",
    "Program powinien obsługiwać sytuacje, w których:\n",
    "\n",
    "* plik wejściowy nie istnieje, wtedy program wyświetla komunikat `Brak pliku <nazwa_pliku>` i kończy działanie,\n",
    "* plik wyjściowy istnieje, wtedy program wyświetla komunikat `Plik wyjściowy istnieje. Czy chcesz go nadpisać? (t/n)`, a następnie:\n",
    "  * jeśli użytkownik wprowadzi `t`, program nadpisuje plik,\n",
    "  * jeśli użytkownik wprowadzi `n`, program kończy działanie."
   ]
  }
 ],
 "metadata": {
  "anaconda-cloud": {},
  "kernelspec": {
   "display_name": "Python 3 (ipykernel)",
   "language": "python",
   "name": "python3"
  },
  "language_info": {
   "codemirror_mode": {
    "name": "ipython",
    "version": 3
   },
   "file_extension": ".py",
   "mimetype": "text/x-python",
   "name": "python",
   "nbconvert_exporter": "python",
   "pygments_lexer": "ipython3",
   "version": "3.7.11"
  }
 },
 "nbformat": 4,
 "nbformat_minor": 1
}
