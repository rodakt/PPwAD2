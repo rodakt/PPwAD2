{
 "cells": [
  {
   "cell_type": "markdown",
   "metadata": {},
   "source": [
    "# Podstawy programowania (AD) 2\n",
    "### Tomasz Rodak\n",
    "## Lab III\n",
    "\n",
    "\n",
    "---"
   ]
  },
  {
   "cell_type": "markdown",
   "metadata": {},
   "source": [
    "### Zadanie III.1\n",
    "\n",
    "W pętli:\n",
    "\n",
    "```python\n",
    "n = 10\n",
    "i, j = 0, n\n",
    "\n",
    "while i < n:\n",
    "    i += 1\n",
    "    j -= 1\n",
    "```\n",
    "\n",
    "zidentyfikuj niezmienik pętli i zaimplementuj go za pomocą instrukcji `assert`."
   ]
  },
  {
   "cell_type": "markdown",
   "metadata": {},
   "source": [
    "### Zadanie III.2\n",
    "\n",
    "Napisz moduł `rotate_seq.py` zawierający funkcje\n",
    "* `rotate(seq, n)` - zwraca sekwencję `seq` przesuniętą cyklicznie o `n` miejsc - jeśli `n` jest ujemne, to przesunięcie jest w lewo, w przeciwnym razie w prawo\n",
    "* `rotate_left(seq, n)` - zwraca sekwencję `seq` przesuniętą cyklicznie o `n` miejsc w lewo; jeśli `n` jest ujemne, to zgłasza wyjątek `ValueError` z komunikatem `n musi być liczbą nieujemną`\n",
    "* `rotate_right(seq, n)` - zwraca sekwencję `seq` przesuniętą cyklicznie o `n` miejsc w prawo; jeśli `n` jest ujemne, to zgłasza wyjątek `ValueError` z komunikatem `n musi być liczbą nieujemną`\n",
    "\n",
    "Testy modułu `rotate_seq.py` znajdują się w pliku `test_rotate_seq.py`."
   ]
  },
  {
   "cell_type": "markdown",
   "metadata": {},
   "source": [
    "### Zadanie III.3\n",
    "\n",
    "Napisz moduł `rot13.py` zawierający funkcje\n",
    "* `is_ascii(s)` - zwraca `True`, jeśli łańcuch `s` składa się wyłącznie z znaków ASCII, w przeciwnym razie `False`\n",
    "* `rot13(s, use_ascii_only=False)` - zwraca łańcuch zaszyfrowany szyfrem ROT13\n",
    "* `rot47(s, use_ascii_only=False)` - zwraca łańcuch zaszyfrowany szyfrem ROT47\n",
    "\n",
    "Jeśli `use_ascii_only` jest `True` i łańcuch `s` zawiera znaki spoza zakresu ASCII, to funkcje `rot13()` i `rot47()` mają zgłosić wyjątek `ValueError` z komunikatem `znaleziono znak spoza zakresu ASCII`.\n",
    "\n",
    "**[ROT13](https://pl.wikipedia.org/wiki/ROT13)** to szyfr, w którym każdy znak alfabetu łacińskiego jest zamieniany na znak alfabetu łacińskiego, ale przesunięty o 13 miejsc w prawo. Jeśli przesunięcie powoduje wyjście poza alfabet, to liczymy od początku.\n",
    "\n",
    "**[ROT47](https://pl.wikipedia.org/wiki/ROT47)** to szyfr, w którym każdy znak ASCII z zakresu od 33 do 126 (włącznie) jest zamieniany na znak ASCII z tego samego zakresu, ale przesunięty o 47 miejsc w prawo. Jeśli przesunięcie powoduje wyjście poza zakres, to liczymy od początku.\n",
    "\n",
    "Testy modułu `rot13.py` znajdują się w pliku `test_rot13.py`."
   ]
  },
  {
   "cell_type": "markdown",
   "metadata": {},
   "source": [
    "### Zadanie III.4\n",
    "\n",
    "Napisz moduł `simple_integer_roots.py` zawierający funkcje\n",
    "* `integer_square_root(n)` - zwraca największą liczbę całkowitą `m` taką, że `m**2 <= n`; jeśli `n` jest ujemne, to zgłasza wyjątek `ValueError` z komunikatem `argument musi być nieujemny`\n",
    "* `integer_cube_root(n)` - zwraca największą liczbę całkowitą `m` taką, że `m**3 <= n`; jeśli `n` jest ujemne, to zgłasza wyjątek `ValueError` z komunikatem `argument musi być nieujemny`\n",
    "* `is_perfect_square(n)` - zwraca `True`, jeśli `n` jest kwadratem liczby całkowitej, w przeciwnym razie `False`\n",
    "* `is_perfect_cube(n)` - zwraca `True`, jeśli `n` jest sześcianem liczby całkowitej, w przeciwnym razie `False`\n",
    "\n",
    "Testy modułu `simple_integer_roots.py` znajdują się w pliku `test_simple_integer_roots.py`."
   ]
  }
 ],
 "metadata": {
  "kernelspec": {
   "display_name": "python3.11",
   "language": "python",
   "name": "python3"
  },
  "language_info": {
   "codemirror_mode": {
    "name": "ipython",
    "version": 3
   },
   "file_extension": ".py",
   "mimetype": "text/x-python",
   "name": "python",
   "nbconvert_exporter": "python",
   "pygments_lexer": "ipython3",
   "version": "3.11.3"
  }
 },
 "nbformat": 4,
 "nbformat_minor": 2
}
