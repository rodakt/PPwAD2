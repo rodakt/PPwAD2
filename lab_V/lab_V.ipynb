{
 "cells": [
  {
   "cell_type": "markdown",
   "metadata": {},
   "source": [
    "# Podstawy programowania (AD) 2\n",
    "### Tomasz Rodak\n",
    "## Lab V\n",
    "\n",
    "\n",
    "---"
   ]
  },
  {
   "cell_type": "markdown",
   "metadata": {},
   "source": [
    "### Zadanie V.1\n",
    "\n",
    "\n",
    "Ciąg Fibonacciego definiujemy rekurencyjnie wzorem\n",
    "\n",
    "$$\n",
    "f_0=a,\\quad f_1=b,\\\\\n",
    "f_{n+2}=f_n+f_{n+1},\\quad n\\geqslant 0\n",
    "$$\n",
    "\n",
    "gdzie $a$ i $b$ są dowolnymi liczbami całkowitymi. Dwie pierwsze liczby ciągu Fibonacciego $f_0=a$ i $f_1=b$ nazywane są warunkami początkowymi, decydują one o postaci całego ciągu. W klasycznej wersji ciągu Fibonacciego $a=0$ i $b=1$, nic jednak nie stoi na przeszkodzie, by przyjąć inne wartości dla warunków początkowych.\n",
    "\n",
    "Ciąg Tribonacciego to proste uogólnienie ciągu Fibonacciego, w którym każdy wyraz (poza trzema początkowymi) jest sumą trzech poprzednich wyrazów (zamiast dwóch, jak w przypadku ciągu Fibonacciego).\n",
    "Definiujemy go rekurencyjnie wzorem\n",
    "\n",
    "$$\n",
    "t_0=a,\\quad t_1=b,\\quad t_2=c,\\\\\n",
    "t_{n+3}=t_n+t_{n+1}+t_{n+2},\\quad n\\geqslant 0\n",
    "$$\n",
    "\n",
    "gdzie $a$, $b$ i $c$ są dowolnymi liczbami całkowitymi. Dla $a=0$, $b=0$ i $c=1$ otrzymujemy klasyczny ciąg Tribonacciego.\n",
    "\n",
    "Dalej uogólniając definiujemy ciąg Tetranacciego, w którym każdy wyraz (poza czterema początkowymi) jest sumą czterech poprzednich wyrazów:\n",
    "\n",
    "$$\n",
    "r_0=a,\\quad r_1=b,\\quad r_2=c,\\quad r_3=d,\\\\\n",
    "r_{n+4}=r_n+r_{n+1}+r_{n+2}+r_{n+3},\\quad n\\geqslant 0\n",
    "$$\n",
    "\n",
    "gdzie $a$, $b$, $c$ i $d$ są dowolnymi liczbami całkowitymi. Dla $a=0$, $b=0$, $c=0$ i $d=1$ otrzymujemy klasyczny ciąg Tetranacciego.\n",
    "\n",
    "Podobnie można zdefiniować ciągi wyższych rzędów.\n",
    "\n",
    "Napisz moduł `fib.py` zawierający funkcje:\n",
    "\n",
    "1. `fib(n, a=0, b=1)`, zwracającą wyraz $f_n$ ciągu Fibonacciego zdefiniowanego przez warunki początkowe `a`, `b`,\n",
    "2. `trib(n, a=0, b=0, c=1)`, zwracającą wyraz $t_n$ ciągu Tribonacciego zdefiniowanego przez warunki początkowe `a`, `b`, `c`,\n",
    "3. `tetra(n, a=0, b=0, c=0, d=1)`, zwracającą wyraz $r_n$ ciągu Tetranacciego zdefiniowanego przez warunki początkowe `a`, `b`, `c`, `d`.\n",
    "4. `fib_general(n, a, b, *args)`, zwracającą wyraz $f_n$ ciągu zdefiniowanego przez warunki początkowe `a`, `b`, `*args`; rząd tego ciągu jest równy `len(args)+2`.\n",
    "\n",
    "Argument `n` jest indeksem wyrazu ciągu, przy czym zakładamy, że `n` jest nieujemna. Jeśli `n` jest ujemne, to funkcje powinny zgłaszać wyjątek `NotImplementedError` z komunikatem `Brak implementacji dla indeksów ujemnych`."
   ]
  },
  {
   "cell_type": "markdown",
   "metadata": {},
   "source": [
    "### Zadanie V.2\n",
    "\n",
    "Celem tego zadania jest napisanie modułu `fprob.py` zawierającego funkcję `draw_from_urn()` symulującą losowanie z urny zawierającej kule w różnych kolorach. \n",
    "\n",
    "Sygnatura funkcji: `draw_from_urn(number_of_draws=1, with_replacement=True, **balls)`\n",
    "\n",
    "Funkcja przyjmuje następujące argumenty:\n",
    "* `number_of_draws` - liczba losowań z urny (domyślnie 1),\n",
    "* `with_replacement` - flaga określająca, czy po wylosowaniu kuli wraca ona do urny (domyślnie `True`),\n",
    "* `**balls` - argumenty nazwane, gdzie klucz to kolor kuli, a wartość to liczba kul danego koloru w urnie.\n",
    "\n",
    "Funkcja zwraca listę kolejno wylosowanych kul. Jeśli losowanie jest bez zwracania i `number_of_draws` przewyższa liczbę kul w urnie, to funkcja rzuca wyjątek `ValueError` z komunikatem `Liczba losowań bez zwracania przekracza liczbę kul w urnie.`\n"
   ]
  },
  {
   "cell_type": "markdown",
   "metadata": {},
   "source": [
    "### Zadanie V.3\n",
    "\n",
    "**Interpretacja częstościowa prawdopodobieństwa.** Dane jest doświadczenie losowe. Chcemy wyznaczyć prawdopodobieństwo zajścia pewnego wyniku tego doświadczenia losowego. W interpretacji częstościowej wykonujemy to doświadczenie wielokrotnie i zliczamy, ile razy otrzymaliśmy interesujący nas wynik. Jeśli doświadczenie powtórzyliśmy $N$ razy, wynik wypadł $k$ razy i powtórzenia były niezależne, to prawdopodobieństwo badanego wyniku szacujemy na $k/N$.\n",
    "\n",
    "Podane niżej zadania rozwiąż stosując częstościową interpretację prawdopodobieństwa. Wyniki potwierdź rozwiązaniem analitycznym.\n",
    "\n",
    "#### V.3.1\n",
    "\n",
    "W urnie jest `5` kul białych i `2` czarne. Losujemy bez zwracania `3` kule. Jakie jest prawdopodobieństwo, że wszystkie będą białe?\n",
    "\n",
    "Rozwiąż to zadanie na \"kartce\" i numerycznie. Do rozwiązania numerycznego użyj funkcji `draw_from_urn()` z poprzedniego zadania. Wykonaj losowanie dużą liczbę razy -- powiedzmy `1000` lub `10000` powtórzeń -- zlicz ile razy wypadły trzy kule białe, następnie oblicz częstość."
   ]
  },
  {
   "cell_type": "markdown",
   "metadata": {},
   "source": [
    "#### V.3.2\n",
    "\n",
    "Dane są dwie urny: w pierwszej znajdują się dwie kule czarne i jedna biała, w drugiej -- trzy białe. Losujemy urnę (z prawdopodobieństwem `1/2`) a następnie losujemy jedną kulę. Jakie jest prawdopodobieństwo, tego że losowaliśmy z pierwszej urny, jeżeli wiadomo, że wylosowana kula jest biała.\n",
    "\n",
    "Rozwiąż zadanie dwoma sposobami: tradycyjnie wykorzystując teorię prawdopodobieństwa i numerycznie. W rozwiązaniu numerycznym skorzystaj z funkcji `draw_from_urn()` z poprzedniego zadania."
   ]
  },
  {
   "cell_type": "markdown",
   "metadata": {},
   "source": [
    "#### V.3.3\n",
    "\n",
    "Rozpatrujemy doświadczenie losowe jak w punkcie V.3.2. Niech $U$ będzie zmienną losową oznaczającą wylosowaną urnę, a $K$ zmienną losową oznaczającą wylosowaną kulę. Napisz program, który korzystając z częstościowej interpretacji prawdopodobieństwa wyznaczy przybliżoną tabelę rozkładu łącznego wektora losowego $(U, K)$. Wykorzystaj wyznaczoną tabelę do ponownego rozwiązania zadania V.3.2."
   ]
  }
 ],
 "metadata": {
  "kernelspec": {
   "display_name": "python3.11",
   "language": "python",
   "name": "python3"
  },
  "language_info": {
   "codemirror_mode": {
    "name": "ipython",
    "version": 3
   },
   "file_extension": ".py",
   "mimetype": "text/x-python",
   "name": "python",
   "nbconvert_exporter": "python",
   "pygments_lexer": "ipython3",
   "version": "3.11.3"
  }
 },
 "nbformat": 4,
 "nbformat_minor": 2
}
