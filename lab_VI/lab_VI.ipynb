{
 "cells": [
  {
   "cell_type": "markdown",
   "metadata": {},
   "source": [
    "# Podstawy programowania (AD) 2\n",
    "### Tomasz Rodak\n",
    "## Lab VI\n",
    "\n",
    "---\n",
    "# Geometria żółwia\n",
    "\n",
    "## 1. Wprowadzenie\n",
    "\n",
    "Celem tych ćwiczeń jest implementacja żółwia, stworzenia znanego m.in. z języka LOGO, przemieszczającego się po ekranie zgodnie z poleceniami `forward`, `right`, `left`. Działa to tak. W danej chwili żółw patrzy w jakimś kierunku. Gdy dostanie polecenie `forward r`, to przesuwa się o dystans `r` w tym kierunku; gdy dostanie polecenie `right a`, to stojąc w miejscu obraca się w prawo o kąt `a` (zgodnie z ruchem wskazówek zegara). Podobnie dla polecenia `left a`.\n",
    "\n",
    "**Zastrzeżenie:** Biblioteka standardowa zawiera moduł [Turtle](https://docs.python.org/3/library/turtle.html) z implementacją żółwia. Ponadto istnieje wiele innych wdrożeń żółwia w innych językach programowania. W praktycznych zastosowaniach należy korzystać z tych profesjonalnych rozwiązań, nasza implementacja ma charakter jedynie dydaktyczny. \n",
    "\n",
    "Nasza implementacja będzie działać poprzez modyfikację **stanu** żółwia istniejącego jako obiekt **globalny**. W przyszłości zajmiemy się implementacją metodami obiektowymi.\n",
    "\n",
    "Czym jest żółw i czym jest jego stan? Możemy powiedzieć tak: stan to komplet aktualnych informacji na temat żółwia. Z tego punktu widzenia, żółw i jego stan, to w zasadzie to samo -- wszystkie infromacje o żółwiu znajdują się w zmiennych opisujących jego stan. \n",
    "\n",
    "Jak mógłby wyglądać stan naszego żółwia? Żółwia będziemy przemieszczać po ekranie z układem współrzędnych, możemy zatem zapamiętywać jego aktualne położenie we współrzędnych kartezjańskich -- jest to ta część stanu, która opisuje **położenie** żółwia. Ponadto, powinniśmy wiedzieć w jakim kierunku żółw patrzy. Tę część stanu, **azymut**, przechowamy w zmiennej, która jest kątem (w stopniach) między aktualnym kierunkiem żółwia a dodatnią osią x, czyli wschodem.\n",
    "\n",
    "Zatem trzy liczby: współrzędna `x`, współrzędna `y` i kąt ze wschodem `azimuth` w pełni opisują stan żółwia. Wiemy, gdzie żółw się znajduje i w jakim kierunku patrzy. Dzięki tym informacjom żółw jest w stanie wykonać każde z poleceń `forward`, `right`, `left`.\n",
    "\n",
    "Jak przechowywać żółwia w programie? Jeden ze sposobów polega po prostu na utworzeniu trzech zmiennych `x`, `y`, `azimuth` (najlepiej wewnątrz jakiejś struktury danych, np. słownika - dzięki temu będzie można używać wielu żółwi na raz). Na przykład te przypisania tworzą żółwia w położeniu `(10, -50)` patrzącego na północ:\n",
    "```python\n",
    "x, y, azimuth = 10, -50, 90\n",
    "```\n",
    "Obrót w lewo o 90 stopni realizuje przypisanie:\n",
    "```python\n",
    "azimuth += 90\n",
    "```\n",
    "\n",
    "Obrót w prawo o 145 stopni:\n",
    "```python\n",
    "azimuth -= 145\n",
    "```\n",
    "\n",
    "Oczywiście podczas obracania `x` i `y` nie ulegają zmianie.\n",
    "\n",
    "Nieco trudniejsze jest wykonanie polecenia `forward r`, gdyż wymaga to pewnej trygonometrii :-)\n",
    "`forward r` zmienia aktualne współrzędne żółwia zgodnie ze wzorem:\n",
    "```python\n",
    "x += r * cos(azimuth)\n",
    "y += r * sin(azimuth)\n",
    "```\n",
    "Zmienna `azimuth` nie ulega zmianie, żółw patrzy nadal w tym samym kierunku co przed `forward r`.\n",
    "\n",
    "Historię położeń żółwia (lub żółwi) będziemy zapisywali do pliku typu CSV, który będzie można później wczytać do arkusza kalkulacyjnego lub do programu do rysowania wykresów i tam zwizualizować trasę żółwia. W związku z tym, poza aktualnym stanem żółwia, będziemy przechowywać również historię jego położeń. Ponadto, aby móc łatwo korzystać z wielu żółwi jednocześnie, do stanu żółwia dodamy jeszcze identyfikator, który będzie jego nazwą. "
   ]
  },
  {
   "cell_type": "markdown",
   "metadata": {},
   "source": [
    "## Zadanie VI.1\n",
    "\n",
    "Napisz moduł `logo_turtle.py` z implementacją żółwia wg. powyższych wytycznych. Moduł powinien zawierać funkcje:\n",
    "- `create_turtle(x=0, y=0, azimuth=0, name=\"\")` -- tworzy żółwia w położeniu `(x, y)` patrzącego w kierunku `azimuth` stopni od wschodu, o nazwie `name`. Funkcja zwraca zwraca słownik (reprezentujący żółwia) o kluczach:\n",
    "    - `position` -- lista `[(x, y)]` zawierająca na ostatniej pozycji krotkę współrzędnych z aktualnym położeniem żółwia. Gdy żółw jest tworzony, lista zawieta jedną krotkę z położeniem początkowym, później po każdym wykonaniu polecenia `forward` lista jest rozszerzana o nowe położenie,\n",
    "    - `azimuth` -- azymut żółwia w stopniach,\n",
    "    - `name` -- nazwa żółwia.\n",
    "- `forward(turtle, r)` -- przesuwa żółwia `turtle` o dystans `r` w kierunku, w którym żółw patrzy. Parametr `turtle` to słownik reprezentujący żółwia. Przesunięcie polega na dodaniu do listy `position` nowego położenia żółwia, obliczonego na podstawie poprzedniego położenia, kąta `azimuth` i dystansu `r`.\n",
    "- `right(turtle, a)` -- obraca żółwia `turtle` o kąt `a` w prawo. Parametr `turtle` to słownik reprezentujący żółwia. Obrót polega na zmianie wartości `azimuth` o `-a` stopni.\n",
    "- `left(turtle, a)` -- obraca żółwia `turtle` o kąt `a` w lewo. Parametr `turtle` to słownik reprezentujący żółwia. Obrót polega na zmianie wartości `azimuth` o `a` stopni.\n",
    "- `to_csv(*turtles, filename)` -- zapisuje historię położeń żółwi `turtles` do pliku CSV o nazwie `filename`. Każdy żółw jest reprezentowany przez słownik opisany powyżej. Plik CSV powinien zawierać nagłówek z nazwami kolumn: `x`, `y`, `name`. \n",
    "\n",
    "*Wskazówka:* Pliki CSV wygodnie jest zapisywać za pomocą modułu `csv`.\n",
    "\n",
    "Trasę żółwia zapisaną w pliku CSV możesz zwizualizować:\n",
    "* w notatniku Jupyter, korzystając z biblioteki `pandas` i `matplotlib`,\n",
    "* w arkuszu kalkulacyjnym, np. programie Excel,\n",
    "* w narzędziu dostępnym online, np. [csvplot](https://www.csvplot.com)."
   ]
  },
  {
   "cell_type": "markdown",
   "metadata": {},
   "source": [
    "## Zadanie VI.2 - geometria żółwia\n",
    "\n",
    "Jedna z najprostszych procedur w geometrii żółwia wygląda tak:\n",
    "\n",
    "```python\n",
    "def polygon(turtle, a, r):\n",
    "    while True:\n",
    "        forward(turtle, r)\n",
    "        right(turtle, a)\n",
    "```\n",
    "\n",
    "Inaczej mówiąc, żółw nieskończenie długo naprzemiennie wędruje naprzód o `r` i wykonuje obrót w prawo o `a`. Dystans i kąt obrotu są ustalone i niezmienne. Zauważ, że jeśli po pewnej (ale niezerowej!) liczbie wykonań naprzód i obrót, położenie i azymut żółwia będą takie jak przed startem, to żółw zacznie chodzić po swoich śladach -- otrzymamy krzywą zamkniętą! Stanie się tak np. wtedy, gdy kąt `a` będzie dzielnikiem 360. W tym szczególnym przypadku ścieżka żółwia jest n-kątem foremnym. Ogólniej, prawdziwe jest twierdzenie:\n",
    "\n",
    "**Twierdzenie o zamknięciu wielokąta.** *Załóżmy, że kąt `a` nie jest całkowitą wielokrotnością 360. Wtedy `polygon(turtle, a, r)` przemieszcza żółwia `turtle` po łamanej, która zamknie się dokładnie wtedy, gdy obrót całkowity żółwia będzie całkowitą wielokrotnością 360.*\n",
    "\n",
    "Twierdzenie to działa tak: w pętli `while` funkcji `polygon()` zliczamy obrót całkowity żółwia. Gdy obrót całkowity osiągnie wielokrotność 360, to krzywa żółwiowa właśnie się zamknęła i możemy zakończyć pętlę - od tego momentu żółw będzie chodził po swoich śladach. Jeśli jednak obrót całkowity nigdy nie stanie się wielokrotnością 360, to krzywa żółwiowa nigdy się nie zamknie. Wynika stąd, że łamana rysowana przez funkcję `polygon()` jest zamknięta wtedy i tylko wtedy, gdy kąt `a` jest liczbą wymierną lub całkowitą nie będącą całkowitą wielokrotnością 360. W pozostałych przypadkach, czyli gdy kąt `a` jest niewymierny lub jest wielokrotnością 360, krzywa żółwiowa jest nieskończona.\n",
    "\n",
    "Przykład: \n",
    "* dla `a = 144` trasa żółwia zamknie się po 5 obrotach, gdyż $5 \\cdot 144 = 720 = 2 \\cdot 360$,\n",
    "* dla `a = 72` trasa żółwia zamknie się po 5 obrotach, gdyż $5 \\cdot 72 = 360 = 1 \\cdot 360$,\n",
    "* dla `a = fractions.Fraction(360, 7)` trasa żółwia zamknie się po 7 obrotach, gdyż $7 \\cdot \\frac{360}{7} = 360 = 1 \\cdot 360$.\n",
    "\n",
    "Więcej szczegółów na temat geometrii żółwia, w tym dowód powyższego twierdzenia, znajdziesz [tutaj](https://mitpress.mit.edu/books/turtle-geometry) i [tutaj](http://math.uni.lodz.pl/~rodakt/fn.html).\n",
    "\n",
    "\n",
    "Napisz moduł `polygons.py` zawierający funkcje\n",
    "- `polygon(turtle, a, r)` -- wersja funkcji `polygon()` z warunkiem stopu w pętli `while`. Parametry:\n",
    "  - `turtle` -- słownik reprezentujący żółwia z modułu `logo_turtle.py`,\n",
    "  - `a` -- kąt obrotu w stopniach, liczba typu `int` lub `fractions.Fraction`,\n",
    "  - `r` -- długość boku.\n",
    "  \n",
    "  Funkcja zwraca liczbę boków wielokąta. Jeśli `a` nie jest typu `int` ani `fractions.Fraction`, to funkcja powinna zgłosić wyjątek `TypeError` z komunikatem `kąt musi być liczbą całkowitą lub wymierną`. Typ obiektu sprawdzisz za pomocą funkcji `isinstance()`. Jeśli `a` jest prawidłowego typu, ale nie spełnia warunków twierdzenia o zamknięciu wielokąta, to funkcja zgłasza wyjątek `ValueError` z komunikatem `kąt musi być liczbą wymierną nie będącą wielokrotnością 360`.\n",
    "- `regular_polygon(turtle, n, r)` -- rysuje `n`-kąt foremny o boku `r`. Parametry:\n",
    "  - `turtle` -- słownik reprezentujący żółwia z modułu `logo_turtle.py`,\n",
    "  - `n` -- liczba wierzchołków wielokąta,\n",
    "  - `r` -- długość boku."
   ]
  },
  {
   "cell_type": "markdown",
   "metadata": {},
   "source": [
    "## Zadanie VI.3\n",
    "\n",
    "\n",
    "Napisz program realizujący błądzenie losowe (*random walk*) żółwia po kracie. Żółw zaczyna w punkcie `(0, 0)`. W każdym kroku wybiera losowo jedną z czterech kierunków: północ, południe, wschód, zachód. Po wyborze kierunku przesuwa się o jednostkę w tym kierunku. Po wykonaniu ustalonej, zdefiniowanej w programie liczby kroków, program zapisuje historię położeń żółwia do pliku CSV."
   ]
  },
  {
   "cell_type": "markdown",
   "metadata": {},
   "source": [
    "## Zadanie VI.4\n",
    "\n",
    "Strona [MiniLogia](https://minilogia.oeiizk.waw.pl/#!/) zawiera wiele zadań związanych z geometrią żółwia. Wybierz jedno z zadań i rozwiąż je. Zaniedbaj kolory."
   ]
  }
 ],
 "metadata": {
  "anaconda-cloud": {},
  "kernelspec": {
   "display_name": "Python 3 (ipykernel)",
   "language": "python",
   "name": "python3"
  },
  "language_info": {
   "codemirror_mode": {
    "name": "ipython",
    "version": 3
   },
   "file_extension": ".py",
   "mimetype": "text/x-python",
   "name": "python",
   "nbconvert_exporter": "python",
   "pygments_lexer": "ipython3",
   "version": "3.7.11"
  }
 },
 "nbformat": 4,
 "nbformat_minor": 1
}
