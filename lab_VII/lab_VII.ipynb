{
 "cells": [
  {
   "cell_type": "markdown",
   "metadata": {},
   "source": [
    "# Podstawy programowania (AD) 2\n",
    "### Tomasz Rodak\n",
    "## Lab VII\n",
    "\n",
    "---"
   ]
  },
  {
   "cell_type": "markdown",
   "metadata": {},
   "source": [
    "### Zadanie VII.1\n",
    "\n",
    "\n",
    "Napisz moduł `seq_info.py`, zawierający funkcje:\n",
    "\n",
    "1. `check_adjacent(seq, pred)` - zwraca `True`, jeśli dla każdej pary **sąsiednich** elementów `x`, `y` sekwencji `seq` zachodzi `pred(x, y)` (gdzie `pred` jest funkcją dwuargumentową), w przeciwnym razie zwraca `False`.\n",
    "2. `is_ascending(seq)` - zwraca `True`, jeśli sekwencja `seq` jest niemalejąca.\n",
    "3. `is_strictly_ascending(seq)` - zwraca `True`, jeśli sekwencja `seq` jest ściśle rosnąca.\n",
    "4. `is_descending(seq)` - zwraca `True`, jeśli sekwencja `seq` jest nierosnąca.\n",
    "5. `is_strictly_descending(seq)` - zwraca `True`, jeśli sekwencja `seq` jest ściśle malejąca.\n",
    "6. `is_monotonic(seq)` - zwraca `True`, jeśli sekwencja `seq` jest monotoniczna.\n",
    "7. `is_strictly_monotonic(seq)` - zwraca `True`, jeśli sekwencja `seq` jest ściśle monotoniczna.\n",
    "8. `is_constant(seq)` - zwraca `True`, jeśli sekwencja `seq` jest stała.\n",
    "9. `is_alternating(seq)` - zwraca `True`, jeśli sekwencja `seq` jest naprzemienna. Zakładamy, że `seq` jest sekwencją wartości liczbowych. Ciąg liczbowy nazwiemy naprzemiennym, jeśli dla każdej pary sąsiednich elementów $a$, $b$ zachodzi $a \\cdot b < 0$.\n",
    "10. `is_arithmetic(seq, r=None)` - `seq` jest sekwencją liczb całkowitych. Jeśli `r` jest `None`, to funkcja zwraca `True`, jeśli `seq` jest ciągiem arytmetycznym, w przeciwnym razie zwraca `False`. Jeśli `r` jest podane, to funkcja zwraca `True`, jeśli `seq` jest ciągiem arytmetycznym o różnicy `r`, w przeciwnym razie zwraca `False`.\n",
    "11. `is_geometric(seq, q=None)` - `seq` jest sekwencją liczb całkowitych. Jeśli `q` jest `None`, to funkcja zwraca `True`, jeśli `seq` jest ciągiem geometrycznym o całkowitym ilorazie, w przeciwnym razie zwraca `False`. Jeśli `q` jest podane, to funkcja zwraca `True`, jeśli `seq` jest ciągiem geometrycznym o ilorazie `q`, w przeciwnym razie zwraca `False`.\n",
    "\n",
    "Wszystkie funkcje powinny korzystać z funkcji `check_adjacent()` dla odpowiednich predykatów."
   ]
  },
  {
   "cell_type": "markdown",
   "metadata": {},
   "source": [
    "### Zadanie VII.2\n",
    "\n",
    "Napisz moduł `fprobs.py`, zawierający funkcję `random_ball_machine(return_balls, **balls)`. Funkcja zwraca bezparametrową funkcję `machine()`, która symuluje losowanie kul z urny. Opis parametrów:\n",
    "* `return_balls` -- `True` lub `False`, domyślnie `True`. Decyduje o tym, czy losowania są prowadzone ze zwracaniem (domyślnie tak).\n",
    "* `balls` -- przyjmuje argumenty postaci `color=quantity`, gdzie\n",
    "  * `color` -- łańcuch znaków oznaczający kolor kuli,\n",
    "  * `quantity` -- liczba całkowita nieujemna określająca liczbę kul danego koloru w urnie.\n",
    "\n",
    "Każde wywołanie funkcji `machine()` zwraca kulę wylosowaną z urny. Jeśli `return_balls` jest ustawione na `True`, to kulę losuje się ze zwracaniem, w przeciwnym razie bez zwracania. Jeśli urna jest pusta, `machine()` powinien rzucać wyjątek `LookupError` z komunikatem `'urna jest pusta.'`."
   ]
  },
  {
   "cell_type": "markdown",
   "metadata": {},
   "source": [
    "### Zadanie VII.3\n",
    "\n",
    "Celem tego zadania jest napisanie nowej wersji programu szyfrującego z zadania II.4\n",
    "\n",
    "Przypomnijmy zasadę szyfrowania.\n",
    "*Używając klucza `ma-li-no-we-bu-ty` można zaszyfrować wiadomość wymieniając znaki leżące wewnątrz tych samych sylab klucza: `m --> a`, `a --> m`, `l --> i`, `i --> l`, itd. Znaki, których nie ma w kluczu, pozostawia się bez zmian. Przykładowo tekst `ziemia jest płaska` wymaga wymienienia 9 znaków i po zaszyfrowaniu ma postać `zlwalm jwsy płmskm`. Powtórne zaszyfrowanie przywraca pierwotną postać tekstu.*\n",
    "\n",
    "Napisz moduł `malinowebuty.py` zawierający funkcje:\n",
    "\n",
    "1. `create_key(s)` - parametr `s` jest łańcuchem znaków. Funkcja zwraca słownik par `k: v`, gdzie\n",
    "  * `k` -- znak łańcucha `s`,\n",
    "  * `v` -- znak, na który `k` jest wymieniany.\n",
    "  Prawidłowy klucz, to taki niepusty łańcuch znaków, który jest różnowartościowy i ma parzystą długość. W przypadku wykrycia nieprawidłowego klucza funkcja ma wywoływać wyjątek `ValueError` z komunikatem: `nieprawidłowy klucz.`.\n",
    "2. `create_encryptor(s)` - parametr `s` jest łańcuchem domyślnie ustawionym na `'malinowebuty'`. Funkcja zwraca **funkcję** `encryptor(text)`. Parametr `text` jest łańcuchem znaków. Funkcja `encryptor()` zwraca zaszyfrowany tekst zgodnie z kluczem `s`. Do szyfrowania funkcja `encryptor()` powinna korzystać z klucza `s` w postaci słownika wymiany znaków zwróconego przez `create_key()`. Słownik ten powinien być obliczany **przed** definicją funkcji `encryptor()`, a zatem ma znajdować się w jej **domknięciu**."
   ]
  },
  {
   "cell_type": "markdown",
   "metadata": {},
   "source": [
    "### Zadanie VII.4\n",
    "\n",
    "Napisz moduł `freeze_args.py`, zawierający funkcję `freeze_args(f, *args, **kwargs)`. Parametr `f()` jest dowolnym obiektem wywoływalnym. Funkcja zwraca funkcję zachowującą się jak `f()`, do której wstawiono argumenty pozycyjne `args` i podawane przez nazwę `kwargs`. Są to argumenty *zamrożone*. Do wywołania zwróconej funkcji mogą zostać przekazane argumenty pozycyjne - wtedy w wywołaniu `f()` następują one po argumentach `args`. Argumenty podawane przez nazwę również mogą zostać wstawione do wywołania - wtedy dodawane są do `kwargs`."
   ]
  }
 ],
 "metadata": {
  "anaconda-cloud": {},
  "kernelspec": {
   "display_name": "Python 3 (ipykernel)",
   "language": "python",
   "name": "python3"
  },
  "language_info": {
   "codemirror_mode": {
    "name": "ipython",
    "version": 3
   },
   "file_extension": ".py",
   "mimetype": "text/x-python",
   "name": "python",
   "nbconvert_exporter": "python",
   "pygments_lexer": "ipython3",
   "version": "3.7.11"
  }
 },
 "nbformat": 4,
 "nbformat_minor": 1
}
