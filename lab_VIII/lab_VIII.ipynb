{
 "cells": [
  {
   "cell_type": "markdown",
   "metadata": {},
   "source": [
    "# Podstawy programowania (AD) 2\n",
    "### Tomasz Rodak\n",
    "## Lab VIII\n",
    "\n",
    "---\n",
    "\n",
    "### Zadanie VIII.1\n",
    "\n",
    "\n",
    "Napisz moduł `dekorator_examples.py` zawierający dekoratory:\n",
    "1. `@register` - bezparametrowy dekorator rejestrujący funkcję w słowniku `REGISTRY`. Kluczem w słowniku jest nazwa funkcji, a wartością funkcja. Rejestracja polega na dodaniu funkcji do słownika `REGISTRY` pod kluczem równym nazwie funkcji. `REGISTRY` jest słownikiem znajdującym się w zakresie globalnym.\n",
    "2. `@register_in(dictionary)` - parametrowy dekorator rejestrujący funkcję w słowniku `dictionary`. Kluczem w słowniku jest nazwa funkcji, a wartością funkcja. Rejestracja polega na dodaniu funkcji do słownika `dictionary` pod kluczem równym nazwie funkcji. `dictionary` jest słownikiem przekazanym jako argument dekoratora.\n",
    "3. `@pre_test(pred)` - parametrowy dekorator sprawdzający warunek `pred()` na argumentach funkcji przed jej wywołaniem. Zakładamy, że funkcja `pred()` jest asercją: w przypadku niezachowania warunku zgłasza wyjątek `AssertionError`, w przeciwnym przypadku nic nie robi. Sprawdź szczegóły działania dekoratora w module `test_dekorator_examples.py`.\n",
    "4. `@post_test(pred)` - parametrowy dekorator sprawdzający warunek `pred()` na wartości zwracanej przez funkcję. Zakładamy, że funkcja `pred()` jest asercją: w przypadku niezachowania warunku zgłasza wyjątek `AssertionError`, w przeciwnym przypadku nic nie robi. Sprawdź szczegóły działania dekoratora w module `test_dekorator_examples.py`.\n",
    "\n",
    "<!-- Testy: [`test_seq_info.py`](https://github.com/rodakt/PPwAD2/blob/main/lab_VII/test_seq_info.py) -->\n",
    "Testy: [`test_dekorator_examples.py`](https://github.com/rodakt/PPwAD2/blob/main/lab_VII/test_dekorator_examples.py)"
   ]
  },
  {
   "cell_type": "markdown",
   "metadata": {},
   "source": [
    "### Zadanie VIII.2\n",
    "\n",
    "Funkcja\n",
    "\n",
    "```python\n",
    "def maksimum(seq):\n",
    "    if not seq:\n",
    "        raise ValueError('argument seq musi być niepusty.')\n",
    "    \n",
    "    mx = seq[0]\n",
    "    \n",
    "    for a in seq[1:]:\n",
    "        if a > mx:\n",
    "            mx = a\n",
    "    \n",
    "    return mx\n",
    "```\n",
    "\n",
    "wyszukuje maksimum w sekwencji `seq`. Elementy `seq` porównywane są bezpośrednio, pierwsza od lewej największa wartość jest zwracana. Załóżmy teraz, że mamy listę krotek \n",
    "\n",
    "```python\n",
    "owoce = [('jabłko', 1), ('arbuz', 10), ('banan', 4), ('gruszka', 6)]\n",
    "```\n",
    "\n",
    "Każda krotka reprezentuje owoc i jego cenę. Jak, korzystając z funkcji `maksimum()`, wyznaczyć krotkę z najdroższym owocem?\n",
    "\n",
    "Możemy postępować tak:\n",
    "\n",
    "1. Tworzymy nową listę, w której każda krotka `(<owoc>, <cena>)` zostaje zastąpiona przez krotkę `(<cena>, <indeks>, (<owoc>, <cena>))`. Otrzymujemy w ten sposób listę\n",
    "\n",
    "```python\n",
    "[(1, 0, ('jabłko', 1)),\n",
    " (10, 1, ('arbuz', 10)),\n",
    " (4, 2, ('banan', 4)),\n",
    " (6, 3, ('gruszka', 6))]\n",
    "```\n",
    "\n",
    "2. Stosujemy funkcję `maskimum()` do nowo utworzonej listy, funkcja zwróci krotkę `(10, 1, ('arbuz', 10))`.\n",
    "3. Z krotki `(10, 1, ('arbuz', 10))` pobieramy ostatnią pozycję uzyskując odpowiedź `('arbuz', 10)`.\n",
    "\n",
    "Metoda ta nazywa się DSU (*Decorate-Sort-Undecorate*) i może być stosowana do szukania minimum/maksimum oraz do sortowania (stąd nazwa drugiego etapu - *Sort*) według wybranego przez użytkownika kryterium. Dzięki metodzie DSU wzorzec szukania minimum/maksimum czy sortowania jest implementowany niezależnie od kryterium według którego porównywane są elementy.\n",
    "\n",
    "Więcej informacji na ten temat znajdziesz w [Sorting HOW TO](https://docs.python.org/3/howto/sorting.html).\n",
    "\n",
    "Napisz moduł `dsu.py` zawierający dekoratory:\n",
    "\n",
    "1. `@key_minmax(key)` - dekorator jednoparametrowy z parametrem `key` domyślnie równym `None`. Dekoruje jednoargumentowe funkcje zwracające minimum lub maksimum z sekwencji. Jeżeli `key` ma wartość `None`, to dekorowanie nie ma żadnego wpływu na dekorowaną funkcję. Jeśli `key` jest funkcją, to wyszukiwanie minimum/maksimum odbywa się względem wywołań `key` na wartościach sekwencji. \n",
    "2. `@key_sort(key)` - dekorator jednoparametrowy z parametrem `key` domyślnie równym `None`. Dekoruje jednoargumentowe funkcje, które jako argument przyjmują iterowalne kolekcje a następnie zwracają posortowaną listę wartości z tej kolekcji. Jeżeli `key` ma wartość `None`, to dekorowanie nie ma żadnego wpływu na dekorowaną funkcję. Jeśli `key` jest funkcją, to sortowanie odbywa się względem wartości wywołań `key` na wartościach kolekcji.\n",
    "\n",
    "Testy: [`test_dsu.py`](https://github.com/rodakt/PPwAD2/blob/main/lab_VII/test_dsu.py)"
   ]
  },
  {
   "cell_type": "markdown",
   "metadata": {},
   "source": [
    "### Zadanie VIII.3\n",
    "\n",
    "Napisz program, w którym przetestujesz działanie dekoratorów z zadania VIII.2 na własnych implementacjach:\n",
    "1. funkcji zwracającej minimum z sekwencji,\n",
    "2. funkcji zwracającej maksimum z sekwencji,\n",
    "3. funkcji sortującej sekwencję.\n",
    "\n",
    "Funkcji sortujących możesz napisać wiele korzystając z różnych algorytmów sortujących, np. sortowanie bąbelkowe, sortowanie przez wstawianie, sortowanie przez wybieranie, itp. "
   ]
  }
 ],
 "metadata": {
  "anaconda-cloud": {},
  "kernelspec": {
   "display_name": "Python 3 (ipykernel)",
   "language": "python",
   "name": "python3"
  },
  "language_info": {
   "codemirror_mode": {
    "name": "ipython",
    "version": 3
   },
   "file_extension": ".py",
   "mimetype": "text/x-python",
   "name": "python",
   "nbconvert_exporter": "python",
   "pygments_lexer": "ipython3",
   "version": "3.7.11"
  }
 },
 "nbformat": 4,
 "nbformat_minor": 1
}
