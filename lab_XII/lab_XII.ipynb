{
 "cells": [
  {
   "cell_type": "markdown",
   "metadata": {},
   "source": [
    "# Podstawy programowania (AD) 2\n",
    "### Tomasz Rodak\n",
    "## Lab XII\n",
    "\n",
    "---"
   ]
  },
  {
   "cell_type": "markdown",
   "metadata": {},
   "source": [
    "## Zadanie XII.1\n",
    "\n",
    "\n",
    "Napisz moduł `fib_gen.py` zawierający funkcje generatora dla ciągów Fibonacciego, Tribonacciego, Tetranacciego oraz uogólnionego ciągu Fibonacciego z dowolną liczbą początkowych wyrazów. Funkcje powinny mieć sygnatury:\n",
    "\n",
    "1. `fib(a=0, b=1)`, zwrającą iterator po ciągu Fibonacciego zdefiniowanego przez warunki początkowe `a`, `b`,\n",
    "3. `trib(a=0, b=0, c=1)`, zwracającą iterator po ciągu Tribonacciego zdefiniowanego przez warunki początkowe `a`, `b`, `c`,\n",
    "5. `tetra(a=0, b=0, c=0, d=1)`, zwracającą iterator po ciągu Tetranacciego zdefiniowanego przez warunki początkowe `a`, `b`, `c`, `d`,\n",
    "6. `fib_general(a, b, *args)`, zwracającą iterator po uogólnionym ciągu Fibonacciego zdefiniowanym przez warunki początkowe `a`, `b`, `*args`; rząd tego ciągu (czyli liczba warunków początkowych) jest równy `len(args)+2`.\n",
    "\n",
    "Zadanie to jest wariantem zadania V.1 z lab V. W V.1 znajdują się dodatkowe informacje na temat ciągów Fibonacciego, Tribonacciego, Tetranacciego i uogólnionego ciągu Fibonacciego. \n",
    "\n",
    "W wykładzie XI zdefiniowaliśmy funkcję generatora jako funkcję zawierającą w swoim ciele instrukcję `yield`. Funkcje z modułu `fib.py` możesz zdefiniować właśnie w ten sposób - korzystając z instrukcji `yield` w każdej z nich. Będą one wtedy funkcjami generatora zgodnie z terminologią z wykładu XI. Możesz też jednak postapić inaczej, definiując najpierw funkcję generatora `fib_general()` z instrukcją `yield`, a następnie korzystając z niej w funkcjach `fib()`, `trib()`, `tetra()`. Wówczas funkcje `fib()`, `trib()`, `tetra()` będą zwykłymi funkcjami, ale zwracającymi iterator, czyli działającymi jak funkcje generatora. Np. funkcja `fib` mogłaby wyglądać tak:\n",
    "```python\n",
    "def fib(a=0, b=1):\n",
    "    return fib_general(a, b)\n",
    "```\n",
    "\n",
    "Testy: [`test_fib_gen.py`](https://github.com/rodakt/PPwAD2/blob/main/lab_XII/test_fib_gen.py)"
   ]
  },
  {
   "cell_type": "markdown",
   "metadata": {},
   "source": [
    "## Zadanie XII.2\n",
    "\n",
    "\n",
    "Napisz moduł `running_values.py` zawierający funkcje generatora `running_total()`, `running_product()`, `running_max()`, `running_min()`, `running_extremum()`. Funkcje te generują wartości bieżącej sumy, iloczynu, maksimum, minimum, ekstremów (maksimum i minimum) elementów z obiektu iterowalnego `it`:\n",
    "* `running_total(it)` - generuje wartość bieżącej sumy elementów z `it`, zaczynając od 0;\n",
    "* `running_product(it)` - generuje wartość bieżącego iloczynu elementów z `it`, zaczynając od 1;\n",
    "* `running_max(it, key=lambda x: x)` - generuje wartość, gdy podczas iteracji po `it` bieżące maksimum musi być zaktualizowane. Inaczej mówiąc, `running_max(it, key)` zwraca iterator tych elementów z `it`, które są **większe** od wszystkich elementów je poprzedzających. Parametr `key` jest funkcją jednoargumentową, która jest stosowana do elementów z `it` przed porównaniem ich ze sobą. Domyślnie jest to funkcja identycznościowa. Na przykład, dla `it = [1, 2, 3, 2, 1, 7]` wartości zwracane przez `running_max(it)` to `1, 2, 3, 7`.\n",
    "* `running_min(it, key=lambda x: x)` - działa analogicznie do `running_max(it, key)`, ale generuje wartość bieżącego minimum elementów z `it`. Na przykład, dla `it = [1, 2, 3, 2, 0, 7]` wartości zwracane przez `running_min(it)` to `1, 0`.\n",
    "* `running_extremum(it, key=lambda x: x)` - analogicznie do `running_max(it, key)` i `running_min(it, key)`, ale generuje wartość bieżącego ekstremum. Inaczej mówiąc, `running_extremum(it, key)` zwraca iterator tych elementów z `it`, które są **większe** od wszystkich elementów je poprzedzających lub **mniejsze** od wszystkich elementów je poprzedzających. Na przykład, dla `it = [1, 2, 3, 2, 0, 7]` wartości zwracane przez `running_extremum(it)` to `1, 2, 3, 0, 7`.\n",
    "\n",
    "Testy: [`test_running_values.py`](https://github.com/rodakt/PPwAD2/blob/main/lab_XII/test_running_values.py)"
   ]
  },
  {
   "cell_type": "markdown",
   "metadata": {},
   "source": [
    "## Zadanie XII.3\n",
    "\n",
    "Napisz funkcję generatora `krata()`. Funkcja zwraca nieskończony generator przechodzący przez te wszystkie punkty płaszczyzny, które mają całkowite i nieujemne obie współrzędne. Zachowaj kolejność jak na rysunku:\n",
    "\n",
    "<center>\n",
    "    <img src=\"krata.png\"/>\n",
    "</center>\n",
    "\n",
    "Napisz program, który zapisze do pliku `krata.csv` pierwsze 144 punktów zwrócone przez funkcję `krata()`. Plik ten powinien zawierać nagłówek `x,y` oraz 144 wiersze z danymi. Wyświetl zawartość pliku `krata.csv` w postaci wykresu punktowo-liniowego.\n",
    "\n",
    "\n",
    "*Wskazówka:* Zmodyfikuj program z wykładu XI."
   ]
  },
  {
   "cell_type": "markdown",
   "metadata": {},
   "source": [
    "## Zadanie XII.4\n",
    "\n",
    "Napisz moduł `connect_alternately.py` zawierający funkcje `connect_alternately()` i `connect_alternately2()`. Funkcje te zwracają iteratory biegnące naprzemiennie po dwóch lub więcej obiektach iterowalnych. \n",
    "* `connect_alternately2(it1, it2)` - łączy dwa iteratory naprzemiennie, zwracając elementy z każdego z nich na przemian. Po wyczerpaniu któregokolwiek z obiektów iterowalnych zgłaszany jest wyjątek `StopIteration`.\n",
    "* `connect_alternately(*its)` - łączy wiele obiektów iterowalnych naprzemiennie. Po wyczerpaniu któregokolwiek z obiektów iterowalnych zgłaszany jest wyjątek `StopIteration`.\n",
    "\n",
    "Testy: [`test_connect_alternately.py`](https://github.com/rodakt/PPwAD2/blob/main/lab_XII/test_connect_alternately.py)"
   ]
  },
  {
   "cell_type": "markdown",
   "metadata": {},
   "source": [
    "## Zadanie XII.5\n",
    "\n",
    "Zaimplementuj funkcje generatora z ćwiczeń i z wykładu w postaci klas."
   ]
  }
 ],
 "metadata": {
  "anaconda-cloud": {},
  "kernelspec": {
   "display_name": "Python 3 (ipykernel)",
   "language": "python",
   "name": "python3"
  },
  "language_info": {
   "codemirror_mode": {
    "name": "ipython",
    "version": 3
   },
   "file_extension": ".py",
   "mimetype": "text/x-python",
   "name": "python",
   "nbconvert_exporter": "python",
   "pygments_lexer": "ipython3",
   "version": "3.7.11"
  }
 },
 "nbformat": 4,
 "nbformat_minor": 2
}
