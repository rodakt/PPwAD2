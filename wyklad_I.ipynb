{
 "cells": [
  {
   "cell_type": "markdown",
   "metadata": {
    "slideshow": {
     "slide_type": "slide"
    }
   },
   "source": [
    "# Podstawy programowania (AD) 2\n",
    "\n",
    "## Tomasz Rodak\n",
    "\n",
    "Wykład I\n",
    "\n",
    "---"
   ]
  },
  {
   "cell_type": "markdown",
   "metadata": {
    "slideshow": {
     "slide_type": "slide"
    }
   },
   "source": [
    "# Wprowadzenie\n"
   ]
  },
  {
   "cell_type": "markdown",
   "metadata": {
    "slideshow": {
     "slide_type": "slide"
    }
   },
   "source": [
    "## Zaliczenie :-)\n",
    "\n",
    "- Kolokwium na ostatnich zajęciach \"przy komputerze\". Ocena z kolokwium staje się oceną z ćwiczeń.\n",
    "- Egzamin pisemny w sesji. Ocena z egzaminu jest oceną z wykładu.\n",
    "- Do egzaminu należy przystąpić niezależnie od tego czy ćwiczenia zostały zaliczone.\n",
    "- Ocena w protokole ogólnym jest średnią z ocen z wykładu i ćwiczeń.\n"
   ]
  },
  {
   "cell_type": "markdown",
   "metadata": {
    "slideshow": {
     "slide_type": "slide"
    }
   },
   "source": [
    "## Polecane źródła\n",
    "\n",
    "### W internecie:\n",
    "\n",
    "- Oficjalna dokumentacja [https://docs.python.org/3/](https://docs.python.org/3/). W tym:\n",
    "  - Opis biblioteki standardowej: [https://docs.python.org/3/library/index.html](https://docs.python.org/3/library/index.html)\n",
    "  - Opis języka: [https://docs.python.org/3/reference/index.html](https://docs.python.org/3/reference/index.html)\n",
    "  - Tutorial: [https://docs.python.org/3/tutorial/index.html](https://docs.python.org/3/tutorial/index.html)\n",
    "  - HOWTOs: [https://docs.python.org/3/howto/index.html](https://docs.python.org/3/howto/index.html)\n",
    "- Rozbudowana ściąga z j. Python: [https://www.pythoncheatsheet.org/](https://www.pythoncheatsheet.org/)\n",
    "- Biblioteka standardowa w przykładach: [https://pymotw.com/3/](https://pymotw.com/3/)\n",
    "- YouTube jest pełen kursów z Pythona. Wysoką jakość i przekrój przez różne poziomy zaawansowania mają kursy na kanale [FreeCodeCamp](https://www.youtube.com/c/Freecodecamp/videos)."
   ]
  },
  {
   "cell_type": "markdown",
   "metadata": {
    "slideshow": {
     "slide_type": "subslide"
    }
   },
   "source": [
    "### Książki\n",
    "\n",
    "- (!) Eric Matthes, [_Python. Instrukcje dla programisty_](https://www.worldcat.org/title/python-instrukcje-dla-programisty/oclc/971388806&referer=brief_results)\n",
    "- Mark Lutz, [_Python. Wprowadzenie_](https://www.worldcat.org/title/python-wprowadzenie/oclc/802156389&referer=brief_results)\n",
    "- (!!) Luciano Ramahlo, [_Zaawansowany Python_](https://helion.pl/ksiazki/zaawansowany-python-luciano-ramalho,e_07wh.htm#format/e)\n",
    "- (!) David Beazley, Brian K. Jones, [_Python. Receptury_](https://www.worldcat.org/title/python-receptury-wydanie-iii/oclc/968120217&referer=brief_results)\n",
    "- (!) Mark Pilgrim, [_Dive into Python_](https://diveintopython3.net/)\n"
   ]
  },
  {
   "cell_type": "markdown",
   "metadata": {},
   "source": [
    "### Do potrenowania\n",
    "\n",
    "Przykładowe serwisy do samodzielnej nauki:\n",
    "\n",
    "- [Exercism](https://exercism.io/)\n",
    "- [https://www.codewars.com/](https://www.codewars.com/)\n",
    "- [https://www.codingame.com/start](https://www.codingame.com/start)\n",
    "- [spoj.com](https://www.spoj.com/)"
   ]
  },
  {
   "cell_type": "markdown",
   "metadata": {
    "slideshow": {
     "slide_type": "slide"
    }
   },
   "source": [
    "# Błędy i wyjątki\n"
   ]
  },
  {
   "cell_type": "markdown",
   "metadata": {
    "slideshow": {
     "slide_type": "slide"
    }
   },
   "source": [
    "## Czym są wyjątki ([Exceptions](https://docs.python.org/3/library/exceptions.html))?\n",
    "\n",
    "- Wyjątki to błędy, które powstają podczas działania programu.\n",
    "- W Pythona wbudowane jest wiele różnych wyjątków. Wyjątki te tworzą **hierarchię** opartą o dziedziczenie.\n",
    "- Rodzaj powstałego wyjątku sugeruje rodzaj błędu.\n",
    "- Po zgłoszeniu wyjątku mogą zdarzyć się różne rzeczy, w zależności od miejsca, w którym wyjątek został zgłoszony, zasadniczo jednak scenariusze są dwa:\n",
    "  - wyjątek zostaje obsłużony w bloku `try` (o tym powiemy za chwilę);\n",
    "  - wyjątek jest przekazywany na coraz wyższe poziomy programu, aż do momentu, w którym zostanie obsłużony albo program zostanie całkowicie przerwany.\n"
   ]
  },
  {
   "cell_type": "markdown",
   "metadata": {
    "slideshow": {
     "slide_type": "slide"
    }
   },
   "source": [
    "## Przykłady wyjątków\n",
    "\n",
    "- `ValueError` -- prawidłowy typ argumentu ale nieprawidłowa wartość.\n",
    "- `IndexError` -- liczba całkowita nie jest indeksem sekwencji.\n",
    "- `KeyError` -- obiekt nie jest kluczem słownika.\n",
    "- `NameError` -- niezdefiniowana nazwa.\n",
    "- `ZeroDivisionError` -- dzielenie przez zero.\n",
    "- `FileNotFoundError` -- plik nie został odnaleziony.\n",
    "- `RecursionError` -- przekroczony limit wywołań rekurencyjnych.\n",
    "- ...\n"
   ]
  },
  {
   "cell_type": "markdown",
   "metadata": {},
   "source": [
    "### Ćwiczenie I.1\n",
    "\n",
    "Znajdź w dokumentacji Pythona opisy podanych wyżej wyjątków.\n",
    "\n",
    "### Ćwiczenie I.2\n",
    "\n",
    "Dla każdego z podanych wyżej wyjątków napisz program, który go zgłosi.\n"
   ]
  },
  {
   "cell_type": "markdown",
   "metadata": {},
   "source": [
    "## Hierarchia wyjątków\n",
    "\n",
    "Wyjątki w Pythonie tworzą hierarchię opartą o dziedziczenie, przy czym klasa bazowa dla wszystkich wyjątków to `BaseException` (czyli z tej klasy wszystkie wyjątki dziedziczą). Poniżej podaję szczytowy fragment tej hierarchii (pełną listę znajdziesz [tutaj](https://docs.python.org/3/library/exceptions.html)):\n",
    "\n",
    "- `BaseException` -- klasa bazowa dla wszystkich wyjątków.\n",
    "  - `SystemExit` -- wyjątek zgłaszany przez funkcję `sys.exit()`.\n",
    "  - `KeyboardInterrupt` -- wyjątek zgłaszany przez przerwanie wysłane z klawiatury (`Ctrl+C`).\n",
    "  - `GeneratorExit` -- wyjątek zgłaszany przez generator lub współprogram, gdy jest zamykany.\n",
    "  - `Exception` -- klasa bazowa dla wszystkich wyjątków, które nie są błędami systemowymi.\n",
    "\n",
    "Znaczna większość wyjątków dziedziczy z klasy `Exception`. Niektóre wyjątki w tej grupie rozgałęziają się na dalsze, bardziej specjalistyczne. Przykładowo:\n",
    "\n",
    "- `BaseException`\n",
    "  - `Exception`\n",
    "    - `ArithmeticError`\n",
    "      - `ZeroDivisionError`\n",
    "      - `OverflowError`\n",
    "      - `FloatingPointError`\n",
    "\n",
    "albo\n",
    "\n",
    "- `BaseException`\n",
    "  - `Exception`\n",
    "    - `LookupError`\n",
    "      - `IndexError`\n",
    "      - `KeyError`\n"
   ]
  },
  {
   "cell_type": "markdown",
   "metadata": {
    "slideshow": {
     "slide_type": "slide"
    }
   },
   "source": [
    "## Obsługa wyjątków, instrukcja `try`\n",
    "\n",
    "`try` jest instrukcją złożoną służącą do obsługi wyjątków. Formalny opis składni instrukcji `try` znajdziesz [tutaj](https://docs.python.org/3/reference/compound_stmts.html#the-try-statement).\n",
    "\n",
    "Fakt, że `try` jest instrukcją złożoną oznacza, że musi zawierać blok kodu z sekwencją instrukcji:\n",
    "\n",
    "```python\n",
    "try:\n",
    "    # blok kodu\n",
    "```\n",
    "\n",
    "Po bloku `try` następują bloki `except`, `else` i `finally` w różnych możliwych kombinacjach, przy czym **musi** wystąpić co najmniej jeden z bloków `except` lub `finally`.\n",
    "\n",
    "Rola poszczególnych bloków jest następująca:\n",
    "\n",
    "- `try` -- blok, w którym może powstać wyjątek.\n",
    "- `except` -- blok, który obsługuje wyjątek.\n",
    "- `else` -- blok, który jest wykonywany, jeśli wyjątek nie powstał.\n",
    "- `finally` -- blok, który jest wykonywany zawsze, niezależnie od tego czy wyjątek powstał czy nie.\n",
    "\n",
    "Blok `except` jest opcjonalny i może występować wielokrotnie. Jeśli `except` jest wielokrotny, to wyjątek zostanie obsłużony przez pierwszy pasujący `except`. Bloki `else` i `finally` są również opcjonalne. Jeśli bloku `except` nie ma, to po bloku `try` musi wystąpić blok `finally`.\n",
    "\n",
    "Nagłówek bloku `except` (tj. pierwszy wiersz bloku) zawiera nazwę wyjątku, który ma być obsłużony w bloku. Może to być nazwa klasy wyjątku lub krotka nazw klas wyjątków. Jeśli w bloku `except` nie ma nazwy wyjątku, to blok obsługuje wszystkie wyjątki (co jest zwykle złym pomysłem).\n"
   ]
  },
  {
   "cell_type": "markdown",
   "metadata": {},
   "source": [
    "### Przykład I.1\n",
    "\n",
    "```python\n",
    "# Path: src/try_except_ZDE.py\n",
    "try:\n",
    "    x = int(input(\"Podaj liczbę: \"))\n",
    "    y = 1 / x\n",
    "except ValueError:\n",
    "    print(\"To nie jest liczba całkowita.\")\n",
    "except ZeroDivisionError:\n",
    "    print(\"Nie dziel przez zero.\")\n",
    "else:\n",
    "    print(\"Wynik dzielenia to\", y)\n",
    "finally:\n",
    "    print(\"Koniec.\")\n",
    "```\n"
   ]
  },
  {
   "cell_type": "markdown",
   "metadata": {},
   "source": [
    "## Rola dziedziczenia w obsłudze wyjątków\n",
    "\n",
    "Dziedziczenie w Pythonie odgrywa istotną rolę w obsłudze wyjątków. Blok `except` obsługuje wyjątki, które są instancjami klas wyjątków wymienionych w nagłówku bloku. Jeśli wyjątek jest instancją klasy, która dziedziczy po klasie wymienionej w nagłówku bloku, to wyjątek również zostanie obsłużony.\n",
    "\n",
    "### Przykład I.2\n",
    "\n",
    "```python\n",
    "# Path: src/try_except_AE.py\n",
    "try:\n",
    "    x = int(input(\"Podaj liczbę: \"))\n",
    "    y = 1 / x\n",
    "except ArithmeticError: # Obsłuży ZeroDivisionError, gdyż jest to podklasa ArithmeticError\n",
    "    print(\"Błąd obliczeniowy.\")\n",
    "except ValueError:\n",
    "    print(\"To nie jest liczba całkowita.\")\n",
    "else:\n",
    "    print(\"Wynik dzielenia to\", y)\n",
    "finally:\n",
    "    print(\"Koniec.\")\n",
    "```\n"
   ]
  },
  {
   "cell_type": "markdown",
   "metadata": {},
   "source": [
    "## Jak obsługiwać wyjątki\n",
    "\n",
    "Staramy się przechwytywać te wyjątki, dla których jesteśmy w stanie podjąć jakieś działania naprawcze. Wyjątek, którego nie jesteśmy w stanie w żaden sensowny sposób obsłużyć, powinien być naturalnie przekazywany na wyższy poziom programu.\n"
   ]
  },
  {
   "cell_type": "markdown",
   "metadata": {},
   "source": [
    "### Przykład I.3\n",
    "\n",
    "Program wczytuje od użytkownika liczbę całkowitą i wypisuje informację o jej parzystości.\n",
    "\n",
    "Wartość zwracana przez `input()` jest zawsze łańcuchem znaków, wartość tę konwertujemy na liczbę całkowitą za pomocą funkcji `int()`. Jednak użytkownik może podać coś innego niż liczba całkowita, coś czego `int()` nie jest w stanie skonwertować.\n",
    "Jeśli tak się stanie, to `int()` zgłosi wyjątek `ValueError`. Program nie jest w stanie podać liczby za użytkownika, może jednak wyświetlić komunikat o błędzie i ponowić próbę wczytania liczby. A zatem w tym przypadku wyjątek może być sensownie obsłużony.\n",
    "\n",
    "```python\n",
    "# Path: src/try_except_even_odd.py\n",
    "\"\"\"\n",
    "Program testuje, czy podana liczba całkowita jest parzysta czy nieparzysta.\n",
    "Wymusza na użytkowniku podanie liczby całkowitej.\n",
    "\"\"\"\n",
    "\n",
    "\n",
    "while True:\n",
    "    try:  # blok, w którym może powstać wyjątek; staramy się, aby był jak najkrótszy\n",
    "        x = int(input(\"Podaj liczbę: \"))\n",
    "        break  # Jeśli udało się wczytać liczbę, to przerywamy pętlę.\n",
    "    except ValueError:\n",
    "        print(\"To nie jest liczba całkowita.\")\n",
    "        print(\"Spróbuj jeszcze raz.\")\n",
    "\n",
    "if x % 2 == 0:\n",
    "    print(f\"Liczba {x} jest parzysta.\")\n",
    "else:\n",
    "    print(f\"Liczba {x} jest nieparzysta.\")\n",
    "```\n",
    "\n",
    "---\n",
    "\n",
    "W powyższym programie łatwo zgadnąć, jaki wyjątek zostanie zgłoszony, jeśli użytkownik poda coś innego niż liczba całkowita: `ValueError` bo typ argumentu jest prawidłowy, ale nie jest prawidłowa wartość. Czasem jednak trudno jest przewidzieć, jaki wyjątek zostanie zgłoszony. W takim przypadku:\n",
    "\n",
    "- wykonaj eksperymenty testując różne scenariusze;\n",
    "- zajrzyj do dokumentacji.\n"
   ]
  },
  {
   "cell_type": "markdown",
   "metadata": {},
   "source": [
    "## `finally`\n",
    "\n",
    "Blok `finally` jest wykonywany zawsze, niezależnie od tego czy wyjątek został zgłoszony czy nie, czy został obsłużony czy nie. Blok `finally` jest wykonywany nawet wtedy, gdy w bloku `try` wystąpił `return` lub `break`. Cel bloku `finally` to akcje czyszczące, które muszą być wykonane niezależnie od tego, co się stało w `try`, `except` i `else`. Typowym zastosowaniem `finally` jest zamykanie plików, zamykanie połączeń sieciowych, zwalnianie zasobów, itp.\n"
   ]
  },
  {
   "cell_type": "markdown",
   "metadata": {},
   "source": [
    "### Ćwiczenie I.3\n",
    "\n",
    "Napisz programy testujące działanie `finally` w różnych scenariuszach. Sprawdź, czy blok `finally` jest rzeczywiście zawsze wykonywany.\n"
   ]
  },
  {
   "cell_type": "markdown",
   "metadata": {},
   "source": [
    "### Przykład I.4\n",
    "\n",
    "Nieco bardziej realistyczny przykład. Skrypt `file_size_v1.py` oblicza rozmiar pliku w bajtach. Działa z wiersza poleceń. Przyjmuje dokładnie jeden argument, który jest nazwą pliku. Wyświetla rozmiar pliku w bajtach lub komunikat o błędzie. Program obsługuje dwa wyjątki: `FileNotFoundError` i `OSError`. W bloku `finally` zostaje podjęta próba zamknięcia pliku w kolejnym bloku `try`. Postępujemy w ten sposób, ponieważ otwarcie pliku może się nie powieść i wtedy zmienna `f` nie będzie istnieć.\n",
    "\n",
    "```python\n",
    "# Path: src/file_size_v1.py\n",
    "\"\"\"\n",
    "Program oblicza rozmiar pliku w bajtach.\n",
    "\n",
    "Sposób użycia:\n",
    "python file_size_v1.py <nazwa_pliku>\n",
    "\"\"\"\n",
    "import sys\n",
    "\n",
    "\n",
    "def file_size(file_name):\n",
    "    \"\"\"Funkcja zwraca rozmiar pliku w bajtach.\n",
    "\n",
    "    Zwróci None, jeśli plik nie istnieje lub wystąpił inny błąd.\n",
    "    \"\"\"\n",
    "    try:\n",
    "        f = open(file_name, \"rb\")\n",
    "        size = len(f.read())\n",
    "    except FileNotFoundError:  # Plik nie istnieje.\n",
    "        print(f\"Plik {file_name} nie istnieje.\")\n",
    "    except OSError as e:  # Inny błąd systemowy.\n",
    "        print(f\"Wystąpił błąd systemowy: {e}\")\n",
    "    else:\n",
    "        return size\n",
    "    finally:\n",
    "        try:  # Próba zamknięcia pliku, na pewno zostanie podjęta.\n",
    "            f.close()\n",
    "        except (\n",
    "            UnboundLocalError\n",
    "        ):  # Zmienna f nie istnieje, bo nie udało się otworzyć pliku.\n",
    "            pass\n",
    "\n",
    "\n",
    "def main():\n",
    "    if len(sys.argv) != 2:  # Skrypt przyjmuje dokładnie jeden argument.\n",
    "        print(\"Sposób użycia: python file_size.py <nazwa_pliku>\")\n",
    "    else:\n",
    "        file_name = sys.argv[1]\n",
    "        size = file_size(file_name)\n",
    "        if size is not None:  # Jeśli brak pliku lub błąd systemowy, to size == None.\n",
    "            print(f\"Rozmiar pliku {file_name} to {size} bajtów.\")\n",
    "        else:\n",
    "            print(\"Nie udało się obliczyć rozmiaru pliku.\")\n",
    "\n",
    "\n",
    "if __name__ == \"__main__\":\n",
    "    main()\n",
    "```\n"
   ]
  },
  {
   "cell_type": "markdown",
   "metadata": {},
   "source": [
    "## Manager kontekstu\n",
    "\n",
    "Manager kontekstu to mechanizm, który umożliwia efektywne zarządzanie zasobami, takimi jak pliki, połączenia sieciowe, itp. Podstawowym przykładem zastosowania managera kontekstu jest otwieranie pliku. Wykorzystuje się do tego instrukcję `with` i funkcję `open()`. Użycie managera kontekstu jest zalecane w tej sytuacji, gdyż zapewnia ono, że plik zostanie zawsze zamknięty, nawet jeśli w trakcie pracy z plikiem zostanie zgłoszony wyjątek. Dzięki temu nie trzeba pisać bloku `finally` do zamykania pliku."
   ]
  },
  {
   "cell_type": "markdown",
   "metadata": {},
   "source": [
    "### Przykład I.5\n",
    "\n",
    "Program `file_size_v2.py` jest modyfikacją programu `file_size_v1.py`. W tej wersji plik jest otwierany tą samą funkcją `open()`, ale w managerze kontekstu. Manager kontekstu dla funkcji `open()` zapewnia zamknięcie pliku w każdym przypadku, nawet jeśli w trakcie pracy z plikiem zostanie zgłoszony wyjątek. \n",
    "\n",
    "```python\n",
    "# Path: src/file_size_v2.py\n",
    "\"\"\"\n",
    "Program oblicza rozmiar pliku w bajtach.\n",
    "\n",
    "Sposób użycia:\n",
    "python file_size_v2.py <nazwa_pliku>\n",
    "\"\"\"\n",
    "import sys\n",
    "\n",
    "\n",
    "def file_size(file_name):\n",
    "    \"\"\"Funkcja zwraca rozmiar pliku w bajtach.\n",
    "\n",
    "    Zwróci None, jeśli plik nie istnieje lub wystąpił inny błąd.\n",
    "    \"\"\"\n",
    "    try:\n",
    "        with open(file_name, \"rb\") as f:\n",
    "            size = len(f.read())\n",
    "    except FileNotFoundError:  # Plik nie istnieje.\n",
    "        print(f\"Plik {file_name} nie istnieje.\")\n",
    "    except OSError as e:  # Inny błąd systemowy.\n",
    "        print(f\"Wystąpił błąd systemowy: {e}\")\n",
    "    else:\n",
    "        return size\n",
    "\n",
    "\n",
    "def main():\n",
    "    if len(sys.argv) != 2:  # Skrypt przyjmuje dokładnie jeden argument.\n",
    "        print(\"Sposób użycia: python file_size.py <nazwa_pliku>\")\n",
    "    else:\n",
    "        file_name = sys.argv[1]\n",
    "        size = file_size(file_name)\n",
    "        if size is not None:  # Jeśli brak pliku lub błąd systemowy, to size == None.\n",
    "            print(f\"Rozmiar pliku {file_name} to {size} bajtów.\")\n",
    "        else:\n",
    "            print(\"Nie udało się obliczyć rozmiaru pliku.\")\n",
    "\n",
    "\n",
    "if __name__ == \"__main__\":\n",
    "    main()\n",
    "```"
   ]
  },
  {
   "cell_type": "markdown",
   "metadata": {},
   "source": [
    "## Instrukcja `raise`\n",
    "\n",
    "Instrukcja `raise` służy do zgłaszania (rzucania) wyjątków. Może być użyta w dwóch postaciach:\n",
    "\n",
    "- `raise` -- rzuca ostatni wyjątek, który został zgłoszony w trakcie działania programu.\n",
    "- `raise <wyjątek>` -- rzuca wyjątek, którego nazwa jest podana po słowie kluczowym `raise`.\n",
    "\n",
    "Gdy rzucany jest konkretny wyjątek, to można dodatkowo podać go z argumentem tekstowym stanowiącym opis sytuacji, w której wyjątek został zgłoszony.\n",
    "\n",
    "Pierwsza sytuacja:\n",
    "\n",
    "```python\n",
    "try:\n",
    "    # blok kodu\n",
    "except <wyjątek>:\n",
    "    # blok obsługi wyjątku\n",
    "    raise # Rzuć ostatni wyjątek.\n",
    "```\n",
    "\n",
    "Druga sytuacja:\n",
    "\n",
    "```python\n",
    "x = -1\n",
    "\n",
    "if x < 0:\n",
    "    raise ValueError(\"x nie może być ujemne\")\n",
    "```"
   ]
  },
  {
   "cell_type": "markdown",
   "metadata": {},
   "source": [
    "### Przykład I.6\n",
    "\n",
    "Funkcja obliczająca średnią arytmetyczną z sekwencji liczb. Funkcja zgłasza wyjątek `ValueError`, jeśli sekwencja jest pusta.\n",
    "\n",
    "```python\n",
    "# Path: src/average.py\n",
    "def average(seq):\n",
    "    \"\"\"Funkcja zwraca średnią arytmetyczną elementów sekwencji.\"\"\"\n",
    "    if len(seq) == 0:\n",
    "        raise ValueError(\"Sekwencja nie może być pusta.\")\n",
    "    return sum(seq) / len(seq)\n",
    "\n",
    "\n",
    "seq = [1, 2, 3, 4, 5]\n",
    "try:\n",
    "    print(f\"Średnia arytmetyczna: {average(seq)}\")\n",
    "except ValueError as e:\n",
    "    print(\"Błąd:\", e)\n",
    "\n",
    "```\n"
   ]
  },
  {
   "cell_type": "markdown",
   "metadata": {},
   "source": [
    "## Traceback\n",
    "\n",
    "Traceback, czyli ślad stosu, to lista wywołań funkcji, które doprowadziły do zgłoszenia wyjątku. Traceback jest wyświetlany w momencie zgłoszenia wyjątku. \n",
    "\n",
    "### Przykład I.7\n",
    "\n",
    "```python\n",
    "# Path: src/traceback_example.py\n",
    "def f():\n",
    "    g()\n",
    "\n",
    "def g():\n",
    "    h()\n",
    "\n",
    "def h():\n",
    "    raise Exception(\"Błąd\")\n",
    "\n",
    "f()\n",
    "```\n",
    "\n",
    "Wynik działania programu:\n",
    "\n",
    "```\n",
    "Traceback (most recent call last):\n",
    "  File \"/home/tomek/Dokumenty/PPwAD2/src/traceback_example.py\", line 14, in <module>\n",
    "    f()\n",
    "  File \"/home/tomek/Dokumenty/PPwAD2/src/traceback_example.py\", line 3, in f\n",
    "    g()\n",
    "  File \"/home/tomek/Dokumenty/PPwAD2/src/traceback_example.py\", line 7, in g\n",
    "    h()\n",
    "  File \"/home/tomek/Dokumenty/PPwAD2/src/traceback_example.py\", line 11, in h\n",
    "    raise Exception(\"Błąd\")\n",
    "Exception: Błąd\n",
    "```\n",
    "\n",
    "Widzimy listę wywołań funkcji, które doprowadziły do zgłoszenia wyjątku. Każde wywołanie jest opisane w formacie:\n",
    "\n",
    "```\n",
    "  File \"<nazwa_pliku>\", line <numer_linii>, in <nazwa_funkcji lub modułu>\n",
    "    <kod>\n",
    "```\n",
    "\n",
    "Kolejność elementów listy jest odwrotna do kolejności wywołań. Ostatni element listy to miejsce, w którym wyjątek został zgłoszony. W tym przypadku jest to funkcja `h()` w linii 11 pliku `traceback_example.py`.\n",
    "\n",
    "Traceback jest bardzo pomocny w diagnozowaniu błędów. Dzięki niemu można zlokalizować miejsce, w którym błąd został zgłoszony, a także zrozumieć, jaki był kontekst, w którym to się stało.\n",
    "\n",
    "Odkładanie się kolejnych wywołań funkcji na stosie bardzo ładnie wizualizuje serwis [pythontutor.com](http://pythontutor.com/visualize.html#mode=edit). \n",
    "\n",
    "### Ćwiczenie I.4\n",
    "\n",
    "Wykonaj program `traceback_example.py` na [pythontutor.com](http://pythontutor.com/visualize.html#mode=edit). Zobacz, jak wygląda stos wywołań funkcji w momencie zgłoszenia wyjątku."
   ]
  },
  {
   "cell_type": "markdown",
   "metadata": {},
   "source": [
    "# Do poczytania\n",
    "\n",
    "[EAFP](https://docs.python.org/3/glossary.html#term-eafp) vs [LBYL](https://docs.python.org/3/glossary.html#term-lbyl)\n",
    "\n",
    "- EAFP -- Easier to ask for forgiveness than permission.\n",
    "- LBYL -- Look before you leap.\n"
   ]
  }
 ],
 "metadata": {
  "anaconda-cloud": {},
  "celltoolbar": "Slideshow",
  "kernelspec": {
   "display_name": "Python 3 (ipykernel)",
   "language": "python",
   "name": "python3"
  },
  "language_info": {
   "codemirror_mode": {
    "name": "ipython",
    "version": 3
   },
   "file_extension": ".py",
   "mimetype": "text/x-python",
   "name": "python",
   "nbconvert_exporter": "python",
   "pygments_lexer": "ipython3",
   "version": "3.11.3"
  }
 },
 "nbformat": 4,
 "nbformat_minor": 2
}
