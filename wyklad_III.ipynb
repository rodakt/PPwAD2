{
 "cells": [
  {
   "cell_type": "markdown",
   "metadata": {
    "slideshow": {
     "slide_type": "slide"
    }
   },
   "source": [
    "# Podstawy programowania (AD) 2\n",
    "\n",
    "## Tomasz Rodak\n",
    "\n",
    "Wykład III"
   ]
  },
  {
   "cell_type": "markdown",
   "metadata": {
    "slideshow": {
     "slide_type": "slide"
    }
   },
   "source": [
    "# Zmienne. Instrukcja przypisania\n",
    "<br>\n",
    "\n",
    "Wykorzystaj\n",
    "\n",
    "[http://pythontutor.com/](http://pythontutor.com/)\n",
    "\n",
    "aby zobaczyć wykonania zawartych w tym wykładzie programów."
   ]
  },
  {
   "cell_type": "markdown",
   "metadata": {
    "slideshow": {
     "slide_type": "slide"
    }
   },
   "source": [
    "## Przykład z C++\n",
    "\n",
    "W C++ zmienna to obszar pamięci, do którego dostęp zapewnia nazwa zmiennej.\n",
    "\n",
    "```c++\n",
    "#include <iostream>\n",
    "\n",
    "int main(){\n",
    "    int a = 1, b; // deklaracja zmiennych a, b\n",
    "    b = a; // b ma te sama wartosc co a\n",
    "\n",
    "    std::cout  << \"a: \" << a << \", b: \" << b << std::endl;\n",
    "    std::cout << \"adres a: \" << &a << \", adres b: \" << &b << std::endl;\n",
    "\n",
    "    a = 123; // wartosc a jest zmieniana, obszar w pamieci nie\n",
    "\n",
    "    std::cout  << \"\\na: \" << a << \", b: \" << b << std::endl;\n",
    "    std::cout << \"adres a: \" << &a << \", adres b: \" << &b << std::endl;\n",
    "\n",
    "    return 0;\n",
    "}\n",
    "```\n",
    "\n",
    "Rezultat:\n",
    "\n",
    "```\n",
    "a: 1, b: 1                                                                                                                                                                                   \n",
    "adres a: 0x7fff42c1e4d8, adres b: 0x7fff42c1e4dc                                                                                                                                             \n",
    "                                                                                                                                                                                             \n",
    "a: 123, b: 1                                                                                                                                                                                 \n",
    "adres a: 0x7fff42c1e4d8, adres b: 0x7fff42c1e4dc \n",
    "```"
   ]
  },
  {
   "cell_type": "markdown",
   "metadata": {
    "slideshow": {
     "slide_type": "subslide"
    }
   },
   "source": [
    "* Zmienne w C++, C, Pascalu, ... można zilustrować metaforą *pudełka* -- każda zmienna to inne pudełko, do którego wkładana jest wartość.\n",
    "* **Definiowanie zmiennej** to proces tworzenia pudełka. Często określany jest wtedy **typ** zmiennej.\n",
    "* Zdefiniowana zmienna, której nie przypisano żadnej wartości jest zmienną **niezainicjalizowaną** (nie ma poprawnej wartości startowej)."
   ]
  },
  {
   "cell_type": "markdown",
   "metadata": {
    "slideshow": {
     "slide_type": "slide"
    }
   },
   "source": [
    "## W Pythonie jest inaczej :-)\n",
    "\n",
    "* Zmienna w Pythonie to etykieta (nazwa, *identifier*, *reference*) nadawana **obiektowi**.\n",
    "* Jedyny sposób na utworzenie zmiennej, to wykonanie instrukcji przypisania.\n",
    "* Zmiennych się nie deklaruje, zmienne nie mają typów.\n",
    "* Na jeden obiekt może wskazywać wiele zmiennych; nazywa się je wtedy **aliasami**."
   ]
  },
  {
   "cell_type": "markdown",
   "metadata": {
    "slideshow": {
     "slide_type": "slide"
    }
   },
   "source": [
    "## Obiekty\n",
    "\n",
    "* W Pythonie dane przetwarzane przez interpreter zawsze mają postać obiektów.\n",
    "* Każdy obiekt ma:\n",
    "  * typ,\n",
    "  * tożsamość,\n",
    "  * wartość.\n",
    "\n",
    "Obiekt możesz sobie wyobrazić jako znajdująca sie gdzieś w pamięci kapsułę zawierającą wartość (lub wartości, jeśli jest to kolekcja).\n",
    "- Każda kapsuła jest określonego typu i ma unikalną tożsamość.\n",
    "- Metody i atrybuty obiektu zapewniają dostęp do wartości zamkniętej w kapsule.\n",
    "- Zmienna to etykieta umieszczona na kapsule."
   ]
  },
  {
   "cell_type": "markdown",
   "metadata": {
    "slideshow": {
     "slide_type": "slide"
    }
   },
   "source": [
    "### Typ i wartość\n",
    "\n",
    "**Typ** to rodzaj danych definiowany przez zbiór wartości i możliwych na nich operacji:\n",
    "* Liczby całkowite (`int`) mają wartości `..., -2, -1, 0, 1, 2, ...` i operacje takie jak dodawanie, mnożenie, porównywanie itp.\n",
    "* Wartości logiczne (`bool`) to `True` i `False` a operacje to np.: `and`, `or`, `not`.\n",
    "* Wartości typu łańcuchy znaków (`str`) to ciągi znaków a operacje na nich to np.: konkatenacja, dostęp do elementu, wycinki, `upper()`, `replace()`, ...\n",
    "* itd."
   ]
  },
  {
   "cell_type": "markdown",
   "metadata": {
    "slideshow": {
     "slide_type": "subslide"
    }
   },
   "source": [
    "### Funkcja `type()`, sprawdzenie typu obiektu\n",
    "\n",
    "\n",
    "\n",
    "Zwraca typ obiektu.\n",
    "\n",
    "```python\n",
    "print(type(1))\n",
    "```\n",
    "Rezultat:\n",
    "\n",
    "```\n",
    "<class 'int'>\n",
    "```\n",
    "\n",
    "Funkcji `type()` używa się do sprawdzenia typu nowego obiektu, zwykle w konsoli interaktywnej lub w trakcie debugowania. W kodzie programu rzadko się ją stosuje."
   ]
  },
  {
   "cell_type": "markdown",
   "metadata": {
    "slideshow": {
     "slide_type": "slide"
    }
   },
   "source": [
    "### Tożsamość \n",
    "\n",
    "* **Tożsamość** obiektu to miejsce w pamięci, w którym obiekt się znajduje.\n",
    "* **Numer identyfikacyjny** to liczba całkowita reprezentująca tożsamość obiektu.\n",
    "  * Numer identyfikacyjny jest niezmienny przez czas trwania obiektu.\n",
    "  * Dwa obiekty mają te same tożsamości dokładnie wtedy, gdy mają równe numery identyfikacyjne.\n",
    "  * Numer identyfikacyjny uzyskuje się poleceniem `id()`.\n",
    "* Operator `is` sprawdza, czy dwa obiekty mają tę samą tożsamość."
   ]
  },
  {
   "cell_type": "markdown",
   "metadata": {},
   "source": [
    "### Operacja `==`, porównanie wartości\n",
    "\n",
    "Operator `==` sprawdza, czy dwa obiekty mają tę samą wartość. Wynikiem jest wartość logiczna `True` lub `False`.\n",
    "\n",
    "```python\n",
    "print(1 == 1)\n",
    "```\n",
    "Rezultat:\n",
    "\n",
    "```\n",
    "True\n",
    "```\n",
    "\n",
    "### Funkcja `id()` i operator `is`, sprawdzenie tożsamości obiektu\n",
    "\n",
    "`id()` zwraca identyfikator obiektu określający jego tożsamość. Operator `is` sprawdza, czy dwa obiekty są tym samym obiektem."
   ]
  },
  {
   "cell_type": "markdown",
   "metadata": {},
   "source": [
    "### Identyczność vs. równość\n",
    "\n",
    "* **Identyczność** to cecha obiektu, która oznacza, że dwa obiekty są tym samym obiektem.\n",
    "* **Równość** to cecha obiektu, która oznacza, że dwa obiekty mają tę samą wartość.\n",
    "\n",
    "#### Przykład\n",
    "\n"
   ]
  },
  {
   "cell_type": "markdown",
   "metadata": {
    "slideshow": {
     "slide_type": "-"
    }
   },
   "source": [
    "```python\n",
    "a = 2**100\n",
    "c = 2**100\n",
    "b = a\n",
    "\n",
    "print(f\"a is b: {a is b}\")\n",
    "print(f\"b is c: {b is c}\")\n",
    "print(f\"a == b: {a == b}\")\n",
    "print(f\"b == c: {b == c}\")\n",
    "print(f\"id(a): {id(a)}, id(b): {id(b)}, id(c): {id(c)}\")\n",
    "```\n",
    "\n",
    "Rezultat:\n",
    "\n",
    "```\n",
    "a is b: True\n",
    "b is c: False\n",
    "a == b: True\n",
    "b == c: True\n",
    "id(a): 140241985505296, id(b): 140241985505296, id(c): 140241985505344\n",
    "```"
   ]
  },
  {
   "cell_type": "markdown",
   "metadata": {},
   "source": [
    "* `a`, `b` są aliasami -- różnymi nazwami tego samego obiektu.\n",
    "* Przypisanie `c = 2**100` tworzy nowy obiekt o tej samej wartości.\n",
    "  \n",
    "  W tym przypadku wartość prawej strony jest obliczana. Interpreter nie sprawdza czy obiekt o tej samej wartości już się w pamięci znajduje. Dlatego musi powstać nowy obiekt."
   ]
  },
  {
   "cell_type": "markdown",
   "metadata": {
    "slideshow": {
     "slide_type": "subslide"
    }
   },
   "source": [
    "Ogólnie:\n",
    "* jeśli prawa strona przypisania jest zmienną, to tworzony jest alias;\n",
    "* jeśli prawa strona przypisania jest wyrażeniem bardziej złożonym niż czysta zmienna, to tworzony jest nowy obiekt."
   ]
  },
  {
   "cell_type": "markdown",
   "metadata": {
    "slideshow": {
     "slide_type": "fragment"
    }
   },
   "source": [
    "Czasem jednak Python oszukuje."
   ]
  },
  {
   "cell_type": "markdown",
   "metadata": {},
   "source": [
    "```python\n",
    "a = 1\n",
    "b = 3**2 - 8\n",
    "\n",
    "print(f\"id(a) == {id(a)}\")\n",
    "print(f\"id(b) == {id(b)}\")\n",
    "```\n",
    "\n",
    "Rezultat:\n",
    "\n",
    "```\n",
    "id(a) == 8885000\n",
    "id(b) == 8885000\n",
    "```"
   ]
  },
  {
   "cell_type": "markdown",
   "metadata": {},
   "source": [
    "Dla niektórych \"małych\" lub często używanych wartości tworzony jest tylko jeden obiekt. Jest to kwestia wewnętrzna interpretera związana z optymalizacją."
   ]
  },
  {
   "cell_type": "markdown",
   "metadata": {
    "slideshow": {
     "slide_type": "slide"
    }
   },
   "source": [
    "### Kiedy używać `is` a kiedy `==`?\n",
    "\n",
    "`is` porównuje tożsamości, `==` porównuje wartości, dlatego najczęściej używa się `==`, gdyż zwykle interesują nas wartości.\n",
    "\n",
    "Wyjątkiem jest przypadek testowania, czy obiekt jest typu `None`. Zalecany kod:\n",
    "```python\n",
    "x is None\n",
    "```\n",
    "oraz\n",
    "```python\n",
    "x is not None\n",
    "```"
   ]
  },
  {
   "cell_type": "markdown",
   "metadata": {},
   "source": [
    "## Czas życia obiektu\n",
    "\n",
    "* Obiekty, do których nie ma żadnych referencji (nie mają nazw, nie wiszą na nich żadne etykiety) są usuwane z pamięci.\n",
    "* Mechanizm automatycznego uwalniania pamięci nazywa się **odśmiecaniem pamięci** (**garbage collection**).\n",
    "\n",
    "\n",
    "Funkcja `sys.getrefcount()` zwraca liczbę zmiennych odnoszących się do obiektu:"
   ]
  },
  {
   "cell_type": "markdown",
   "metadata": {},
   "source": [
    "```python\n",
    "from sys import getrefcount\n",
    "\n",
    "a = \"hello\"\n",
    "print(getrefcount(a))  \n",
    "b = a\n",
    "print(getrefcount(a))\n",
    "c = [a]\n",
    "print(getrefcount(a))\n",
    "d = c[0]\n",
    "print(getrefcount(a))\n",
    "```\n",
    "\n",
    "Rezultat:\n",
    "\n",
    "```\n",
    "4\n",
    "5\n",
    "6\n",
    "7\n",
    "```"
   ]
  },
  {
   "cell_type": "markdown",
   "metadata": {
    "slideshow": {
     "slide_type": "slide"
    }
   },
   "source": [
    "## Obiekty zmienne\n",
    "\n",
    "Obiekt zmienny to taki, który może zmienić wartość."
   ]
  },
  {
   "cell_type": "markdown",
   "metadata": {
    "slideshow": {
     "slide_type": "-"
    }
   },
   "source": [
    "```python\n",
    "a = [1, 2, 3]\n",
    "b = a  \n",
    "print(f\"a is b: {a is b}\") # a i b są nazwami tego samego obiektu.\n",
    "c = [1, 2, 3]  \n",
    "print(f\"b is c: {b is c}\")  # b i c to dwa różne obiekty.\n",
    "print(f\"a == c == b: {a == c == b}\")  # Wszystkie trzy obiekty są równe.\n",
    "print(\"Dodajemy element do listy a.\")\n",
    "a.append(\"X\")  # Zmieniamy obiekt nazwany a i b.\n",
    "print(f\"a: {a}, b: {b}, c: {c}\")  # Obiekt nazwany b również się zmienił.\n",
    "```\n",
    "\n",
    "Rezultat:\n",
    "\n",
    "```\n",
    "a is b: True\n",
    "b is c: False\n",
    "a == c == b: True\n",
    "Dodajemy element do listy a.\n",
    "a: [1, 2, 3, 'X'], b: [1, 2, 3, 'X'], c: [1, 2, 3]\n",
    "```"
   ]
  },
  {
   "cell_type": "markdown",
   "metadata": {},
   "source": [
    "Należy o tym pamiętać, gdy tworzymy do niego aliasy!"
   ]
  },
  {
   "cell_type": "markdown",
   "metadata": {
    "slideshow": {
     "slide_type": "subslide"
    }
   },
   "source": [
    "#### Przykład\n",
    "\n",
    "Chcemy utworzyć macierz `3 x 3` wypełnioną zerami. Następnie w lewym górnym rogu chcemy umieścić `123`.\n",
    "\n",
    "```python\n",
    "wiersz = [0, 0, 0]\n",
    "macierz = [wiersz, wiersz, wiersz]\n",
    "print(macierz)\n",
    "macierz[0][0] = 123\n",
    "print(macierz)\n",
    "```\n",
    "\n",
    "Rezultat:\n",
    "\n",
    "```\n",
    "[[0, 0, 0], [0, 0, 0], [0, 0, 0]]\n",
    "[[123, 0, 0], [123, 0, 0], [123, 0, 0]]\n",
    "```"
   ]
  },
  {
   "cell_type": "markdown",
   "metadata": {
    "slideshow": {
     "slide_type": "fragment"
    }
   },
   "source": [
    "Niestety! Nasza macierz zawiera trzy pozycje, z których każda jest referencją do tego samego obiektu."
   ]
  },
  {
   "cell_type": "markdown",
   "metadata": {
    "slideshow": {
     "slide_type": "subslide"
    }
   },
   "source": [
    "Ten sam efekt występuje, gdy mnożymy listę przez liczbę:"
   ]
  },
  {
   "cell_type": "markdown",
   "metadata": {},
   "source": [
    "```python\n",
    "wiersz = [0, 0, 0]\n",
    "macierz = 3 * [wiersz]\n",
    "print(macierz)\n",
    "macierz[0][0] = 123\n",
    "print(macierz)\n",
    "```\n",
    "\n",
    "Rezultat:\n",
    "\n",
    "```\n",
    "[[0, 0, 0], [0, 0, 0], [0, 0, 0]]\n",
    "[[123, 0, 0], [123, 0, 0], [123, 0, 0]]\n",
    "```"
   ]
  },
  {
   "cell_type": "markdown",
   "metadata": {},
   "source": [
    "Pamięć jest współdzielona: istnieje tylko jeden obiekt `wiersz` z wieloma nazwami."
   ]
  },
  {
   "cell_type": "markdown",
   "metadata": {
    "slideshow": {
     "slide_type": "subslide"
    }
   },
   "source": [
    "Obejście problemu: utworzenie trzech kopii listy `wiersz`, np. z pełnych wycinków `wiersz[:]`"
   ]
  },
  {
   "cell_type": "markdown",
   "metadata": {},
   "source": [
    "```python\n",
    "wiersz = [0, 0, 0]\n",
    "macierz = []\n",
    "print(macierz)\n",
    "\n",
    "for k in range(3):\n",
    "    macierz.append(wiersz[:])\n",
    "\n",
    "macierz[0][0] = 123\n",
    "print(macierz)\n",
    "```\n",
    "\n",
    "Rezultat:\n",
    "\n",
    "```\n",
    "[[0, 0, 0], [0, 0, 0], [0, 0, 0]]\n",
    "[[123, 0, 0], [0, 0, 0], [0, 0, 0]]\n",
    "```\n",
    "\n",
    "\n",
    "Wykonaj ten przykład w [http://pythontutor.com/](http://pythontutor.com/)."
   ]
  },
  {
   "cell_type": "markdown",
   "metadata": {
    "slideshow": {
     "slide_type": "slide"
    }
   },
   "source": [
    "### `a += b` vs `a = a + b`\n",
    "\n",
    "Przypisanie złożone `+=`, `*=`, `...` jest formą przypisania, w której po prawej stronie znajduje się wyrażenie.\n",
    "\n",
    "Jeśli obiekt po lewej stronie przypisania złożonego `+=`, `*=`, `...` jest zmienny, to przypisanie wykonywane jest \"w miejscu\" i nowy obiekt nie jest tworzony."
   ]
  },
  {
   "cell_type": "markdown",
   "metadata": {},
   "source": [
    "```python\n",
    "a = [1, 2]\n",
    "print(id(a))\n",
    "a += [3]\n",
    "print(id(a))\n",
    "a = a + [4]\n",
    "print(id(a))\n",
    "```\n",
    "\n",
    "Rezultat:\n",
    "\n",
    "```\n",
    "140358655437824\n",
    "140358655437824\n",
    "140358653641792\n",
    "```"
   ]
  },
  {
   "cell_type": "markdown",
   "metadata": {
    "slideshow": {
     "slide_type": "slide"
    }
   },
   "source": [
    "### Typy zmienne (mutable types)\n",
    "\n",
    "Przykłady wbudowanych typów zmiennych:\n",
    "\n",
    "* `list` -- listy,\n",
    "* `dict` -- słowniki,\n",
    "* `set` -- zbiory,\n",
    "* `bytearray` -- zmienne sekwencje bajtów,\n",
    "* `...`"
   ]
  },
  {
   "cell_type": "markdown",
   "metadata": {
    "slideshow": {
     "slide_type": "slide"
    }
   },
   "source": [
    "### Typy niezmienne (immutable types)\n",
    "\n",
    "Przykłady wbudowanych typów niezmiennych:\n",
    "\n",
    "* `int`, `float`, `complex`, `bool` -- wszystkie typy numeryczne,\n",
    "* `str` -- łańcuchy,\n",
    "* `tuple` -- krotki,\n",
    "* `frozenset` -- zbiory \"zamrożone\",\n",
    "* `range` -- zakresy,\n",
    "* `bytes` -- sekwencje bajtów,\n",
    "* `...`"
   ]
  },
  {
   "cell_type": "markdown",
   "metadata": {
    "slideshow": {
     "slide_type": "slide"
    }
   },
   "source": [
    "## Kolejny przykład z C++\n",
    "\n",
    "Ten kod pokazuje, że w C++:\n",
    "* typ `int` jest zmienny;\n",
    "* przypisanie `b = a` nie tworzy aliasu.\n",
    "\n",
    "```c++\n",
    " \n",
    "#include <iostream>\n",
    "\n",
    "int main()\n",
    "{\n",
    "    int a = 1, b;\n",
    "    b = a;\n",
    "    int *p; // Wskaznik na typ int.\n",
    "    p = &a; // p przechowuje adres a\n",
    "    *p = 123; // Podmieniamy wartosc a\n",
    "    \n",
    "    std::cout << \"a: \" << a << std::endl;\n",
    "    std::cout << \"b: \" << b << std::endl;\n",
    "\n",
    "    return 0;\n",
    "}\n",
    "```\n",
    "```\n",
    "a: 123                                                                                                                                                                                       \n",
    "b: 1   \n",
    "```"
   ]
  },
  {
   "cell_type": "markdown",
   "metadata": {
    "slideshow": {
     "slide_type": "slide"
    }
   },
   "source": [
    "### Zagadka\n",
    "\n",
    "Jaki efekt będzie miało wykonanie poniższego kodu?"
   ]
  },
  {
   "cell_type": "markdown",
   "metadata": {},
   "source": [
    "```python\n",
    "krotka = (1, 2, 3, [])\n",
    "krotka[-1].append('X')\n",
    "print(krotka)\n",
    "```"
   ]
  },
  {
   "cell_type": "markdown",
   "metadata": {},
   "source": [
    "Krotki, listy, słowniki i ogólnie kontenery nie przechowują obiektów a jedynie referencje do nich. W tym przykładzie obiekt, którego nazwa znajduje się na ostatniej pozycji w zmiennej `krotka` zmienił wartość. Tym niemniej nadal wskazuje na niego ta sama nazwa `krotka[-1]`, więc wartość krotki nie uległa zmianie."
   ]
  },
  {
   "cell_type": "markdown",
   "metadata": {
    "slideshow": {
     "slide_type": "subslide"
    }
   },
   "source": [
    "Z [dokumentacji](https://docs.python.org/3/reference/datamodel.html#objects-values-and-types):\n",
    "\n",
    "> The *value* of some objects can change. Objects whose value can change are said to be *mutable*; objects whose value is unchangeable once they are created are called *immutable*. (The value of an immutable container object that contains a reference to a mutable object can change when the latter’s value is changed; however the container is still considered immutable, because the collection of objects it contains cannot be changed. So, immutability is not strictly the same as having an unchangeable value, it is more subtle.) An object’s mutability is determined by its type; for instance, numbers, strings and tuples are immutable, while dictionaries and lists are mutable."
   ]
  },
  {
   "cell_type": "markdown",
   "metadata": {
    "slideshow": {
     "slide_type": "slide"
    }
   },
   "source": [
    "## Kopie\n",
    "\n",
    "Jeśli obiekt jest niezmienny, to utworzenie jego kopii sprowadza się do utworzenia aliasu. Nie jest to oczywiście prawdziwa kopia, ale z praktycznego punktu widzenia nie ma to żadnego znaczenia."
   ]
  },
  {
   "cell_type": "markdown",
   "metadata": {},
   "source": [
    "```python\n",
    "a = 'Ala ma kota'\n",
    "b = a\n",
    "print(f\"a is b: {a is b}\")\n",
    "```"
   ]
  },
  {
   "cell_type": "markdown",
   "metadata": {},
   "source": [
    "Ten kod jest bezpieczny, gdyż nie ma metody, która mogłaby zmienić łańcuch, na który wskazują `a` i `b` - każda z tych zmiennych może grać rolę niezależnej kopii drugiej."
   ]
  },
  {
   "cell_type": "markdown",
   "metadata": {
    "slideshow": {
     "slide_type": "subslide"
    }
   },
   "source": [
    "Tutaj jest inaczej:"
   ]
  },
  {
   "cell_type": "markdown",
   "metadata": {},
   "source": [
    "```python\n",
    "a = [1, 2, 3]\n",
    "b = a\n",
    "print(f\"a is b: {a is b}\")\n",
    "a.append(4)\n",
    "print(f\"a: {a}, b: {b}\")\n",
    "```"
   ]
  },
  {
   "cell_type": "markdown",
   "metadata": {},
   "source": [
    "Podobnie jak poprzednio `a` i `b` to aliasy, ale tym razem obiekt, na który wskazują, jest zmienny. Zatem `b` nie może grać roli niezależnej kopii `a`. \n",
    "\n",
    "Jeśli obiekt jest zmienny, to najlepiej:\n",
    "* mieć dla niego tylko jedną nazwę;\n",
    "* w razie potrzeby tworzyć kopie (jak?)."
   ]
  },
  {
   "cell_type": "markdown",
   "metadata": {
    "slideshow": {
     "slide_type": "slide"
    }
   },
   "source": [
    "## Kopiowanie list\n",
    "\n",
    "Listy kopiujemy stosując:\n",
    "* wycinki,\n",
    "* metodę `copy()`,\n",
    "* funkcję `list()`."
   ]
  },
  {
   "cell_type": "markdown",
   "metadata": {},
   "source": [
    "```python\n",
    "a = [1, 2, 3]\n",
    "b = a[:]\n",
    "c = a.copy()\n",
    "d = list(a)\n",
    "print(f\"id(a): {id(a)}, id(b): {id(b)}, id(c): {id(c)}, id(d): {id(d)}\")\n",
    "```\n",
    "\n",
    "Rezultat:\n",
    "\n",
    "```\n",
    "id(a): 140306044431488, id(b): 140306044482816, id(c): 140306042635520, id(d): 140306042146240\n",
    "```"
   ]
  },
  {
   "cell_type": "markdown",
   "metadata": {
    "slideshow": {
     "slide_type": "slide"
    }
   },
   "source": [
    "## Kopiowanie słowników i zbiorów\n",
    "\n",
    "Słownik / zbiór skopiujesz stosując:\n",
    "* metodę `copy()`,\n",
    "* funkcję `dict() / set()`."
   ]
  },
  {
   "cell_type": "markdown",
   "metadata": {
    "slideshow": {
     "slide_type": "slide"
    }
   },
   "source": [
    "## Niestety to nie wszystko :-/\n",
    "\n",
    "Zgadnij jaki efekt będzie miało wykonanie kodu:"
   ]
  },
  {
   "cell_type": "markdown",
   "metadata": {},
   "source": [
    "```python\n",
    "d1 = {100: 'a', 2: [1, 2, 3]}\n",
    "d2 = d1.copy()\n",
    "d1[2].append('X')\n",
    "d1[25] = 'b'\n",
    "```"
   ]
  },
  {
   "cell_type": "markdown",
   "metadata": {
    "slideshow": {
     "slide_type": "fragment"
    }
   },
   "source": [
    "Listy, krotki, słowniki itp., zawierają nie obiekty, lecz referencje do tych obiektów\n",
    "\n",
    "Omówione dotąd kopie są płytkie. Oznacza to, że tworzą one nowe obiekty zawierające nowe referencje... do starych obiektów.\n",
    "\n",
    "W tym przykładzie `d1[2]` i `d2[2]` są różnymi referencjami do tego samego obiektu."
   ]
  },
  {
   "cell_type": "markdown",
   "metadata": {
    "slideshow": {
     "slide_type": "slide"
    }
   },
   "source": [
    "## Moduł [`copy`](https://docs.python.org/3/library/copy.html)\n",
    "\n",
    "Zawiera dwie funkcje:\n",
    " * `copy()` zwracającą kopię płytką argumentu.\n",
    " * `deepcopy()` zwracającą kopię głęboką."
   ]
  },
  {
   "cell_type": "markdown",
   "metadata": {
    "slideshow": {
     "slide_type": "slide"
    }
   },
   "source": [
    "## Kopie głębokie\n",
    "\n",
    "Funkcja `deepcopy()` z modułu `copy` tworzy kopie głębokie obiektów."
   ]
  },
  {
   "cell_type": "markdown",
   "metadata": {},
   "source": [
    "```python\n",
    "import copy\n",
    "\n",
    "d1 = {100: 'a', 2: [1, 2, 3]}\n",
    "d2 = copy.deepcopy(d1)\n",
    "d1[2].append('X')\n",
    "\n",
    "print('d1:', d1)\n",
    "print('d2:', d2)\n",
    "print(f\"d1[2] is d2[2]: {d1[2] is d2[2]}\")\n",
    "```\n",
    "\n",
    "Rezultat:\n",
    "\n",
    "```\n",
    "d1: {100: 'a', 2: [1, 2, 3, 'X']}\n",
    "d2: {100: 'a', 2: [1, 2, 3]}\n",
    "d1 is d2: False\n",
    "d1[2] is d2[2]: False\n",
    "```"
   ]
  },
  {
   "cell_type": "markdown",
   "metadata": {
    "slideshow": {
     "slide_type": "subslide"
    }
   },
   "source": [
    "Aliasy do krotek zawierających obiekty zmienne nie mogą grać roli niezależnych kopii:"
   ]
  },
  {
   "cell_type": "markdown",
   "metadata": {},
   "source": [
    "```python\n",
    "a = (1, [2, 3])\n",
    "b = a\n",
    "a[-1].append(999)\n",
    "print(f\"a: {a}, b: {b}\")\n",
    "```\n",
    "\n",
    "Rezultat:\n",
    "\n",
    "```\n",
    "a: (1, [2, 3, 999]), b: (1, [2, 3, 999])\n",
    "```"
   ]
  },
  {
   "cell_type": "markdown",
   "metadata": {
    "slideshow": {
     "slide_type": "subslide"
    }
   },
   "source": [
    "Sprawy nie rozwiązuje wykonanie płytkiej kopii: "
   ]
  },
  {
   "cell_type": "markdown",
   "metadata": {},
   "source": [
    "```python\n",
    "a = (1, [2, 3])\n",
    "b = copy.copy(a)\n",
    "a[-1].append(999)\n",
    "print(f'a={a}, b={b}')\n",
    "```\n",
    "\n",
    "Rezultat:\n",
    "\n",
    "```\n",
    "a=(1, [2, 3, 999]), b=(1, [2, 3, 999])\n",
    "```"
   ]
  },
  {
   "cell_type": "markdown",
   "metadata": {
    "slideshow": {
     "slide_type": "subslide"
    }
   },
   "source": [
    "Dopiero kopia głęboka tworzy faktycznie niezależne kopie:"
   ]
  },
  {
   "cell_type": "markdown",
   "metadata": {},
   "source": [
    "```python\n",
    "a = (1, [2, 3])\n",
    "b = copy.deepcopy(a)\n",
    "a[-1].append(999)\n",
    "print(f'a={a}, b={b}')\n",
    "```\n",
    "\n",
    "Rezultat:\n",
    "\n",
    "```\n",
    "a=(1, [2, 3, 999]), b=(1, [2, 3])\n",
    "```"
   ]
  },
  {
   "cell_type": "markdown",
   "metadata": {
    "slideshow": {
     "slide_type": "slide"
    }
   },
   "source": [
    "### Odwołanie cykliczne\n",
    "\n",
    "Na jaką wartość wskazuje `lst` po wykonaniu tego kodu?"
   ]
  },
  {
   "cell_type": "markdown",
   "metadata": {},
   "source": [
    "```python\n",
    "lst = [1]\n",
    "lst.append(lst)\n",
    "print(lst)\n",
    "```\n",
    "\n",
    "Rezultat:\n",
    "\n",
    "```\n",
    "[1, [...]]\n",
    "```"
   ]
  },
  {
   "cell_type": "markdown",
   "metadata": {},
   "source": [
    "Wielokropek wskazuje na odwołanie cykliczne. Zauważ, że ta lista ma nieskończoną głębokość!"
   ]
  },
  {
   "cell_type": "markdown",
   "metadata": {
    "slideshow": {
     "slide_type": "subslide"
    }
   },
   "source": [
    "Ile jest równe `lst[-1]`?"
   ]
  },
  {
   "cell_type": "markdown",
   "metadata": {
    "slideshow": {
     "slide_type": "fragment"
    }
   },
   "source": [
    "```\n",
    "print(lst[-1])\n",
    "```\n",
    "\n",
    "Rezultat:\n",
    "\n",
    "```\n",
    "[1, [...]]\n",
    "```"
   ]
  },
  {
   "cell_type": "markdown",
   "metadata": {
    "slideshow": {
     "slide_type": "fragment"
    }
   },
   "source": [
    "Ponadto:"
   ]
  },
  {
   "cell_type": "markdown",
   "metadata": {},
   "source": [
    "```python\n",
    "print(lst is lst[-1])\n",
    "```\n",
    "\n",
    "Rezultat:\n",
    "\n",
    "```\n",
    "True\n",
    "```"
   ]
  },
  {
   "cell_type": "markdown",
   "metadata": {
    "slideshow": {
     "slide_type": "slide"
    }
   },
   "source": [
    "## Warto przeczytać\n",
    "\n",
    "[https://nedbatchelder.com/text/names.html](https://nedbatchelder.com/text/names.html)\n",
    "\n",
    "[http://radar.oreilly.com/2014/10/python-tuples-immutable-but-potentially-changing.html](http://radar.oreilly.com/2014/10/python-tuples-immutable-but-potentially-changing.html)"
   ]
  }
 ],
 "metadata": {
  "anaconda-cloud": {},
  "celltoolbar": "Slideshow",
  "kernelspec": {
   "display_name": "Python 3 (ipykernel)",
   "language": "python",
   "name": "python3"
  },
  "language_info": {
   "codemirror_mode": {
    "name": "ipython",
    "version": 3
   },
   "file_extension": ".py",
   "mimetype": "text/x-python",
   "name": "python",
   "nbconvert_exporter": "python",
   "pygments_lexer": "ipython3",
   "version": "3.11.3"
  }
 },
 "nbformat": 4,
 "nbformat_minor": 2
}
