{
 "cells": [
  {
   "cell_type": "markdown",
   "metadata": {
    "slideshow": {
     "slide_type": "slide"
    }
   },
   "source": [
    "# Podstawy programowania (AD) 2\n",
    "\n",
    "## Tomasz Rodak\n",
    "\n",
    "\n",
    "Wykład IV"
   ]
  },
  {
   "cell_type": "markdown",
   "metadata": {
    "slideshow": {
     "slide_type": "slide"
    }
   },
   "source": [
    "# Wypakowywanie obiektów iterowalnych"
   ]
  },
  {
   "cell_type": "markdown",
   "metadata": {
    "slideshow": {
     "slide_type": "slide"
    }
   },
   "source": [
    "## Przypisania wielokrotne\n",
    "\n",
    "* Przypisanie do elementów obiektu iterowalnego można wykonać w jednej linii.\n",
    "* Liczba obiektów i zmiennych musi się zgadzać.\n",
    "* Wyrażenia po prawej stronie obliczane są najpierw, dopiero potem wykonane zostają przypisania."
   ]
  },
  {
   "cell_type": "markdown",
   "metadata": {},
   "source": [
    "```python\n",
    ">>> a, b = 0, 1\n",
    ">>> a, b\n",
    "(0, 1)\n",
    ">>> a, b = b, a\n",
    ">>> a, b\n",
    "(1, 0)\n",
    "```"
   ]
  },
  {
   "cell_type": "markdown",
   "metadata": {
    "slideshow": {
     "slide_type": "subslide"
    }
   },
   "source": [
    "### Przykład: ciąg Fibonacciego\n",
    "\n",
    "Przypomnijmy definicję: dwa pierwsze wyrazy to `0` i `1`; każdy kolejny jest sumą dwóch poprzednich.\n",
    "\n",
    "Tak wygląda początek:\n",
    "```\n",
    "0, 1, 1, 2, 3, 5, 8, 13, 21, 34, ...\n",
    "```"
   ]
  },
  {
   "cell_type": "markdown",
   "metadata": {
    "slideshow": {
     "slide_type": "fragment"
    }
   },
   "source": [
    "Oto implementacja iteracyjna korzystająca z przypisania wielokrotnego:"
   ]
  },
  {
   "cell_type": "markdown",
   "metadata": {},
   "source": [
    "```python\n",
    "# Path: src/fib.py\n",
    "def fib_iter(n):\n",
    "    \"\"\"Iteracyjna wersja ciągu Fibonacciego\n",
    "\n",
    "    Argumenty:\n",
    "        n (int): liczba całkowita\n",
    "\n",
    "    Zwraca:\n",
    "        int: f_n - wartość ciągu o indeksie n\n",
    "    \"\"\"\n",
    "    a, b = 0, 1\n",
    "\n",
    "    for _ in range(n):\n",
    "        a, b = b, a + b\n",
    "\n",
    "    return a\n",
    "```"
   ]
  },
  {
   "cell_type": "markdown",
   "metadata": {},
   "source": [
    "```python\n",
    ">>> [fib(n) for n in range(10)]\n",
    "[0, 1, 1, 2, 3, 5, 8, 13, 21, 34]\n",
    "```"
   ]
  },
  {
   "cell_type": "markdown",
   "metadata": {
    "slideshow": {
     "slide_type": "subslide"
    }
   },
   "source": [
    "### Przykład: NWD\n",
    "\n",
    "Obliczanie największego wspólnego dzielnika algorytmem Euklidesa:"
   ]
  },
  {
   "cell_type": "markdown",
   "metadata": {},
   "source": [
    "```python\n",
    "# Path: src/nwd.py\n",
    "def nwd(a, b):\n",
    "    \"\"\"\n",
    "    Zwraca największy wspólny dzielnik dwóch liczb.\n",
    "\n",
    "    Argumenty:\n",
    "        a, b (int): liczby całkowite\n",
    "    Zwraca:\n",
    "        int: nwd(a, b)\n",
    "    \"\"\"\n",
    "    if b < 0:\n",
    "        b = -b\n",
    "\n",
    "    while b != 0:\n",
    "        a, b = b, a % b\n",
    "\n",
    "    return a\n",
    "```"
   ]
  },
  {
   "cell_type": "markdown",
   "metadata": {},
   "source": [
    "```python\n",
    ">>> nwd(8*5*3, 3*5*7)\n",
    "15\n",
    "```"
   ]
  },
  {
   "cell_type": "markdown",
   "metadata": {
    "slideshow": {
     "slide_type": "subslide"
    }
   },
   "source": [
    "Rozpakowywanie obiektów zagnieżdżonych."
   ]
  },
  {
   "cell_type": "markdown",
   "metadata": {},
   "source": [
    "```python\n",
    ">>> miasto, (lat, lon) = 'Łódź', (51.776667, 19.454722)\n",
    ">>> miasto, lat, lon\n",
    "('Łódź', 51.776667, 19.454722)\n",
    "```"
   ]
  },
  {
   "cell_type": "markdown",
   "metadata": {
    "slideshow": {
     "slide_type": "subslide"
    }
   },
   "source": [
    "### Zagadka\n",
    "\n",
    "Jakie wartości mają `a, b, c, d`?"
   ]
  },
  {
   "cell_type": "markdown",
   "metadata": {},
   "source": [
    "```python\n",
    ">>> a, ((b, c), d) = -1, [range(2), 2]\n",
    "```"
   ]
  },
  {
   "cell_type": "markdown",
   "metadata": {
    "slideshow": {
     "slide_type": "subslide"
    }
   },
   "source": [
    "Rozpakowywanie z jednoczesną iteracją. Częsta sytuacja."
   ]
  },
  {
   "cell_type": "markdown",
   "metadata": {},
   "source": [
    "```python\n",
    ">>> położenia_miast = [('Łódź', (51.776667, 19.454722)),\n",
    "...                    ('Paryż', (48.866667, 2.35)),\n",
    "...                    ('Rio de Janeiro', (-22.908333, -43.196389))]\n",
    ">>> for miasto, (lat, lon) in położenia_miast:\n",
    "...     print(f'{miasto:15}: {lat:10}, {lon:10}')\n",
    "\n",
    "Łódź           :  51.776667,  19.454722\n",
    "Paryż          :  48.866667,       2.35\n",
    "Rio de Janeiro : -22.908333, -43.196389\n",
    "```"
   ]
  },
  {
   "cell_type": "markdown",
   "metadata": {
    "slideshow": {
     "slide_type": "subslide"
    }
   },
   "source": [
    "Zmienne w przypisaniu wielokrotnym mogą się powtarzać. Możliwość ta jest czasem wykorzystywana do pomijania niechcianych wartości."
   ]
  },
  {
   "cell_type": "markdown",
   "metadata": {},
   "source": [
    "```python\n",
    ">>> ignoruj, kurs, zmiana, ignoruj = ['WIG20', 2314.23, -20.73, (2018, 3, 2)]\n",
    ">>> kurs, zmiana\n",
    "(2314.23, -20.73)\n",
    "```"
   ]
  },
  {
   "cell_type": "markdown",
   "metadata": {
    "slideshow": {
     "slide_type": "fragment"
    }
   },
   "source": [
    "Częściej jako ignorowanej zmiennej używa się podkreślnika (który jest zwykłą nazwą)."
   ]
  },
  {
   "cell_type": "markdown",
   "metadata": {
    "slideshow": {
     "slide_type": "-"
    }
   },
   "source": [
    "```python\n",
    ">>> _, kurs, zmiana, _ = ['WIG20', 2314.23, -20.73, (2018, 3, 2)]\n",
    ">>> kurs, zmiana\n",
    "(2314.23, -20.73)\n",
    "```"
   ]
  },
  {
   "cell_type": "markdown",
   "metadata": {
    "slideshow": {
     "slide_type": "slide"
    }
   },
   "source": [
    "## Użycie `*` do zagarnięcia nadmiarowych elementów\n",
    "\n",
    "Użycie zmiennej z modyfikatorem `*` po lewej stronie instrukcji przypisania tworzy listę z fragmentem obiektu iterowalnego."
   ]
  },
  {
   "cell_type": "markdown",
   "metadata": {},
   "source": [
    "```python\n",
    ">>> nazwisko, email, *telefony = ['Kowalski', 'kowal@adres.com', '111 222 333', '222 999 888']\n",
    ">>> nazwisko, email, telefony\n",
    "('Kowalski', 'kowal@adres.com', ['111 222 333', '222 999 888'])\n",
    "```"
   ]
  },
  {
   "cell_type": "markdown",
   "metadata": {
    "slideshow": {
     "slide_type": "subslide"
    }
   },
   "source": [
    "Modyfikator `*` po lewej stronie przypisania musi znajdować się wewnątrz listy lub krotki. Wówczas lewa strona wygląda jak obiekt iterowalny.\n",
    "\n",
    "Dobrze:"
   ]
  },
  {
   "cell_type": "markdown",
   "metadata": {},
   "source": [
    "```python\n",
    ">>> *znaki, = 'ala ma kota'\n",
    ">>> znaki\n",
    "['a', 'l', 'a', ' ', 'm', 'a', ' ', 'k', 'o', 't', 'a']\n",
    "```"
   ]
  },
  {
   "cell_type": "markdown",
   "metadata": {},
   "source": [
    "Źle:"
   ]
  },
  {
   "cell_type": "markdown",
   "metadata": {},
   "source": [
    "```python\n",
    ">>> *znaki = 'ala ma kota'\n",
    "File \"<ipython-input-3-20c1cc3c8226>\", line 4\n",
    "SyntaxError: starred assignment target must be in a list or tuple\n",
    "```"
   ]
  },
  {
   "cell_type": "markdown",
   "metadata": {
    "slideshow": {
     "slide_type": "subslide"
    }
   },
   "source": [
    "### Zagadka\n",
    "\n",
    "Jaką wartość ma zmienna `środek`?"
   ]
  },
  {
   "cell_type": "markdown",
   "metadata": {},
   "source": [
    "```python\n",
    ">>> _, *środek, _ = [1, 2, 3, 4, 5, 6]\n",
    "```"
   ]
  },
  {
   "cell_type": "markdown",
   "metadata": {
    "slideshow": {
     "slide_type": "subslide"
    }
   },
   "source": [
    "### Zagadka\n",
    "\n",
    "Jaką wartość ma zmienna `kawałek`?"
   ]
  },
  {
   "cell_type": "markdown",
   "metadata": {},
   "source": [
    "```python\n",
    ">>> _, _, *kawałek, _ = [1, 2, 3, 4, 5, 6]\n",
    "```"
   ]
  },
  {
   "cell_type": "markdown",
   "metadata": {
    "slideshow": {
     "slide_type": "subslide"
    }
   },
   "source": [
    "### Zagadka\n",
    "\n",
    "Co robi funkcja `f()`?"
   ]
  },
  {
   "cell_type": "markdown",
   "metadata": {},
   "source": [
    "```python\n",
    "def f(seq):\n",
    "    a, *reszta = seq\n",
    "    \n",
    "    if not reszta:\n",
    "        return a\n",
    "\n",
    "    return a + f(reszta)\n",
    "```"
   ]
  },
  {
   "cell_type": "markdown",
   "metadata": {
    "slideshow": {
     "slide_type": "subslide"
    }
   },
   "source": [
    "### Zagadka\n",
    "\n",
    "Co robi funkcja `g()`?"
   ]
  },
  {
   "cell_type": "markdown",
   "metadata": {},
   "source": [
    "```python\n",
    "def g(seq, a):\n",
    "\n",
    "    if not seq:\n",
    "        return a\n",
    "\n",
    "    b, *reszta = seq\n",
    "    return g(reszta, a + b)\n",
    "```"
   ]
  },
  {
   "cell_type": "markdown",
   "metadata": {
    "slideshow": {
     "slide_type": "slide"
    }
   },
   "source": [
    "## Użycie `*` do wypakowywania elementów\n",
    "\n",
    "Użycie `*` przy obiekcie iterowalnym po prawej stronie przypisania wypakowuje jego elementy. Takie użycie `*` jest dozwolone wewnątrz krotki, listy lub wywołania funkcyjnego:"
   ]
  },
  {
   "cell_type": "markdown",
   "metadata": {},
   "source": [
    "```python\n",
    ">>> a = *range(5),\n",
    ">>> a\n",
    "(0, 1, 2, 3, 4)\n",
    "```"
   ]
  },
  {
   "cell_type": "markdown",
   "metadata": {},
   "source": [
    "```python\n",
    ">>> a = [*range(5)]\n",
    ">>> a\n",
    "[0, 1, 2, 3, 4]\n",
    "```"
   ]
  },
  {
   "cell_type": "markdown",
   "metadata": {
    "slideshow": {
     "slide_type": "subslide"
    }
   },
   "source": [
    "```python\n",
    ">>> print(*\"ala ma kota\", *'monty python')\n",
    "a l a   m a   k o t a m o n t y   p y t h o n\n",
    "```"
   ]
  },
  {
   "cell_type": "markdown",
   "metadata": {},
   "source": [
    "```python\n",
    ">>> słowa = ['and', 'the', 'Holy', 'Grail']\n",
    ">>> print('Monty Python', *słowa)\n",
    "Monty Python and the Holy Grail\n",
    "```"
   ]
  },
  {
   "cell_type": "markdown",
   "metadata": {},
   "source": [
    "```python\n",
    ">>> from random import randint\n",
    ">>> rzuty = [randint(1, 6) for _ in range(3)]\n",
    ">>> print('Wylosowałem {}, {} i {}.'.format(*rzuty))\n",
    "Wylosowałem 6, 2 i 3.\n",
    "```"
   ]
  },
  {
   "cell_type": "markdown",
   "metadata": {
    "slideshow": {
     "slide_type": "subslide"
    }
   },
   "source": [
    "Modyfikatory `*` mogą znajdować się po obu stronach przypisania:"
   ]
  },
  {
   "cell_type": "markdown",
   "metadata": {},
   "source": [
    "```python\n",
    ">>> a, *b = *'xyz', 'abc'\n",
    ">>> a, b\n",
    "('x', ['y', 'z', 'abc'])\n",
    "```"
   ]
  },
  {
   "cell_type": "markdown",
   "metadata": {
    "slideshow": {
     "slide_type": "subslide"
    }
   },
   "source": [
    "Wyjaśnienie:\n",
    "\n",
    "```python\n",
    ">>> a, *b = *'xyz', 'abc'\n",
    "```\n",
    "jest równoważne:\n",
    "```python\n",
    ">>> (a, *b) = ('x', 'y', 'z', 'abc')\n",
    "```"
   ]
  },
  {
   "cell_type": "markdown",
   "metadata": {
    "slideshow": {
     "slide_type": "subslide"
    }
   },
   "source": [
    "### Zagadka\n",
    "\n",
    "Czy te przypisania są poprawne? Jaki jest ich efekt?"
   ]
  },
  {
   "cell_type": "markdown",
   "metadata": {
    "slideshow": {
     "slide_type": "-"
    }
   },
   "source": [
    "```python\n",
    ">>> a, *b = *'xyz', *'abc'\n",
    "```"
   ]
  },
  {
   "cell_type": "markdown",
   "metadata": {},
   "source": [
    "```python\n",
    ">>> *a, b = *'xyz', 'abc'\n",
    "```"
   ]
  },
  {
   "cell_type": "markdown",
   "metadata": {
    "slideshow": {
     "slide_type": "-"
    }
   },
   "source": [
    "```python\n",
    ">>> a, b = 'xyz', *'abc'\n",
    "```"
   ]
  },
  {
   "cell_type": "markdown",
   "metadata": {},
   "source": [
    "```python\n",
    ">>> *a, (b, *c) = *'xyz', 'abc'\n",
    "```"
   ]
  },
  {
   "cell_type": "markdown",
   "metadata": {
    "slideshow": {
     "slide_type": "slide"
    }
   },
   "source": [
    "### Wypakowanie słownika\n",
    "\n",
    "Modyfikator `**` wypakowuje słownik w wywołaniu funkcyjnym:"
   ]
  },
  {
   "cell_type": "markdown",
   "metadata": {},
   "source": [
    "```python\n",
    ">>> def f(a, b, c):\n",
    "...     print(f'a = {a}\\nb = {b}\\nc = {c}')\n",
    ">>> kwargs = dict(a=7, b=9, c=2)\n",
    ">>> f(**kwargs)\n",
    "a = 7\n",
    "b = 9\n",
    "c = 2\n",
    "```"
   ]
  },
  {
   "cell_type": "markdown",
   "metadata": {
    "slideshow": {
     "slide_type": "slide"
    }
   },
   "source": [
    "# Parametry i argumenty"
   ]
  },
  {
   "cell_type": "markdown",
   "metadata": {
    "slideshow": {
     "slide_type": "slide"
    }
   },
   "source": [
    "## Parametry\n",
    "\n",
    "* **Parametry** to nazwy pojawiające się w definicji funkcji (ogólniej, obiektu wywoływalnego). Parametry są nazwami argumentów przekazywanych do funkcji.\n",
    "* **Argumenty** to wartości przekazywane do funkcji. W ciele funkcji nazwami argumentów są parametry funkcji."
   ]
  },
  {
   "cell_type": "markdown",
   "metadata": {
    "slideshow": {
     "slide_type": "slide"
    }
   },
   "source": [
    "## Rodzaje parametrów\n",
    "\n",
    "* *pozycyjne lub nazwy*, \n",
    "* *jedynie pozycyjne*,\n",
    "* *pozycyjne zmiennej długości*,\n",
    "* *jedynie nazwy*,\n",
    "* *nazwy zmiennej długości*."
   ]
  },
  {
   "cell_type": "markdown",
   "metadata": {
    "slideshow": {
     "slide_type": "slide"
    }
   },
   "source": [
    "## Rodzaje argumentów\n",
    "\n",
    "* przekazywane *pozycyjnie*,\n",
    "* przekazywane za pomocą *nazw*."
   ]
  },
  {
   "cell_type": "markdown",
   "metadata": {
    "slideshow": {
     "slide_type": "slide"
    }
   },
   "source": [
    "## Parametry *pozycyjne lub nazwy*\n",
    "\n",
    "Nazwy parametrów wypisanych w funkcji zdefiniowanej przez użytkownika (o ile nie następuje po nich modyfikator `/` - możliwy w Pythonie >= 3.8). Mogą mieć wartości domyślne i wtedy muszą znajdować się na końcu definicji."
   ]
  },
  {
   "cell_type": "markdown",
   "metadata": {},
   "source": [
    "```python\n",
    ">>> def potęga(podstawa, wykładnik=2):\n",
    "...     return podstawa ** wykładnik\n",
    "```"
   ]
  },
  {
   "cell_type": "markdown",
   "metadata": {},
   "source": [
    "Wywołanie na argumentach przekazywanych pozycyjnie:"
   ]
  },
  {
   "cell_type": "markdown",
   "metadata": {},
   "source": [
    "```python\n",
    ">>> potęga(3), potęga(3, 4)\n",
    "(9, 81)\n",
    "```"
   ]
  },
  {
   "cell_type": "markdown",
   "metadata": {
    "slideshow": {
     "slide_type": "subslide"
    }
   },
   "source": [
    "Wywołanie na argumentach przekazanych za pomocą nazw; kolejność przestała mieć znaczenie:"
   ]
  },
  {
   "cell_type": "markdown",
   "metadata": {},
   "source": [
    "```python\n",
    ">>> potęga(wykładnik=4, podstawa=3), potęga(podstawa=8)\n",
    "(81, 64)\n",
    "```"
   ]
  },
  {
   "cell_type": "markdown",
   "metadata": {},
   "source": [
    "Nazwy można wypakowywać ze słownika:"
   ]
  },
  {
   "cell_type": "markdown",
   "metadata": {},
   "source": [
    "```python\n",
    ">>> d = {'wykładnik': 10, 'podstawa': 2}\n",
    ">>> potęga(**d)\n",
    "1024\n",
    "```"
   ]
  },
  {
   "cell_type": "markdown",
   "metadata": {
    "slideshow": {
     "slide_type": "subslide"
    }
   },
   "source": [
    "Część argumentów przekazanych pozycyjnie a część przez nazwy; argumenty przekazywane za pomocą nazw muszą następować po pozycyjnych:"
   ]
  },
  {
   "cell_type": "markdown",
   "metadata": {},
   "source": [
    "```python\n",
    ">>> potęga(3, wykładnik=4)\n",
    "81\n",
    "```"
   ]
  },
  {
   "cell_type": "markdown",
   "metadata": {
    "slideshow": {
     "slide_type": "slide"
    }
   },
   "source": [
    "## Parametry *jedynie pozycyjne*\n",
    "\n",
    "* Argumentów dla tych parametrów nie można podać za pomocą nazw.\n",
    "* W Pythonie >= 3.8 istnieje składnia pozwalająca definiować funkcje z takimi parametrami (zob. PEP 570)\n",
    "* Wiele funkcji wbudowanych zawiera parametry *jedynie pozycyjne*.\n",
    "* W sygnaturze funkcji parametry *jedynie pozycyjne* znajdują się na lewo od znaku `/`."
   ]
  },
  {
   "cell_type": "markdown",
   "metadata": {
    "slideshow": {
     "slide_type": "subslide"
    }
   },
   "source": [
    "Wszystkie parametry funkcji `pow()` są *jedynie pozycyjne*."
   ]
  },
  {
   "cell_type": "markdown",
   "metadata": {
    "slideshow": {
     "slide_type": "-"
    }
   },
   "source": [
    "```python\n",
    ">>> help(pow)\n",
    "Help on built-in function pow in module builtins:\n",
    "\n",
    "pow(x, y, z=None, /)\n",
    "    Equivalent to x**y (with two arguments) or x**y % z (with three arguments)\n",
    "    \n",
    "    Some types, such as ints, are able to use a more efficient algorithm when\n",
    "    invoked using the three argument form.\n",
    "```"
   ]
  },
  {
   "cell_type": "markdown",
   "metadata": {},
   "source": [
    "```python\n",
    ">>> pow(x=2, y=3)\n",
    "---------------------------------------------------------------------------\n",
    "TypeError                                 Traceback (most recent call last)\n",
    "<ipython-input-22-2ecadb559749> in <module>\n",
    "----> 1 pow(x=2, y=3)\n",
    "\n",
    "TypeError: pow() takes no keyword arguments\n",
    "```"
   ]
  },
  {
   "cell_type": "markdown",
   "metadata": {
    "slideshow": {
     "slide_type": "slide"
    }
   },
   "source": [
    "## Parametr *pozycyjne zmiennej długości*\n",
    "\n",
    "Jeden parametr pozycyjny, który przechwytuje w krotce wszystkie te argumenty pozycyjne, które nie zostały dopasowane do parametrów poprzedzających.\n",
    "\n",
    "* Nazwę parametru *pozycyjne zmiennej długości* poprzedzamy gwiazdką `*`.\n",
    "* W ciele funkcji parametr *pozycyjne zmiennej długości* jest nazwą krotki z przechwyconymi argumentami.\n",
    "\n",
    "Typowym przykładem wbudowanym jest funkcja `print()` i metoda `format()` -- akceptują dowolną liczbę argumentów."
   ]
  },
  {
   "cell_type": "markdown",
   "metadata": {},
   "source": [
    "```python\n",
    ">>> print(\"Monty\", \"Python's\", \"The\", \"Meaning\", \"of\", \"Life\", sep=':')\n",
    "Monty:Python's:The:Meaning:of:Life\n",
    "```"
   ]
  },
  {
   "cell_type": "markdown",
   "metadata": {
    "slideshow": {
     "slide_type": "subslide"
    }
   },
   "source": [
    "### Przykład\n",
    "\n",
    "Piszemy funkcję zwracającą średnią arytmetyczną. "
   ]
  },
  {
   "cell_type": "markdown",
   "metadata": {},
   "source": [
    "```python\n",
    ">>> def średnia(pierwszy, *reszta):\n",
    "...     '''Zwraca średnią z argumentów (musi być co najmniej jeden).'''\n",
    "...     return (pierwszy + sum(reszta)) / (1 + len(reszta))\n",
    "```"
   ]
  },
  {
   "cell_type": "markdown",
   "metadata": {},
   "source": [
    "Jeden argument jest obowiązkowy, ilość pozostałych jest dowolna."
   ]
  },
  {
   "cell_type": "markdown",
   "metadata": {},
   "source": [
    "```python\n",
    ">>> średnia(3), średnia(1, 2, 3, 4, 5, 6, 7, 8)\n",
    "(3.0, 4.5)\n",
    "```"
   ]
  },
  {
   "cell_type": "markdown",
   "metadata": {},
   "source": [
    "```python\n",
    ">>> średnia()\n",
    "---------------------------------------------------------------------------\n",
    "TypeError                                 Traceback (most recent call last)\n",
    "/tmp/ipykernel_12643/3589600716.py in <module>\n",
    "----> 1 średnia()\n",
    "\n",
    "TypeError: średnia() missing 1 required positional argument: 'pierwszy'\n",
    "```"
   ]
  },
  {
   "cell_type": "markdown",
   "metadata": {
    "slideshow": {
     "slide_type": "slide"
    }
   },
   "source": [
    "## Parametry *jedynie nazwy*\n",
    "\n",
    "Argumenty do tych parametrów **muszą** zostać przekazane za pomocą nazw. Nazwy te są parametrami w definicji funkcji.\n",
    "\n",
    "* W definicji funkcji parametry *jedynie nazwy* znajdują się za:\n",
    "  * parametrem z modyfikatorem `*` (czyli za parametrami *pozycyjne zmiennej długości*), \n",
    "  * lub za pojedynczym znakiem `*`.\n",
    "* Parametry te nie muszą mieć podanej wartości domyślnej."
   ]
  },
  {
   "cell_type": "markdown",
   "metadata": {
    "slideshow": {
     "slide_type": "subslide"
    }
   },
   "source": [
    "### Przykład\n",
    "\n",
    "`min_strażnik()` zwraca minimum `wartości` o ile jest ono `>= strażnik` lub gdy `strażnik` jest `None`. Jeśli minimum `wartości` jest `< strażnik`, to zwracany jest `strażnik`."
   ]
  },
  {
   "cell_type": "markdown",
   "metadata": {},
   "source": [
    "```python\n",
    ">>> def min_strażnik(*wartości, strażnik=None):\n",
    "...     m = min(wartości)\n",
    "...     if strażnik is not None:\n",
    "...         return m if m > strażnik else strażnik\n",
    "...     return m\n",
    "```"
   ]
  },
  {
   "cell_type": "markdown",
   "metadata": {},
   "source": [
    "Jedyny sposób na wyspecyfikowanie strażnika, to podanie go za pomocą słowa kluczowego."
   ]
  },
  {
   "cell_type": "markdown",
   "metadata": {},
   "source": [
    "```python\n",
    ">>> min_strażnik(1, -2, 4, 2, -5, strażnik=0)\n",
    "0\n",
    "```"
   ]
  },
  {
   "cell_type": "markdown",
   "metadata": {},
   "source": [
    "```python\n",
    ">>> min_strażnik(1, -2, 4, 2, -5)\n",
    "-2\n",
    "```"
   ]
  },
  {
   "cell_type": "markdown",
   "metadata": {
    "slideshow": {
     "slide_type": "slide"
    }
   },
   "source": [
    "## Parametr *nazwy zmiennej długości*\n",
    "\n",
    "Jeden parametr, który przechwytuje w słowniku wszystkie te argumenty podawane przez nazwę, które nie zostały dopasowane do parametrów poprzedzających.\n",
    "\n",
    "\n",
    "* Nazwę parametru *nazwy zmiennej długości* poprzedzamy dwiema gwiazdkami `**`. Nazwa ta musi wystąpić jako ostatnia wśród parametrów funkcji.\n",
    "* W ciele funkcji parametr *nazwy zmiennej długości* jest słownikiem."
   ]
  },
  {
   "cell_type": "markdown",
   "metadata": {
    "slideshow": {
     "slide_type": "subslide"
    }
   },
   "source": [
    "### Przykład\n",
    "\n",
    "Przechwycenie parametrów stylizujących wykres w funkcji `plt.plot()`. Ten przykład wykonaj w notatniku Jupyter w standardowym środowisku Anaconda."
   ]
  },
  {
   "cell_type": "code",
   "execution_count": 1,
   "metadata": {},
   "outputs": [],
   "source": [
    "from matplotlib import pyplot as plt\n",
    "import numpy as np\n",
    "\n",
    "def wykres(f, a, b, npoints=100, **kwargs):\n",
    "    x = np.linspace(a, b, npoints)\n",
    "    plt.plot(x, f(x), **kwargs)"
   ]
  },
  {
   "cell_type": "code",
   "execution_count": 2,
   "metadata": {
    "slideshow": {
     "slide_type": "subslide"
    }
   },
   "outputs": [
    {
     "data": {
      "image/png": "[encoded data removed]",
      "text/plain": [
       "<Figure size 640x480 with 1 Axes>"
      ]
     },
     "metadata": {},
     "output_type": "display_data"
    }
   ],
   "source": [
    "def f(x):\n",
    "    return np.sin(x) * np.exp(x)\n",
    "\n",
    "wykres(f, -2, 3, ls='--', color='blue', lw=4)"
   ]
  },
  {
   "cell_type": "markdown",
   "metadata": {
    "slideshow": {
     "slide_type": "slide"
    }
   },
   "source": [
    "## Zagadka\n",
    "\n",
    "Dana jest funkcja:\n",
    "\n",
    "```python\n",
    "def f(a, b=None, *c, **d):\n",
    "    return c\n",
    "```\n",
    "\n",
    "Jaką wartość zwróci wywołanie:\n",
    "```python\n",
    "f(1, 2, 3, *'abc', e=100)\n",
    "```"
   ]
  },
  {
   "cell_type": "markdown",
   "metadata": {
    "slideshow": {
     "slide_type": "slide"
    }
   },
   "source": [
    "## Do poczytania\n",
    "\n",
    "[PEP 3132 – Extended Iterable Unpacking](https://www.python.org/dev/peps/pep-3132/)\n",
    "\n",
    "[PEP 448 – Additional Unpacking Generalizations](https://www.python.org/dev/peps/pep-0448/)\n",
    "\n",
    "[StackOverflow: Unpacking, extended unpacking and nested extended unpacking](https://stackoverflow.com/questions/6967632/unpacking-extended-unpacking-and-nested-extended-unpacking)\n",
    "\n",
    "[PEP 570 – Python Positional-Only Parameters](https://peps.python.org/pep-0570/)\n",
    "\n",
    "[Rozdział _More on Defining Functions_ z oficjalnego Tutorialu](https://docs.python.org/3/tutorial/controlflow.html#more-on-defining-functions)"
   ]
  }
 ],
 "metadata": {
  "anaconda-cloud": {},
  "celltoolbar": "Slideshow",
  "kernelspec": {
   "display_name": "py312",
   "language": "python",
   "name": "python3"
  },
  "language_info": {
   "codemirror_mode": {
    "name": "ipython",
    "version": 3
   },
   "file_extension": ".py",
   "mimetype": "text/x-python",
   "name": "python",
   "nbconvert_exporter": "python",
   "pygments_lexer": "ipython3",
   "version": "3.12.4"
  }
 },
 "nbformat": 4,
 "nbformat_minor": 2
}
