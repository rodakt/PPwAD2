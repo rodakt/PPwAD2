{
 "cells": [
  {
   "cell_type": "markdown",
   "metadata": {
    "slideshow": {
     "slide_type": "slide"
    }
   },
   "source": [
    "# Podstawy programowania (AD) 2\n",
    "\n",
    "## Tomasz Rodak\n",
    "\n",
    "Wykład IX\n",
    "\n",
    "---\n",
    "\n",
    "## Obiekty\n",
    "\n",
    "Mówiliśmy już, że Python jest językiem obiektowym w tym sensie, że wszystkie przetwarzane w nim dane mają formę obiektów. Obiekty mogą być nazywane przez zmienne, mogą być argumentami funkcji i być przez funkcje zwracane. Cechą charakterystyczną obiektów jest to, że bardzo ciasno wiążą ze sobą dane i zachowania. Przykładowo, każda lista w oczywisty sposób zawiera jakieś dane. To, co jednak naprawdę decyduje o charakterze listy, to związane z listą zachowania. Pobranie elementu po indeksie, zmiana wartości, iteracja, dodawanie nowych wartości metodą `.append()`, obliczanie długości, itd., to są wszystko zachowania, które są z daną listą **związane**. Gdyby nie te zachowania, to nie byłoby różnicy między krotką a listą. Oczywiście, krotki i listy mają wiele wspólnych zachowań, przede wszystkim te, które czynią z obu tych struktur sekwencje, ale istnieją też między nimi istotne różnice właśnie w zachowaniach. Na przykład, jeśli krotka nie zawiera obiektów zmiennych, to można utworzyć jej skrót *hash*. Dzięki temu taka krotka może być kluczem w słowniku albo elementem zbioru. Nie jest to możliwe w przypadku list.\n",
    "\n",
    "Co to znaczy, że obiekt ma związane ze sobą zachowania? Możesz myśleć o tym w ten sposób: obiekt bez zachowań to po prostu dane. Jeśli chcesz na tych danych pracować, to potrzebne do tego celu funkcje musisz uzyskać oddzielnie. Przykładem danych, które nie mają charakteru obiektu, jest plik na dysku. Taki plik, to po prostu ciąg bajtów, nie są związane z nim żadne zachowania. Dane i funkcje zdolne operować na tych danych są rozdzielone. W obiektach te dwie rzeczy są ściśle powiązane. Nie można dostarczyć do odbiorcy listy, która nie posiada metody `.append()` albo słownika, który nie ma metody `.get()`. Operacje przekazywane są wraz z danymi.\n",
    "\n",
    "Wróćmy jeszcze na chwilę do plików, które jak powiedziałem, są surowymi danymi. Jak z plikami radzi sobie Python? Tworzy z nich obiekty! Do tego właśnie służy funkcja `open()`. Zwracana przez `open()` wartość jest obiektem. Dane w tym obiekcie to dane zawarte w pliku, poza tym jednak strumień posiada rozmaite metody pozwalające na operowanie na tych danych, jak na przykład metody `.read()` czy `.readline()` dla plików tekstowych. \n",
    "\n",
    "Zatem wszystkie dane przetwarzane w Pythonie są obiektami i dlatego Python jest językiem obiektowym. To jednak nie wszystko. Python jest językiem obiektowym również i dlatego, że pozwala programiście tworzyć **nowe kategorie obiektów**, a służą do tego celu **klasy**.\n",
    "\n",
    "Klasa to szablon do produkcji obiektów. Kod klasy opisuje, w jaki sposób obiekt przechowuje dane i jakie mają wiązać się z obiektem zachowania, czyli metody. Klasa sama z siebie nic nie robi - jedyne co potrafi, to utworzyć nowy obiekt, zwany często *instancją* klasy, na podstawie zawartego w sobie kodu. Pokażemy teraz szczegóły składniowe klas w Pythonie na podstawie obiektowej implementacji żółwia znanego nam już z [ćwiczeń VI](http://math.uni.lodz.pl/~rodakt/dane/analiza_danych/PPwAD/lab_VI.html). W następnym wykładzie będziemy ten przykład rozbudowywać."
   ]
  },
  {
   "cell_type": "markdown",
   "metadata": {},
   "source": [
    "W tym wykładzie korzystamy z notatnika Jupyter. Dzięki temu możemy uruchamiać kod zawierający wizualizacje trasy żółwia. "
   ]
  },
  {
   "cell_type": "markdown",
   "metadata": {},
   "source": [
    "## Żółw\n",
    "\n",
    "Oto prosta nieobiektowa implementacja żółwia z Logo:"
   ]
  },
  {
   "cell_type": "code",
   "execution_count": 1,
   "metadata": {},
   "outputs": [],
   "source": [
    "from math import cos, sin, radians\n",
    "from matplotlib import pyplot as plt\n",
    "%matplotlib inline\n",
    "\n",
    "def w_lewo(żółw, kąt):\n",
    "    '''Obraca w lewo żółwia o kąt w stopniach.'''\n",
    "    żółw['azymut'] += kąt\n",
    "\n",
    "def w_prawo(żółw, kąt):\n",
    "    '''Obraca w prawo żółwia o kąt w stopniach.'''\n",
    "    żółw['azymut'] -= kąt\n",
    "\n",
    "def naprzód(żółw, r):\n",
    "    '''Przesuwa żółwia o r.'''\n",
    "    x, y = żółw['X'][-1], żółw['Y'][-1]\n",
    "    azymut = żółw['azymut']\n",
    "    x += cos(radians(azymut))*r\n",
    "    y += sin(radians(azymut))*r\n",
    "    żółw['X'].append(x)\n",
    "    żółw['Y'].append(y)\n",
    "\n",
    "def ustaw_żółwia(x=0, y=0, azymut=0):\n",
    "    '''Zwraca żółwia o zadanym położeniu startowym.'''\n",
    "    return {'X': [x],\n",
    "            'Y': [y],\n",
    "            'azymut': azymut}\n",
    "\n",
    "def rysuj(żółw, zachowaj_osie=True, **kwargs):\n",
    "    '''Rysuje ścieżkę żółwia. Akceptuje argumenty funkcji plt.plot()\n",
    "    dostosowujące rysunek.'''\n",
    "    plt.plot(żółw['X'], żółw['Y'], **kwargs)\n",
    "\n",
    "    if zachowaj_osie:\n",
    "        ax = plt.gca()\n",
    "        ax.set_aspect('equal')"
   ]
  },
  {
   "cell_type": "markdown",
   "metadata": {},
   "source": [
    "Żółw reprezentowany jest przez dane opisujące jego stan i historię. Nowego żółwia tworzy funkcja `ustaw_żółwia()`:"
   ]
  },
  {
   "cell_type": "code",
   "execution_count": 2,
   "metadata": {},
   "outputs": [
    {
     "data": {
      "text/plain": [
       "{'X': [0], 'Y': [0], 'azymut': 0}"
      ]
     },
     "execution_count": 2,
     "metadata": {},
     "output_type": "execute_result"
    }
   ],
   "source": [
    "tolek = ustaw_żółwia()\n",
    "\n",
    "tolek"
   ]
  },
  {
   "cell_type": "markdown",
   "metadata": {},
   "source": [
    "Operacje na żółwiu wykonują zdefiniowane wyżej funkcje:"
   ]
  },
  {
   "cell_type": "code",
   "execution_count": 3,
   "metadata": {},
   "outputs": [
    {
     "data": {
      "image/png": "[encoded data removed]",
      "text/plain": [
       "<Figure size 432x288 with 1 Axes>"
      ]
     },
     "metadata": {
      "needs_background": "light"
     },
     "output_type": "display_data"
    }
   ],
   "source": [
    "# Pentagram\n",
    "\n",
    "for _ in range(5):\n",
    "    naprzód(tolek, 1)\n",
    "    w_lewo(tolek, 144)\n",
    "\n",
    "rysuj(tolek)"
   ]
  },
  {
   "cell_type": "markdown",
   "metadata": {},
   "source": [
    "## Klasy\n",
    "\n",
    "Z punktu widzenia składni, klasy tworzy się podobnie jak funkcje. Za definicję funkcji odpowiada instrukcja złożona `def`, za definicję klasy - instrukcja złożona `class`. Oto najprostsza możliwa klasa:"
   ]
  },
  {
   "cell_type": "code",
   "execution_count": 4,
   "metadata": {},
   "outputs": [],
   "source": [
    "class Żółw:\n",
    "    pass"
   ]
  },
  {
   "cell_type": "markdown",
   "metadata": {},
   "source": [
    "Po nazwie klasy występuje dwukropek, tak jak w każdej instrukcji złożonej. Kod klasy ciągnie się tak daleko, jak daleko niepuste linie mają wcięcie w stosunku do słowa `class`. Zdefiniowana wyżej klasa `Żółw` jest najprostszą z możliwych, gdyż jest to klasa pusta. Obiekty utworzone przez klasę `Żółw`, czyli jej instancje, nie zawierają żadnych metod, mogą jednak zawierać atrybuty wskazujące na dane i funkcje.\n",
    "\n",
    "Klasa tworzy obiekt, gdy zostanie do niej zastosowany operator wywołania, czyli nawiasy okrągłe:"
   ]
  },
  {
   "cell_type": "code",
   "execution_count": 5,
   "metadata": {},
   "outputs": [],
   "source": [
    "tolek = Żółw()\n",
    "franklin = Żółw()"
   ]
  },
  {
   "cell_type": "code",
   "execution_count": 6,
   "metadata": {},
   "outputs": [
    {
     "data": {
      "text/plain": [
       "<__main__.Żółw at 0x7fa8e1ff5668>"
      ]
     },
     "execution_count": 6,
     "metadata": {},
     "output_type": "execute_result"
    }
   ],
   "source": [
    "tolek"
   ]
  },
  {
   "cell_type": "code",
   "execution_count": 7,
   "metadata": {},
   "outputs": [
    {
     "data": {
      "text/plain": [
       "<__main__.Żółw at 0x7fa8e1ff5860>"
      ]
     },
     "execution_count": 7,
     "metadata": {},
     "output_type": "execute_result"
    }
   ],
   "source": [
    "franklin"
   ]
  },
  {
   "cell_type": "code",
   "execution_count": 8,
   "metadata": {},
   "outputs": [
    {
     "data": {
      "text/plain": [
       "False"
      ]
     },
     "execution_count": 8,
     "metadata": {},
     "output_type": "execute_result"
    }
   ],
   "source": [
    "tolek is franklin"
   ]
  },
  {
   "cell_type": "markdown",
   "metadata": {},
   "source": [
    "Jak widzimy, nowe obiekty tworzone przez klasę mają różne tożsamości. \n",
    "\n",
    "Żółwie `tolek` i `franklin` nic nie potrafią, gdyż zostały utworzone przez pustą klasę. Skoro jednak już istnieją, to można im przypisywać atrybuty:"
   ]
  },
  {
   "cell_type": "code",
   "execution_count": 9,
   "metadata": {},
   "outputs": [],
   "source": [
    "tolek.X = [0]\n",
    "tolek.Y = [0]\n",
    "tolek.azymut = 0"
   ]
  },
  {
   "cell_type": "code",
   "execution_count": 10,
   "metadata": {},
   "outputs": [
    {
     "data": {
      "text/plain": [
       "[0]"
      ]
     },
     "execution_count": 10,
     "metadata": {},
     "output_type": "execute_result"
    }
   ],
   "source": [
    "tolek.X"
   ]
  },
  {
   "cell_type": "markdown",
   "metadata": {},
   "source": [
    "Wykorzystanie atrybutów powoduje, że obiekt przypomina nieco słownik, tyle że w słowniku kluczem może być dowolny obiekt posiadający funkcję skrótu, podczas gdy atrybut jest zwykłą zmienną. Moglibyśmy teraz zmodyfikować funkcje `naprzód()`, `w_lewo()`, `w_prawo()` tak, aby operowały w odpowiedni sposób na obiektach klasy `Żółw` zamiast na słownikach. Byłaby to mała zmiana w stosunku do już istniejącego kodu. W szczególności funkcje te nadal nie byłyby związane z danymi tak jak to jest w obiektach.\n",
    "\n",
    "Zamiast tego, do klasy `Żółw` dopiszemy metody:"
   ]
  },
  {
   "cell_type": "code",
   "execution_count": 11,
   "metadata": {},
   "outputs": [],
   "source": [
    "from math import cos, sin, radians\n",
    "from matplotlib import pyplot as plt\n",
    "%matplotlib inline\n",
    "\n",
    "class Żółw:\n",
    "    \n",
    "    def ustaw_żółwia(self, x=0, y=0, azymut=0):\n",
    "        '''Ustawia żółwia w zadanym położeniu startowym.'''\n",
    "        self.X = [x]\n",
    "        self.Y = [y]\n",
    "        self.azymut = azymut    \n",
    "\n",
    "    def w_lewo(self, kąt):\n",
    "        '''Obraca w lewo żółwia o kąt w stopniach.'''\n",
    "        self.azymut += kąt\n",
    "\n",
    "    def w_prawo(self, kąt):\n",
    "        '''Obraca w prawo żółwia o kąt w stopniach.'''\n",
    "        self.azymut -= kąt\n",
    "\n",
    "    def naprzód(self, r):\n",
    "        '''Przesuwa żółwia o r.'''\n",
    "        x, y = self.X[-1], self.Y[-1]\n",
    "        azymut = self.azymut\n",
    "        x += cos(radians(azymut))*r\n",
    "        y += sin(radians(azymut))*r\n",
    "        self.X.append(x)\n",
    "        self.Y.append(y)\n",
    "\n",
    "    def rysuj(self, zachowaj_osie=True, **kwargs):\n",
    "        '''Rysuje ścieżkę żółwia. Akceptuje argumenty funkcji plt.plot()\n",
    "        dostosowujące rysunek.'''\n",
    "        plt.plot(self.X, self.Y, **kwargs)\n",
    "        \n",
    "        if zachowaj_osie:\n",
    "            ax = plt.gca()\n",
    "            ax.set_aspect('equal')"
   ]
  },
  {
   "cell_type": "markdown",
   "metadata": {},
   "source": [
    "W tym momencie powinieneś się na chwilę zatrzymać i dokładnie porównać ten kod z wcześniejszym. Gdzie pojawiły się zmiany?\n",
    "\n",
    "Widzimy, że wszystkie funkcje weszły w skład kodu klasy. Funkcje zdefiniowane w klasie nazywamy **metodami**. Każda metoda, podobnie jak stałe zdefiniowane w klasie, jest atrybutem tej klasy, czyli mamy dostęp do tych elementów za pomocą notacji \"z kropką\":"
   ]
  },
  {
   "cell_type": "code",
   "execution_count": 12,
   "metadata": {},
   "outputs": [],
   "source": [
    "class A:\n",
    "    \n",
    "    STAŁA = 'Ala ma kota'\n",
    "    \n",
    "    def f(x):\n",
    "        return x**2"
   ]
  },
  {
   "cell_type": "code",
   "execution_count": 13,
   "metadata": {},
   "outputs": [
    {
     "data": {
      "text/plain": [
       "'Ala ma kota'"
      ]
     },
     "execution_count": 13,
     "metadata": {},
     "output_type": "execute_result"
    }
   ],
   "source": [
    "A.STAŁA"
   ]
  },
  {
   "cell_type": "code",
   "execution_count": 14,
   "metadata": {},
   "outputs": [
    {
     "data": {
      "text/plain": [
       "<function __main__.A.f(x)>"
      ]
     },
     "execution_count": 14,
     "metadata": {},
     "output_type": "execute_result"
    }
   ],
   "source": [
    "A.f"
   ]
  },
  {
   "cell_type": "code",
   "execution_count": 15,
   "metadata": {},
   "outputs": [
    {
     "data": {
      "text/plain": [
       "144"
      ]
     },
     "execution_count": 15,
     "metadata": {},
     "output_type": "execute_result"
    }
   ],
   "source": [
    "A.f(12)"
   ]
  },
  {
   "cell_type": "markdown",
   "metadata": {},
   "source": [
    "Funkcja zdefiniowana w klasie jest po prostu zwykłą funkcją, tyle że występującą jako atrybut klasy. Popatrzmy teraz, jak wyglądają instancje klasy zawierającej definicje metod:"
   ]
  },
  {
   "cell_type": "code",
   "execution_count": 16,
   "metadata": {},
   "outputs": [
    {
     "data": {
      "text/plain": [
       "<__main__.A at 0x7fa8e1fae438>"
      ]
     },
     "execution_count": 16,
     "metadata": {},
     "output_type": "execute_result"
    }
   ],
   "source": [
    "a = A()\n",
    "\n",
    "a"
   ]
  },
  {
   "cell_type": "code",
   "execution_count": 17,
   "metadata": {},
   "outputs": [
    {
     "data": {
      "text/plain": [
       "'Ala ma kota'"
      ]
     },
     "execution_count": 17,
     "metadata": {},
     "output_type": "execute_result"
    }
   ],
   "source": [
    "a.STAŁA"
   ]
  },
  {
   "cell_type": "code",
   "execution_count": 18,
   "metadata": {},
   "outputs": [
    {
     "data": {
      "text/plain": [
       "<bound method A.f of <__main__.A object at 0x7fa8e1fae438>>"
      ]
     },
     "execution_count": 18,
     "metadata": {},
     "output_type": "execute_result"
    }
   ],
   "source": [
    "a.f"
   ]
  },
  {
   "cell_type": "markdown",
   "metadata": {},
   "source": [
    "Stała i funkcja są atrybutami instancji, ale funkcja opisywana jest jako *bound method* instancji a nie *function*. Co więcej, próba wywołania tej funkcji kończy się niepowodzeniem:\n",
    "```python\n",
    ">>> a.f(12)\n",
    "---------------------------------------------------------------------------\n",
    "TypeError                                 Traceback (most recent call last)\n",
    "<ipython-input-13-45a266ba2f04> in <module>\n",
    "----> 1 a.f(12)\n",
    "\n",
    "TypeError: f() takes 1 positional argument but 2 were given\n",
    "```\n",
    "Zwróć uwagę na komunikat -- Python twierdzi, że podaliśmy dwa argumenty!\n",
    "\n",
    "Po utworzeniu instancji metoda klasy staje się **metodą związaną** z instancją. Cóż to oznacza? Po pierwsze, z poziomu instancji istnieje dostęp do funkcji za pomoca \"notacji z kropką\". Po drugie, gdy metoda związana z instancją jest wywoływana, to Python **automatycznie za pierwszy argument metody wstawia tę właśnie instancję**. Dlatego właśnie nie powiodło się wywołanie `a.f(12)`: za argument `x` interpreter wstawił instancję `a`, więc `12` jest traktowane jako drugi argument, podczas gdy funkcja `f()` ma tylko jeden parametr. \n",
    "\n",
    "Podsumujmy krótko te informacje:\n",
    "* Pierwszym argumentem metody związanej z instancją jest ta instancja.\n",
    "* Z tego powodu metody klas, poza pewnymi wyjątkami, posiadają zawsze co najmniej jeden parametr i co więcej, argument akceptowany przez pierwszy parametr metody będzie instancją.\n",
    "* Nazwa tego pierwszego parametru jest dowolna, ale istnieje bardzo silna konwencja, aby nazywać go **`self`**.\n",
    "\n",
    "Wróćmy teraz do klasy `Żółw`. Metody tej klasy wyglądają bardzo podobnie do funkcji zdefiniowanych wcześniej. Główna różnica polega na tym, że teraz pierwszym parametrem jest `self` a nie `żółw`. Wiemy już, że podczas wywołania metody związanej z instancją, ta właśnie instancja zostanie wstawiona za pierwszy parametr, czyli właśnie w miejsce `self`. \n",
    "\n",
    "Porównajmy kod funkcji `w_lewo()`:\n",
    "```python\n",
    "def w_lewo(żółw, kąt):\n",
    "    '''Obraca w lewo żółwia o kąt w stopniach.'''\n",
    "    żółw['azymut'] += kąt\n",
    "```\n",
    "z kodem metody `.w_lewo()`:\n",
    "```python\n",
    "\n",
    "class Żółw:\n",
    "\n",
    "    <...>\n",
    "    \n",
    "    def w_lewo(self, kąt):\n",
    "        '''Obraca w lewo żółwia o kąt w stopniach.'''\n",
    "        self.azymut += kąt\n",
    "\n",
    "    <...>\n",
    "```\n",
    "Funkcja modyfikuje obiekt globalny `żółw` (wiemy, że jest on słownikiem) aktualizując wartość w kluczu `'azymut'`. Metoda dokonuje takiej samej aktualizacji, ale nie wartości w kluczu, lecz atrybutu `self.azymut`. `self` jest pierwszym parametrem metody, więc podczas wywołania za `self` interpreter automatycznie wstawi instancję. Co to oznacza? Że metoda `.w_lewo()` aktualizuje atrybut tej instancji, która ją wywołuje, czyli \"siebie\"! Stąd bierze się nazwa `self`.\n",
    "\n",
    "Sprawdźmy jak klasa `Żółw` działa w praktyce:"
   ]
  },
  {
   "cell_type": "code",
   "execution_count": 19,
   "metadata": {},
   "outputs": [],
   "source": [
    "tolek = Żółw()"
   ]
  },
  {
   "cell_type": "code",
   "execution_count": 20,
   "metadata": {},
   "outputs": [
    {
     "data": {
      "text/plain": [
       "<__main__.Żółw at 0x7fa8e1fba3c8>"
      ]
     },
     "execution_count": 20,
     "metadata": {},
     "output_type": "execute_result"
    }
   ],
   "source": [
    "tolek"
   ]
  },
  {
   "cell_type": "markdown",
   "metadata": {},
   "source": [
    "`tolek` na razie nie posiada atrybutów `.X`, `.Y`, `.azymut`. Wywołujemy metodę `.ustaw_żółwia()`, która te atrybuty utworzy:"
   ]
  },
  {
   "cell_type": "code",
   "execution_count": 21,
   "metadata": {},
   "outputs": [],
   "source": [
    "tolek.ustaw_żółwia()"
   ]
  },
  {
   "cell_type": "code",
   "execution_count": 22,
   "metadata": {},
   "outputs": [
    {
     "data": {
      "text/plain": [
       "([0], [0], 0)"
      ]
     },
     "execution_count": 22,
     "metadata": {},
     "output_type": "execute_result"
    }
   ],
   "source": [
    "tolek.X, tolek.Y, tolek.azymut"
   ]
  },
  {
   "cell_type": "markdown",
   "metadata": {},
   "source": [
    "Teraz możemy wprawić Tolka w ruch:"
   ]
  },
  {
   "cell_type": "code",
   "execution_count": 23,
   "metadata": {},
   "outputs": [],
   "source": [
    "tolek.naprzód(1)"
   ]
  },
  {
   "cell_type": "code",
   "execution_count": 24,
   "metadata": {},
   "outputs": [
    {
     "data": {
      "text/plain": [
       "([0, 1.0], [0, 0.0], 0)"
      ]
     },
     "execution_count": 24,
     "metadata": {},
     "output_type": "execute_result"
    }
   ],
   "source": [
    "tolek.X, tolek.Y, tolek.azymut"
   ]
  },
  {
   "cell_type": "code",
   "execution_count": 25,
   "metadata": {},
   "outputs": [],
   "source": [
    "tolek.w_lewo(90)"
   ]
  },
  {
   "cell_type": "code",
   "execution_count": 26,
   "metadata": {},
   "outputs": [
    {
     "data": {
      "text/plain": [
       "([0, 1.0], [0, 0.0], 90)"
      ]
     },
     "execution_count": 26,
     "metadata": {},
     "output_type": "execute_result"
    }
   ],
   "source": [
    "tolek.X, tolek.Y, tolek.azymut"
   ]
  },
  {
   "cell_type": "code",
   "execution_count": 27,
   "metadata": {},
   "outputs": [],
   "source": [
    "tolek.naprzód(2)"
   ]
  },
  {
   "cell_type": "code",
   "execution_count": 28,
   "metadata": {},
   "outputs": [
    {
     "data": {
      "text/plain": [
       "([0, 1.0, 1.0000000000000002], [0, 0.0, 2.0], 90)"
      ]
     },
     "execution_count": 28,
     "metadata": {},
     "output_type": "execute_result"
    }
   ],
   "source": [
    "tolek.X, tolek.Y, tolek.azymut"
   ]
  },
  {
   "cell_type": "code",
   "execution_count": 29,
   "metadata": {},
   "outputs": [],
   "source": [
    "tolek.w_prawo(45)"
   ]
  },
  {
   "cell_type": "code",
   "execution_count": 30,
   "metadata": {},
   "outputs": [
    {
     "data": {
      "text/plain": [
       "([0, 1.0, 1.0000000000000002], [0, 0.0, 2.0], 45)"
      ]
     },
     "execution_count": 30,
     "metadata": {},
     "output_type": "execute_result"
    }
   ],
   "source": [
    "tolek.X, tolek.Y, tolek.azymut"
   ]
  },
  {
   "cell_type": "code",
   "execution_count": 31,
   "metadata": {},
   "outputs": [],
   "source": [
    "tolek.naprzód(3)"
   ]
  },
  {
   "cell_type": "code",
   "execution_count": 32,
   "metadata": {},
   "outputs": [
    {
     "data": {
      "text/plain": [
       "([0, 1.0, 1.0000000000000002, 3.121320343559643],\n",
       " [0, 0.0, 2.0, 4.121320343559642],\n",
       " 45)"
      ]
     },
     "execution_count": 32,
     "metadata": {},
     "output_type": "execute_result"
    }
   ],
   "source": [
    "tolek.X, tolek.Y, tolek.azymut"
   ]
  },
  {
   "cell_type": "code",
   "execution_count": 33,
   "metadata": {},
   "outputs": [
    {
     "data": {
      "image/png": "[encoded data removed]",
      "text/plain": [
       "<Figure size 432x288 with 1 Axes>"
      ]
     },
     "metadata": {
      "needs_background": "light"
     },
     "output_type": "display_data"
    }
   ],
   "source": [
    "tolek.rysuj()"
   ]
  },
  {
   "cell_type": "code",
   "execution_count": 34,
   "metadata": {},
   "outputs": [],
   "source": [
    "def spirala(żółw, bok, kąt, liczba_boków):\n",
    "    for _ in range(liczba_boków):\n",
    "        żółw.naprzód(bok)\n",
    "        żółw.w_prawo(kąt)\n",
    "        bok += 1"
   ]
  },
  {
   "cell_type": "code",
   "execution_count": 35,
   "metadata": {
    "scrolled": true
   },
   "outputs": [
    {
     "data": {
      "image/png": "[encoded data removed]",
      "text/plain": [
       "<Figure size 432x288 with 1 Axes>"
      ]
     },
     "metadata": {
      "needs_background": "light"
     },
     "output_type": "display_data"
    }
   ],
   "source": [
    "tolek = Żółw()\n",
    "tolek.ustaw_żółwia()\n",
    "spirala(tolek, 1, 90, 60)\n",
    "tolek.rysuj()"
   ]
  },
  {
   "cell_type": "code",
   "execution_count": 36,
   "metadata": {},
   "outputs": [
    {
     "data": {
      "image/png": "[encoded data removed]",
      "text/plain": [
       "<Figure size 432x288 with 1 Axes>"
      ]
     },
     "metadata": {
      "needs_background": "light"
     },
     "output_type": "display_data"
    }
   ],
   "source": [
    "franklin = Żółw()\n",
    "franklin.ustaw_żółwia()\n",
    "spirala(franklin, 1, 117, 100)\n",
    "franklin.rysuj()"
   ]
  },
  {
   "cell_type": "markdown",
   "metadata": {},
   "source": [
    "## Metoda `.__init__()`\n",
    "\n",
    "Gdy tworzymy nową instancję klasy `Żółw`:"
   ]
  },
  {
   "cell_type": "code",
   "execution_count": 37,
   "metadata": {},
   "outputs": [],
   "source": [
    "tolek = Żółw()"
   ]
  },
  {
   "cell_type": "markdown",
   "metadata": {},
   "source": [
    "to zawsze musimy wywołać na tej instancji metodę `.ustaw_żółwia()`, aby zdefiniować atrybuty przechowujące położenie. Jest to konieczne, gdyż każda z pozostałych metod zakłada, że atrybuty `.X`, `.Y`, `.azymut` już istnieją. Ponieważ bardzo często zachodzi potrzeba dodania atrybutów do instancji zaraz po jej utworzeniu, dlatego istnieje funkcjonalność, która rozwiązanie tego problemu automatyzuje, a jest nią metoda specjalna `.__init__()`.\n",
    "\n",
    "Co to znaczy, że metoda jest specjalna? Jest to w istocie zwykła metoda, która sama z siebie nie różni się niczym od innych metod, z jednym wyjątkiem - metoda specjalna poza zwykłym wywołaniem bezpośrednim, może być również wywołana niejawnie przez jakąś specjalną składnię (i zwykle tak właśnie jest wywoływana). Znakiem szczególnym metody specjalnej są podkreślniki w jej nazwie: dwa z przodu, dwa z tyłu. Python ma wiele metod specjalnych i więcej powiemy o tym później, teraz zajmiemy się samą metodą `.__init__()`. \n",
    "\n",
    "Nazwa metody daje nam wskazówkę do czego ona służy - do *inicjalizacji* obiektu. Gdy klasa jest wywoływana powstaje nowy obiekt. Następnie interpreter sprawdza jakie argumenty zostały przekazane podczas wywołania klasy, szuka metody `.__init__()`, deleguje te argumenty do metody i ją wywołuje. Pierwszy argument `.__init__()` to nowo utworzona instancja, czyli `self`, pozostałe pochodzą z wywołania klasy. Metoda tworzy atrybuty, może przy tym korzystać z metod związanych, i kończy działanie. Nic nie zwraca.\n",
    "\n",
    "W przypadku klasy `Żółw()` praca `.__init__()` była wykonywana przez `.ustaw_żółwia()`, przy czym użytkownik sam musiał pamiętać, aby tę metodę wywołać. Zamienimy ją teraz na `.__init__()`:"
   ]
  },
  {
   "cell_type": "code",
   "execution_count": 38,
   "metadata": {},
   "outputs": [],
   "source": [
    "from math import cos, sin, radians\n",
    "from matplotlib import pyplot as plt\n",
    "%matplotlib inline\n",
    "\n",
    "class Żółw:\n",
    "    '''Żółw z języka LOGO.\n",
    "    \n",
    "    Atrybuty:\n",
    "        x, y: położenie startowe,\n",
    "        azymut: kąt do kierunku wschodniego.\n",
    "    '''\n",
    "    \n",
    "    def __init__(self, x=0, y=0, azymut=0):\n",
    "        self.X = [x]\n",
    "        self.Y = [y]\n",
    "        self.azymut = azymut    \n",
    "\n",
    "    def w_lewo(self, kąt):\n",
    "        '''Obraca w lewo żółwia o kąt w stopniach.'''\n",
    "        self.azymut += kąt\n",
    "\n",
    "    def w_prawo(self, kąt):\n",
    "        '''Obraca w prawo żółwia o kąt w stopniach.'''\n",
    "        self.azymut -= kąt\n",
    "\n",
    "    def naprzód(self, r):\n",
    "        '''Przesuwa żółwia o r.'''\n",
    "        x, y = self.X[-1], self.Y[-1]\n",
    "        azymut = self.azymut\n",
    "        x += cos(radians(azymut))*r\n",
    "        y += sin(radians(azymut))*r\n",
    "        self.X.append(x)\n",
    "        self.Y.append(y)\n",
    "\n",
    "    def rysuj(self, zachowaj_osie=True, **kwargs):\n",
    "        '''Rysuje ścieżkę żółwia. Akceptuje argumenty funkcji plt.plot()\n",
    "        dostosowujące rysunek.'''\n",
    "        plt.plot(self.X, self.Y, **kwargs)\n",
    "        \n",
    "        if zachowaj_osie:\n",
    "            ax = plt.gca()\n",
    "            ax.set_aspect('equal')"
   ]
  },
  {
   "cell_type": "markdown",
   "metadata": {},
   "source": [
    "Dowód działania metody `.__init__()`:"
   ]
  },
  {
   "cell_type": "code",
   "execution_count": 39,
   "metadata": {},
   "outputs": [],
   "source": [
    "tolek = Żółw()"
   ]
  },
  {
   "cell_type": "code",
   "execution_count": 40,
   "metadata": {},
   "outputs": [
    {
     "data": {
      "text/plain": [
       "([0], [0], 0)"
      ]
     },
     "execution_count": 40,
     "metadata": {},
     "output_type": "execute_result"
    }
   ],
   "source": [
    "tolek.X, tolek.Y, tolek.azymut"
   ]
  },
  {
   "cell_type": "code",
   "execution_count": 41,
   "metadata": {},
   "outputs": [],
   "source": [
    "def spirala_zwijająca_się(żółw, bok, kąt, przyrost_kąta, liczba_boków):\n",
    "    for _ in range(liczba_boków):\n",
    "        żółw.naprzód(bok)\n",
    "        żółw.w_prawo(kąt)\n",
    "        kąt += przyrost_kąta"
   ]
  },
  {
   "cell_type": "code",
   "execution_count": 42,
   "metadata": {},
   "outputs": [
    {
     "data": {
      "image/png": "[encoded data removed]",
      "text/plain": [
       "<Figure size 432x288 with 1 Axes>"
      ]
     },
     "metadata": {
      "needs_background": "light"
     },
     "output_type": "display_data"
    }
   ],
   "source": [
    "franklin = Żółw()\n",
    "spirala_zwijająca_się(franklin, 1, 0, 7, 1000)\n",
    "franklin.rysuj()"
   ]
  },
  {
   "cell_type": "markdown",
   "metadata": {},
   "source": [
    "Tak jak przedtem do `.ustaw_żółwia()`, tak teraz do wywołania klasy możesz przekazać parametry:"
   ]
  },
  {
   "cell_type": "code",
   "execution_count": 43,
   "metadata": {},
   "outputs": [],
   "source": [
    "def kwadrat(żółw, bok):\n",
    "    for _ in [1, 2, 3, 4]:\n",
    "        żółw.naprzód(bok)\n",
    "        żółw.w_prawo(90)"
   ]
  },
  {
   "cell_type": "code",
   "execution_count": 44,
   "metadata": {},
   "outputs": [
    {
     "data": {
      "image/png": "[encoded data removed]",
      "text/plain": [
       "<Figure size 1152x360 with 1 Axes>"
      ]
     },
     "metadata": {
      "needs_background": "light"
     },
     "output_type": "display_data"
    }
   ],
   "source": [
    "fig = plt.figure(figsize=(16, 5))\n",
    "\n",
    "for x in [1, 2, 3, 4, 5]:\n",
    "    tolek = Żółw(x=x, azymut=45)\n",
    "    kwadrat(tolek, 1)\n",
    "    tolek.rysuj()"
   ]
  }
 ],
 "metadata": {
  "anaconda-cloud": {},
  "kernelspec": {
   "display_name": "Python 3 (ipykernel)",
   "language": "python",
   "name": "python3"
  },
  "language_info": {
   "codemirror_mode": {
    "name": "ipython",
    "version": 3
   },
   "file_extension": ".py",
   "mimetype": "text/x-python",
   "name": "python",
   "nbconvert_exporter": "python",
   "pygments_lexer": "ipython3",
   "version": "3.7.11"
  }
 },
 "nbformat": 4,
 "nbformat_minor": 1
}
