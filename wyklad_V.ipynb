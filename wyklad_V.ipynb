{
 "cells": [
  {
   "cell_type": "markdown",
   "metadata": {
    "slideshow": {
     "slide_type": "slide"
    }
   },
   "source": [
    "# Podstawy programowania (AD) 2\n",
    "\n",
    "## Tomasz Rodak\n",
    "\n",
    "Wykład V\n",
    "\n",
    "## Przestrzeń nazw (*namespace*)\n",
    "\n",
    "**Przestrzeń nazw** to przyporządkowanie od nazw do obiektów. Z jednej strony mamy obiekty, z drugiej ich nazwy i zbiór tych nazw tworzy przestrzeń nazw. \n",
    "\n",
    "Języki programowania zwykle dopuszczają równoczesne istnienie wielu rozłącznych przestrzeni nazw. Dzięki temu:\n",
    "* łatwiej unikać kolizji między nazwami;\n",
    "* funkcje mogą występować w roli \"czarnych skrzynek\" nie wpływających na stan środowiska.\n",
    "\n",
    "Język Python, tak jak wiele innych języków programowania, korzysta z wielu przestrzeni nazw. Ze względu na rodzaj w kierunku malejącej ogólności są to:\n",
    "1. wbudowana przestrzeń nazw,\n",
    "2. globalna przestrzeń nazw,\n",
    "3. zakres dołączony (omówimy na następnym wykładzie),\n",
    "4. lokalna przestrzeń nazw.\n",
    "\n",
    "Interpreter, widząc odniesienie do nazwy, przeszukuje te przestrzenie w kierunku od najmniej do najbardziej ogólnej. Zasada ta nosi nazwę [LEGB](https://sebastianraschka.com/Articles/2014_python_scope_and_namespaces.html#3-legb---local-enclosed-global-built-in).\n",
    "\n",
    "### Wbudowana przestrzeń nazw\n",
    "\n",
    "Wbudowana przestrzeń nazw (*built-in namespace*) grupuje nazwy obiektów wbudowanych i stanowiących rdzeń języka Python. Obiekty wbudowane są dostępne poprzez swoje nazwy zawsze i bez konieczności wykonywania żadnego importu. \n",
    "Przykłady obiektów wbudowanych:\n",
    "* funkcje `print()`, `int()`, ([dokumentacja](https://docs.python.org/3/library/functions.html#built-in-funcs))\n",
    "* stałe `True`, `None`, ([dokumentacja](https://docs.python.org/3/library/constants.html#built-in-consts))\n",
    "* wyjątki `TypeError`, `SyntaxError`, ([dokumentacja](https://docs.python.org/3/library/exceptions.html)).\n",
    "\n",
    "W Pythonie przestrzeń nazw implementowana jest jako słownik. Z tego powodu instrukcja przypisania wykorzystująca istniejącą nazwę likwiduje możliwość dostępu do pierwotnego obiektu. \n",
    "\n",
    "Przykład nieprawidłowego nazewnictwa zmiennych:"
   ]
  },
  {
   "cell_type": "markdown",
   "metadata": {},
   "source": [
    "```python\n",
    ">>> ## Szukamy liczby z zakresu 1..1000 o największej \n",
    ">>> ## sumie dzielników właściwych.\n",
    ">>> a, b = 1, 1000 \n",
    ">>> liczby = range(a, b+1)\n",
    ">>> max = 0 # Przesłonięcie wbudowanej funkcji max()\n",
    ">>> for n in liczby:\n",
    "...     sum = 0 # Przesłonięcie wbudowanej funkcji sum()\n",
    "...     for d in range(1, n//2 + 1):\n",
    "...         if n % d == 0:\n",
    "...             sum += d\n",
    "...     if sum > max:\n",
    "...         max = sum\n",
    "...         liczba = n\n",
    "...\n",
    ">>> print(f'Liczba: {liczba}\\nSuma dzielników właściwych: {max}')\n",
    "Liczba: 960\n",
    "Suma dzielników właściwych: 2088\n",
    ">>> sum([1, 2, 3])\n",
    "---------------------------------------------------------------------------\n",
    "TypeError                                 Traceback (most recent call last)\n",
    "<ipython-input-34-5b30f1e835bd> in <module>\n",
    "----> 1 sum([1, 2, 3])\n",
    "\n",
    "TypeError: 'int' object is not callable\n",
    ">>> max([3, -1, 0])\n",
    "---------------------------------------------------------------------------\n",
    "TypeError                                 Traceback (most recent call last)\n",
    "<ipython-input-35-acfd7b805aec> in <module>\n",
    "----> 1 max([3, -1, 0])\n",
    "\n",
    "TypeError: 'int' object is not callable\n",
    "```"
   ]
  },
  {
   "cell_type": "markdown",
   "metadata": {},
   "source": [
    "Problemem w tym programie jest niewłaściwe wykorzystanie nazw: wbudowane funkcje `sum()` i `max()` zostały przesłonięte przez zmienne o tych samych nazwach. W wyniku tego nie można już korzystać z tych funkcji."
   ]
  },
  {
   "cell_type": "markdown",
   "metadata": {},
   "source": [
    "Aby przywrócić nazwom oryginalne znaczenie wystarczy wykorzystać moduł [`builtins`](https://docs.python.org/3/library/builtins.html), który zawiera identyfikatory obiektów wbudowanych:"
   ]
  },
  {
   "cell_type": "markdown",
   "metadata": {},
   "source": [
    "```python\n",
    ">>> import builtins\n",
    ">>> sum = builtins.sum\n",
    ">>> max = builtins.max\n",
    ">>> sum([1, 2, 3])\n",
    "6\n",
    ">>> max([3, -1, 0])\n",
    "3\n",
    "```"
   ]
  },
  {
   "cell_type": "markdown",
   "metadata": {},
   "source": [
    "**_Ćwiczenie._** *Popraw nazwy zmiennych w omawianym wyżej programie. Dobierz je tak, aby nie przesłaniały zmiennych wbudowanych ale zachowały czytelność.*\n",
    "\n",
    "\n",
    "Niektóre ciągi znaków są zastrzeżone i nie można używać ich jako nazw. Nazywamy je **słowami kluczowymi** (*keywords*). Lista wszystkich słów kluczowych znajduje się w module [`keyword`](https://docs.python.org/3/library/keyword.html):"
   ]
  },
  {
   "cell_type": "markdown",
   "metadata": {},
   "source": [
    "```python\n",
    ">>> import keyword\n",
    ">>> for k in keyword.kwlist:\n",
    "...     print(k, end=' ')\n",
    "False None True and as assert async await break class continue def del elif else except finally for from global if import in is lambda nonlocal not or pass raise return try while with yield \n",
    "```"
   ]
  },
  {
   "cell_type": "markdown",
   "metadata": {},
   "source": [
    "Zwróć uwagę, że wśród słów kluczowych tylko `True`, `False` i `None` są nazwami rozumianymi jako nazwy obiektów. Pozostałe stanowią składnię języka. Słowa `if`, `for` czy `return` nie są nazwami żadnych obiektów (i nie mogą być), więc nie są elementami wbudowanej (ani żadnej innej) przestrzeni nazw."
   ]
  },
  {
   "cell_type": "markdown",
   "metadata": {},
   "source": [
    "### Globalna przestrzeń nazw. Moduły\n",
    "\n",
    "W Pythonie modułem jest każdy plik z kodem w języku Python. Modułami są również tzw. moduły rozszerzeń, czyli programy napisane w C, C++, Javie itp. tak, aby były możliwe do zwykłego zaimportowania. \n",
    "\n",
    "**Globalna przestrzeń nazw** (albo **zasięg globalny**) to przestrzeń nazw definiowana przez moduł (lub pakiet, czyli folder modułów i pakietów). \n",
    "\n",
    "Moduły definiują swoje przestrzenie nazw za pomocą instrukcji przypisania. Pamiętaj jednak, że w Pythonie instrukcja przypisania ma wiele form: poza znakiem `=` również instrukcje `def`, `class` czy `import` tworzą przypisanie.\n",
    "\n",
    "Globalne przestrzenie nazw są rozłączne a ich komunikację zapewnia instrukcja `import`. Każda globalna przestrzeń nazw sama ma nazwę. Sprawdzamy ją odczytując wartość zmiennej specjalnej `__name__`.\n",
    "\n",
    "Globalna przestrzeń nazw dostępna w sesji interaktywnej, w komórce notatnika Jupyter, czy w skrypcie wykonywanym z linii komend jest szczytowym środowiskiem uruchomieniowym kodu. Ten specjalny zasięg globalny ma nazwę `__main__` (zobacz [Top-level code environment](https://docs.python.org/3/library/__main__.html) w dokumentacji).\n",
    "\n",
    "Oto test w sesji interaktywnej uruchomionej np. w programie IDLE:\n",
    "```python\n",
    ">>> __name__\n",
    "'__main__'\n",
    "```\n",
    "Podobny test w komórce notatnika Jupyter:"
   ]
  },
  {
   "cell_type": "code",
   "execution_count": 1,
   "metadata": {},
   "outputs": [
    {
     "data": {
      "text/plain": [
       "'__main__'"
      ]
     },
     "execution_count": 1,
     "metadata": {},
     "output_type": "execute_result"
    }
   ],
   "source": [
    "__name__"
   ]
  },
  {
   "cell_type": "markdown",
   "metadata": {},
   "source": [
    "Nazwy zdefiniowane w module zobaczysz wywołując w tym module funkcję `dir()`. Zwracana wartość zależy od modułu, w którym funkcja została wywołana oraz od tego jakie nazwy aż do momentu jej wywołania zostały zdefiniowane. Oto wynik w dopiero co otwartej konsoli Pythona:\n",
    "```\n",
    "Python 3.7.6 (default, Jan  8 2020, 19:59:22) \n",
    "[GCC 7.3.0] :: Anaconda, Inc. on linux\n",
    "Type \"help\", \"copyright\", \"credits\" or \"license\" for more information.\n",
    ">>> dir()\n",
    "['__annotations__', '__builtins__', '__doc__', '__loader__', '__name__', '__package__', '__spec__']\n",
    "```\n",
    "Zauważ, że nie ma tu funkcji `sum()`, `print()` czy stałej `True`. One nie należą do przestrzeni nazw modułu `__main__`.\n",
    "\n",
    "Nazwy zdefiniowane w skrypcie wykonywanym z poziomu wiersza poleceń, lub przez IDE takie jak IDLE czy Thonny, wchodzą automatycznie w skład przestrzeni nazw modułu `__main__`. Aby to sprawdzić utwórz w edytorze program `p1.py` o zawartości\n",
    "\n",
    "```python\n",
    "print(f'Moduł: {__name__}')\n",
    "```\n",
    "\n",
    "Następnie w terminalu w katalogu, w którym się ten program znajduje, wykonaj:\n",
    "```\n",
    "$ python p1.py\n",
    "```\n",
    "Zobaczysz napis \n",
    "```\n",
    "Moduł: __main__\n",
    "```\n",
    "Ten sam efekt będzie miało wykonanie tego programu z poziomu np. IDLE czy Thonny, czyli poprzez wciśnięcie przycisku `Run`.\n",
    "\n",
    "Podsumowując, `__main__` jest nazwą globalnej przestrzeni nazw stanowiącej [szczytowe środowisko uruchomieniowe](https://docs.python.org/3/library/__main__.html#what-is-the-top-level-code-environment) języka Python. Możesz myśleć, że jest po prostu kolejna globalna przestrzeń nazw. Pochodzi ona z modułu [`__main__`](https://docs.python.org/3/library/__main__.html) z biblioteki standardowej a jej wyjątkowość polega na tym, że musi zostać utworzona po to, aby w ogóle cokolwiek mogło działać."
   ]
  },
  {
   "cell_type": "markdown",
   "metadata": {},
   "source": [
    "Instrukcja `import` jest formą instrukcji przypisania. Jeśli moduł importowany jest za pomocą składni\n",
    "```python\n",
    "import <nazwa_modułu>\n",
    "```\n",
    "lub\n",
    "```python\n",
    "import <nazwa_modułu> as <nazwa>\n",
    "```\n",
    "to w tej (globalnej) przestrzeni nazw, która wykonuje import, tworzona jest tylko jedna nowa zmienna globalna `<nazwa_modułu>` (ewentualnie `<nazwa>`). Wówczas dostęp do nazw z zaimportowanego modułu zapewnia dobrze już nam znana *notacja z kropką*:"
   ]
  },
  {
   "cell_type": "markdown",
   "metadata": {},
   "source": [
    "```python\n",
    ">>> import itertools\n",
    ">>> list(itertools.permutations('abc'))\n",
    "[('a', 'b', 'c'), ('a', 'c', 'b'), ('b', 'a', 'c'), ('b', 'c', 'a'), ('c', 'a', 'b'), ('c', 'b', 'a')]\n",
    "```"
   ]
  },
  {
   "cell_type": "markdown",
   "metadata": {},
   "source": [
    "Tym co odróżnia rodzaje przestrzeni nazw jest porządek w jakim interpreter je przeszukuje (LEGB) oraz czas ich życia. Globalna przestrzeń nazw modułu zaczyna być dostępna po uruchomieniu go jako programu głównego (wtedy jest przestrzeń `__main__`) lub po wykonaniu importu i żyje aż do końca działania skryptu. Jeśli jest to przestrzeń `__main__`, to istnieje i jest dostępna przez cały czas działania skryptu. Zmienne, do których wykonane jest odwołanie w globalnej przestrzeni nazw są poszukiwane najpierw w tej przestrzeni, a dopiero potem w przestrzeni nazw obiektów wbudowanych.\n",
    "\n",
    "Co się dzieje, gdy z poziomu `__main__` odwołujesz się do np. do funkcji `sum()`?\n",
    "\n",
    "W module `__main__` takiej nazwy nie ma, a tam właśnie interpreter będzie szukał najpierw. Ponieważ spotka go niepowodzenie, więc przeniesie się na wyższy poziom ogólności, czyli poszuka nazwy `sum` w przestrzeni nazw obiektów wbudowanych. Tam ta nazwa faktycznie się znajduje i wskazuje na funkcję wbudowaną obliczającą sumę.\n",
    "\n",
    "A co się dzieje z wbudowaną funkcją `sum()`, gdy wykonamy coś takiego:"
   ]
  },
  {
   "cell_type": "markdown",
   "metadata": {},
   "source": [
    "```python\n",
    ">>> sum = 123321\n",
    ">>> sum\n",
    "123321\n",
    "```"
   ]
  },
  {
   "cell_type": "markdown",
   "metadata": {},
   "source": [
    "Odwołanie do `sum` zmusza interpreter do rozpoczęcia poszukiwań nazwy, najpierw w module gdzie odwołanie zostało wykonane, czyli w naszym przypadku w `__main__`. Ponieważ już tutaj ta nazwa zostaje znaleziona, więc dalszych poszukiwań interpreter nie prowadzi -- zmienna `sum` jest liczbą całkowitą 123321. Nazwa `sum` nie została przeniesiona z funkcji na liczbę całkowitą, została raczej **przesłonięta**.\n",
    "\n",
    "Ten sam efekt wystąpi, gdy wewnątrz jakiegoś modułu napiszesz:\n",
    "```python\n",
    "# modul.py\n",
    "print(sum) # Wbudowana funkcja sum()\n",
    "sum = 123321\n",
    "print(sum) # Liczba całkowita 123321, nazwa sum przesłonięta    \n",
    "```"
   ]
  },
  {
   "cell_type": "markdown",
   "metadata": {},
   "source": [
    "### Tworzenie modułów. Importowanie\n",
    "\n",
    "Tworzenie modułów w j. Python jest bardzo proste, gdyż po prostu każdy skrypt Pythona z programem jest równocześnie modułem. \n",
    "\n",
    "Utwórz w dowolnym edytorze skrypt z programem:\n",
    "\n",
    "```python\n",
    "# Path: src/module_demo.py\n",
    "a = 'Ala ma kota.'\n",
    "\n",
    "print(f'Moduł: {__name__}')\n",
    "\n",
    "def f():\n",
    "\tprint(a)\n",
    "\n",
    "f()\n",
    "```\n",
    "Nazwij go `module_demo.py` i zapisz w katalogu bieżącym. Potraktujemy ten program jak moduł i zaimportujemy go do środowiska. Aby moduł ten został znaleziony, katalogiem bieżącym interpretera musi być katalog zawierający ten właśnie moduł. Zmianę katalogu bieżącego wykonasz funkcją `os.chdir()`.  "
   ]
  },
  {
   "cell_type": "markdown",
   "metadata": {
    "scrolled": true
   },
   "source": [
    "```python\n",
    ">>> import os\n",
    ">>> os.chdir('/tmp/') ## Wpisz swoją ścieżkę.\n",
    ">>> import module_demo\n",
    "Moduł: module_demo\n",
    "Ala ma kota.\n",
    ">>> module_demo\n",
    "<module 'module_demo' from '/tmp/module_demo.py'>\n",
    ">>> module_demo.a\n",
    "'Ala ma kota.'\n",
    ">>> a = \"Monty Python\"\n",
    ">>> module_demo.f\n",
    "<function f at 0x7f99238b1710>\n",
    ">>> module_demo.f()\n",
    "Ala ma kota.\n",
    "```"
   ]
  },
  {
   "cell_type": "markdown",
   "metadata": {},
   "source": [
    "Widzimy, że:\n",
    "* Moduł został wykonany jak zwykły program.\n",
    "* Wewnątrz modułu nazwa globalnej przestrzeni nazw to `module_demo`. \n",
    "* Nazwa modułu została wprowadzona do modułu `__main__` jako zmienna globalna.\n",
    "* Notacja z kropką pozwala na dostęp do zmiennych i funkcji z modułu.\n",
    "* Zmienne zdefiniowane w module są dostępne w module, ale nie w module `__main__` (nie popadają w konflikt z nazwami zdefiniowanymi w module `__main__`)."
   ]
  },
  {
   "cell_type": "markdown",
   "metadata": {},
   "source": [
    "Podsumowując, jeśli dane są dwa moduły `A` i `B` to definiowane przez nie globalne przestrzenie nazw są rozłączne. Moduł `B` może importować moduł `A` składnią\n",
    "```python\n",
    "import A\n",
    "```\n",
    "Wówczas w przestrzeni definiowanej przez `B` pojawia się nazwa `A` zapewniająca dostęp do obiektów `A` za pomocą notacji z kropką. Podczas tak wykonywanego importu cały kod znajdujący się w `A` zostaje wykonany. \n",
    "\n",
    "Ostatnia uwaga stwarza problem, gdy skrypt gra równoczesnie rolę wykonalnego programu i modułu z obiektami wartymi importowania. Pojawia się wtedy konieczność zabezpieczenia kodu, który nie powinien być wykonany w przypadku importu. W tym celu stosuje się konstrukcję warunkową:\n",
    "\n",
    "```python\n",
    "<Kod modułu>\n",
    "\n",
    "if __name__ == '__main__':\n",
    "    <Kod programu>\n",
    "```\n",
    "\n",
    "Jeśli moduł jest wykonywany jako program, to `__name__` przyjmuje wartość `__main__` i kod wewnątrz warunku zostaje wykonany. W przeciwnym przypadku, gdy moduł jest importowany, kod wewnątrz warunku nie jest wykonywany, gdyż `__name__` przyjmuje wtedy nazwę modułu."
   ]
  },
  {
   "cell_type": "markdown",
   "metadata": {},
   "source": [
    "Wspomnijmy jeszcze o dwóch innych sposobach importowania:\n",
    "```python\n",
    "from <nazwa_modułu> import <nazwa>\n",
    "```\n",
    "oraz\n",
    "```python\n",
    "from <nazwa_modułu> import <nazwa> as <inna_nazwa>\n",
    "```\n",
    "W tym przypadku z modułu importowany jest jedynie obiekt `<nazwa>`, przy czym w drugim przypadku będzie on funkcjonował jako `<inna_nazwa>`. Reszta modułu jak i sam moduł pozostają niedostępne. Również w tym przypadku **cały** moduł zostaje odczytany, wykonany i przetłumaczony na kod bajtowy.\n",
    "\n",
    "Zwykle za złą praktykę uważa się pobieranie z modułu wszystkich nazw jak leci:\n",
    "```python\n",
    "from <nazwa_modułu> import *\n",
    "```\n",
    "Ten kod importuje z modułu wszystkie nazwy z wyjątkiem tych zaczynających się podkreślnikiem. Wadą tego rozwiązania jest to, że miesza ono przestrzenie nazw. Ponadto jeśli moduł jest duży, to i nowych nazw będzie bardzo dużo. Tym niemniej czasem się tak postępuje, przede wszystkim w sesji interaktywnej, przykład znajdziesz [tutaj](https://docs.sympy.org/latest/tutorial/intro.html#the-power-of-symbolic-computation).\n",
    "\n",
    "Więcej informacji o modułach znajdziesz [tym rozdziale](https://docs.python.org/3/tutorial/modules.html#) oficjalnego tutorialu."
   ]
  },
  {
   "cell_type": "markdown",
   "metadata": {},
   "source": [
    "### Lokalna przestrzeń nazw\n",
    "\n",
    "Lokalne przestrzenie nazw tworzone są podczas rozmaitych okazji, przede wszystkim podczas wywoływania funkcji i metod. Nazwa utworzona w takiej przestrzeni nazywana jest *lokalną*. Nazwy utworzona w przestrzeni globalnej, to nazwy *globalne*, no i mamy jeszcze omówione wyżej nazwy *wbudowane*. Nazwy globalne i wbudowane nietrudno odróżnić, gdyż wbudowane należą do rdzenia języka, a globalne tworzone są na poziomie modułu. Jak jednak odróżnić nazwy lokalne od globalnych? W jaki sposób nazwy lokalne powstają?\n",
    "\n",
    "W dalszej dyskusji ograniczę się do lokalnych przestrzeni nazw tworzonych przez wywołania funkcji. Przestrzenie lokalne tworzone w innych kontekstach nie będą się istotnie różniły. \n",
    "\n",
    "Oto przykład ilustrujący istnienie lokalnej przestrzeni nazw. Wykonaj go w serwisie PythonTutor."
   ]
  },
  {
   "cell_type": "markdown",
   "metadata": {},
   "source": [
    "```python\n",
    "s = 'Jestem Ziemianinem!'\n",
    "\n",
    "def f():\n",
    "    s = 'Jestem Marsjaninem!'\n",
    "    print(s)\n",
    "\n",
    "f()\n",
    "print(s)\n",
    "```"
   ]
  },
  {
   "cell_type": "markdown",
   "metadata": {},
   "source": [
    "Rezultat:\n",
    "```\n",
    "Jestem Marsjaninem!\n",
    "Jestem Ziemianinem!\n",
    "```"
   ]
  },
  {
   "cell_type": "markdown",
   "metadata": {},
   "source": [
    "Dlaczego widzimy \"Jestem Ziemianinem!\", pomimo tego że łańcuch `s` został zmieniony na \"Jestem Marsjaninem!\" i to dwa razy: w ciele funkcji i podczas jej wywołania? Otóż przypisanie \n",
    "```python\n",
    "s = 'Jestem Ziemianinem!'\n",
    "```\n",
    "tworzy zmienną globalną `s`. Fakt, że w ciele funkcji `f` mamy przypisanie\n",
    "```python\n",
    "s = 'Jestem Marsjaninem!'\n",
    "```\n",
    "oznacza, że w lokalnej przestrzeni nazw utworzonej przez wywołanie `f()` tworzona jest nowa nazwa lokalna `s`. Przestrzeń globalna i lokalna są rozłączne. Dlatego nazwa `s` z przestrzeni globalnej nie została przeniesiona na nowy łańcuch. Przeciwnie, przez chwilę istnieją dwie różne nazwy `s` znajdujące się w różnych przestrzeniach. Gdy w wywołaniu `f()` interpreter dociera do `print(s)`, to widzi odwołanie do zmiennej `s` i zaczyna jej poszukiwanie w bieżącej przestrzeni lokalnej. Ponieważ tam zmienną znajduje, więc jego poszukiwania na tym się kończą. Okazuje się, że uzyskany wyżej efekt jest wypadkową istnienia różnych przestrzeni nazw i hierarchii w jakiej interpreter je przeszukuje. Gdy funkcja zakończy działanie cała lokalna przestrzeń nazw utworzona z okazji jej wywołania zostaje zapomniana. Znakomicie ilustrują to rysunki w serwisie PythonTutor. `print(s)` z ostatniej linii odwołuje się do zmiennej globalnej `s`, która nie została zmodyfikowana przez wcześniejsze wywołanie `f()`, a jedynie na chwilę przesłonięta."
   ]
  },
  {
   "cell_type": "markdown",
   "metadata": {},
   "source": [
    "```python\n",
    "s = 'Jestem Ziemianinem!'\n",
    "\n",
    "def f():\n",
    "    print(s)\n",
    "\n",
    "f()\n",
    "print(s)\n",
    "```\n",
    "Wynik:\n",
    "```\n",
    "Jestem Ziemianinem!\n",
    "Jestem Ziemianinem!\n",
    "```"
   ]
  },
  {
   "cell_type": "markdown",
   "metadata": {},
   "source": [
    "Ten przykład jest już teraz jasny. Podczas wywołania `f()` tworzona jest lokalna przestrzeń nazw, ale nie ma w niej zmiennej `s`. Dlatego interpreter przenosi poszukiwania do przestrzeni globalnej. Gdyby i tam nie znalazł, to przeszedłby do nazw wbudowanych i wtedy w razie niepowodzenia zgłosił `NameError`.\n",
    "\n",
    "Oto mniej oczywisty przykład:"
   ]
  },
  {
   "cell_type": "markdown",
   "metadata": {
    "slideshow": {
     "slide_type": "subslide"
    }
   },
   "source": [
    "```python\n",
    "s = 'Jestem Ziemianinem!'\n",
    "\n",
    "def f():\n",
    "    print(s) \n",
    "    s = 'Jestem Marsjaninem!'\n",
    "    print(s)\n",
    "\n",
    "f()\n",
    "print(s)\n",
    "```\n",
    "\n",
    "Wynik:\n",
    "```\n",
    "---------------------------------------------------------------------------\n",
    "UnboundLocalError                         Traceback (most recent call last)\n",
    "<ipython-input-25-f0269b267812> in <module>\n",
    "      6     print(s)\n",
    "      7 \n",
    "----> 8 f()\n",
    "      9 print(s)\n",
    "\n",
    "<ipython-input-25-f0269b267812> in f()\n",
    "      2 \n",
    "      3 def f():\n",
    "----> 4     print(s)\n",
    "      5     s = 'Jestem Marsjaninem!'\n",
    "      6     print(s)\n",
    "\n",
    "UnboundLocalError: local variable 's' referenced before assignment\n",
    "```"
   ]
  },
  {
   "cell_type": "markdown",
   "metadata": {},
   "source": [
    "Dostajemy dziwny wyjatek `UnboundLocalError` choć na pierwszy rzut wydaje się, że pownniśmy zobaczyć:\n",
    "```\n",
    "Jestem Ziemianinem!\n",
    "Jestem Marsjaninem!\n",
    "Jestem Ziemianinem!\n",
    "```\n",
    "Jednak wybór projektowy zastosowany w języku jest inny. Ponieważ zmienna `s` jest przypisana w ciele funkcji, więc podczas wywołania `f()` tworzona jest zmienna lokalna `s` i interpreter wie o tym **zanim dotrze do przypisania**\n",
    "```python\n",
    "s = 'Jestem Marsjaninem!'\n",
    "```\n",
    "Faktyczne przypisanie wykonywane jest później, wtedy gdy interpreter dotrze do wiersza z przypisaniem, jednak zbiór nazw z tworzonej lokalnej przestrzeni nazw znany jest natychmiast. Ponieważ `s` jest lokalna i nie została jeszcze przypisana, więc nie może zostać wyświetlona, i w ogóle nie może się powieść żadne do niej odwołanie. Rzucony wyjątek jest przypadkiem szczególnym `NameError`, o czym przekonuje nas [hierarchia wyjątków](https://docs.python.org/3/library/exceptions.html#exception-hierarchy).\n",
    "\n",
    "#### Instrukcja `global`\n",
    "\n",
    "Deklaracja `global` informuje o tym, że zmienna przypisana w ciele funkcji ma być traktowana jak globalna. "
   ]
  },
  {
   "cell_type": "markdown",
   "metadata": {},
   "source": [
    "```python\n",
    "s = 'Jestem Ziemianinem!'\n",
    "\n",
    "def f():\n",
    "    global s\n",
    "    print(s)\n",
    "    s = 'Jestem Marsjaninem!'\n",
    "    print(s)\n",
    "\n",
    "f()\n",
    "print(s) # s została zmieniona \n",
    "```\n",
    "\n",
    "Wynik:\n",
    "```\n",
    "Jestem Ziemianinem!\n",
    "Jestem Marsjaninem!\n",
    "Jestem Marsjaninem!\n",
    "```"
   ]
  },
  {
   "cell_type": "markdown",
   "metadata": {},
   "source": [
    "Zmienna `s` jest przypisana w ciele `f`, ale jest też zadeklarowana jako globalna. Dlatego w lokalnej przestrzeni nazw tworzonej przez wywołanie `f()` nazwy `s` nie ma. Nazwa `s` istnieje tylko w zakresie globalnym. Z tego też powodu przypisanie\n",
    "\n",
    "```python\n",
    "s = 'Jestem Marsjaninem!'\n",
    "```\n",
    "przenosi nazwę `s` z jednego łańcucha na drugi. Łańcuch `'Jestem Ziemianinem!'` zostaje zapomniany.\n",
    "\n",
    "Tego typu zmiana nosi w programowaniu nazwę *efektu ubocznego* (<a href=\"https://en.wikipedia.org/wiki/Side_effect_(computer_science)\"><em>side effect</em></a>). Chodzi o to, że stan środowiska przed wywołaniem funkcji i po jej wywołaniu nie jest taki sam -- w naszym przypadku zmienna `s` zmieniła wartość. \n",
    "\n",
    "Kod, który wprowadza wiele efektów ubocznych może początkowo wydawać się prosty w pisaniu, w rzeczywistości jednak szybko się komplikuje i staje trudny do odczytania, testów i dalszego rozwoju."
   ]
  }
 ],
 "metadata": {
  "anaconda-cloud": {},
  "kernelspec": {
   "display_name": "Python 3 (ipykernel)",
   "language": "python",
   "name": "python3"
  },
  "language_info": {
   "codemirror_mode": {
    "name": "ipython",
    "version": 3
   },
   "file_extension": ".py",
   "mimetype": "text/x-python",
   "name": "python",
   "nbconvert_exporter": "python",
   "pygments_lexer": "ipython3",
   "version": "3.11.3"
  }
 },
 "nbformat": 4,
 "nbformat_minor": 1
}
