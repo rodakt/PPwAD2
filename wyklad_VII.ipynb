{
 "cells": [
  {
   "cell_type": "markdown",
   "metadata": {
    "slideshow": {
     "slide_type": "slide"
    },
    "tags": [
     "abc"
    ]
   },
   "source": [
    "# Podstawy programowania (AD) 2\n",
    "\n",
    "## Tomasz Rodak\n",
    "\n",
    "Wykład VII\n",
    "\n",
    "# Dekoratory\n",
    "\n",
    "## Składnia\n",
    "\n",
    "Dekorator to dowolny obiekt wywoływalny, np. funkcja,  którego zadaniem jest zmodyfikowanie (wzbogacenie funkcjonalności) innej funkcji lub metody. Dekorator bezparametrowy akceptuje jeden argument -- dekorowaną funkcję, którą następnie modyfikuje i zwraca, albo też zwraca zupełnie inny obiekt wywoływalny.  Dekorator z parametrami wywołany na argumentach zwraca funkcję będącą dekoratorem bezparametrowym.\n",
    "\n",
    "Załóżmy, że mamy dany bezparametrowy dekorator o nazwie `deco`. Wtedy `deco` jest obiektem wywoływalnym, jednoargumentowym, akceptującym funkcje i inne obiekty wywoływalne. Jeżeli piszemy funkcję `f()` i chcielibyśmy ją udekorować dekoratorem `deco()`, to robimy to za pomocą składni:\n",
    "```python\n",
    "@deco\n",
    "def f(<parametry>):\n",
    "    <kod funkcji>\n",
    "```\n",
    "I cóż w ten sposób osiągniemy? Otóż powyższy kod jest równoważny z:\n",
    "```python\n",
    "def f(<parametry>):\n",
    "    <kod funkcji>\n",
    "\n",
    "f = deco(f)\n",
    "```\n",
    "\n",
    "Przetestujmy to na jakimś banalnym przykładzie:"
   ]
  },
  {
   "cell_type": "markdown",
   "metadata": {},
   "source": [
    "```python\n",
    ">>> def deco(f):\n",
    "...     def xyz():\n",
    "...         print('Jestem funkcją xyz().')\n",
    "...     return xyz\n",
    ">>>\n",
    ">>> @deco\n",
    "... def abc():\n",
    "...     print('Jestem funkcją abc().')\n",
    "...\n",
    ">>> abc()\n",
    "Jestem funkcją xyz().\n",
    "```"
   ]
  },
  {
   "cell_type": "markdown",
   "metadata": {},
   "source": [
    "Teraz to samo, gdybyśmy zrezygnowali ze składni dekoratora. Jest to dowód na to, że składnia dekoratora wykorzystująca znak `@` jest w Pythonie [lukrem składniowym](https://pl.wikipedia.org/wiki/Lukier_sk%C5%82adniowy) (*syntactic sugar*)."
   ]
  },
  {
   "cell_type": "markdown",
   "metadata": {},
   "source": [
    "```python\n",
    ">>> def deco(f):\n",
    "...     def xyz():\n",
    "...         print('Jestem funkcją xyz().')\n",
    "...     return xyz\n",
    ">>> def abc():\n",
    "...     print('Jestem funkcją abc().')\n",
    "...\n",
    ">>> abc = deco(abc)\n",
    ">>> abc()\n",
    "Jestem funkcją xyz().\n",
    "```"
   ]
  },
  {
   "cell_type": "markdown",
   "metadata": {},
   "source": [
    "W obu komórkach powyżej dzieje się to samo: zmienna `abc` zostaje przeniesiona z funkcji `abc()` na funkcję `xyz()` zwracaną przez `deco()` -- funkcja `xyz()` po prostu zastępuje `abc()` jakkolwiek `abc()` nie zostałaby zdefiniowana. \n",
    "\n",
    "Typowy wzorzec przy konstrukcji dekoratora wygląda następująco:\n",
    "* pobierz wszystkie argumenty przekazane do dekorowanej funkcji;\n",
    "* wywołaj dekorowaną funkcję na tych argumentach i przechowaj zwracaną wartość;\n",
    "* wykonaj jakieś ekstra działania.\n",
    "\n",
    "Punkt drugi musi zostać wykonany po pierwszym, ale punkt trzeci może być wykonywany w dowolnym momencie.\n",
    "\n",
    "Zilustrujemy ten wzorzec (znów banalnym) przykładem. Napiszemy dekorator, który zmienia zachowanie dekorowanej funkcji tylko w jednym: udekorowana funkcja podczas wywołania wyświetla napis `Ziemia jest płaska!`. "
   ]
  },
  {
   "cell_type": "markdown",
   "metadata": {},
   "source": [
    "```python\n",
    ">>> def ekstra_napis(f):\n",
    "...     '''Sprawia, że udekorowana funkcja wyświetla podczas\n",
    "...     wywołania napis \"Ziemia jest płaska!\"'''\n",
    "...     def wrapper(*args, **kwargs):\n",
    "...         print('Ziemia jest płaska!')\n",
    "...         wynik = f(*args, **kwargs)\n",
    "...         return wynik\n",
    "...     return wrapper\n",
    "```"
   ]
  },
  {
   "cell_type": "markdown",
   "metadata": {},
   "source": [
    "Zwróć uwagę jak przekazywane są argumenty. Udekorowana funkcja `f()` w rzeczywistości będzie funkcją `wrapper()`, a zatem użytkownik wywołując `f()` będzie w rzeczywistości wywoływał `wrapper()`. Funkcja `wrapper()` otrzyma w takim razie argumenty przeznaczone dla `f()`. Ponieważ nic nie wiemy o parametrach `f()`, więc korzystamy z modyfikatorów `*` i `**` w definicji `wrapper()`, aby **każdy** układ argumentów mógł zostać zaakceptowany. Te przekazane przez pozycję znajdą się w krotce `args`, te przekazane przez nazwę znajdą się w słowniku `kwargs`. W wierszu\n",
    "```python\n",
    "wynik = f(*args, **kwargs)\n",
    "```\n",
    "funkcja `wrapper()` wywołuje funkcję `f()` i następnie zwraca wynik. Z zachowania funkcji `f()` nic nie zostaje stracone.\n",
    "\n",
    "Pokażemy jak `ekstra_napis()` dekoruje prostą funkcję obliczającą potęgę liczby:"
   ]
  },
  {
   "cell_type": "markdown",
   "metadata": {},
   "source": [
    "```python\n",
    ">>> @ekstra_napis\n",
    "... def potęga(podstawa, wykładnik=2):\n",
    "...     '''Zwraca podstawa ** wykładnik.\n",
    "...     Domyślnie wykładnik ma wartość 2.'''\n",
    "...     return podstawa ** wykładnik\n",
    ">>> potęga(7)\n",
    "Ziemia jest płaska!\n",
    "49\n",
    "```"
   ]
  },
  {
   "cell_type": "markdown",
   "metadata": {},
   "source": [
    "Dekorator przyjmujący parametry wywoływany jest nieco inaczej. Załóżmy, że `deco()` jest takim dekoratorem. Wówczas dekorując nim funkcję `f()` piszemy tak:\n",
    "```python\n",
    "@deco(<parametry deco>)\n",
    "def f(<parametry f>):\n",
    "    <kod funkcji f>\n",
    "```\n",
    "Tym razem składnia ta jest równoważna z:\n",
    "```python\n",
    "def f(<parametry f>):\n",
    "    <kod funkcji f>\n",
    "\n",
    "f = deco(<parametry deco>)(f)\n",
    "```\n",
    "Jeśli parametry `deco()` są opcjonalne i odpowiadają nam ich domyślne wartości to możemy napisać tak:\n",
    "```python\n",
    "@deco()\n",
    "def f(<parametry f>):\n",
    "    <kod funkcji f>\n",
    "```\n",
    "**Nie możemy** jednak napisać:\n",
    "```python\n",
    "@deco\n",
    "def f(<parametry f>):\n",
    "    <kod funkcji f>\n",
    "```\n",
    "Ta składnia (bez nawiasów po nazwie dekoratora) zarezerwowana jest dla dekoratorów bezparametrowych.\n",
    "\n",
    "Pisanie dekoratora z parametrami wymaga w istocie napisania fabryki dekoratorów. Działa to tak. Powiedzmy, że chcemy napisać dekorator `deco()` z paramerem `p`. Wtedy wywołanie `deco(p)` na konkretnym `p` zwraca funkcję (różną dla różnych `p`) i dopiero ta funkcja jest dekoratorem bezparametrowym funkcji `f`.\n",
    "\n",
    "Zróbmy przykład:"
   ]
  },
  {
   "cell_type": "markdown",
   "metadata": {},
   "source": [
    "<!-- @ekstra_napis('Świat Dysku podpierają cztery słonie!')\n",
    "def średnia(a, *b, typ='arytmetyczna'):\n",
    "    '''Zwraca średnią (domyślnie arytmetyczną).'''\n",
    "    if typ == 'arytmetyczna':\n",
    "        return (a + sum(b)) / (1 + len(b))\n",
    "    else:\n",
    "        iloczyn = a\n",
    "        \n",
    "        for x in b:\n",
    "            iloczyn *= x\n",
    "        \n",
    "        return iloczyn ** (1 / (1 + len(b))) -->\n",
    "```python\n",
    ">>> def ekstra_napis(s='Ziemia jest płaska!'):\n",
    "...     '''s jest łańcuchem wyświetlanym przez dekorowaną\n",
    "...     funkcję podczas wywołania.\n",
    "...     Domyślnie \"Ziemia jest płaska!\"'''\n",
    "...     def dekorator(f):\n",
    "...         def wrapper(*args, **kwargs):\n",
    "...             print(s)\n",
    "...             wynik = f(*args, **kwargs)\n",
    "...             return wynik\n",
    "...         return wrapper\n",
    "...     return dekorator\n",
    "...\n",
    ">>> @ekstra_napis('Świat Dysku podpierają cztery słonie!')\n",
    "... def średnia(a, *b, typ='arytmetyczna'):\n",
    "...     '''Zwraca średnią (domyślnie arytmetyczną).'''\n",
    "...     if typ == 'arytmetyczna':\n",
    "...         return (a + sum(b)) / (1 + len(b))\n",
    "...     else:\n",
    "...         iloczyn = a\n",
    "...         for x in b:\n",
    "...             iloczyn *= x\n",
    "...         return iloczyn ** (1 / (1 + len(b)))\n",
    ">>> średnia(1, 2, 3, 4)\n",
    "Świat Dysku podpierają cztery słonie!\n",
    "2.5\n",
    "```"
   ]
  },
  {
   "cell_type": "markdown",
   "metadata": {},
   "source": [
    "Przykłady użycia:"
   ]
  },
  {
   "cell_type": "markdown",
   "metadata": {},
   "source": [
    "Oto użycie dekoratora `ekstra_napis()` bez składni ze znakiem `@`: "
   ]
  },
  {
   "cell_type": "markdown",
   "metadata": {},
   "source": [
    "```python\n",
    ">>> def potęga(podstawa, wykładnik=2):\n",
    "...     '''Zwraca podstawa ** wykładnik.\n",
    "...     Domyślnie wykładnik ma wartość 2.'''\n",
    "...     return podstawa ** wykładnik\n",
    ">>> potęga = ekstra_napis('Ala ma kota')(potęga)\n",
    ">>> potęga(7)\n",
    "Ala ma kota!\n",
    "49\n",
    "```"
   ]
  },
  {
   "cell_type": "markdown",
   "metadata": {},
   "source": [
    "## Dekorator `wraps()`\n",
    "\n",
    "Wróćmy do przykładu z bezparametrowym dekoratorem `ekstra_napis()`:"
   ]
  },
  {
   "cell_type": "markdown",
   "metadata": {},
   "source": [
    "```python\n",
    ">>> def ekstra_napis(f):\n",
    "...     '''Sprawia, że udekorowana funkcja wyświetla podczas\n",
    "...     wywołania napis \"Ziemia jest płaska!\"'''\n",
    "...     def wrapper(*args, **kwargs):\n",
    "...         print('Ziemia jest płaska!')\n",
    "...         wynik = f(*args, **kwargs)\n",
    "...         return wynik\n",
    "...     return wrapper\n",
    "```"
   ]
  },
  {
   "cell_type": "markdown",
   "metadata": {},
   "source": [
    "Stosujemy go do funkcji `potęga()`:"
   ]
  },
  {
   "cell_type": "markdown",
   "metadata": {},
   "source": [
    "```python\n",
    ">>> @ekstra_napis\n",
    "... def potęga(podstawa, wykładnik=2):\n",
    "...     '''Zwraca podstawa ** wykładnik.\n",
    "...     Domyślnie wykładnik ma wartość 2.'''\n",
    "...     return podstawa ** wykładnik\n",
    ">>> potęga(7)\n",
    "Ziemia jest płaska!\n",
    "49\n",
    "```"
   ]
  },
  {
   "cell_type": "markdown",
   "metadata": {},
   "source": [
    "Pamiętamy, że sposób działania funkcji `potęga()` pozostaje zachowane -- funkcja nadal oblicza i zwraca potęgę. Efekt dekoratora sprowadza się do wyświetlenia napisu (którego normalnie, bez dekoracji, by nie było). Niestety, po drodze zgubiliśmy metadane funkcji.\n",
    "\n",
    "Nazwę i docstring:\n",
    "\n",
    "```python\n",
    ">>> potęga.__name__\n",
    "'wrapper'\n",
    ">>> potęga.__code__.co_name\n",
    "'wrapper'\n",
    ">>> help(potęga)\n",
    "Help on function wrapper in module __main__:\n",
    "wrapper(*args, **kwargs)\n",
    "```"
   ]
  },
  {
   "cell_type": "markdown",
   "metadata": {},
   "source": [
    "Aby zachować metadane funkcji w definicji dekoratora należy użyć... dekoratora `wraps()` z modulu `functools`!\n",
    "Dekorator ten wstawiamy przed definicją funkcji podmieniającą funkcję dekorowaną. Obowiązkowym parametrem w tym dekoratorze jest dekorowana funkcja. Zwróć uwagę na różne role występujących funkcji: dla `ekstra_napis()` argument `f` jest funkcją dekorowaną, dla `wraps()` dekorowaną funkcją jest `wrapper()` a `f` jest parametrem."
   ]
  },
  {
   "cell_type": "markdown",
   "metadata": {},
   "source": [
    "<!-- from functools import wraps\n",
    "\n",
    "def ekstra_napis(f):\n",
    "    '''Sprawia, że udekorowana funkcja wyświetla podczas\n",
    "    wywołania napis \"Ziemia jest płaska!\"'''\n",
    "    @wraps(f)\n",
    "    def wrapper(*args, **kwargs):\n",
    "        print('Ziemia jest płaska!')\n",
    "        wynik = f(*args, **kwargs)\n",
    "        return wynik\n",
    "    return wrapper -->\n",
    "```python\n",
    ">>> from functools import wraps\n",
    ">>> def ekstra_napis(f):\n",
    "...     '''Sprawia, że udekorowana funkcja wyświetla podczas\n",
    "...     wywołania napis \"Ziemia jest płaska!\"'''\n",
    "...     @wraps(f)\n",
    "...     def wrapper(*args, **kwargs):\n",
    "...         print('Ziemia jest płaska!')\n",
    "...         wynik = f(*args, **kwargs)\n",
    "...         return wynik\n",
    "...     return wrapper\n",
    ">>> @ekstra_napis\n",
    "... def potęga(podstawa, wykładnik=2):\n",
    "...     '''Zwraca podstawa ** wykładnik.\n",
    "...     Domyślnie wykładnik ma wartość 2.'''\n",
    "...     return podstawa ** wykładnik\n",
    ">>> potęga(5, 3)\n",
    "Ziemia jest płaska!\n",
    "125\n",
    ">>> potęga.__name__\n",
    "'potęga'\n",
    ">>> potęga.__code__.co_name\n",
    "'wrapper'\n",
    ">>> help(potęga)\n",
    "Help on function potęga in module __main__:\n",
    "\n",
    "potęga(podstawa, wykładnik=2)\n",
    "    Zwraca podstawa ** wykładnik.\n",
    "    Domyślnie wykładnik ma wartość 2.\n",
    "```"
   ]
  },
  {
   "cell_type": "markdown",
   "metadata": {},
   "source": [
    "Atrybut `.__code__.co_name` nie został zmieniony, gdyż jest tylko do odczytu. Atrybut `.__name__` i przede wszystkim docstring są takie jak tego oczekujemy.\n",
    "\n",
    "Analogiczna modyfikacja dla dekoratora z parametrami:"
   ]
  },
  {
   "cell_type": "markdown",
   "metadata": {},
   "source": [
    "```python\n",
    ">>> def ekstra_napis(s='Ziemia jest płaska!'):\n",
    "...     '''s jest łańcuchem wyświetlanym przez dekorowaną\n",
    "...     funkcję podczas wywołania.\n",
    "...     Domyślnie \"Ziemia jest płaska!\"'''\n",
    "...     def dekorator(f):\n",
    "...         @wraps(f)\n",
    "...         def wrapper(*args, **kwargs):\n",
    "...             print(s)\n",
    "...             wynik = f(*args, **kwargs)\n",
    "...             return wynik\n",
    "...         return wrapper\n",
    "...     return dekorator\n",
    "```"
   ]
  },
  {
   "cell_type": "markdown",
   "metadata": {},
   "source": [
    "Przykłady użycia:"
   ]
  },
  {
   "cell_type": "markdown",
   "metadata": {},
   "source": [
    "```python\n",
    ">>> @ekstra_napis('Świat Dysku podpierają cztery słonie!')\n",
    "... def średnia(a, *b, typ='arytmetyczna'):\n",
    "...     '''Zwraca średnią (domyślnie arytmetyczną).'''\n",
    "...     if typ == 'arytmetyczna':\n",
    "...         return (a + sum(b)) / (1 + len(b))\n",
    "...     else:\n",
    "...         iloczyn = a\n",
    "...         for x in b:\n",
    "...             iloczyn *= x\n",
    "...         return iloczyn ** (1 / (1 + len(b)))\n",
    ">>> średnia(1, 2, 3, 4, 5)\n",
    "Świat Dysku podpierają cztery słonie!\n",
    "3.0\n",
    ">>> średnia.__name__\n",
    "'średnia'\n",
    ">>> średnia.__code__.co_name\n",
    "'wrapper'\n",
    ">>> help(średnia)\n",
    "Help on function średnia in module __main__:\n",
    "średnia(a, *b, typ='arytmetyczna')\n",
    "    Zwraca średnią (domyślnie arytmetyczną).\n",
    "```"
   ]
  },
  {
   "cell_type": "markdown",
   "metadata": {},
   "source": [
    "## Przykład: Mierzenie czasu wykonania funkcji\n",
    "\n",
    "Funkcja [`perf_counter()`](https://docs.python.org/3/library/time.html#time.perf_counter) z modułu `time` pozwala mierzyć czas wykonania fragmentu kodu. Wywołanie `perf_counter()` zwraca czas w sekundach od jakiegoś punktu odniesienia, określonego w dokumentacji jako *undefined*:"
   ]
  },
  {
   "cell_type": "markdown",
   "metadata": {},
   "source": [
    "```python\n",
    ">>> from time import perf_counter\n",
    ">>> perf_counter()\n",
    "203691.495784303\n",
    "```"
   ]
  },
  {
   "cell_type": "markdown",
   "metadata": {},
   "source": [
    "Sensowną wartość daje dopiero różnica wartości zwrócona przez dwa wywołania `perf_counter()`. Zmierzmy ile czasu będzie trwało odliczanie od miliona do zera: "
   ]
  },
  {
   "cell_type": "markdown",
   "metadata": {},
   "source": [
    "```python\n",
    ">>> def odliczanie(n):\n",
    "...     '''Odlicza od n do 0.'''\n",
    "...     while n > 0:\n",
    "...         n -= 1\n",
    "...\n",
    ">>> from time import perf_counter\n",
    ">>> n = 10**8\n",
    ">>> start = perf_counter(); odliczanie(n); end = perf_counter()\n",
    ">>> print('Czas: {} sekund.'.format(end - start))\n",
    "Czas: 1.9494607530068606 sekund.\n",
    "```"
   ]
  },
  {
   "cell_type": "markdown",
   "metadata": {},
   "source": [
    "Ciekawszy przykład: wiemy, że dodawanie wartości do listy metodą `.append()` jest znacznie bardziej wydajne niż wstawianie jej metodą `.insert()`. Sprawdźmy to eksperymentalnie. Piszemy dwie funkcje: `dodaj_na_końcu()` wykorzystuje `.append()`, `wstaw_na_początku()` wykorzystuje `.insert()` do wstawiania na pozycji 0."
   ]
  },
  {
   "cell_type": "markdown",
   "metadata": {},
   "source": [
    "```python\n",
    ">>> import random\n",
    ">>> def dodaj_na_końcu(lst, liczba_wartości):\n",
    "...     for _ in range(liczba_wartości):\n",
    "...         lst.append(random.random())\n",
    ">>> def wstaw_na_początku(lst, liczba_wartości):\n",
    "...     for _ in range(liczba_wartości):\n",
    "...         lst.insert(0, random.random())\n",
    "```"
   ]
  },
  {
   "cell_type": "markdown",
   "metadata": {},
   "source": [
    "Prowadzimy dwa eksperymenty. Dodajemy losowe wartość do pustej początkowo listy:"
   ]
  },
  {
   "cell_type": "markdown",
   "metadata": {},
   "source": [
    "```python\n",
    ">>> lst = []\n",
    ">>> start = perf_counter()\n",
    ">>> dodaj_na_końcu(lst, liczba_wartości=10**5)\n",
    ">>> end = perf_counter()\n",
    ">>> r1 = end - start\n",
    ">>> print('Czas: {} sekund.'.format(r1))\n",
    "Czas: 0.005579272023169324 sekund.\n",
    ">>> lst = []\n",
    ">>> start = perf_counter()\n",
    ">>> wstaw_na_początku(lst, liczba_wartości=10**5)\n",
    ">>> end = perf_counter()\n",
    ">>> r2 = end - start\n",
    ">>> print('Czas: {} sekund.'.format(r2))\n",
    "Czas: 0.811013244005153 sekund.\n",
    ">>> r2 / r1\n",
    "145.3618394366178\n",
    "```"
   ]
  },
  {
   "cell_type": "markdown",
   "metadata": {},
   "source": [
    "Widać, że trzeba mieć naprawdę dobre powody, aby używać `.insert()` zamiast `.append()`!\n",
    "\n",
    "Jaki związek mają te testy z dekoratorami? Otóż można napisać dekorator dokładający funkcjonalność mierzenia czasu. W dekoratorze zamkniemy wzorzec mierzenia czasu zaprezentowany wyżej, w efekcie zniknie konieczność wielokrotnego pisania tego samego kodu. Możesz w tym momencie się zatrzymać i spróbować taki dekorator napisać sam. Dekorator dokładający napisy do funkcji już podaliśmy, teraz wystarczy, aby ten napis był czasem wykonania dekorowanej funkcji.\n",
    "\n",
    "Podam tutaj ten dekorator w (prawie) takiej formie, w jakiej występuje w książce [*Python Receptury*](https://www.worldcat.org/title/python-receptury/oclc/871683884&referer=brief_results):"
   ]
  },
  {
   "cell_type": "markdown",
   "metadata": {},
   "source": [
    "```python\n",
    ">>> from time import perf_counter\n",
    ">>> from functools import wraps\n",
    ">>> def timethis(f):\n",
    "...     @wraps(f)\n",
    "...     def wrapper(*args, **kwargs):\n",
    "...         start = perf_counter()\n",
    "...         wynik = f(*args, **kwargs)\n",
    "...         end = perf_counter()\n",
    "...         print('{}: {} sekund.'.format(f.__name__, end - start))\n",
    "...         return wynik\n",
    "...     return wrapper\n",
    "```"
   ]
  },
  {
   "cell_type": "markdown",
   "metadata": {},
   "source": [
    "Jako zastosowanie sprawdzimy wydajność różnych funkcji obliczających sumę wartości w sekwencji:"
   ]
  },
  {
   "cell_type": "markdown",
   "metadata": {},
   "source": [
    "```python\n",
    ">>> from functools import reduce\n",
    ">>> @timethis\n",
    "... def suma_pętlą_for(seq):\n",
    "...     suma = 0\n",
    "...     for w in seq:\n",
    "...         suma += w\n",
    "...     return suma\n",
    ">>> @timethis\n",
    "... def suma_pętlą_while(seq):\n",
    "...     i, suma = 0, 0\n",
    "...     while i < len(seq):\n",
    "...         suma += seq[i]\n",
    "...         i += 1\n",
    "...     return suma\n",
    ">>> from operator import add\n",
    ">>> @timethis\n",
    "... def suma_funkcją_reduce(seq):\n",
    "...     return reduce(add, seq, 0)\n",
    ">>> @timethis\n",
    "... def suma_funkcją_sum(seq):\n",
    "...     return sum(seq)\n",
    ">>> seq = range(10**6)\n",
    ">>> suma_pętlą_for(seq)\n",
    "suma_pętlą_for: 0.028646794002270326 sekund.\n",
    "499999500000\n",
    ">>> suma_pętlą_while(seq)\n",
    "suma_pętlą_while: 0.08484931400744244 sekund.\n",
    "499999500000\n",
    ">>> suma_funkcją_reduce(seq)\n",
    "suma_funkcją_reduce: 0.02702571201371029 sekund.\n",
    "499999500000\n",
    ">>> suma_funkcją_sum(seq)\n",
    "suma_funkcją_sum: 0.01586138500715606 sekund.\n",
    "499999500000\n",
    "```"
   ]
  },
  {
   "cell_type": "markdown",
   "metadata": {},
   "source": [
    "Testy poniżej warto wykonać kilka razy i w różnej kolejności. Jeśli akurat w danej chwili system jest obciążony innymi zadaniami, to fakt ten wpłynie na wynik. Do bardziej profesjonalnych zastosowań wykorzystuje się moduł `timeit`. Ponadto w notatniku Jupyter dostępna jest funkcja specjalna  `%%timeit` powtarzająca wielokrotnie wywołania, obliczająca średni czas wykonania i inne parametry statystyczne. "
   ]
  },
  {
   "cell_type": "code",
   "execution_count": 1,
   "metadata": {},
   "outputs": [
    {
     "data": {
      "text/plain": [
       "499999500000"
      ]
     },
     "execution_count": 1,
     "metadata": {},
     "output_type": "execute_result"
    }
   ],
   "source": [
    "sum(range(10**6))"
   ]
  },
  {
   "cell_type": "markdown",
   "metadata": {},
   "source": [
    "Na moim komputerze wygrywa sumowanie wbudowaną funkcją `sum()`, najgorzej wypada pętla `while`."
   ]
  }
 ],
 "metadata": {
  "anaconda-cloud": {},
  "kernelspec": {
   "display_name": "py312",
   "language": "python",
   "name": "python3"
  },
  "language_info": {
   "codemirror_mode": {
    "name": "ipython",
    "version": 3
   },
   "file_extension": ".py",
   "mimetype": "text/x-python",
   "name": "python",
   "nbconvert_exporter": "python",
   "pygments_lexer": "ipython3",
   "version": "3.12.4"
  }
 },
 "nbformat": 4,
 "nbformat_minor": 1
}
