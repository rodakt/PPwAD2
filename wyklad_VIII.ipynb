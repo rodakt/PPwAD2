{
 "cells": [
  {
   "cell_type": "markdown",
   "metadata": {
    "slideshow": {
     "slide_type": "slide"
    }
   },
   "source": [
    "# Podstawy programowania (AD) 2\n",
    "\n",
    "## Tomasz Rodak\n",
    "\n",
    "\n",
    "Wykład VIII\n",
    "\n",
    "---\n",
    "\n",
    "## Literatura\n",
    "\n",
    "Na temat rekurencji (i nie tylko) bardzo polecam wykłady CS1 z Berkeley:\n",
    "\n",
    "[Composing Programs](https://www.composingprograms.com/pages/17-recursive-functions.html)\n",
    "\n",
    "Rekurencja na tych wykładach jest omawiana m. in. [tutaj](http://www.composingprograms.com/pages/17-recursive-functions.html) i [tutaj](http://www.composingprograms.com/pages/28-efficiency.html).\n",
    "\n",
    "Warto również zajrzeć do legendarnego podręcznika [SICP](https://web.mit.edu/6.001/6.037/sicp.pdf). Programy prezentowane są tam w języku Scheme :-)\n",
    "\n",
    "\n",
    "\n",
    "## Rekurencja\n",
    "\n",
    "\n",
    "Funkcję nazywamy **rekurencyjną**, gdy wywołuje samą siebie. Wywołanie to może być bezpośrednie lub pośrednie. Implementacja rekurencji polega często na obserwacji, że rozwiązanie problemu dla pewnych szczególnych argumentów jest oczywiste, a dla argumentów ogólnych prosto wyraża się przez rozwiązanie **tego samego** problemu dla argumentów \"prostszych\", znajdujących się w jakimś sensie \"bliżej\" przypadku oczywistego.\n",
    "\n",
    "**Przykład.** Chcemy napisać funkcję `suma_naturalnych(n)` zwracającą sumę kolejnych liczb naturalnych od `1` do `n`:\n",
    "```\n",
    "1 + 2 + ... + n\n",
    "```"
   ]
  },
  {
   "cell_type": "markdown",
   "metadata": {},
   "source": [
    "Przypadek szczególny to argument `n` równy `0`. Wtedy mamy sumę po zbiorze pustym, czyli `0`. Nic nie trzeba liczyć, wynik jest oczywisty. Dla `n` przekraczających `0` mamy przypadek ogólny, o którym myślimy tak: gdyby suma dla argumentu `n - 1` była już obliczona, to wynikiem byłaby wartość tej sumy powiększona o `n`. Inaczej mówiąc:\n",
    "* `suma_naturalnych(0)` zwraca 0,\n",
    "* `suma_naturalnych(n)` zwraca `n + suma_naturalnych(n - 1)` dla `n > 0`.\n",
    "\n",
    "\n",
    "Implementacja rekurencyjna funkcji `suma_naturalnych()`:"
   ]
  },
  {
   "cell_type": "markdown",
   "metadata": {},
   "source": [
    "```python\n",
    ">>> def suma_naturalnych(n):\n",
    "...     '''Zwraca 1 + 2 + ... + n'''\n",
    "...     if n == 0:\n",
    "...         return 0\n",
    "...     return n + suma_naturalnych(n - 1)\n",
    ">>> suma_naturalnych(5)\n",
    "15\n",
    "```"
   ]
  },
  {
   "cell_type": "markdown",
   "metadata": {},
   "source": [
    "Przebieg wywołania `suma_naturalnych(5)`:\n",
    "```\n",
    "suma_naturalnych(5)\n",
    "5 + suma_naturalnych(4)\n",
    "5 + (4 + suma_naturalnych(3))\n",
    "5 + (4 + (3 + suma_naturalnych(2)))\n",
    "5 + (4 + (3 + (2 + suma_naturalnych(1))))\n",
    "5 + (4 + (3 + (2 + (1 + suma_naturalnych(0)))))\n",
    "5 + (4 + (3 + (2 + (1 + 0))))\n",
    "5 + (4 + (3 + (2 + 1)))\n",
    "5 + (4 + (3 + 3))\n",
    "5 + (4 + 6)\n",
    "5 + 10\n",
    "15\n",
    "```\n",
    "Zauważ, że ten \"wybrzuszający\" się łańcuch operacji musi być zapamiętywany. Powiemy, że funkcja `suma_naturalnych()` jest **rekurencyjna** oraz, że jej wywołanie generuje **proces rekurencyjny**, czyli  buduje łańcuch odłożonych operacji, które muszą być zapamiętywane; im dłuższy proces, tym więcej operacji zostaje odłożonych.\n",
    "\n",
    "W języku Python istnieje limit na liczbę odłożonych operacji. Przekroczenie tego limitu skutkuje wyjątkiem `RecursionError`:"
   ]
  },
  {
   "cell_type": "markdown",
   "metadata": {},
   "source": [
    "```python\n",
    ">>> import sys\n",
    ">>> sys.getrecursionlimit()\n",
    "3000\n",
    ">>> suma_naturalnych(3000)\n",
    "Traceback (most recent call last):\n",
    "  ...\n",
    "RecursionError: maximum recursion depth exceeded in comparison\n",
    ">>> sys.setrecursionlimit(4000)\n",
    ">>> suma_naturalnych(3000)\n",
    "4501500\n",
    "```"
   ]
  },
  {
   "cell_type": "markdown",
   "metadata": {},
   "source": [
    "Nasza funkcja `suma_naturalnych()` nie ma zatem zbyt wielu zalet w porównaniu z tradycyjną implementacją za pomocą pętli. Nie dość, że zajmuje pamięć -- tym więcej im większe `n` -- to jeszcze do tego nie jest w stanie zwrócić wyniku  dla niedużego przecież `n` równego `3000`. \n",
    "\n",
    "Popatrzmy chwilę na nasze sumowanie zakodowane przy pomocy pętli `while`:\n",
    "\n",
    "```python\n",
    ">>> def suma_naturalnych(n):\n",
    "...     '''Zwraca 1 + 2 + ... + n'''\n",
    "...     k, suma = 0, 0\n",
    "...     while k < n:\n",
    "...         k += 1\n",
    "...         suma += k\n",
    "...     return suma\n",
    ">>> suma_naturalnych(5)\n",
    "15\n",
    "```\n",
    "\n",
    "W pętli obsługujemy dwie zmienne: kroczącą sumę `suma` i dodawaną wartość `k`. Tak samo będzie, gdybyśmy wykorzystali pętlę `for`, tyle że wtedy pętla sama zajmie się aktualizacją wartości `k`:\n",
    "\n",
    "```python\n",
    ">>> def suma_naturalnych(n):\n",
    "...     '''Zwraca 1 + 2 + ... + n'''\n",
    "...     suma = 0\n",
    "...     for k in range(1, n + 1):\n",
    "...         suma += k\n",
    "...     return suma\n",
    ">>> suma_naturalnych(5)\n",
    "15\n",
    "```\n",
    "\n",
    "Okazuje się, że rekurencja potrafi odwzorować zwykłą pętlę `while` czy `for`. Zmienne (być może liczne) przetwarzane w pętli przekazuje się kolejnym wywołaniom rekurencyjnym za pomocą argumentów. Oto ilustracja dla funkcji `suma_naturalnych()`:"
   ]
  },
  {
   "cell_type": "markdown",
   "metadata": {},
   "source": [
    "```python\n",
    ">>> def sumuj(n, suma):\n",
    "...     '''Zwraca suma + (1 + 2 + 3 + ... + n)'''\n",
    "...     if n == 0:\n",
    "...         return suma\n",
    "...     return sumuj(n - 1, n + suma)\n",
    ">>> def suma_naturalnych(n):\n",
    "...     '''Zwraca 1 + 2 + ... + n'''\n",
    "...     return sumuj(n, 0)\n",
    ">>> suma_naturalnych(5)\n",
    "15\n",
    "```"
   ]
  },
  {
   "cell_type": "markdown",
   "metadata": {},
   "source": [
    "W powyższej implementacji rekurencyjna jest funkcja `sumuj()`. Rozpiszmy przykładowy łańcuch wywołań:\n",
    "\n",
    "```\n",
    "suma_naturalnych(5)\n",
    "sumuj(5, 0)\n",
    "sumuj(4, 5)\n",
    "sumuj(3, 9)\n",
    "sumuj(2, 12)\n",
    "sumuj(1, 14)\n",
    "sumuj(0, 15)\n",
    "15\n",
    "```\n",
    "\n",
    "Tym razem nie ma łańcucha odłożonych operacji, proces się nie \"wybrzusza\". Funkcja `sumuj()` jest rekurencyjna, ale implementuje **proces iteracyjny**; operacje dodawania wykonywane od razu i zapamiętywane w dodatkowej zmiennej `suma`. Z tego punktu widzenia rekurencyjność `sumuj()` jest jedynie własnością **składniową**, samo jednak wywołanie jest równoważne zwykłej pętli.\n",
    "\n",
    "O funkcji rekurencyjnej powiemy, że jest **rekurencją ogonową**, jeśli wartość zwracana przez ostatnie wywołanie rekurencyjne jest finalną wartością zwracaną przez funkcję. W powyższym przykładzie ostatnie wywołanie to `sumuj(0, 15)`, które zwraca `15` co jest ostatecznym wynikiem. Tymczasem tutaj\n",
    "\n",
    "```\n",
    "suma_naturalnych(5)\n",
    "5 + suma_naturalnych(4)\n",
    "5 + (4 + suma_naturalnych(3))\n",
    "5 + (4 + (3 + suma_naturalnych(2)))\n",
    "5 + (4 + (3 + (2 + suma_naturalnych(1))))\n",
    "5 + (4 + (3 + (2 + (1 + suma_naturalnych(0)))))\n",
    "5 + (4 + (3 + (2 + (1 + 0))))\n",
    "5 + (4 + (3 + (2 + 1)))\n",
    "5 + (4 + (3 + 3))\n",
    "5 + (4 + 6)\n",
    "5 + 10\n",
    "15\n",
    "```\n",
    "\n",
    "ostanim wywołaniem jest `suma_naturalnych(0)`, co oczywiście **nie jest** finalnym wynikiem. Żeby ten wynik uzyskać środowisko uruchmieniowe musi teraz wrócić przez wszystkie odłożone na stosie wywołania aż do pierwszego, które zwróci wartość i zakończy działanie funkcji. Dlatego `sumuj()` jest rekurencją ogonową, ale nie jest nią `suma_naturalnych()` zaprezentowana na górze strony.\n",
    "\n",
    "Jeżeli środowisko \"wie\", że wywoływana rekurencja jest ogonowa, to wygenerowane po drodze wywołania może porzucać, gdyż i tak nie wpłyną na ostateczny wynik. Wywołanie `sumuj(4, 5)` nie musi być pamiętane, jeśli działa już kolejne wywołanie `sumuj(3, 9)`. Po zakończeniu działanie `sumuj(3, 9)` uruchamiane jest `sumuj(2, 12)`, zatem środowisko lokalne utworzone przez `sumuj(3, 9)` może zostać bez szkody zapomniane, itd.\n",
    "\n",
    "Mówimy, że język programowania posiada **optymalizację ogonową** (*tail call optimization*), jeśli ma zdolność zapominania zbędnych odwołań rekurencyjnych w rekurencji ogonowej. Język Python takiej zdolności nie posiada. Mimo, że tworzenie łańcucha odłożonych operacji nie jest konieczne dla wywołania `sumuj()`, to i tak dla dużych `n` to wywołanie wysypuje się wyjątkiem `RecursionError`:"
   ]
  },
  {
   "cell_type": "markdown",
   "metadata": {},
   "source": [
    "```python\n",
    ">>> sumuj(3000, 1)\n",
    "Traceback (most recent call last):\n",
    "  ...\n",
    "RecursionError: maximum recursion depth exceeded in comparison\n",
    "```"
   ]
  },
  {
   "cell_type": "markdown",
   "metadata": {},
   "source": [
    "Jeszcze jeden przykład -- prosta pętla odliczająca:"
   ]
  },
  {
   "cell_type": "markdown",
   "metadata": {},
   "source": [
    "```python\n",
    ">>> def odlicz(k):\n",
    "...     '''Odlicza od k do 0'''\n",
    "...     while k > 0:\n",
    "...         print('Odliczanie:', k)\n",
    "...         k -= 1\n",
    "...     print('Start!:    ', 0)\n",
    ">>> odlicz(5)\n",
    "Odliczanie: 5\n",
    "Odliczanie: 4\n",
    "Odliczanie: 3\n",
    "Odliczanie: 2\n",
    "Odliczanie: 1\n",
    "Start!:     0\n",
    "```"
   ]
  },
  {
   "cell_type": "markdown",
   "metadata": {},
   "source": [
    " i zastępująca ją rekurencja ogonowa:"
   ]
  },
  {
   "cell_type": "markdown",
   "metadata": {},
   "source": [
    "```python\n",
    ">>> def odlicz(k):\n",
    "...     '''Odlicza od k do 0'''\n",
    "...     if k > 0:\n",
    "...         print('Odliczanie:', k)\n",
    "...         return odlicz(k - 1)\n",
    "...     print('Start!:    ', k)\n",
    ">>> odlicz(5)\n",
    "Odliczanie: 5\n",
    "Odliczanie: 4\n",
    "Odliczanie: 3\n",
    "Odliczanie: 2\n",
    "Odliczanie: 1\n",
    "Start!:     0\n",
    "```"
   ]
  },
  {
   "cell_type": "markdown",
   "metadata": {},
   "source": [
    "Sprawne korzystanie z rekurencji wymaga praktyki. W wielu językach programowania brak optymalizacji ogonowej, co powoduje, że rozwiązanie rekurencyjne jest często mniej wydajne niż równoważne rozwiązanie wykorzystujące pętle. Ponadto, niektóre języki programowania bardziej wspierają idiom rekurencji, inne mniej. Korzystanie z pętli w Pythonie, zwłaszcza z pętli `for` po kolekcjach, jest bardzo naturalne. Nie ma wielkiego sensu w zastępowaniu takiej pętli wymyślną rekurencją ogonową, która i tak nie zostanie zoptymalizowana. Z drugiej strony, w językach takich jak Lisp, jego dialekt [Scheme](https://www.gnu.org/software/mit-scheme/documentation/mit-scheme-ref/Iteration.html) czy [Haskell](http://learnyouahaskell.com/recursion) nie ma w ogóle instrukcji sterujących odpowiadających zwykłym pętlom `while` czy `for` z języków imperatywnych. Zachowanie pętli implementowane jest rekurencją (oczywiście ze wspieraną optymalizacją ogonową) lub wykonywane jest niejawnie przez wywołania funkcyjne. W tych językach stoswanie rekurencji jest bardzo naturalne. \n",
    "\n",
    "Rekurencja jest ogólniejsza od pętli, jednak rozwiązania wykorzystujące pętle uchodzą za łatwiejsze do zrozumienia. Zasada ta ma wiele wyjątków. Zdarza się, że rozwiązanie rekurencyjne jest znacznie prostsze do znalezienia niż jakiekowlwiek rozwiązanie za pomocą pętli. Przykładu dostarcza problem liczby podziałów liczby naturalnej, o którym możesz poczytać [tutaj](http://composingprograms.com/pages/17-recursive-functions.html#example-partitions) w *Composing Programs*. \n",
    "\n",
    "Bardzo ważna metodyka projektowania algorytmów [dziel i zwyciężaj](https://pl.wikipedia.org/wiki/Dziel_i_zwyci%C4%99%C5%BCaj) dostarcza wielu przykładów problemów z wydajnymi rozwiązaniami rekurencyjnymi. Czołowe przykłady to [wyszukiwanie binarne](https://pl.wikipedia.org/wiki/Wyszukiwanie_binarne), [sortowanie szybkie](https://pl.wikipedia.org/wiki/Sortowanie_szybkie) i [sortowanie przez scalanie](https://pl.wikipedia.org/wiki/Sortowanie_przez_scalanie)."
   ]
  },
  {
   "cell_type": "markdown",
   "metadata": {},
   "source": [
    "## Rekurencja w ciągu Fibonacciego\n",
    "\n",
    "### Definicja i analiza wydajności\n",
    "\n",
    "Ciąg Fibonacciego matematycy definiują następująco:\n",
    "$$F_0 := 0,\\quad F_1 := 1$$\n",
    "i dla $n\\geqslant 2,$\n",
    "$$F_n := F_{n-2} + F_{n-1}.$$\n",
    "\n",
    "W wielu językach programowania definicja ta daje się wprost przełożyć na definicję funkcji obliczającej wyraz o indeksie `n`:"
   ]
  },
  {
   "cell_type": "markdown",
   "metadata": {
    "slideshow": {
     "slide_type": "-"
    }
   },
   "source": [
    "```python\n",
    ">>> def fib(n):\n",
    "...     '''Zwraca wyraz F_n, n >= 0 ciągu Fibonacciego.'''\n",
    "...     if n == 0 or n == 1:\n",
    "...         return n\n",
    "...     return fib(n - 1) + fib(n - 2)\n",
    "```"
   ]
  },
  {
   "cell_type": "markdown",
   "metadata": {},
   "source": [
    "Łańcuch kolejnych wywołań i odłożonych operacji dla `fib(5)` ma postać:\n",
    "```\n",
    "fib(5)\n",
    "fib(3) + fib(4)\n",
    "(fib(1) + fib(2)) + fib(4)\n",
    "(1 + fib(2)) + fib(4)\n",
    "(1 + (fib(0) + fib(1))) + fib(4)\n",
    "(1 + (0 + fib(1))) + fib(4)\n",
    "(1 + (0 + 1)) + fib(4)\n",
    "(1 + 1) + fib(4)\n",
    "2 + fib(4)\n",
    "2 + (fib(2) + fib(3))\n",
    "2 + ((fib(0) + fib(1)) + fib(3))\n",
    "2 + ((0 + fib(1)) + fib(3))\n",
    "2 + ((0 + 1) + fib(3))\n",
    "2 + (1 + fib(3))\n",
    "2 + (1 + (fib(1) + fib(2)))\n",
    "2 + (1 + (1 + fib(2)))\n",
    "2 + (1 + (1 + (fib(0) + fib(1))))\n",
    "2 + (1 + (1 + (0 + fib(1))))\n",
    "2 + (1 + (1 + (0 + 1)))\n",
    "2 + (1 + (1 + 1))\n",
    "2 + (1 + 2)\n",
    "2 + 3\n",
    "5\n",
    "```\n",
    "[Tutaj](http://composingprograms.com/pages/28-efficiency.html) znajduje się przedstawienie ciągu wywołań dla `fib(6)` w postaci drzewa binarnego:\n",
    "![image.png](http://www.composingprograms.com/img/fib.png)\n",
    "\n",
    "Co widzimy? Ta rekurencja nie jest ogonowa -- generowany proces jest faktycznie rekurencyjny, i co więcej nie jest liniowy, lecz drzewiasty. Spodziewamy się, że już dla niewielkich `n` wywołania będą mało wydajne ze względu na liczbę powtórzeń jaka pojawia się w drzewie. Na przykład dla `fib(6)` wartość `fib(4)` jest obliczana dwa razy. Za chwilę zajmiemy się pytaniem, czy te wielokrotnie obliczane te same wywołania da się gdzieś zapamiętać, i dzięki temu poprawić wydajność. Teraz jednak zbadajmy eksperymentalnie, jaki jest czas wykonania `fib(n)` dla rosnącego `n`.  "
   ]
  },
  {
   "cell_type": "markdown",
   "metadata": {},
   "source": [
    "```python\n",
    ">>> import timeit\n",
    ">>> timeit.timeit('fib(10)', globals=globals(), number=1_000_000) / 1_000_000\n",
    "6.117947203005315e-06\n",
    ">>> timeit.timeit('fib(20)', globals=globals(), number=1_000) / 1_000\n",
    "0.0007805715260037686\n",
    ">>> timeit.timeit('fib(30)', globals=globals(), number=10) / 10\n",
    "0.09316594789997908\n",
    ">>> timeit.timeit('fib(37)', globals=globals(), number=1) / 1\n",
    "2.7001188330032164\n",
    "```\n"
   ]
  },
  {
   "cell_type": "markdown",
   "metadata": {},
   "source": [
    "Czas wykonania `fib(37)` jest rzędu kilku sekund. Oznacza, że dochodzimy do kresu, niewiele więcej kolejnych liczb Fibonacciego da się tym sposobem policzyć. Nawet jeśli będziesz dysponował znacznie szybszym komputerem, nie zmieni to istotnie obrazu sytuacji.\n",
    "\n",
    "Czas dla `fib(41)` to już ponad 15 sekund:\n",
    "\n",
    "```python\n",
    ">>> timeit.timeit('fib(41)', globals=globals(), number=1) / 1\n",
    "19.08029490300396\n",
    "```"
   ]
  },
  {
   "cell_type": "markdown",
   "metadata": {},
   "source": [
    "Dalszą analizę wykonamy w notatniku Jupyter, gdzie można łatwo rysować wykresy. "
   ]
  },
  {
   "cell_type": "markdown",
   "metadata": {},
   "source": [
    "Sprawdźmy jak skaluje się czas wykonania `fib(n)` wraz ze wzrostem `n`. Czas będziemy mierzyć funkcją `perf_counter()`. Zaniedbujemy małe `n`, gdyż dla nich czasy będą bardzo krótkie, a przez to jednorazowy pomiar narażony na duże niedokładności:"
   ]
  },
  {
   "cell_type": "code",
   "execution_count": 1,
   "metadata": {},
   "outputs": [
    {
     "name": "stdout",
     "output_type": "stream",
     "text": [
      "10 : 55        | Czas: 1.1853000614792109e-05\n",
      "11 : 89        | Czas: 1.4110992196947336e-05\n",
      "12 : 144       | Czas: 2.1422994905151427e-05\n",
      "13 : 233       | Czas: 4.2405998101457953e-05\n",
      "14 : 377       | Czas: 6.19289930909872e-05\n",
      "15 : 610       | Czas: 0.00010846700752153993\n",
      "16 : 987       | Czas: 0.00016623700503259897\n",
      "17 : 1597      | Czas: 0.0003700700035551563\n",
      "18 : 2584      | Czas: 0.0007529720023740083\n",
      "19 : 4181      | Czas: 0.0004202170093776658\n",
      "20 : 6765      | Czas: 0.0006923509936314076\n",
      "21 : 10946     | Czas: 0.0016161209932761267\n",
      "22 : 17711     | Czas: 0.001906038000015542\n",
      "23 : 28657     | Czas: 0.0029742789920419455\n",
      "24 : 46368     | Czas: 0.004827292010304518\n",
      "25 : 75025     | Czas: 0.0075771760020870715\n",
      "26 : 121393    | Czas: 0.013218088002759032\n",
      "27 : 196418    | Czas: 0.02107871499902103\n",
      "28 : 317811    | Czas: 0.03499059200112242\n",
      "29 : 514229    | Czas: 0.05782363899925258\n",
      "30 : 832040    | Czas: 0.11132692199316807\n",
      "31 : 1346269   | Czas: 0.1659235059923958\n",
      "32 : 2178309   | Czas: 0.2703660070110345\n",
      "33 : 3524578   | Czas: 0.49018986700684763\n",
      "34 : 5702887   | Czas: 0.6492628590058303\n",
      "35 : 9227465   | Czas: 1.045898162003141\n",
      "36 : 14930352  | Czas: 1.9336744180036476\n",
      "37 : 24157817  | Czas: 3.484837317999336\n",
      "CPU times: user 55.3 s, sys: 4.15 ms, total: 55.3 s\n",
      "Wall time: 55.3 s\n"
     ]
    }
   ],
   "source": [
    "%%time\n",
    "from time import perf_counter\n",
    "\n",
    "def fib(n):\n",
    "    if n < 2:\n",
    "        return n\n",
    "    else:\n",
    "        return fib(n - 1) + fib(n - 2)\n",
    "\n",
    "N, T = [], []\n",
    "n_start, n_stop = 10, 37\n",
    "# Rozmiary próbki dla poszczególnych n; 50 dla n < 30, 5 dla n >= 30\n",
    "# Czas wykonania jest uśredniany dla każdej próbki\n",
    "rozmiary_próby = [100 if n < 30 else 5 for n in range(n_start, n_stop + 1)]\n",
    "\n",
    "for n, rozmiar_próbki in zip(range(n_start, n_stop + 1), rozmiary_próby):\n",
    "    czasy = []\n",
    "    for _ in range(rozmiar_próbki):\n",
    "        start = perf_counter()\n",
    "        w = fib(n)\n",
    "        stop = perf_counter()\n",
    "        czas = stop - start\n",
    "        czasy.append(czas)\n",
    "    N.append(n)\n",
    "    T.append(sum(czasy) / rozmiar_próbki)\n",
    "    print(f'{n:<3}: {w:<10}| Czas: {czas}')"
   ]
  },
  {
   "cell_type": "markdown",
   "metadata": {},
   "source": [
    "Rysujemy wykres czasu wykonania względem `n`:"
   ]
  },
  {
   "cell_type": "code",
   "execution_count": 2,
   "metadata": {},
   "outputs": [],
   "source": [
    "import matplotlib\n",
    "matplotlib.rc('font', size=22)"
   ]
  },
  {
   "cell_type": "code",
   "execution_count": 3,
   "metadata": {},
   "outputs": [
    {
     "data": {
      "image/png": "[encoded data removed]",
      "text/plain": [
       "<Figure size 640x480 with 1 Axes>"
      ]
     },
     "metadata": {},
     "output_type": "display_data"
    }
   ],
   "source": [
    "from matplotlib import pyplot as plt\n",
    "import seaborn as sns\n",
    "sns.set_theme()\n",
    "\n",
    "\n",
    "plt.plot(N, T)\n",
    "plt.xlabel('n')\n",
    "plt.ylabel('Czas wykonania fib(n)')\n",
    "plt.grid(ls=':')"
   ]
  },
  {
   "cell_type": "markdown",
   "metadata": {},
   "source": [
    "Popatrzmy na stosunek czasu wykonania `fib(n + 1)` do `fib(n)`:"
   ]
  },
  {
   "cell_type": "code",
   "execution_count": 4,
   "metadata": {},
   "outputs": [
    {
     "data": {
      "image/png": "[encoded data removed]",
      "text/plain": [
       "<Figure size 640x480 with 1 Axes>"
      ]
     },
     "metadata": {},
     "output_type": "display_data"
    }
   ],
   "source": [
    "ilorazy = []\n",
    "t0 = T[0]\n",
    "\n",
    "for t in T[1:]:\n",
    "    ilorazy.append(t / t0)\n",
    "    t0 = t\n",
    "\n",
    "plt.plot(range(n_start + 1, n_stop + 1), ilorazy)\n",
    "plt.ylim(bottom=0)\n",
    "plt.xlabel('n + 1')\n",
    "plt.ylabel('czas fib(n + 1) / czas fib(n)')\n",
    "plt.grid(ls=':')"
   ]
  },
  {
   "cell_type": "markdown",
   "metadata": {},
   "source": [
    "Odchylenia od średniej mogą być spowodowane pracą systemu operacyjnego. Wykres ten będzie ulegał zmianie po każdorazowym przeliczeniu list `N` i `T`. Jeśli przyjmiemy, że ilorazy czasów wykonania są stałe, to sam ciąg czasów wykonania powinien być dobrze przybliżany przez ciąg geometryczny\n",
    "\n",
    "$$T_n = a \\cdot q^n,$$\n",
    "\n",
    "dla pewnych stałych $a$ i $q$. \n",
    "Logarytmując obie strony równania, dostajemy\n",
    "\n",
    "$$\\log T_n = \\log a + n \\cdot \\log q.$$\n",
    "\n",
    "Teraz współczynniki $\\log a$ i $\\log q$ możemy obliczyć, korzystając z regresji liniowej:"
   ]
  },
  {
   "cell_type": "code",
   "execution_count": 5,
   "metadata": {},
   "outputs": [
    {
     "data": {
      "image/png": "[encoded data removed]",
      "text/plain": [
       "<Figure size 640x480 with 1 Axes>"
      ]
     },
     "metadata": {},
     "output_type": "display_data"
    }
   ],
   "source": [
    "import numpy as np\n",
    "import statsmodels.api as sm\n",
    "\n",
    "logT = np.log(T)\n",
    "regresja = sm.OLS(logT, sm.add_constant(N)).fit()\n",
    "plt.plot(N, np.log(T), 'o')\n",
    "plt.plot(N, regresja.predict(sm.add_constant(N)))\n",
    "plt.xlabel('n')\n",
    "plt.ylabel('log(Czas wykonania fib(n))');"
   ]
  },
  {
   "cell_type": "code",
   "execution_count": 6,
   "metadata": {},
   "outputs": [
    {
     "data": {
      "text/html": [
       "<table class=\"simpletable\">\n",
       "<tr>\n",
       "    <td></td>       <th>coef</th>     <th>std err</th>      <th>t</th>      <th>P>|t|</th>  <th>[0.025</th>    <th>0.975]</th>  \n",
       "</tr>\n",
       "<tr>\n",
       "  <th>const</th> <td>  -16.1462</td> <td>    0.101</td> <td> -159.417</td> <td> 0.000</td> <td>  -16.354</td> <td>  -15.938</td>\n",
       "</tr>\n",
       "<tr>\n",
       "  <th>x1</th>    <td>    0.4623</td> <td>    0.004</td> <td>  113.426</td> <td> 0.000</td> <td>    0.454</td> <td>    0.471</td>\n",
       "</tr>\n",
       "</table>"
      ],
      "text/latex": [
       "\\begin{center}\n",
       "\\begin{tabular}{lcccccc}\n",
       "\\toprule\n",
       "               & \\textbf{coef} & \\textbf{std err} & \\textbf{t} & \\textbf{P$> |$t$|$} & \\textbf{[0.025} & \\textbf{0.975]}  \\\\\n",
       "\\midrule\n",
       "\\textbf{const} &     -16.1462  &        0.101     &  -159.417  &         0.000        &      -16.354    &      -15.938     \\\\\n",
       "\\textbf{x1}    &       0.4623  &        0.004     &   113.426  &         0.000        &        0.454    &        0.471     \\\\\n",
       "\\bottomrule\n",
       "\\end{tabular}\n",
       "\\end{center}"
      ],
      "text/plain": [
       "<class 'statsmodels.iolib.table.SimpleTable'>"
      ]
     },
     "execution_count": 6,
     "metadata": {},
     "output_type": "execute_result"
    }
   ],
   "source": [
    "regresja.summary().tables[1]"
   ]
  },
  {
   "cell_type": "code",
   "execution_count": 7,
   "metadata": {},
   "outputs": [
    {
     "data": {
      "image/png": "[encoded data removed]",
      "text/plain": [
       "<Figure size 640x480 with 1 Axes>"
      ]
     },
     "metadata": {},
     "output_type": "display_data"
    }
   ],
   "source": [
    "q = np.exp(regresja.params[1]) # wykładnik q odczytany z regresji\n",
    "a = np.exp(regresja.params[0]) # współczynnik a odczytany z regresji\n",
    "\n",
    "geom = [a * q**n for n in N]\n",
    "\n",
    "plt.plot(N, T, label='Czas')\n",
    "plt.plot(N, geom, label='Dopasowanie')\n",
    "plt.xlabel('n')\n",
    "plt.ylabel('Czas wykonania fib(n)')\n",
    "plt.legend()\n",
    "plt.grid(ls=':')"
   ]
  },
  {
   "cell_type": "markdown",
   "metadata": {},
   "source": [
    "\"Na oko\" dopasowanie wygląda na całkiem przyzwoite, prawdziwy czas jest nieco zaniżony. Jakość dopasowania z punktu widzenia statystyki możesz ocenić analizując tabelę zwracaną przez `regresja.summary()`.\n",
    "\n",
    "Zauważ, że średnia ilorazów `q` ma wartość bliską złotej liczbie; nie jest to przypadek (SICP, $\\S$1.2.2):"
   ]
  },
  {
   "cell_type": "code",
   "execution_count": 8,
   "metadata": {},
   "outputs": [
    {
     "data": {
      "text/plain": [
       "(np.float64(1.5877308004873318), 1.618033988749895)"
      ]
     },
     "execution_count": 8,
     "metadata": {},
     "output_type": "execute_result"
    }
   ],
   "source": [
    "q, (1 + 5**(1/2)) / 2"
   ]
  },
  {
   "cell_type": "markdown",
   "metadata": {},
   "source": [
    "Akceptując powyższe dopasowanie możemy spróbować oszacować, ile czasu zajęłoby wykonanie `fib(100)`.\n",
    "\n",
    "W sekundach:"
   ]
  },
  {
   "cell_type": "code",
   "execution_count": 9,
   "metadata": {},
   "outputs": [
    {
     "data": {
      "text/plain": [
       "np.float64(11627763131113.328)"
      ]
     },
     "execution_count": 9,
     "metadata": {},
     "output_type": "execute_result"
    }
   ],
   "source": [
    "a * q**100"
   ]
  },
  {
   "cell_type": "markdown",
   "metadata": {},
   "source": [
    "Czyli w latach:"
   ]
  },
  {
   "cell_type": "code",
   "execution_count": 10,
   "metadata": {},
   "outputs": [
    {
     "name": "stdout",
     "output_type": "stream",
     "text": [
      "3.69e+05 lat\n"
     ]
    }
   ],
   "source": [
    "print(f\"{a * q**100 / 3600 / 24 / 365:.2e} lat\")"
   ]
  },
  {
   "cell_type": "markdown",
   "metadata": {},
   "source": [
    "Czas oczekiwania rzędu \"setki tysięcy lat\" :-)\n",
    "\n",
    "Zwróć uwagę, że mówimy tu o czasie. Wywołanie `fib(n)` jest bardzo czasochłonne, nie wymaga jednak dużej pamięci. Lista odłożonych w danej chwili operacji jest taka jak głębokość drzewa, czyli jest proporcjonalna do `n`. Nie ma tu zatem wiele do pamiętania."
   ]
  },
  {
   "cell_type": "markdown",
   "metadata": {},
   "source": [
    "### Liczba wywołań rekurencyjnych\n",
    "\n",
    "Dokładniejsze wyniki szacujące złożoność wywołania dostaniemy obliczając dokładnie liczbę wywołań rekurencyjnych funkcji `fib()`. Na przykład z drzewa wyrysowanego wyżej widzimy, że dla `fib(6)` mamy dokładnie 25 wywołań `fib()` (węzłów jest 15, ale każde `fib(2)` daje dwa dodatkowe wywołania: `fib(0)` i `fib(1)`). A ile by ich było dla `fib(35)`? A dla `fib(100)`?\n",
    "\n",
    "Wielkość tę można obliczyć teoretycznie. My postąpimy praktycznie zmuszając funkcję, aby sama pamiętała i aktualizowała liczbę swoich wywołań. Liczbę tę wygodnie będzie przechowywać jako atrybut funkcji.\n",
    "\n",
    "Gdy zdefiniujesz jakąś funkcję, powiedzmy o nazwie `funkcja`, to możesz jej przypisać atrybut zgodnie ze składnią\n",
    "```python\n",
    "funkcja.nazwa_atrybutu = wartość\n",
    "```"
   ]
  },
  {
   "cell_type": "code",
   "execution_count": 11,
   "metadata": {
    "slideshow": {
     "slide_type": "fragment"
    }
   },
   "outputs": [],
   "source": [
    "def fun():\n",
    "    pass\n",
    "\n",
    "fun.napis = 'Jestem atrybutem!'\n",
    "fun.liczba = 9 ** 9"
   ]
  },
  {
   "cell_type": "code",
   "execution_count": 12,
   "metadata": {},
   "outputs": [
    {
     "data": {
      "text/plain": [
       "('Jestem atrybutem!', 387420489)"
      ]
     },
     "execution_count": 12,
     "metadata": {},
     "output_type": "execute_result"
    }
   ],
   "source": [
    "fun.napis, fun.liczba"
   ]
  },
  {
   "cell_type": "markdown",
   "metadata": {
    "slideshow": {
     "slide_type": "subslide"
    }
   },
   "source": [
    "Atrybuty zdefiniowane przez użytkownika przechowuje atrybut `__dict__` w postaci słownika."
   ]
  },
  {
   "cell_type": "code",
   "execution_count": 13,
   "metadata": {},
   "outputs": [
    {
     "data": {
      "text/plain": [
       "{'napis': 'Jestem atrybutem!', 'liczba': 387420489}"
      ]
     },
     "execution_count": 13,
     "metadata": {},
     "output_type": "execute_result"
    }
   ],
   "source": [
    "fun.__dict__"
   ]
  },
  {
   "cell_type": "markdown",
   "metadata": {},
   "source": [
    "Napiszmy zatem dekorator, który doda atrybut `liczba_wywołań` do zmodyfikowanej funkcji. Atrybut ten ustawiamy na zero, przy każdorazowym wywołaniu funkcji jego wartość podnosimy o jeden:"
   ]
  },
  {
   "cell_type": "code",
   "execution_count": 14,
   "metadata": {},
   "outputs": [],
   "source": [
    "from functools import wraps\n",
    "\n",
    "def licz_wywołania(f):\n",
    "    '''Przechowuje liczbę wywołań f() w atrybucie f.liczba_wywołań.'''\n",
    "    @wraps(f)\n",
    "    def licznik(*args, **kwargs):\n",
    "        wynik = f(*args, **kwargs)\n",
    "        licznik.liczba_wywołań += 1\n",
    "        return wynik\n",
    "    licznik.liczba_wywołań = 0\n",
    "    return licznik"
   ]
  },
  {
   "cell_type": "code",
   "execution_count": 15,
   "metadata": {},
   "outputs": [],
   "source": [
    "@licz_wywołania\n",
    "def suma_naturalnych(n):\n",
    "    '''Zwraca 1 + 2 + ... + n'''\n",
    "    if n == 0:\n",
    "        return 0\n",
    "    return n + suma_naturalnych(n - 1)"
   ]
  },
  {
   "cell_type": "code",
   "execution_count": 16,
   "metadata": {},
   "outputs": [
    {
     "data": {
      "text/plain": [
       "0"
      ]
     },
     "execution_count": 16,
     "metadata": {},
     "output_type": "execute_result"
    }
   ],
   "source": [
    "suma_naturalnych.liczba_wywołań"
   ]
  },
  {
   "cell_type": "code",
   "execution_count": 17,
   "metadata": {},
   "outputs": [
    {
     "data": {
      "text/plain": [
       "15"
      ]
     },
     "execution_count": 17,
     "metadata": {},
     "output_type": "execute_result"
    }
   ],
   "source": [
    "suma_naturalnych(5)"
   ]
  },
  {
   "cell_type": "code",
   "execution_count": 18,
   "metadata": {},
   "outputs": [
    {
     "data": {
      "text/plain": [
       "6"
      ]
     },
     "execution_count": 18,
     "metadata": {},
     "output_type": "execute_result"
    }
   ],
   "source": [
    "suma_naturalnych.liczba_wywołań"
   ]
  },
  {
   "cell_type": "code",
   "execution_count": 19,
   "metadata": {
    "slideshow": {
     "slide_type": "-"
    }
   },
   "outputs": [],
   "source": [
    "@licz_wywołania\n",
    "def fib(n):\n",
    "    '''Zwraca wyraz F_n, n >= 0 ciągu Fibonacciego.'''\n",
    "    if n == 0 or n == 1:\n",
    "        return n\n",
    "    \n",
    "    return fib(n - 1) + fib(n - 2)"
   ]
  },
  {
   "cell_type": "code",
   "execution_count": 20,
   "metadata": {},
   "outputs": [
    {
     "data": {
      "text/plain": [
       "0"
      ]
     },
     "execution_count": 20,
     "metadata": {},
     "output_type": "execute_result"
    }
   ],
   "source": [
    "fib.liczba_wywołań"
   ]
  },
  {
   "cell_type": "code",
   "execution_count": 21,
   "metadata": {},
   "outputs": [
    {
     "data": {
      "text/plain": [
       "8"
      ]
     },
     "execution_count": 21,
     "metadata": {},
     "output_type": "execute_result"
    }
   ],
   "source": [
    "fib(6)"
   ]
  },
  {
   "cell_type": "code",
   "execution_count": 22,
   "metadata": {},
   "outputs": [
    {
     "data": {
      "text/plain": [
       "25"
      ]
     },
     "execution_count": 22,
     "metadata": {},
     "output_type": "execute_result"
    }
   ],
   "source": [
    "fib.liczba_wywołań"
   ]
  },
  {
   "cell_type": "markdown",
   "metadata": {},
   "source": [
    "Tak jak poprzednio z czasami wykonania znów robimy tabelę, teraz z liczbami wywołań rekurencyjnych. Wyniki są dokładne, więc małych wartości nie musimy pomijać:"
   ]
  },
  {
   "cell_type": "code",
   "execution_count": 23,
   "metadata": {
    "scrolled": false
   },
   "outputs": [
    {
     "name": "stdout",
     "output_type": "stream",
     "text": [
      "0  : 0         | Liczba wywołań: 1\n",
      "1  : 1         | Liczba wywołań: 1\n",
      "2  : 1         | Liczba wywołań: 3\n",
      "3  : 2         | Liczba wywołań: 5\n",
      "4  : 3         | Liczba wywołań: 9\n",
      "5  : 5         | Liczba wywołań: 15\n",
      "6  : 8         | Liczba wywołań: 25\n",
      "7  : 13        | Liczba wywołań: 41\n",
      "8  : 21        | Liczba wywołań: 67\n",
      "9  : 34        | Liczba wywołań: 109\n",
      "10 : 55        | Liczba wywołań: 177\n",
      "11 : 89        | Liczba wywołań: 287\n",
      "12 : 144       | Liczba wywołań: 465\n",
      "13 : 233       | Liczba wywołań: 753\n",
      "14 : 377       | Liczba wywołań: 1219\n",
      "15 : 610       | Liczba wywołań: 1973\n",
      "16 : 987       | Liczba wywołań: 3193\n",
      "17 : 1597      | Liczba wywołań: 5167\n"
     ]
    },
    {
     "name": "stdout",
     "output_type": "stream",
     "text": [
      "18 : 2584      | Liczba wywołań: 8361\n",
      "19 : 4181      | Liczba wywołań: 13529\n",
      "20 : 6765      | Liczba wywołań: 21891\n",
      "21 : 10946     | Liczba wywołań: 35421\n",
      "22 : 17711     | Liczba wywołań: 57313\n",
      "23 : 28657     | Liczba wywołań: 92735\n",
      "24 : 46368     | Liczba wywołań: 150049\n",
      "25 : 75025     | Liczba wywołań: 242785\n",
      "26 : 121393    | Liczba wywołań: 392835\n",
      "27 : 196418    | Liczba wywołań: 635621\n",
      "28 : 317811    | Liczba wywołań: 1028457\n",
      "29 : 514229    | Liczba wywołań: 1664079\n",
      "30 : 832040    | Liczba wywołań: 2692537\n",
      "31 : 1346269   | Liczba wywołań: 4356617\n",
      "32 : 2178309   | Liczba wywołań: 7049155\n",
      "33 : 3524578   | Liczba wywołań: 11405773\n",
      "34 : 5702887   | Liczba wywołań: 18454929\n",
      "35 : 9227465   | Liczba wywołań: 29860703\n",
      "36 : 14930352  | Liczba wywołań: 48315633\n",
      "37 : 24157817  | Liczba wywołań: 78176337\n",
      "CPU times: user 51.8 s, sys: 83.9 ms, total: 51.9 s\n",
      "Wall time: 51.9 s\n"
     ]
    }
   ],
   "source": [
    "%%time\n",
    "N, LICZBA_WYWOŁAŃ = [], []\n",
    "\n",
    "for n in range(38):\n",
    "    # Reset atrybutu dla nowego wywołania\n",
    "    fib.liczba_wywołań = 0\n",
    "    w = fib(n)\n",
    "    N.append(n)\n",
    "    LICZBA_WYWOŁAŃ.append(fib.liczba_wywołań)\n",
    "    print(f'{n:<3}: {w:<10}| Liczba wywołań: {fib.liczba_wywołań}')"
   ]
  },
  {
   "cell_type": "markdown",
   "metadata": {},
   "source": [
    "Wyniki prezentujemy na wykresie:"
   ]
  },
  {
   "cell_type": "code",
   "execution_count": 24,
   "metadata": {
    "scrolled": false
   },
   "outputs": [
    {
     "data": {
      "image/png": "[encoded data removed]",
      "text/plain": [
       "<Figure size 640x480 with 1 Axes>"
      ]
     },
     "metadata": {},
     "output_type": "display_data"
    }
   ],
   "source": [
    "plt.plot(N, LICZBA_WYWOŁAŃ)\n",
    "plt.xlabel('n')\n",
    "plt.ylabel('Liczba autowywołań');"
   ]
  },
  {
   "cell_type": "markdown",
   "metadata": {},
   "source": [
    "Popatrzmy jeszcze na ilorazy. W zbadanym zakresie stałość nie budzi wątpliwości:"
   ]
  },
  {
   "cell_type": "code",
   "execution_count": 25,
   "metadata": {},
   "outputs": [
    {
     "data": {
      "image/png": "[encoded data removed]",
      "text/plain": [
       "<Figure size 640x480 with 1 Axes>"
      ]
     },
     "metadata": {},
     "output_type": "display_data"
    }
   ],
   "source": [
    "ilorazy = []\n",
    "a = LICZBA_WYWOŁAŃ[0]\n",
    "\n",
    "for b in LICZBA_WYWOŁAŃ[1:]:\n",
    "    ilorazy.append(b / a)\n",
    "    a = b\n",
    "\n",
    "plt.plot(range(1, 38), ilorazy)\n",
    "plt.xlabel('n + 1')\n",
    "plt.ylabel('stosunek liczby wywołań')\n",
    "plt.grid(ls=':')"
   ]
  },
  {
   "cell_type": "markdown",
   "metadata": {},
   "source": [
    "Można wykazać, że wartość tego stosunku ma granicę w nieskończoności równą złotej liczbie:"
   ]
  },
  {
   "cell_type": "code",
   "execution_count": 26,
   "metadata": {},
   "outputs": [
    {
     "data": {
      "text/plain": [
       "(1.6180340015414887, 1.618033988749895)"
      ]
     },
     "execution_count": 26,
     "metadata": {},
     "output_type": "execute_result"
    }
   ],
   "source": [
    "LICZBA_WYWOŁAŃ[-1] / LICZBA_WYWOŁAŃ[-2], (1 + 5**(1/2)) / 2"
   ]
  },
  {
   "cell_type": "code",
   "execution_count": 27,
   "metadata": {},
   "outputs": [
    {
     "data": {
      "text/plain": [
       "1.2791593784200472e-08"
      ]
     },
     "execution_count": 27,
     "metadata": {},
     "output_type": "execute_result"
    }
   ],
   "source": [
    "abs(LICZBA_WYWOŁAŃ[-1]/LICZBA_WYWOŁAŃ[-2] - (1 + 5**(1/2)) / 2)"
   ]
  },
  {
   "cell_type": "markdown",
   "metadata": {},
   "source": [
    "Zatem `fib(n + 1)` wywołuje funkcję `fib()` około `1.618` raza więcej niż `fib(n)`. Ile wywołań rekurencyjnych wymaga obliczenie `fib(100)`? Ponieważ dla `fib(30)` jest ich `832040`, więc dla `fib(100)` będzie około"
   ]
  },
  {
   "cell_type": "code",
   "execution_count": 28,
   "metadata": {},
   "outputs": [
    {
     "data": {
      "text/plain": [
       "3.53704361150542e+20"
      ]
     },
     "execution_count": 28,
     "metadata": {},
     "output_type": "execute_result"
    }
   ],
   "source": [
    "832040 * 1.618**(100 - 30)"
   ]
  },
  {
   "cell_type": "markdown",
   "metadata": {},
   "source": [
    "czyli 3,5 razy 10<sup>20</sup>."
   ]
  },
  {
   "cell_type": "markdown",
   "metadata": {
    "slideshow": {
     "slide_type": "slide"
    }
   },
   "source": [
    "### Ratowanie definicji rekurencyjnej\n",
    "\n",
    "W bezpośredniej implementacji definicji rekurencyjnej ciągu Fibonacciego problemem jest to, że na jednej i tej samej liczbie `k` funkcja `fib()` wywoływana jest wielokrotnie.\n",
    "\n",
    "Z kłopotem tym poradzimy sobie zapamiętując wyniki pośrednie:"
   ]
  },
  {
   "cell_type": "code",
   "execution_count": 29,
   "metadata": {},
   "outputs": [],
   "source": [
    "pamięć = {}\n",
    "\n",
    "def fib_z_pamięcią(n):\n",
    "    '''Zwraca wyraz F_n, n >= 0 ciągu Fibonacciego.'''\n",
    "    if n == 0 or n == 1:\n",
    "        return n\n",
    "    \n",
    "    if n not in pamięć:\n",
    "        pamięć[n] = fib_z_pamięcią(n - 2) + fib_z_pamięcią(n - 1)\n",
    "        \n",
    "    return pamięć[n]"
   ]
  },
  {
   "cell_type": "markdown",
   "metadata": {
    "slideshow": {
     "slide_type": "fragment"
    }
   },
   "source": [
    "Dla `fib(5)` mamy 9 wywołań zamiast 15. To oraz rolę słownika zapamiętującego widać wyraźnie na diagramie. Narysuj sam taki diagram dla `fib(6)`.\n",
    "\n",
    "<br><br>\n",
    "\n",
    "<center>\n",
    "    <img src=\"data:image/png;base64,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\"/>\n",
    "</center>"
   ]
  },
  {
   "cell_type": "markdown",
   "metadata": {
    "slideshow": {
     "slide_type": "subslide"
    }
   },
   "source": [
    "Sprawdźmy liczbę wywołań."
   ]
  },
  {
   "cell_type": "code",
   "execution_count": 30,
   "metadata": {},
   "outputs": [],
   "source": [
    "pamięć = {}\n",
    "\n",
    "@licz_wywołania\n",
    "def fib_z_pamięcią(n):\n",
    "    '''Zwraca wyraz F_n, n >= 0 ciągu Fibonacciego.'''\n",
    "    if n == 0 or n == 1:\n",
    "        return n\n",
    "    \n",
    "    if n not in pamięć:\n",
    "        pamięć[n] = fib_z_pamięcią(n - 2) + fib_z_pamięcią(n - 1)\n",
    "        \n",
    "    return pamięć[n]"
   ]
  },
  {
   "cell_type": "code",
   "execution_count": 31,
   "metadata": {
    "slideshow": {
     "slide_type": "-"
    }
   },
   "outputs": [
    {
     "data": {
      "text/plain": [
       "5"
      ]
     },
     "execution_count": 31,
     "metadata": {},
     "output_type": "execute_result"
    }
   ],
   "source": [
    "fib_z_pamięcią(5)"
   ]
  },
  {
   "cell_type": "code",
   "execution_count": 32,
   "metadata": {},
   "outputs": [
    {
     "data": {
      "text/plain": [
       "9"
      ]
     },
     "execution_count": 32,
     "metadata": {},
     "output_type": "execute_result"
    }
   ],
   "source": [
    "fib_z_pamięcią.liczba_wywołań"
   ]
  },
  {
   "cell_type": "markdown",
   "metadata": {},
   "source": [
    "Reset liczby wywołań:"
   ]
  },
  {
   "cell_type": "code",
   "execution_count": 33,
   "metadata": {},
   "outputs": [],
   "source": [
    "fib_z_pamięcią.liczba_wywołań = 0"
   ]
  },
  {
   "cell_type": "code",
   "execution_count": 34,
   "metadata": {},
   "outputs": [
    {
     "data": {
      "text/plain": [
       "354224848179261915075"
      ]
     },
     "execution_count": 34,
     "metadata": {},
     "output_type": "execute_result"
    }
   ],
   "source": [
    "fib_z_pamięcią(100)"
   ]
  },
  {
   "cell_type": "code",
   "execution_count": 35,
   "metadata": {},
   "outputs": [
    {
     "data": {
      "text/plain": [
       "191"
      ]
     },
     "execution_count": 35,
     "metadata": {},
     "output_type": "execute_result"
    }
   ],
   "source": [
    "fib_z_pamięcią.liczba_wywołań"
   ]
  },
  {
   "cell_type": "markdown",
   "metadata": {},
   "source": [
    "No i proszę. Z milionów lat zeszliśmy do nanosekund :-)"
   ]
  },
  {
   "cell_type": "code",
   "execution_count": 36,
   "metadata": {},
   "outputs": [
    {
     "name": "stdout",
     "output_type": "stream",
     "text": [
      "282 ns ± 31.1 ns per loop (mean ± std. dev. of 7 runs, 1,000,000 loops each)\n"
     ]
    }
   ],
   "source": [
    "%timeit fib_z_pamięcią(100)"
   ]
  },
  {
   "cell_type": "markdown",
   "metadata": {
    "slideshow": {
     "slide_type": "slide"
    }
   },
   "source": [
    "### Dekorator zapamiętujący\n",
    "\n",
    "Podany wyżej chwyt z pamięcią można przełożyć na dekorator zapamiętujący stosowalny do funkcji jednej zmiennej."
   ]
  },
  {
   "cell_type": "code",
   "execution_count": 37,
   "metadata": {},
   "outputs": [],
   "source": [
    "def zapamiętuj(f):\n",
    "    pamięć = {}\n",
    "    @wraps(f)\n",
    "    def wrapper(x):\n",
    "    \n",
    "        if x not in pamięć:\n",
    "            pamięć[x] = f(x)\n",
    "        \n",
    "        return pamięć[x]\n",
    "    \n",
    "    return wrapper"
   ]
  },
  {
   "cell_type": "markdown",
   "metadata": {
    "slideshow": {
     "slide_type": "subslide"
    }
   },
   "source": [
    "Możemy go zastosować do poprzedniej funkcji `fib()`. Dzięki użyciu dekoratora zachowujemy czytelność definicji rekurencyjnej."
   ]
  },
  {
   "cell_type": "code",
   "execution_count": 38,
   "metadata": {},
   "outputs": [],
   "source": [
    "@zapamiętuj\n",
    "def fib(n):\n",
    "    '''Zwraca wyraz F_n, n >= 0 ciągu Fibonacciego.'''\n",
    "    if n == 0 or n == 1:\n",
    "        return n\n",
    "    \n",
    "    return fib(n - 2) + fib(n - 1)"
   ]
  },
  {
   "cell_type": "code",
   "execution_count": 39,
   "metadata": {
    "slideshow": {
     "slide_type": "fragment"
    }
   },
   "outputs": [
    {
     "data": {
      "text/plain": [
       "354224848179261915075"
      ]
     },
     "execution_count": 39,
     "metadata": {},
     "output_type": "execute_result"
    }
   ],
   "source": [
    "fib(100)"
   ]
  },
  {
   "cell_type": "markdown",
   "metadata": {
    "slideshow": {
     "slide_type": "subslide"
    }
   },
   "source": [
    "Dekoratory możemy spiętrzyć."
   ]
  },
  {
   "cell_type": "code",
   "execution_count": 40,
   "metadata": {},
   "outputs": [],
   "source": [
    "@licz_wywołania\n",
    "@zapamiętuj\n",
    "def fib(n):\n",
    "    '''Zwraca wyraz F_n, n >= 0 ciągu Fibonacciego.'''\n",
    "    if n == 0 or n == 1:\n",
    "        return n\n",
    "    \n",
    "    return fib(n - 2) + fib(n - 1)"
   ]
  },
  {
   "cell_type": "code",
   "execution_count": 41,
   "metadata": {
    "slideshow": {
     "slide_type": "fragment"
    }
   },
   "outputs": [
    {
     "data": {
      "text/plain": [
       "280571172992510140037611932413038677189525"
      ]
     },
     "execution_count": 41,
     "metadata": {},
     "output_type": "execute_result"
    }
   ],
   "source": [
    "fib(200)"
   ]
  },
  {
   "cell_type": "code",
   "execution_count": 42,
   "metadata": {},
   "outputs": [
    {
     "data": {
      "text/plain": [
       "399"
      ]
     },
     "execution_count": 42,
     "metadata": {},
     "output_type": "execute_result"
    }
   ],
   "source": [
    "fib.liczba_wywołań"
   ]
  },
  {
   "cell_type": "markdown",
   "metadata": {
    "slideshow": {
     "slide_type": "slide"
    }
   },
   "source": [
    "### `functools.lru_cache`\n",
    "\n",
    "Dekorator `lru_cache()` z modułu `functools` implementuje memoizację (czyli zapamiętywanie pośrednich wyników):"
   ]
  },
  {
   "cell_type": "code",
   "execution_count": 43,
   "metadata": {
    "slideshow": {
     "slide_type": "-"
    }
   },
   "outputs": [],
   "source": [
    "from functools import lru_cache\n",
    "\n",
    "@lru_cache()\n",
    "def fib(n):\n",
    "    '''Zwraca wyraz F_n, n >= 0 ciągu Fibonacciego.'''\n",
    "\n",
    "    if n == 0 or n == 1:\n",
    "        return n\n",
    "    \n",
    "    return fib(n - 1) + fib(n - 2)"
   ]
  },
  {
   "cell_type": "markdown",
   "metadata": {},
   "source": [
    "`lru_cache()` również przyjmuje parametry. Dlatego należy go pisać z nawiasami okrągłymi -- nawet wtedy, gdy żadnych argumentów nie wprowadzamy."
   ]
  },
  {
   "cell_type": "code",
   "execution_count": 44,
   "metadata": {
    "slideshow": {
     "slide_type": "subslide"
    }
   },
   "outputs": [
    {
     "name": "stdout",
     "output_type": "stream",
     "text": [
      "62.9 ns ± 12.2 ns per loop (mean ± std. dev. of 7 runs, 20,000 loops each)\n"
     ]
    }
   ],
   "source": [
    "%timeit -n 20000 fib(200)"
   ]
  },
  {
   "cell_type": "code",
   "execution_count": 45,
   "metadata": {
    "scrolled": true
   },
   "outputs": [
    {
     "name": "stdout",
     "output_type": "stream",
     "text": [
      "Help on _lru_cache_wrapper in module __main__:\n",
      "\n",
      "fib(n)\n",
      "    Zwraca wyraz F_n, n >= 0 ciągu Fibonacciego.\n",
      "\n"
     ]
    }
   ],
   "source": [
    "help(fib)"
   ]
  }
 ],
 "metadata": {
  "anaconda-cloud": {},
  "kernelspec": {
   "display_name": "py312",
   "language": "python",
   "name": "python3"
  },
  "language_info": {
   "codemirror_mode": {
    "name": "ipython",
    "version": 3
   },
   "file_extension": ".py",
   "mimetype": "text/x-python",
   "name": "python",
   "nbconvert_exporter": "python",
   "pygments_lexer": "ipython3",
   "version": "3.12.4"
  }
 },
 "nbformat": 4,
 "nbformat_minor": 1
}
