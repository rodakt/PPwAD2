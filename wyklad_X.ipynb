{
 "cells": [
  {
   "cell_type": "markdown",
   "metadata": {
    "slideshow": {
     "slide_type": "slide"
    }
   },
   "source": [
    "# Podstawy programowania (AD) 2\n",
    "\n",
    "## Tomasz Rodak\n",
    "\n",
    "Wykład X\n",
    "\n",
    "---\n",
    "\n",
    "## Metody specjalne\n",
    "\n",
    "W Pythonie metodami *specjalnymi* (albo *magicznymi*) nazywamy te metody, których nazwy rozpoczynają i kończą dwa podkreślniki np.: `__init__()`, `__str__()`, `__eq__()` i wiele innych. Spisy metod specjalnych znajdziesz [tutaj](http://diveintopython3.problemsolving.io/special-method-names.html) i [tutaj](https://docs.python.org/3/reference/datamodel.html#). Wyjątkowość metod specjalnych polega na tym, że:\n",
    "1. są wywoływane niejawnie przez odpowiednią składnię;\n",
    "2. konwencja narzuca, za co każda z tych metod jest odpowiedzialna.\n",
    "\n",
    "Poznaliśmy już metodę `__init__()` - jeśli klasa tę metodę posiada, to jest ona automatycznie wykonywana podczas tworzenia obiektów klasy. Jej cel to *inicjalizacja* obiektu, czyli ustawienie w obiekcie atrybutów i ich startowych wartości.\n",
    "\n",
    "Podamy teraz kilka przykładów klas z różnymi metodami specjalnymi. "
   ]
  },
  {
   "cell_type": "markdown",
   "metadata": {},
   "source": [
    "## Funkcja liniowa\n",
    "\n",
    "Klasa `FunkcjaLiniowa` reprezentuje znaną ze szkoły funkcję liniową\n",
    "$$\n",
    "y=ax+b\n",
    "$$"
   ]
  },
  {
   "cell_type": "code",
   "execution_count": 1,
   "metadata": {},
   "outputs": [],
   "source": [
    "class FunkcjaLiniowa:\n",
    "    \n",
    "    def __init__(self, a, b):\n",
    "        self.a, self.b = a, b\n",
    "    \n",
    "    def __str__(self):\n",
    "        if self.b >= 0:\n",
    "            return 'y = {}*x + {}'.format(self.a, self.b)\n",
    "        return 'y = {}*x - {}'.format(self.a, -self.b)\n",
    "    \n",
    "    def __repr__(self):\n",
    "        return 'FunkcjaLiniowa({}, {})'.format(self.a, self.b)\n",
    "    \n",
    "    def __call__(self, x):\n",
    "        return self.a*x + self.b"
   ]
  },
  {
   "cell_type": "markdown",
   "metadata": {},
   "source": [
    "Oto funkcja $y=2x-3$:"
   ]
  },
  {
   "cell_type": "code",
   "execution_count": 2,
   "metadata": {},
   "outputs": [],
   "source": [
    "f = FunkcjaLiniowa(2, -3)"
   ]
  },
  {
   "cell_type": "markdown",
   "metadata": {},
   "source": [
    "Notatnik odwołuje się do metody `__repr__()`, aby przedstawić obiekt:"
   ]
  },
  {
   "cell_type": "code",
   "execution_count": 3,
   "metadata": {},
   "outputs": [
    {
     "data": {
      "text/plain": [
       "FunkcjaLiniowa(2, -3)"
      ]
     },
     "execution_count": 3,
     "metadata": {},
     "output_type": "execute_result"
    }
   ],
   "source": [
    "f"
   ]
  },
  {
   "cell_type": "markdown",
   "metadata": {},
   "source": [
    "Funkcja `print()` poszukuje metody `__str__()`:"
   ]
  },
  {
   "cell_type": "code",
   "execution_count": 4,
   "metadata": {},
   "outputs": [
    {
     "name": "stdout",
     "output_type": "stream",
     "text": [
      "y = 2*x - 3\n"
     ]
    }
   ],
   "source": [
    "print(f)"
   ]
  },
  {
   "cell_type": "markdown",
   "metadata": {},
   "source": [
    "Operator wywołania `()` odwołuje się do metody `__call__()`:"
   ]
  },
  {
   "cell_type": "code",
   "execution_count": 5,
   "metadata": {},
   "outputs": [
    {
     "data": {
      "text/plain": [
       "7"
      ]
     },
     "execution_count": 5,
     "metadata": {},
     "output_type": "execute_result"
    }
   ],
   "source": [
    "f(5)"
   ]
  },
  {
   "cell_type": "markdown",
   "metadata": {},
   "source": [
    "Metody `__repr__()` i `__str__()` powinny zwracać łańcuch i nie powinny mieć parametrów innych niż `self`. W obu przypadkach zwracany łańcuch stanowi opis obiektu. Metoda `__str__()` powinna przedstawiać obiekt w sposób nieformalny i wygodny dla człowieka. Z kolei metoda `__repr__()` prezentuje oficjalną i formalną reprezentację obiektu. Wartość zwracana przez `__repr__()` powinna być, o ile to możliwe, poprawnym wyrażeniem Pythona.\n",
    "\n",
    "Spójrz jak prezentowany jest obiekt daty i czasu w module `datatime`:"
   ]
  },
  {
   "cell_type": "code",
   "execution_count": 6,
   "metadata": {},
   "outputs": [],
   "source": [
    "import datetime\n",
    "\n",
    "dzisiaj = datetime.datetime.today()"
   ]
  },
  {
   "cell_type": "markdown",
   "metadata": {},
   "source": [
    "Formalne przedstawienie metodą `__repr__()`:"
   ]
  },
  {
   "cell_type": "code",
   "execution_count": 7,
   "metadata": {},
   "outputs": [
    {
     "data": {
      "text/plain": [
       "datetime.datetime(2025, 5, 14, 8, 39, 7, 810834)"
      ]
     },
     "execution_count": 7,
     "metadata": {},
     "output_type": "execute_result"
    }
   ],
   "source": [
    "dzisiaj"
   ]
  },
  {
   "cell_type": "markdown",
   "metadata": {},
   "source": [
    "Format przyjazny człowiekowi zwracany przez `__str__()`:"
   ]
  },
  {
   "cell_type": "code",
   "execution_count": 8,
   "metadata": {},
   "outputs": [
    {
     "name": "stdout",
     "output_type": "stream",
     "text": [
      "2025-05-14 08:39:07.810834\n"
     ]
    }
   ],
   "source": [
    "print(dzisiaj)"
   ]
  },
  {
   "cell_type": "markdown",
   "metadata": {},
   "source": [
    "Różnica między tymi metodami została wyczerpująco opisana w [tym](https://stackoverflow.com/questions/1436703/difference-between-str-and-repr) wpisie na StackOverflow.\n",
    "\n",
    "Metoda `__call__()` jest poszukiwana przez operator wywołania `()`. Argumenty operatora wywołania zostają przekazane do metody `__call__()` (która jako pierwszy argument musi mieć `self`). Jeśli obiekt posiada tę metodę, to staje się obiektem *wywoływalnym*. Fakt ten potrafi wykryć funkcja `callable()`:"
   ]
  },
  {
   "cell_type": "code",
   "execution_count": 9,
   "metadata": {},
   "outputs": [
    {
     "data": {
      "text/plain": [
       "True"
      ]
     },
     "execution_count": 9,
     "metadata": {},
     "output_type": "execute_result"
    }
   ],
   "source": [
    "callable(f)"
   ]
  },
  {
   "cell_type": "markdown",
   "metadata": {},
   "source": [
    "Poznaliśmy więc już niemal wszystkie kategorie obiektów wywoływalnych Pythona:\n",
    "* funkcje wbudowane, np. `len()`;\n",
    "* funkcje zdefiniowane przez użytkownika z pomocą `def` lub `lambda`;\n",
    "* metody wbudowane, np. metoda łancuchów `upper()`;\n",
    "* klasy;\n",
    "* metody klasy zdefiniowane przez użytkownika;\n",
    "* obiekty posiadające metodę `__call__()`."
   ]
  },
  {
   "cell_type": "markdown",
   "metadata": {},
   "source": [
    "## Przykład: różniczkowanie numeryczne\n",
    "\n",
    "Pochodną funkcji $f\\colon (a, b)\\to\\mathbb{R}$ w punkcie $x_0\\in (a, b)$ nazywamy granicę ilorazu różnicowego\n",
    "\n",
    "$$\n",
    "f'(x_0)=\\lim_{h\\to 0}\\frac{f(x_0+h) - f(x_0)}{h}.\n",
    "$$\n",
    "\n",
    "Jeżeli granica ta istnieje, to mówimy, że $f$ jest różniczkowalna w $x_0$.\n",
    "\n",
    "Nasze podejście do różniczkowania numerycznego będzie polegało na tym, że zamiast liczyć powyższą granicę, obliczymy sam iloraz różnicowy dla $h$ konkretnego i bardzo bliskiego zera.\n",
    "\n",
    "### Pochodna numeryczna\n",
    "\n",
    "Klasa `Pochodna` przyjmuje parametry:\n",
    "* `f` -- obiekt wywoływalny zwracający liczby. Z punktu widzenia użytkownika jest to funkcja rzeczywista.\n",
    "* `h` -- \"dostatecznie bliska zeru\" wartość liczbowa. Może być ujemna lub dodatnia. Domyślnie `1e-7` czyli $10^{-7}$.\n",
    "\n",
    "Na podstawie tych parametrów klasa tworzy obiekt wywoływalny przybliżający pochodną `f`."
   ]
  },
  {
   "cell_type": "code",
   "execution_count": 10,
   "metadata": {
    "slideshow": {
     "slide_type": "-"
    }
   },
   "outputs": [],
   "source": [
    "class Pochodna:\n",
    "    \n",
    "    def __init__(self, f, h=1e-7):\n",
    "        self.f = f\n",
    "        self.h = h\n",
    "    \n",
    "    def __call__(self, x):\n",
    "        f, h = self.f, self.h\n",
    "        return (f(x + h) - f(x)) / h"
   ]
  },
  {
   "cell_type": "markdown",
   "metadata": {
    "slideshow": {
     "slide_type": "subslide"
    }
   },
   "source": [
    "Różniczkujemy instancję klasy `FunkcjaLiniowa`."
   ]
  },
  {
   "cell_type": "code",
   "execution_count": 11,
   "metadata": {},
   "outputs": [
    {
     "name": "stdout",
     "output_type": "stream",
     "text": [
      "y = 2*x + 3\n"
     ]
    }
   ],
   "source": [
    "f = FunkcjaLiniowa(2, 3)\n",
    "print(f)"
   ]
  },
  {
   "cell_type": "code",
   "execution_count": 12,
   "metadata": {},
   "outputs": [
    {
     "data": {
      "text/plain": [
       "2.0000000011677344"
      ]
     },
     "execution_count": 12,
     "metadata": {},
     "output_type": "execute_result"
    }
   ],
   "source": [
    "df = Pochodna(f)\n",
    "\n",
    "df(0)"
   ]
  },
  {
   "cell_type": "code",
   "execution_count": 13,
   "metadata": {},
   "outputs": [
    {
     "data": {
      "text/plain": [
       "2.000000165480742"
      ]
     },
     "execution_count": 13,
     "metadata": {},
     "output_type": "execute_result"
    }
   ],
   "source": [
    "df = Pochodna(f, h=-1e-10)\n",
    "\n",
    "df(0)"
   ]
  },
  {
   "cell_type": "markdown",
   "metadata": {
    "slideshow": {
     "slide_type": "subslide"
    }
   },
   "source": [
    "Rożniczkujemy funkcję kwadratową ..."
   ]
  },
  {
   "cell_type": "code",
   "execution_count": 14,
   "metadata": {
    "scrolled": true
   },
   "outputs": [
    {
     "name": "stdout",
     "output_type": "stream",
     "text": [
      "  x|    2*x|obliczona pochodna\n",
      "--------------------------------\n",
      " -3|     -6|          -6.00000\n",
      " -2|     -4|          -4.00000\n",
      " -1|     -2|          -2.00000\n",
      "  0|      0|           0.00000\n",
      "  1|      2|           2.00000\n",
      "  2|      4|           4.00000\n",
      "  3|      6|           6.00000\n"
     ]
    }
   ],
   "source": [
    "def kwadratowa(x):\n",
    "    return x * x\n",
    "\n",
    "dkwadratowa = Pochodna(kwadratowa)\n",
    "\n",
    "print('{:>3}|{:>7}|{:>18}'.format('x', '2*x', 'obliczona pochodna'))\n",
    "print('{:-<32}'.format('-'))\n",
    "\n",
    "for x in range(-3, 4):\n",
    "    print('{:>3}|{:>7}|{:>18.5f}'.format(x, 2 * x, dkwadratowa(x)))"
   ]
  },
  {
   "cell_type": "markdown",
   "metadata": {
    "slideshow": {
     "slide_type": "subslide"
    }
   },
   "source": [
    "... i funkcje trygonometryczne."
   ]
  },
  {
   "cell_type": "code",
   "execution_count": 15,
   "metadata": {},
   "outputs": [
    {
     "name": "stdout",
     "output_type": "stream",
     "text": [
      "      x| cos(x)|obliczona pochodna\n",
      "-----------------------------------\n",
      "  0.000|  1.000|             1.000\n",
      "  1.571|  0.000|            -0.000\n",
      "  3.142| -1.000|            -1.000\n",
      "  4.712| -0.000|             0.000\n"
     ]
    }
   ],
   "source": [
    "from math import sin, cos, pi\n",
    "\n",
    "dsin = Pochodna(sin)\n",
    "\n",
    "print('{:>7}|{:>7}|{:>18}'.format('x', 'cos(x)', 'obliczona pochodna'))\n",
    "print('{:-<35}'.format('-'))\n",
    "\n",
    "for x in [0, pi / 2, pi, 3*pi / 2]:\n",
    "    print('{:>7.3f}|{:>7.3f}|{:>18.3f}'.format(x, cos(x), dsin(x)))"
   ]
  },
  {
   "cell_type": "markdown",
   "metadata": {
    "slideshow": {
     "slide_type": "subslide"
    }
   },
   "source": [
    "Wykorzystamy biblioteki Matplotlib i NumPy do utworzenia rysunków. Z bibliotek tych korzystamy jedynie, aby zilustrować materiał - nie należą one do wymagań kursu."
   ]
  },
  {
   "cell_type": "code",
   "execution_count": 16,
   "metadata": {
    "slideshow": {
     "slide_type": "-"
    }
   },
   "outputs": [],
   "source": [
    "from matplotlib import pyplot as plt\n",
    "import numpy as np\n",
    "plt.style.use('ggplot')\n",
    "%matplotlib inline"
   ]
  },
  {
   "cell_type": "markdown",
   "metadata": {},
   "source": [
    "Narysujemy wykres $y=x^3-2x$ i jej pochodnej na przedziale $\\langle -2, 2\\rangle$."
   ]
  },
  {
   "cell_type": "code",
   "execution_count": 17,
   "metadata": {},
   "outputs": [],
   "source": [
    "iksy = np.linspace(-2, 2, 100)\n",
    "\n",
    "f = lambda x: x**3 - 2*x\n",
    "df = Pochodna(f)"
   ]
  },
  {
   "cell_type": "code",
   "execution_count": 18,
   "metadata": {
    "slideshow": {
     "slide_type": "subslide"
    }
   },
   "outputs": [
    {
     "data": {
      "image/png": "[encoded data removed]",
      "text/plain": [
       "<Figure size 1000x500 with 1 Axes>"
      ]
     },
     "metadata": {},
     "output_type": "display_data"
    }
   ],
   "source": [
    "plt.figure(figsize=(10, 5))\n",
    "plt.plot(iksy, f(iksy), label='f')\n",
    "plt.plot(iksy, df(iksy), label='df')\n",
    "plt.grid(ls=':'); plt.legend();"
   ]
  },
  {
   "cell_type": "markdown",
   "metadata": {
    "slideshow": {
     "slide_type": "subslide"
    }
   },
   "source": [
    "Wiemy, że wartość bezwzględna $y=|x|$ nie jest różniczkowalna w punkcie $x_0=0$.\n",
    "\n",
    "Klasa `Pochodna` ułatwia zrozumienie dlaczego tak jest."
   ]
  },
  {
   "cell_type": "code",
   "execution_count": 19,
   "metadata": {},
   "outputs": [],
   "source": [
    "iksy = np.linspace(-2, 2, 100)\n",
    "\n",
    "f = lambda x: abs(x)\n",
    "df = Pochodna(f)"
   ]
  },
  {
   "cell_type": "code",
   "execution_count": 20,
   "metadata": {
    "scrolled": false,
    "slideshow": {
     "slide_type": "subslide"
    }
   },
   "outputs": [
    {
     "data": {
      "image/png": "[encoded data removed]",
      "text/plain": [
       "<Figure size 1000x500 with 1 Axes>"
      ]
     },
     "metadata": {},
     "output_type": "display_data"
    }
   ],
   "source": [
    "plt.figure(figsize=(10, 5))\n",
    "plt.plot(iksy, f(iksy), label='f')\n",
    "plt.plot(iksy, df(iksy), label='df')\n",
    "plt.grid(ls=':'); plt.legend();"
   ]
  },
  {
   "cell_type": "markdown",
   "metadata": {
    "slideshow": {
     "slide_type": "subslide"
    }
   },
   "source": [
    "Być może słyszałeś, że pochodna funkcji $y=f(x)$ w punkcie $x=x_0$ to współczynnik kierunkowy stycznej do wykresu $f$ w punkcie $(x_0, f(x_0))$. Teraz możemy potwierdzić to numerycznie. Wykorzystamy funkcję\n",
    "$$y=x\\sin 2x$$"
   ]
  },
  {
   "cell_type": "code",
   "execution_count": 21,
   "metadata": {},
   "outputs": [],
   "source": [
    "iksy = np.linspace(0, 4, 100)\n",
    "\n",
    "f = lambda x: x * np.sin(2 * x)\n",
    "x0 = 2.7\n",
    "y0 = f(x0)\n",
    "a = Pochodna(f)(x0) # Współczynnik kierunkowy stycznej."
   ]
  },
  {
   "cell_type": "code",
   "execution_count": 22,
   "metadata": {
    "scrolled": false,
    "slideshow": {
     "slide_type": "subslide"
    }
   },
   "outputs": [
    {
     "data": {
      "image/png": "[encoded data removed]",
      "text/plain": [
       "<Figure size 1000x500 with 1 Axes>"
      ]
     },
     "metadata": {},
     "output_type": "display_data"
    }
   ],
   "source": [
    "plt.figure(figsize=(10, 5))\n",
    "plt.plot(iksy, f(iksy), label=r'$y=x\\sin 2x$')\n",
    "plt.plot(iksy, a*(iksy - x0) + y0, label='styczna')\n",
    "plt.plot(x0, y0, marker='o')\n",
    "plt.ylim([-5, 5])\n",
    "plt.grid(ls=':'); plt.legend();"
   ]
  },
  {
   "cell_type": "markdown",
   "metadata": {},
   "source": [
    "## Wektory\n",
    "\n",
    "Klasa `Wektor` reprezentuje wektory w przestrzeni euklidesowej:"
   ]
  },
  {
   "cell_type": "code",
   "execution_count": 23,
   "metadata": {},
   "outputs": [],
   "source": [
    "class Wektor:\n",
    "    \n",
    "    def __init__(self, *wsp):\n",
    "        self.wsp = wsp\n",
    "    \n",
    "    def __repr__(self):\n",
    "        return 'Wektor({})'.format(', '.join(str(x) for x in self.wsp))\n",
    "    \n",
    "    def __add__(self, w):\n",
    "        if len(self.wsp) != len(w.wsp):\n",
    "            raise ValueError('Konflikt wymiarów.')\n",
    "        \n",
    "        wynik_wsp = tuple(x + y for x, y in zip(self.wsp, w.wsp))\n",
    "        return Wektor(*wynik_wsp)\n",
    "    \n",
    "    def __rmul__(self, skalar):\n",
    "        wynik_wsp = tuple(skalar * x for x in self.wsp)\n",
    "        return Wektor(*wynik_wsp)\n",
    "    \n",
    "    def __neg__(self):\n",
    "        return -1 * self\n",
    "    \n",
    "    def __sub__(self, w):\n",
    "        return self + -w\n",
    "    \n",
    "    def __eq__(self, w):\n",
    "        if len(self.wsp) != len(w.wsp):\n",
    "            return False\n",
    "        \n",
    "        return all(x == y for x, y in zip(self.wsp, w.wsp))"
   ]
  },
  {
   "cell_type": "code",
   "execution_count": 24,
   "metadata": {},
   "outputs": [
    {
     "data": {
      "text/plain": [
       "(Wektor(3, 1, 2), Wektor(4, -2, 8))"
      ]
     },
     "execution_count": 24,
     "metadata": {},
     "output_type": "execute_result"
    }
   ],
   "source": [
    "w1 = Wektor(3, 1, 2)\n",
    "w2 = Wektor(4, -2, 8)\n",
    "\n",
    "w1, w2"
   ]
  },
  {
   "cell_type": "code",
   "execution_count": 25,
   "metadata": {},
   "outputs": [
    {
     "data": {
      "text/plain": [
       "Wektor(7, -1, 10)"
      ]
     },
     "execution_count": 25,
     "metadata": {},
     "output_type": "execute_result"
    }
   ],
   "source": [
    "w1 + w2"
   ]
  },
  {
   "cell_type": "code",
   "execution_count": 26,
   "metadata": {},
   "outputs": [
    {
     "data": {
      "text/plain": [
       "Wektor(15, 5, 10)"
      ]
     },
     "execution_count": 26,
     "metadata": {},
     "output_type": "execute_result"
    }
   ],
   "source": [
    "5 * w1"
   ]
  },
  {
   "cell_type": "code",
   "execution_count": 27,
   "metadata": {},
   "outputs": [
    {
     "data": {
      "text/plain": [
       "Wektor(-6, 8, -20)"
      ]
     },
     "execution_count": 27,
     "metadata": {},
     "output_type": "execute_result"
    }
   ],
   "source": [
    "2*w1 - 3*w2"
   ]
  },
  {
   "cell_type": "code",
   "execution_count": 28,
   "metadata": {},
   "outputs": [
    {
     "data": {
      "text/plain": [
       "Wektor(1.5, 0.5, 1.0)"
      ]
     },
     "execution_count": 28,
     "metadata": {},
     "output_type": "execute_result"
    }
   ],
   "source": [
    ".5 * w1"
   ]
  },
  {
   "cell_type": "markdown",
   "metadata": {},
   "source": [
    "Metoda `__add__()` [*przeciąża*](https://pl.wikipedia.org/wiki/Przeci%C4%85%C5%BCanie_funkcji) operator `+`. \n",
    "\n",
    "Jeśli `x` i `y` są obiektami i `x` posiada metodę `__add__()`, to wyrażenie\n",
    "```python\n",
    "x + y\n",
    "```\n",
    "jest równoważne z\n",
    "```python\n",
    "x.__add__(y)\n",
    "```\n",
    "\n",
    "Oto zestaw metod działających analogicznie do `__add__()`:\n",
    "\n",
    "* `__add__(self, y)` -- dodawanie `+`;\n",
    "* `__sub__(self, y)` -- odejmowanie `-`;\n",
    "* `__mul__(self, y)` -- mnożenie `*`;\n",
    "* `__matmul__(self, y)` -- mnożenie macierzowe `@`;\n",
    "* `__truediv__(self, y)` -- dzielenie zmiennoprzecinkowe `/`;\n",
    "* `__floordiv__(self, y)` -- dzielenie podłogowe `//`;\n",
    "* `__mod__(self, y)` -- reszta z dzielenia `%`;\n",
    "* `__divmod__(self, y)` -- `divmod()`;\n",
    "* `__pow__(self, y[, modulo])` -- potęga `**`;\n",
    "* `__lshift__(self, y)` -- przesunięcie bitowe w lewo o `y` pozycji `<<`;\n",
    "* `__rshift__(self, y)` -- przesunięcie bitowe w prawo o `y` pozycji `>>`;\n",
    "* `__and__(self, y)` -- koniunkcja bitowa `&`;\n",
    "* `__xor__(self, y)` -- bitowa alternatywa rozłączna `^`;\n",
    "* `__or__(self, y)` -- alternatywa bitowa `|`."
   ]
  },
  {
   "cell_type": "markdown",
   "metadata": {},
   "source": [
    "Zauważ, że klasa `Wektor` nie ma metody `__mul__()`, posiada za to `__rmul__()`. Dlaczego?\n",
    "\n",
    "Jeśli `x`, `y` są obiektami i `x` nie ma metody `__mul__()` lub `x.__mul__(y)` jest niewykonalne, to wyrażenie\n",
    "```python\n",
    "x * y\n",
    "```\n",
    "wywołuje\n",
    "```python\n",
    "y.__rmul__(x)\n",
    "```\n",
    "\n",
    "Operacja `x.__mul__(y)` jest uznawana za niewykonalną, gdy wartością zwracaną przez to wywołanie jest wartość specjalna `NotImplemented`. Zobacz szczegóły [tutaj](https://docs.python.org/3/library/constants.html#NotImplemented) i [tutaj](https://docs.python.org/3/library/numbers.html#implementing-the-arithmetic-operations).\n",
    "\n",
    "W klasie `Wektor` metoda `__rmul__()` implementuje mnożenie liczby i wektora, a nie wektora przez wektor. Wyrażenie\n",
    "```python\n",
    "2 * w\n",
    "```\n",
    "próbuje najpierw wywołania `self.__mul__(w)`, gdzie `self` jest dwójką. To mnożenie się nie powiedzie, gdyż metoda `.__mul__()` w klasie liczb całkowitych nie potrafi mnożyć liczb przez obiekty klasy wektor. Wtedy interpreter poszukuje metody `__rmul__()` w obiekcie `w`. Gdy ją znajdzie, wywołuje\n",
    "```python\n",
    "w.__rmul__(2)\n",
    "```\n",
    "co daje pożądany efekt. Nie powiedzie się jednak\n",
    "```python\n",
    "w * 2\n",
    "```\n",
    "gdyż `w` nie posiada metody `__mul__()`! \n",
    "\n",
    "Moglibyśmy ją dopisać:\n",
    "```python\n",
    "class Wektor:\n",
    "    \n",
    "    <...> \n",
    "    \n",
    "    def __rmul__(self, skalar):\n",
    "        wynik_wsp = tuple(skalar * x for x in self.wsp)\n",
    "        return Wektor(*wynik_wsp)\n",
    "    \n",
    "    def __mul__(self, skalar):\n",
    "        return skalar * self\n",
    "    \n",
    "    <...>\n",
    "```\n",
    "Wyrażenie `skalar * self` odwoła się do metody `__rmul__()`, nie ma potrzeby pisania po raz drugi tego samego kodu. \n",
    "\n",
    "Jednak w algebrze liniowej mnożenie wektora przez skalar odbywa się w ten sposób, że skalar stoi z lewej strony wektora. Nie ma nic złego w tym, że operacja `2 * w` jest wykonalna a `w * 2` nie."
   ]
  },
  {
   "cell_type": "markdown",
   "metadata": {
    "slideshow": {
     "slide_type": "slide"
    }
   },
   "source": [
    "Oto metody działające podobnie do `__rmul__()`:\n",
    "* `__radd__(self, x)`\n",
    "* `__rsub__(self, x)`\n",
    "* `__rmul__(self, x)`\n",
    "* `__rmatmul__(self, x)`\n",
    "* `__rtruediv__(self, x)`\n",
    "* `__rfloordiv__(self, x)`\n",
    "* `__rmod__(self, x)¶`\n",
    "* `__rdivmod__(self, x)`\n",
    "* `__rpow__(self, x)`\n",
    "* `__rlshift__(self, x)`\n",
    "* `__rrshift__(self, x)`\n",
    "* `__rand__(self, x)`\n",
    "* `__rxor__(self, x)`\n",
    "* `__ror__(self, x)`"
   ]
  },
  {
   "cell_type": "markdown",
   "metadata": {
    "slideshow": {
     "slide_type": "slide"
    }
   },
   "source": [
    "Metody `__eq__()`, `__ne__()` przeciążają operatory porównywania `==` i `!=`.\n",
    "Jeśli nie zwracają bezpośrednio `True/False`, to na wartości zwracanej wywoływane jest `bool()`.\n",
    "Metody `__ne__()` nie trzeba pisać - tworzona jest automatycznie, wywołuje `__eq__()` i zwraca zaprzeczenie."
   ]
  },
  {
   "cell_type": "markdown",
   "metadata": {
    "slideshow": {
     "slide_type": "slide"
    }
   },
   "source": [
    "Zestaw metod porównujących:\n",
    "\n",
    "* `__lt__(self, y)` -- `<`\n",
    "* `__le__(self, y)` -- `<=`\n",
    "* `__eq__(self, y)` -- `==`\n",
    "* `__ne__(self, y)` -- `!=`\n",
    "* `__gt__(self, y)` -- `>`\n",
    "* `__ge__(self, y)` -- `>=`"
   ]
  },
  {
   "cell_type": "markdown",
   "metadata": {
    "collapsed": true,
    "slideshow": {
     "slide_type": "slide"
    }
   },
   "source": [
    "### Przykład: rząd macierzy\n",
    "\n",
    "Wykorzystamy klasę `Wektor` do obliczenia rzędu macierzy:\n",
    "\n",
    "\n",
    "```\n",
    " 2  8   3 -4\n",
    " 1  4   1 -2\n",
    " 5  20  0 -10\n",
    "-3 -12 -2  6\n",
    "```"
   ]
  },
  {
   "cell_type": "code",
   "execution_count": 29,
   "metadata": {
    "slideshow": {
     "slide_type": "subslide"
    }
   },
   "outputs": [
    {
     "name": "stdout",
     "output_type": "stream",
     "text": [
      "Wektor(2, 1, 5, -3)\n",
      "Wektor(8, 4, 20, -12)\n",
      "Wektor(3, 1, 0, -2)\n",
      "Wektor(-4, -2, -10, 6)\n"
     ]
    }
   ],
   "source": [
    "w1 = Wektor(2, 1, 5, -3)\n",
    "w2 = Wektor(8, 4, 20, -12)\n",
    "w3 = Wektor(3, 1, 0, -2)\n",
    "w4 = Wektor(-4, -2, -10, 6)\n",
    "\n",
    "print(w1, w2, w3, w4, sep='\\n')"
   ]
  },
  {
   "cell_type": "markdown",
   "metadata": {},
   "source": [
    "Wykonujemy operacje na wierszach, tak aby macierz przybrała postać trójkątną. Dozwolone operacje (czyli takie, które nie zmieniają rzędu macierzy) to zmiana kolejności wierszy i dodawanie do wiersza innego wiersza przemnożonego przez skalar. Importujemy moduł fractions, aby pozostać w zbiorze liczb wymiernych (w przeciwnym razie wpadniemy w wartości zmiennoprzecinkowe)."
   ]
  },
  {
   "cell_type": "code",
   "execution_count": 30,
   "metadata": {
    "slideshow": {
     "slide_type": "subslide"
    }
   },
   "outputs": [
    {
     "name": "stdout",
     "output_type": "stream",
     "text": [
      "Wektor(2, 1, 5, -3)\n",
      "Wektor(0, 0, 0, 0)\n",
      "Wektor(0, -1/2, -15/2, 5/2)\n",
      "Wektor(0, 0, 0, 0)\n"
     ]
    }
   ],
   "source": [
    "from fractions import Fraction as F\n",
    "\n",
    "w1, w2, w3, w4 = w1, w2 - 4*w1, w3 - F(3, 2) * w1, w4 + 2*w1\n",
    "\n",
    "print(w1, w2, w3, w4, sep='\\n')"
   ]
  },
  {
   "cell_type": "code",
   "execution_count": 31,
   "metadata": {
    "slideshow": {
     "slide_type": "subslide"
    }
   },
   "outputs": [
    {
     "name": "stdout",
     "output_type": "stream",
     "text": [
      "Wektor(2, 1, 5, -3)\n",
      "Wektor(0, -1/2, -15/2, 5/2)\n",
      "Wektor(0, 0, 0, 0)\n",
      "Wektor(0, 0, 0, 0)\n"
     ]
    }
   ],
   "source": [
    "# Zmieniamy kolejność ustawiając postać trójkątną.\n",
    "\n",
    "w1, w2, w3, w4 = w1, w3, w2, w4\n",
    "\n",
    "print(w1, w2, w3, w4, sep='\\n')"
   ]
  },
  {
   "cell_type": "code",
   "execution_count": 32,
   "metadata": {
    "slideshow": {
     "slide_type": "subslide"
    }
   },
   "outputs": [
    {
     "name": "stdout",
     "output_type": "stream",
     "text": [
      "Wektor(2, 1, 5, -3)\n",
      "Wektor(0, -1/2, -15/2, 5/2)\n",
      "Wektor(0, 0, 0, 0)\n",
      "Wektor(0, 0, 0, 0)\n"
     ]
    }
   ],
   "source": [
    "# Mamy postać trójkątną. Rząd jest równy 2.\n",
    "\n",
    "print(w1, w2, w3, w4, sep='\\n')"
   ]
  }
 ],
 "metadata": {
  "anaconda-cloud": {},
  "kernelspec": {
   "display_name": "py312",
   "language": "python",
   "name": "python3"
  },
  "language_info": {
   "codemirror_mode": {
    "name": "ipython",
    "version": 3
   },
   "file_extension": ".py",
   "mimetype": "text/x-python",
   "name": "python",
   "nbconvert_exporter": "python",
   "pygments_lexer": "ipython3",
   "version": "3.12.4"
  }
 },
 "nbformat": 4,
 "nbformat_minor": 1
}
