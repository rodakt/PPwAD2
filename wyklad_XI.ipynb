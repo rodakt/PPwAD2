{
 "cells": [
  {
   "cell_type": "markdown",
   "metadata": {
    "slideshow": {
     "slide_type": "slide"
    }
   },
   "source": [
    "# Podstawy programowania (AD) 2\n",
    "\n",
    "## Tomasz Rodak\n",
    "\n",
    "Wykład XI\n",
    "\n",
    "---\n",
    "\n",
    "# Iteracje po kolekcjach"
   ]
  },
  {
   "cell_type": "markdown",
   "metadata": {},
   "source": [
    "## Wprowadzenie\n",
    "\n",
    "W języku Python istnieją dwie jawne instrukcje złożone pozwalające na prowadzenie iteracji:\n",
    "* `while` - forma instrukcji wyboru, tyle że z powtórzeniami. Stan zmiennych z fragmentu kodu objętego instrukcją jest testowany w warunku instrukcji i od tego zależy liczba obrotów pętli.\n",
    "* `for` - iteracja biegnie po kolekcji.\n",
    "\n",
    "Czym są te \"kolekcje\", po których może iterować instrukcja `for`? Właśnie o tym teraz opowiemy.\n",
    "\n",
    "Popatrzmy na przykłady:"
   ]
  },
  {
   "cell_type": "markdown",
   "metadata": {},
   "source": [
    "```python\n",
    ">>> k1 = [3, 1, 2, 4]\n",
    ">>> k2 = range(10)\n",
    ">>> k3 = reversed('ala ma kota')\n",
    "```"
   ]
  },
  {
   "cell_type": "markdown",
   "metadata": {},
   "source": [
    "Są to obiekty różnych typów, więc w różny sposób się przedstawiają. Wiemy już, że sposób prezentacji obiektu zależy od wbudowanych metod `.__repr__()` i `.__str__()`:"
   ]
  },
  {
   "cell_type": "markdown",
   "metadata": {},
   "source": [
    "```python\n",
    ">>> k1\n",
    "[3, 1, 2, 4]\n",
    ">>> k2\n",
    "range(0, 10)\n",
    ">>> k3\n",
    "<reversed at 0x7f298cbff340>\n",
    "```"
   ]
  },
  {
   "cell_type": "markdown",
   "metadata": {},
   "source": [
    "Postać `k1` jest całkowicie jawna, wszystkie elementy zostały wypisane. Elementy `k2` są ukryte, można je jednak wydedukowć. Przedstawienie `k3` jest najbardziej enigmatyczne. Jak uzyskać dostęp do zawartości tych obiektów? Każdy z nich jest *obiektem iterowalnym*, co oznacza że można wykonać na nim iterację instrukcją `for`: "
   ]
  },
  {
   "cell_type": "markdown",
   "metadata": {},
   "source": [
    "```python\n",
    ">>> for x in k1:\n",
    "...    print(x, end=' ')\n",
    "3 1 2 4\n",
    ">>> for x in k2:\n",
    "...    print(x, end=' ')\n",
    "0 1 2 3 4 5 6 7 8 9\n",
    ">>> for x in k3:\n",
    "...    print(x, end=' ')\n",
    "a t o k   a m   a l a\n",
    "```"
   ]
  },
  {
   "cell_type": "markdown",
   "metadata": {},
   "source": [
    "Funkcje `list()`, `tuple()` i inne tym podobne wykonują iterację po kolekcji niejawnie wypakowując ją do obiektu odpowiedniego typu:"
   ]
  },
  {
   "cell_type": "markdown",
   "metadata": {},
   "source": [
    "```python\n",
    ">>> tuple(k1)\n",
    "(3, 1, 2, 4)\n",
    ">>> tuple(k2)\n",
    "(0, 1, 2, 3, 4, 5, 6, 7, 8, 9)\n",
    ">>> tuple(k3)\n",
    "()\n",
    "```"
   ]
  },
  {
   "cell_type": "markdown",
   "metadata": {},
   "source": [
    "Co tu się stało? Wygląda na to, że obiekt `k3` jest pusty! Powtórzmy test:"
   ]
  },
  {
   "cell_type": "markdown",
   "metadata": {},
   "source": [
    "```python\n",
    ">>> k3 = reversed('ala ma kota')\n",
    ">>> k3\n",
    "<reversed at 0x7f298cbff640>\n",
    ">>> tuple(k3)\n",
    "('a', 't', 'o', 'k', ' ', 'a', 'm', ' ', 'a', 'l', 'a')\n",
    ">>> tuple(k3)\n",
    "()\n",
    "```"
   ]
  },
  {
   "cell_type": "markdown",
   "metadata": {},
   "source": [
    "Gdy tymczasem:"
   ]
  },
  {
   "cell_type": "markdown",
   "metadata": {},
   "source": [
    "```python\n",
    ">>> k2 = range(10)\n",
    ">>> k2\n",
    "range(0, 10)\n",
    ">>> tuple(k2)\n",
    "(0, 1, 2, 3, 4, 5, 6, 7, 8, 9)\n",
    ">>> tuple(k2)\n",
    "(0, 1, 2, 3, 4, 5, 6, 7, 8, 9)\n",
    "```"
   ]
  },
  {
   "cell_type": "markdown",
   "metadata": {},
   "source": [
    "Każdy z obiektów `k1`, `k2`, `k3` jest iterowalny, ale tylko `k3` jest *iteratorem*."
   ]
  },
  {
   "cell_type": "markdown",
   "metadata": {},
   "source": [
    "## Iteratory\n",
    "\n",
    "*Iterator* to obiekt reprezentujący strumień danych. Każdy iterator powinien posiadać metody `.__next__()` i `.__iter__()`, przy czym metoda `.__iter__()` powinna mieć banalną postać:\n",
    "```python\n",
    "def __iter__(self):\n",
    "    return self\n",
    "```\n",
    "\n",
    "Metoda `.__next__()` zwraca kolejne elementy z iteratora. Po wyczerpaniu strumienia `.__next__()` rzuca wyjątek `StopIteration`. Wbudowana funkcja `next()` automatycznie wywołuje metodę `.__next__()`:"
   ]
  },
  {
   "cell_type": "markdown",
   "metadata": {},
   "source": [
    "```python\n",
    ">>> it = reversed('abc')\n",
    ">>> it\n",
    "<reversed at 0x7f298cbff640>\n",
    ">>> next(it)\n",
    "'c'\n",
    ">>> next(it)\n",
    "'b'\n",
    ">>> next(it)\n",
    "'a'\n",
    ">>> next(it)\n",
    "Traceback (most recent call last):\n",
    "  File \"<stdin>\", line 1, in <module>\n",
    "StopIteration\n",
    "```"
   ]
  },
  {
   "cell_type": "markdown",
   "metadata": {},
   "source": [
    "Instrukcja `for` czy funkcje niejawnie wykonujące iteracje po kolekcjach automatycznie obsługują wyjątek `StopIteration`:"
   ]
  },
  {
   "cell_type": "markdown",
   "metadata": {},
   "source": [
    "```python\n",
    ">>> it = reversed('abc')\n",
    ">>> next(it)\n",
    "'c'\n",
    ">>> next(it)\n",
    "'b'\n",
    ">>> next(it)\n",
    "'a'\n",
    ">>> tuple(it)\n",
    "()\n",
    "```"
   ]
  },
  {
   "cell_type": "markdown",
   "metadata": {},
   "source": [
    "Zakres `range()`, lista, krotka, słownik, zbiór itd., nie są iteratorami:"
   ]
  },
  {
   "cell_type": "markdown",
   "metadata": {},
   "source": [
    "```python\n",
    ">>> z = range(5)\n",
    ">>> z\n",
    "range(0, 5)\n",
    ">>> next(z)\n",
    "Traceback (most recent call last):\n",
    "  File \"<stdin>\", line 1, in <module>\n",
    "TypeError: 'range' object is not an iterator\n",
    "```"
   ]
  },
  {
   "cell_type": "markdown",
   "metadata": {},
   "source": [
    "Oto przykłady kilku funkcji wbudowanych zwracających iteratory:\n",
    "* `iter()`\n",
    "* `enumerate()`\n",
    "* `reversed()`\n",
    "* `zip()`\n",
    "* `map()`\n",
    "* `filter()`\n",
    "* `open()`\n",
    "\n",
    "Ważną cechą iteratorów jest to, że są *leniwe* - produkują wartości tylko na na żądanie. Z tego powodu iteratory zajmują tę samą, bardzo małą, ilość pamięci bez względu na to, ile wartości są w stanie zwrócić. Wkrótce się przekonasz, że liczba wartości przechoywanych przez iterator może być nawet nieskończona.\n",
    "\n",
    "Iterator można przebiec tylko raz. Przykłady widzieliśmy wyżej. Po wyczerpaniu jest bezużyteczny. Ponadto, po iteratorze można biec tylko w jedną stronę - wykorzystując funkcję `next()` (jest to nie do końca prawda w odniesieniu do wartości zwracanych przez `open()`). Wartości pobrane, jeśli nie zostaną zapamiętane, przepadają.\n",
    "\n",
    "Iterator nie posiada metod `.__getitem__()` ani `.__len__()`. Nie jest więc sekwencją i nie można obliczyć jego długości inaczej niż iterując po nim i zliczając wartości, doprowadzając równocześnie do jego wyczerpania."
   ]
  },
  {
   "cell_type": "markdown",
   "metadata": {},
   "source": [
    "```python\n",
    ">>> r = reversed('abc')\n",
    ">>> r\n",
    "<reversed at 0x7f298cbff640>\n",
    ">>> r[1]\n",
    "Traceback (most recent call last):\n",
    "  File \"<stdin>\", line 1, in <module>\n",
    "TypeError: 'reversed' object is not subscriptable\n",
    ">>> len(r)\n",
    "Traceback (most recent call last):\n",
    "  File \"<stdin>\", line 1, in <module>\n",
    "TypeError: object of type 'reversed' has no len()\n",
    "```"
   ]
  },
  {
   "cell_type": "markdown",
   "metadata": {},
   "source": [
    "## Obiekty iterowalne\n",
    "\n",
    "*Obiekt iterowalny* to dowolny obiekt, z którego wbudowana funkcja `iter()` może uzyskać iterator. Równoważnie, obiekt iterowalny to taki, po którym można przebiec pętlą `for`.\n",
    "\n",
    "Iterator jest obiektem iterowalnym, gdyż posiada metodę `.__iter__()` postaci:\n",
    "```python\n",
    "def __iter__(self):\n",
    "    return self\n",
    "```\n",
    "Funkcja `iter()` automatycznie wywołuje metodę `.__iter__()`, która w przypadku iteratora zwróci `self`, czyli właśnie ten iterator.\n",
    "\n",
    "Przykłady obiektów iterowalnych:\n",
    "\n",
    "* listy, łańcuchy, krotki;\n",
    "* słowniki, zbiory;\n",
    "* zakresy `range()`;\n",
    "* obiekty zwracane przez `zip()`, `map()`, `filter()`, `reversed()`, `enumerate()`, ...\n",
    "* ogólnie, wszystkie iteratory;\n",
    "* obiekty posiadające metodę `.__iter__()`;\n",
    "* obiekty implementujące metodę `.__getitem__()` przyjmującą indeksy zaczynające się od zera\n",
    "\n",
    "Teraz możemy dokładnie prześledzić wzorzec iteracji instrukcją `for`.\n",
    "Iteracja na obiekcie iterowalnym polega na utworzeniu jego iteratora, a następnie wywoływaniu na nim `next()`, aż do wystąpienia wyjątku `StopIteration`.\n",
    "\n",
    "A zatem pętla\n",
    "```python\n",
    "for element in obiekt_iterowalny:\n",
    "    <instrukcje>\n",
    "```\n",
    "sprowadza się do\n",
    "```python\n",
    "it = iter(obiekt_iterowalny)\n",
    "\n",
    "while True:\n",
    "    try:\n",
    "        element = next(it)\n",
    "    except StopIteration:\n",
    "        del it\n",
    "        break\n",
    "    <instrukcje>\n",
    "```\n",
    "Podobnie\n",
    "```python\n",
    "lst = list(obiekt_iterowalny)\n",
    "```\n",
    "jest tym samym co\n",
    "```python\n",
    "lst = []\n",
    "\n",
    "it = iter(obiekt_iterowalny)\n",
    "\n",
    "while True:\n",
    "    try:\n",
    "        element = next(it)\n",
    "    except StopIteration:\n",
    "        del it\n",
    "        break\n",
    "    lst.append(element)\n",
    "```"
   ]
  },
  {
   "cell_type": "markdown",
   "metadata": {
    "slideshow": {
     "slide_type": "slide"
    }
   },
   "source": [
    "### Podsumowanie\n",
    "\n",
    "#### Iterator\n",
    "\n",
    "* **Iterator** to obiekt implementujący metody `__next__(self)` oraz `__iter__(self)`.\n",
    "* Metoda `__next__()` zwraca kolejny element lub wywołuje wyjątek `StopIteration`, gdy nie ma już więcej elementów.\n",
    "* Metoda `__iter__()` powinna mieć postać:\n",
    "  ```python\n",
    "  def __iter__(self):\n",
    "      return self\n",
    "  ```\n",
    "* Dzięki implementacji `__iter__()` iterator jest obiektem iterowalnym.\n",
    "* Iterator jest **leniwy**: produkuje wartości na żądanie.\n",
    "* Iterator można przebiec **tylko raz**. Po wyczerpaniu jest bezużyteczny.\n",
    "\n",
    "#### Obiekt iterowalny\n",
    "\n",
    "* **Obiekt iterowalny** to dowolny obiekt, z którego funkcja `iter()` może uzyskać iterator. \n",
    "* Obiektami iterowalnymi są:\n",
    "  * obiekty implementujące metodę `__iter__()`,\n",
    "  * obiekty implementujące metodę `__getitem__()` przyjmującą indeksy zaczynające się od zera.\n",
    "  * w szczególności iterowalne są: sekwencje, słowniki, zbiory, strumienie plików i praktycznie wszystkie kontenery z biblioteki standardowej.\n",
    "* Obiekt iterowalny zawsze może wystąpić w pętli `for`:\n",
    "  ```python\n",
    "  for element in obiekt_iterowalny:\n",
    "      ...\n",
    "  ```"
   ]
  },
  {
   "cell_type": "markdown",
   "metadata": {},
   "source": [
    "## Tworzenie iteratorów za pomocą klas\n",
    "\n",
    "Klasa tworzy iteratory, gdy posiada metody\n",
    "\n",
    "* `.__next__(self)`\n",
    "* `.__iter__(self)`\n",
    "\n",
    "przy czym `.__iter__()` musi być postaci\n",
    "```python\n",
    "def __iter__(self):\n",
    "    return self\n",
    "```"
   ]
  },
  {
   "cell_type": "markdown",
   "metadata": {},
   "source": [
    "### Kwadraty\n",
    "\n",
    "Iteratory zwracają elementy jedynie na żądanie, mogą więc reprezentować obiekty faktycznie nieskończone.\n",
    "\n",
    "Napiszmy klasę `Kwadraty` zwracającą iterator zawierający wszystkie liczby naturalne będące kwadratami, czyli `0, 1, 4, 9, 16, ...`"
   ]
  },
  {
   "cell_type": "markdown",
   "metadata": {},
   "source": [
    "Atrybut `.licznik` przechowuje stan iteratora. Zadaniem metody `.__next__()` jest aktualizacja stanu iteratora i zwrócenie kolejnej wartości. Gdy tworzony jest nowy  obiekt przez wywołanie `Kwadraty()`, uruchamiana jest metoda `.__init__()`. Ponieważ `.__next__()` musi zaktualizować `.licznik` **przed** zwróceniem wartości, więc `.__init__()` ustawia `.licznik` na `-1`. W przeciwnym razie nie uzyskamy zera jako pierwszego kwadratu (a tego wymagają testy)."
   ]
  },
  {
   "cell_type": "code",
   "execution_count": null,
   "metadata": {},
   "outputs": [],
   "source": [
    "class Kwadraty:\n",
    "    \n",
    "    def __init__(self):\n",
    "        self._n = 0\n",
    "        \n",
    "    def __next__(self):\n",
    "        n = self._n\n",
    "        self._n += 1\n",
    "        return n ** 2\n",
    "    \n",
    "    def __iter__(self):\n",
    "        return self"
   ]
  },
  {
   "cell_type": "markdown",
   "metadata": {},
   "source": [
    "### PostępArytmetyczny\n",
    "\n",
    "Napiszemy klasę `PostępArytmetyczny` zwracającą iteratory z postępem arytmetycznym o zadanym wyrazie początkowym, różnicy i liczbie wyrazów."
   ]
  },
  {
   "cell_type": "markdown",
   "metadata": {},
   "source": [
    "Tutaj zasada jest podobna jak w przykładzie Kwadraty. Różnica polega przede wszystkim na tym, że teraz iteratory są skończone. Dlatego metoda `.__next__()` musi aktualizować stan i zwracać wartość, ale również sprawdzać, czy iterator nie został już wyczerpany. Jeśli tak, to rzuca wyjątek `StopIteration`."
   ]
  },
  {
   "cell_type": "code",
   "execution_count": null,
   "metadata": {},
   "outputs": [],
   "source": [
    "class PostępArytmetyczny:\n",
    "    \n",
    "    def __init__(self, a, r, n):\n",
    "        self.a, self.r, self.n = a, r, n\n",
    "        self._k, self._w = 0, a\n",
    "    \n",
    "    def __repr__(self):\n",
    "        return 'PostępArytmetyczny(a={}, r={}, n={})'.format(self.a, self.r, self.n)\n",
    "    \n",
    "    def __next__(self):\n",
    "        if self._k == self.n:\n",
    "            raise StopIteration\n",
    "        \n",
    "        w = self._w\n",
    "        self._k += 1\n",
    "        self._w += self.r\n",
    "        return w\n",
    "        \n",
    "    def __iter__(self):\n",
    "        return self"
   ]
  },
  {
   "cell_type": "markdown",
   "metadata": {},
   "source": [
    "```python\n",
    ">>> p = PostępArytmetyczny(10, -1.5, 8)\n",
    ">>> p\n",
    "PostępArytmetyczny(a=10, r=-1.5, n=8)\n",
    ">>> for x in p:\n",
    "...     print(x, end=' ')\n",
    "10 8.5 7.0 5.5 4.0 2.5 1.0 -0.5\n",
    "```"
   ]
  },
  {
   "cell_type": "markdown",
   "metadata": {
    "slideshow": {
     "slide_type": "slide"
    }
   },
   "source": [
    "## Generatory\n",
    "\n",
    "*Funkcja generatora* to funkcja, która zawiera w swoim ciele słowo zarezerwowane **`yield`**. Użycie funkcji generatora znakomicie upraszcza pisanie własnych iteratorów. Funkcje generatora zwracają iteratory, nazywa się je czasem *generatorami*.\n",
    "\n",
    "Przykład. Chcemy utworzyć iterator powtarzający zadaną sekwencję żądaną liczbę razy:"
   ]
  },
  {
   "cell_type": "markdown",
   "metadata": {
    "slideshow": {
     "slide_type": "slide"
    }
   },
   "source": [
    "Utworzymy go dwoma sposobami: pisząc klasę i funkcję generatora.\n",
    "\n",
    "Klasa:"
   ]
  },
  {
   "cell_type": "code",
   "execution_count": null,
   "metadata": {},
   "outputs": [],
   "source": [
    "class Powtarzaj:\n",
    "    \n",
    "    def __init__(self, seq, n_powt=1):\n",
    "        self._seq = seq\n",
    "        self._len = n_powt * len(seq)\n",
    "        self._licznik = 0\n",
    "    \n",
    "    def __next__(self):\n",
    "        while True:\n",
    "            if self._licznik == self._len:\n",
    "                raise StopIteration\n",
    "\n",
    "            v = self._seq[self._licznik % len(self._seq)]\n",
    "            self._licznik += 1\n",
    "            return v\n",
    "    \n",
    "    def __iter__(self):\n",
    "        return self"
   ]
  },
  {
   "cell_type": "code",
   "execution_count": null,
   "metadata": {
    "slideshow": {
     "slide_type": "subslide"
    }
   },
   "outputs": [
    {
     "data": {
      "text/plain": [
       "<__main__.Powtarzaj at 0x7ff3007cfa90>"
      ]
     },
     "execution_count": 35,
     "metadata": {},
     "output_type": "execute_result"
    }
   ],
   "source": [
    "it = Powtarzaj((4, 5, 6), n_powt=4)\n",
    "it"
   ]
  },
  {
   "cell_type": "code",
   "execution_count": null,
   "metadata": {},
   "outputs": [
    {
     "data": {
      "text/plain": [
       "[4, 5, 6, 4, 5, 6, 4, 5, 6, 4, 5, 6]"
      ]
     },
     "execution_count": 36,
     "metadata": {},
     "output_type": "execute_result"
    }
   ],
   "source": [
    "list(it)"
   ]
  },
  {
   "cell_type": "markdown",
   "metadata": {
    "slideshow": {
     "slide_type": "subslide"
    }
   },
   "source": [
    "Funkcja generatora:"
   ]
  },
  {
   "cell_type": "code",
   "execution_count": null,
   "metadata": {},
   "outputs": [],
   "source": [
    "def powtarzaj(seq, n_powt=1):\n",
    "    for _ in range(n_powt):\n",
    "        for v in seq:\n",
    "            yield v"
   ]
  },
  {
   "cell_type": "code",
   "execution_count": null,
   "metadata": {},
   "outputs": [
    {
     "data": {
      "text/plain": [
       "<generator object powtarzaj at 0x7ff308038f50>"
      ]
     },
     "execution_count": 38,
     "metadata": {},
     "output_type": "execute_result"
    }
   ],
   "source": [
    "it = powtarzaj((4, 5, 6), n_powt=3)\n",
    "it"
   ]
  },
  {
   "cell_type": "code",
   "execution_count": null,
   "metadata": {},
   "outputs": [
    {
     "data": {
      "text/plain": [
       "[4, 5, 6, 4, 5, 6, 4, 5, 6]"
      ]
     },
     "execution_count": 39,
     "metadata": {},
     "output_type": "execute_result"
    }
   ],
   "source": [
    "list(it)"
   ]
  },
  {
   "cell_type": "markdown",
   "metadata": {
    "slideshow": {
     "slide_type": "slide"
    }
   },
   "source": [
    "### `yield`\n",
    "\n",
    "Instrukcja `yield` działa inaczej niż `return` -- zwraca wartość i wstrzymuje działanie funkcji, ale jej nie opuszcza. Funkcja generatora po wywołaniu natychmiast zwraca generator, nie oblicza jednak jego wartości. Wartości generatora są obliczane przez funkcję generatora dopiero na żądanie.\n",
    "\n",
    "Jaka jest różnica między funkcjami `f()` i `g()`?"
   ]
  },
  {
   "cell_type": "code",
   "execution_count": null,
   "metadata": {},
   "outputs": [],
   "source": [
    "def f():\n",
    "    for litera in 'abc':\n",
    "        return litera"
   ]
  },
  {
   "cell_type": "code",
   "execution_count": null,
   "metadata": {},
   "outputs": [],
   "source": [
    "def g():\n",
    "    for litera in 'abc':\n",
    "        yield litera"
   ]
  },
  {
   "cell_type": "markdown",
   "metadata": {},
   "source": [
    "* `f()` zwraca łańcuch `'a'`.\n",
    "* `g()` zwraca generator.\n",
    "* `f()` próbuje od razu biec po całej pętli, zdąży jednak wykonać tylko jeden obrót.\n",
    "* `g()` wykonuje całą pętlę stopniowo, w odpowiedzi na kolejne żądania `__next__()`."
   ]
  },
  {
   "cell_type": "markdown",
   "metadata": {
    "slideshow": {
     "slide_type": "slide"
    }
   },
   "source": [
    "Pokażemy teraz jak użycie funkcji generatora upraszcza pisanie iteratorów. \n",
    "Oto funkcja generatora `postęp_arytmetyczny()`. Wywołana zwraca iterator z dokładnie tymi samymi wartościami, co iterator zwracany przez klasę `PostępArytmetyczny`. Przechodzi też te same testy, trzeba tylko zmienić w nich nazwę klasy na nazwę funkcji.\n",
    "Ponieważ `yield` nie opuszcza funkcji, możemy wykonać `yield` przy każdym obrocie pętli. Dlatego pisanie funkcji generatora jest prostsze niż klas zwracających iteratory."
   ]
  },
  {
   "cell_type": "code",
   "execution_count": null,
   "metadata": {},
   "outputs": [],
   "source": [
    "def postęp_arytmetyczny(a, r, n):\n",
    "    for _ in range(n):\n",
    "        yield a\n",
    "        a += r"
   ]
  },
  {
   "cell_type": "code",
   "execution_count": null,
   "metadata": {},
   "outputs": [
    {
     "data": {
      "text/plain": [
       "<generator object postęp_arytmetyczny at 0x7ff3007c81d0>"
      ]
     },
     "execution_count": 43,
     "metadata": {},
     "output_type": "execute_result"
    }
   ],
   "source": [
    "p = postęp_arytmetyczny(10, -1.5, 8)\n",
    "p"
   ]
  },
  {
   "cell_type": "code",
   "execution_count": null,
   "metadata": {},
   "outputs": [
    {
     "name": "stdout",
     "output_type": "stream",
     "text": [
      "10 8.5 7.0 5.5 4.0 2.5 1.0 -0.5 "
     ]
    }
   ],
   "source": [
    "for x in p:\n",
    "    print(x, end=' ')"
   ]
  },
  {
   "cell_type": "markdown",
   "metadata": {
    "slideshow": {
     "slide_type": "slide"
    }
   },
   "source": [
    "Kolejny przykład. Piszemy funkcję generatora zwracającą generator rzutów kostką, aż do wystąpienia żądanej liczby oczek:"
   ]
  },
  {
   "cell_type": "code",
   "execution_count": null,
   "metadata": {},
   "outputs": [],
   "source": [
    "from random import randint\n",
    "\n",
    "def rzuty_aż_wystąpi(k):\n",
    "    while True:\n",
    "        rzut = randint(1, 6)\n",
    "        yield rzut\n",
    "        \n",
    "        if rzut == k:\n",
    "            break"
   ]
  },
  {
   "cell_type": "code",
   "execution_count": null,
   "metadata": {},
   "outputs": [
    {
     "data": {
      "text/plain": [
       "[5, 6]"
      ]
     },
     "execution_count": 46,
     "metadata": {},
     "output_type": "execute_result"
    }
   ],
   "source": [
    "list(rzuty_aż_wystąpi(6))"
   ]
  },
  {
   "cell_type": "markdown",
   "metadata": {
    "slideshow": {
     "slide_type": "subslide"
    }
   },
   "source": [
    "Wersja, w której ostatniego rzutu nie ma w wynikach."
   ]
  },
  {
   "cell_type": "code",
   "execution_count": null,
   "metadata": {},
   "outputs": [],
   "source": [
    "from random import randint\n",
    "\n",
    "def rzuty_aż_wystąpi(k):\n",
    "    while True:\n",
    "        rzut = randint(1, 6)\n",
    "        \n",
    "        if rzut == k:\n",
    "            break\n",
    "        \n",
    "        yield rzut"
   ]
  },
  {
   "cell_type": "code",
   "execution_count": null,
   "metadata": {},
   "outputs": [
    {
     "data": {
      "text/plain": [
       "[5, 4, 5, 4, 5]"
      ]
     },
     "execution_count": 48,
     "metadata": {},
     "output_type": "execute_result"
    }
   ],
   "source": [
    "list(rzuty_aż_wystąpi(6))"
   ]
  },
  {
   "cell_type": "markdown",
   "metadata": {
    "slideshow": {
     "slide_type": "slide"
    }
   },
   "source": [
    "Funkcja generatora zwracająca generatory nieskończone z ciągiem Fibonacciego:"
   ]
  },
  {
   "cell_type": "code",
   "execution_count": null,
   "metadata": {
    "slideshow": {
     "slide_type": "fragment"
    }
   },
   "outputs": [],
   "source": [
    "def fib():\n",
    "    a, b = 0, 1\n",
    "    while True:\n",
    "        yield a\n",
    "        a, b = b, a + b"
   ]
  },
  {
   "cell_type": "markdown",
   "metadata": {
    "slideshow": {
     "slide_type": "subslide"
    }
   },
   "source": [
    "Jak uzyskać 15 pierwszych wyrazów?"
   ]
  },
  {
   "cell_type": "code",
   "execution_count": null,
   "metadata": {
    "slideshow": {
     "slide_type": "fragment"
    }
   },
   "outputs": [
    {
     "data": {
      "text/plain": [
       "[0, 1, 1, 2, 3, 5, 8, 13, 21, 34, 55, 89, 144, 233, 377]"
      ]
     },
     "execution_count": 50,
     "metadata": {},
     "output_type": "execute_result"
    }
   ],
   "source": [
    "fibonacci = fib()\n",
    "\n",
    "[next(fibonacci) for _ in range(15)]"
   ]
  },
  {
   "cell_type": "markdown",
   "metadata": {
    "slideshow": {
     "slide_type": "subslide"
    }
   },
   "source": [
    "Jak uzyskać 15-ty wyraz?"
   ]
  },
  {
   "cell_type": "code",
   "execution_count": null,
   "metadata": {
    "slideshow": {
     "slide_type": "fragment"
    }
   },
   "outputs": [
    {
     "data": {
      "text/plain": [
       "377"
      ]
     },
     "execution_count": 51,
     "metadata": {},
     "output_type": "execute_result"
    }
   ],
   "source": [
    "fibonacci = fib()\n",
    "\n",
    "for _ in range(14):\n",
    "    next(fibonacci)\n",
    "\n",
    "next(fibonacci)"
   ]
  },
  {
   "cell_type": "markdown",
   "metadata": {
    "slideshow": {
     "slide_type": "subslide"
    }
   },
   "source": [
    "Jak uzyskać wyrazy mniejsze niż 10000?"
   ]
  },
  {
   "cell_type": "code",
   "execution_count": null,
   "metadata": {
    "slideshow": {
     "slide_type": "fragment"
    }
   },
   "outputs": [
    {
     "name": "stdout",
     "output_type": "stream",
     "text": [
      "0, 1, 1, 2, 3, 5, 8, 13, 21, 34, 55, 89, 144, 233, 377, 610, 987, 1597, 2584, 4181, 6765, "
     ]
    }
   ],
   "source": [
    "fibonacci = fib()\n",
    "\n",
    "for f in fibonacci:\n",
    "    if f >= 10000:\n",
    "        break\n",
    "    \n",
    "    print(f, end=', ')"
   ]
  },
  {
   "cell_type": "markdown",
   "metadata": {
    "slideshow": {
     "slide_type": "slide"
    }
   },
   "source": [
    "### Wyrażenie generatora\n",
    "\n",
    "Generatory są też zwracane przez *wyrażenie generatora*. Składnia dla wyrażenia generatora jest taka jak dla wyrażenia listowego, tyle że zewnętrzne nawiasy `[]` zastępujemy przez `()`:"
   ]
  },
  {
   "cell_type": "code",
   "execution_count": null,
   "metadata": {},
   "outputs": [
    {
     "data": {
      "text/plain": [
       "<generator object <genexpr> at 0x7ff3007c89d0>"
      ]
     },
     "execution_count": 53,
     "metadata": {},
     "output_type": "execute_result"
    }
   ],
   "source": [
    "potęgi_dwójki = (2 ** n for n in range(10))\n",
    "potęgi_dwójki"
   ]
  },
  {
   "cell_type": "code",
   "execution_count": null,
   "metadata": {},
   "outputs": [
    {
     "data": {
      "text/plain": [
       "[1, 2, 4, 8, 16, 32, 64, 128, 256, 512]"
      ]
     },
     "execution_count": 54,
     "metadata": {},
     "output_type": "execute_result"
    }
   ],
   "source": [
    "list(potęgi_dwójki)"
   ]
  },
  {
   "cell_type": "markdown",
   "metadata": {
    "slideshow": {
     "slide_type": "subslide"
    }
   },
   "source": [
    "Niektóre funkcje, jak np. `sum()` pozwalają na opuszczenie nawiasów otaczających wyrażenie generatora."
   ]
  },
  {
   "cell_type": "code",
   "execution_count": null,
   "metadata": {},
   "outputs": [
    {
     "data": {
      "text/plain": [
       "(1023, 1023)"
      ]
     },
     "execution_count": 55,
     "metadata": {},
     "output_type": "execute_result"
    }
   ],
   "source": [
    "sum(2 ** n for n in range(10)), 2**10 - 1"
   ]
  },
  {
   "cell_type": "markdown",
   "metadata": {
    "slideshow": {
     "slide_type": "slide"
    }
   },
   "source": [
    "### Użycie `return` w funkcji generatora\n",
    "\n",
    "Chcemy napisać funkcję generatora `różnice(seq)`. Parametr `seq` jest sekwencją liczb. Zwracany generator zawiera wszystkie różnice między sąsiednimi elementami: `<następnik> - <poprzednik>`. Przykładowo, jeśli\n",
    "```python\n",
    "seq = [3, 1, 6, 10, 20]\n",
    "```\n",
    "to generator różnic powinien zawierać:\n",
    "```\n",
    "-2, 5, 4, 10\n",
    "```"
   ]
  },
  {
   "cell_type": "markdown",
   "metadata": {
    "slideshow": {
     "slide_type": "subslide"
    }
   },
   "source": [
    "Pierwsza próba. Czy widzisz problem?"
   ]
  },
  {
   "cell_type": "code",
   "execution_count": null,
   "metadata": {},
   "outputs": [],
   "source": [
    "def różnice(seq):\n",
    "    a = seq[0]\n",
    "    \n",
    "    for b in seq[1:]:\n",
    "        yield b - a\n",
    "        a = b"
   ]
  },
  {
   "cell_type": "markdown",
   "metadata": {
    "slideshow": {
     "slide_type": "fragment"
    }
   },
   "source": [
    "Jeśli `seq` jest pusty lub jednoelementowy, to zwracany generator powinien być pusty. W przypadku sekwencji jednoelementowej rzeczywiście tak jest: pętla jest wtedy pusta, więc żadna instrukcja `yield` nie zostanie wykonana. Jeśli jednak sekwencja jest pusta, to linia\n",
    "```python\n",
    "a = seq[0]\n",
    "```\n",
    "rzuci `IndexError`. "
   ]
  },
  {
   "cell_type": "markdown",
   "metadata": {
    "slideshow": {
     "slide_type": "subslide"
    }
   },
   "source": [
    "**Rozwiązanie.** W funkcji generatora dopuszczalne jest użycie instrukcji `return`. Wykonanie tej instrukcji oznacza opuszczenie generatora i w konsekwencji rzucenie wyjątku `StopIteration`. "
   ]
  },
  {
   "cell_type": "code",
   "execution_count": null,
   "metadata": {},
   "outputs": [],
   "source": [
    "def różnice(seq):\n",
    "    if not seq:\n",
    "        return\n",
    "    \n",
    "    a = seq[0]\n",
    "    \n",
    "    for b in seq[1:]:\n",
    "        yield b - a\n",
    "        a = b"
   ]
  },
  {
   "cell_type": "markdown",
   "metadata": {
    "slideshow": {
     "slide_type": "fragment"
    }
   },
   "source": [
    "*Uwaga:* Może Ci się wydawać, że w tej sytuacji bardziej naturalne niż `return` byłoby\n",
    "```python\n",
    "raise StopIteration\n",
    "```\n",
    "To jest jednak wycofywana składnia w kontekście funkcji generatora. Dla zainteresowanych uzasadnienie w dokumencie [PEP 479.](https://www.python.org/dev/peps/pep-0479/)"
   ]
  },
  {
   "cell_type": "markdown",
   "metadata": {},
   "source": [
    "Funkcja `różnice(seq)` zakłada, że parametr `seq` będzie sekwencją. Informacja ta jest wykorzystywana tam, gdzie kod sprawdza, czy `seq` jest pusty i dalej przy pobieraniu wartości `seq[0]` i przy tworzeniu wycinka `seq[1:]`. Z tego powodu funkcja nie będzie działać na iteratorach. Nie będzie działać również na tych obiektach iterowalnych, które nie są uporządkowane (choć w tym przypadku nie jest to duża wada, gdyż postać ciągu różnic na kolekcji nieuporządkowanej jest niezdefiniowana).\n",
    "\n",
    "Tak wygląda uogólnienie funkcji `różnice()` na wszystkie obiekty iterowalne:"
   ]
  },
  {
   "cell_type": "code",
   "execution_count": null,
   "metadata": {},
   "outputs": [],
   "source": [
    "def różnice(it):\n",
    "    it = iter(it)\n",
    "    \n",
    "    try:\n",
    "        a = next(it)\n",
    "    except StopIteration:\n",
    "        return\n",
    "    \n",
    "    for b in it:\n",
    "        yield b - a\n",
    "        a = b"
   ]
  },
  {
   "cell_type": "markdown",
   "metadata": {},
   "source": [
    "* W wierszu 2 zamieniamy `it` na iterator; nie zmienia to `it` w żaden sposób, jeśli `it` już jest iteratorem.\n",
    "* Blok `try` testuje, czy `it` jest pusty. Jeśli nie, to pobrany zostaje pierwszy element, w przeciwnym razie generator jest opuszczany.\n",
    "* Iteracja `for` biegnie po `it`, z którego pierwszy element został już pobrany. Jeśli `it` miał tylko jeden element, to pętla jest pusta i generator jest opuszczany."
   ]
  },
  {
   "cell_type": "markdown",
   "metadata": {
    "slideshow": {
     "slide_type": "slide"
    }
   },
   "source": [
    "### Przykład: generator punktów kratowych płaszczyzny\n",
    "\n",
    "Funkcja `krata()` zwraca nieskończony generator przechodzący przez wszystkie całkowitoliczbowe punkty płaszczyzny. Trasa nie może się przecinać -- generator przechodzi przez każdy punkt dokładnie jeden raz. Wynik znajduje się na rysunku na dole strony.\n",
    "\n",
    "Funkcja generatora `ciąg_z_liczbami_kroków()` zwraca nieskończony generator z wartościami\n",
    "```\n",
    "1 1 2 2 3 3 4 4 ...\n",
    "```\n",
    "Będą to długości boków spirali: dwa boki długości jeden, dwa boki długości dwa itd."
   ]
  },
  {
   "cell_type": "code",
   "execution_count": null,
   "metadata": {
    "slideshow": {
     "slide_type": "subslide"
    }
   },
   "outputs": [],
   "source": [
    "def ciąg_z_liczbami_kroków():\n",
    "    k = 1\n",
    "    \n",
    "    while True:\n",
    "        yield k\n",
    "        yield k\n",
    "        k += 1"
   ]
  },
  {
   "cell_type": "markdown",
   "metadata": {},
   "source": [
    "Funkcja generatora `ciąg_z_kierunkami()` zwraca nieskończony generator z literami kodującymi kierunki\n",
    "```\n",
    "P D L G P D L G...\n",
    "```\n",
    "czyli prawo, dół, lewo, góra, prawo, dół, lewo, góra, ..."
   ]
  },
  {
   "cell_type": "code",
   "execution_count": null,
   "metadata": {
    "slideshow": {
     "slide_type": "subslide"
    }
   },
   "outputs": [],
   "source": [
    "KIERUNKI = 'PDLG'\n",
    "\n",
    "def ciąg_z_kierunkami():\n",
    "    while True:\n",
    "        for kierunek in KIERUNKI:\n",
    "            yield kierunek"
   ]
  },
  {
   "cell_type": "markdown",
   "metadata": {},
   "source": [
    "Słownik `FUNKCJE` zawiera funkcje przesuwające punkt kratowy do kolejnego położenia. Funkcja generatora `krata()` przemieszcza się po kracie w takiej kolejności jaką widać na zamieszczonym niżej rysunku. Czy potrafisz wywmyślić i zaimplementować inną kolejność?"
   ]
  },
  {
   "cell_type": "code",
   "execution_count": null,
   "metadata": {
    "slideshow": {
     "slide_type": "subslide"
    }
   },
   "outputs": [],
   "source": [
    "FUNKCJE = dict(P=lambda x, y: (x + 1, y),\n",
    "               D=lambda x, y: (x, y - 1),\n",
    "               L=lambda x, y: (x - 1, y),\n",
    "               G=lambda x, y: (x, y + 1))\n",
    "            \n",
    "def krata():\n",
    "    kroki = ciąg_z_liczbami_kroków()\n",
    "    kierunki = ciąg_z_kierunkami()\n",
    "    x, y = 0, 0\n",
    "    \n",
    "    while True:\n",
    "        liczba_kroków = next(kroki)\n",
    "        kierunek = next(kierunki)\n",
    "        for _ in range(liczba_kroków):\n",
    "            yield x, y\n",
    "            x, y = FUNKCJE[kierunek](x, y)\n",
    "        "
   ]
  },
  {
   "cell_type": "code",
   "execution_count": null,
   "metadata": {
    "slideshow": {
     "slide_type": "subslide"
    }
   },
   "outputs": [],
   "source": [
    "from matplotlib import pyplot as plt\n",
    "%matplotlib inline\n",
    "plt.style.use('seaborn-notebook')"
   ]
  },
  {
   "cell_type": "code",
   "execution_count": null,
   "metadata": {
    "slideshow": {
     "slide_type": "subslide"
    }
   },
   "outputs": [
    {
     "data": {
      "image/png": "[encoded data removed]",
      "text/plain": [
       "<Figure size 800x550 with 1 Axes>"
      ]
     },
     "metadata": {},
     "output_type": "display_data"
    }
   ],
   "source": [
    "N = 15**2\n",
    "p = krata()\n",
    "punkty = [next(p) for _ in range(N)]\n",
    "X, Y = zip(*punkty)\n",
    "fig, ax = plt.subplots()\n",
    "ax.set_aspect('equal')\n",
    "ax.plot(X, Y, marker='o');"
   ]
  },
  {
   "cell_type": "markdown",
   "metadata": {
    "slideshow": {
     "slide_type": "slide"
    }
   },
   "source": [
    "##  Uwaga o terminologii\n",
    "\n",
    "* Społeczność Pythona często traktuje terminy *iterator* i *generator* jak synonimy.\n",
    "\n",
    "* Terminologię dla tego wykładu zaczerpnąłem z książki L. Ramahlo, *Zaawansowany Python*.\n",
    "\n",
    "* [Python Glossary](https://docs.python.org/3/glossary.html#term-generator) *generatorem* nazywa funkcję zawierającą `yield`. Obiekt zwracany przez tę funkcję nazywany jest *iteratorem generatorem*."
   ]
  },
  {
   "cell_type": "markdown",
   "metadata": {
    "slideshow": {
     "slide_type": "slide"
    }
   },
   "source": [
    "\n",
    "\n",
    "## Do poczytania\n",
    "\n",
    "[A. Kuchling, *Functional Programming HOWTO*](https://docs.python.org/3/howto/functional.html)"
   ]
  }
 ],
 "metadata": {
  "anaconda-cloud": {},
  "kernelspec": {
   "display_name": "py312",
   "language": "python",
   "name": "python3"
  },
  "language_info": {
   "codemirror_mode": {
    "name": "ipython",
    "version": 3
   },
   "file_extension": ".py",
   "mimetype": "text/x-python",
   "name": "python",
   "nbconvert_exporter": "python",
   "pygments_lexer": "ipython3",
   "version": "3.12.4"
  }
 },
 "nbformat": 4,
 "nbformat_minor": 1
}
