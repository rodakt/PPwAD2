{
 "cells": [
  {
   "cell_type": "markdown",
   "metadata": {
    "slideshow": {
     "slide_type": "slide"
    }
   },
   "source": [
    "# Podstawy programowania (AD) 2\n",
    "\n",
    "## Tomasz Rodak\n",
    "\n",
    "Wykład XII\n",
    "\n",
    "---\n",
    "\n",
    "# Iteracje po kolekcjach II"
   ]
  },
  {
   "cell_type": "markdown",
   "metadata": {},
   "source": [
    "## Wprowadzenie\n",
    "\n",
    "Algorytmy typu [*brute force*](https://en.wikipedia.org/wiki/Brute-force_search) (*exhaustive search*, wyszukiwanie siłowe, wyszukiwanie wyczerpujące) poszukują rozwiązania problemu przeliczając wszystkie możliwe przypadki. Na przykład funkcja"
   ]
  },
  {
   "cell_type": "code",
   "execution_count": null,
   "metadata": {},
   "outputs": [],
   "source": [
    "def dzielniki(n):\n",
    "    '''Zwraca listę dzielników n.'''\n",
    "    lst = []\n",
    "    d = 1\n",
    "    \n",
    "    while d * d < n:\n",
    "        if n % d == 0:\n",
    "            lst.extend([d, n // d])\n",
    "\n",
    "        d += 1\n",
    "    \n",
    "    if d * d == n:\n",
    "        lst.append(d)\n",
    "    \n",
    "    return sorted(lst)"
   ]
  },
  {
   "cell_type": "code",
   "execution_count": null,
   "metadata": {},
   "outputs": [
    {
     "name": "stdout",
     "output_type": "stream",
     "text": [
      "CPU times: user 947 ms, sys: 3.52 ms, total: 951 ms\n",
      "Wall time: 1.31 s\n"
     ]
    },
    {
     "data": {
      "text/plain": [
       "[1, 11, 859, 9449, 1058313049, 11641443539, 909090909091, 10000000000001]"
      ]
     },
     "execution_count": 2,
     "metadata": {},
     "output_type": "execute_result"
    }
   ],
   "source": [
    "%%time\n",
    "dzielniki(10**13 + 1)"
   ]
  },
  {
   "cell_type": "markdown",
   "metadata": {},
   "source": [
    "poszukuje dzielników `n` po prostu sprawdzając podzielność `n` przez wszystkie liczby naturalne `d`, takie że `d * d <= n`. Algorytm ten byłby jeszcze bardziej siłowy, gdyby sprawdzał podzielność `n` przez wszystkie liczby naturalne `d <= n`. Ale nawet podana wyżej wersja jest siłowa, mimo że dosyć mocno ogranicza wielkość przeszukiwanego zbioru.\n",
    "\n",
    "Algorytmy siłowe mają wiele zalet:\n",
    "* często są najprostsze do napisania,\n",
    "* zawsze w sposób kompletny rozwiązują zadanie,\n",
    "* są niezawodne i mniej narażone na błędy niż inne, bardziej wymyślne procedury.\n",
    "\n",
    "Główna wada to problem wydajności czasowej/pamięciowej. Zwykle w algorytmach tego typu czas/pamięć potrzebne do rozwiązania problemu gwałtownie rosną wraz ze wzrostem rozmiaru danych wejściowych. Tym niemniej, ze względu na niebywałą wręcz prędkość z jaką komputery prowadzą obliczenia oraz na ogromną ilość dostępnej pamięci algorytmy siłowe są skuteczne, o ile zakres danych wejściowych nie jest zbyt duży.\n",
    "\n",
    "W języku Python implementacja rozwiązań siłowych jest szczególnie prosta. Wynika to z dwóch powodów. Po pierwsze w Pythonie funkcje są obiektami pierwszej klasy i dzięki temu jest w nim dostępnych wiele funkcji wyższego rzędu (zob. [wykład](http://math.uni.lodz.pl/~rodakt/dane/analiza_danych/20.21/PPwAD/wyklad_V.html), moduł [functools](https://docs.python.org/3/library/functools.html)). Po drugie, biblioteka standardowa zawiera wiele funkcji zwracających iteratory po rozmaitych obiektach kombinatorycznych (zob. moduł [itertools](https://docs.python.org/3/library/itertools.html)). \n",
    "\n",
    "\n",
    "Niżej pokazujemy dwa przykłady z implementacjami *brute force*. Wykorzystujemy funkcje generatora `product()` i `combinations()` z modułu `itertools` oraz funkcję wyższego rzędu `reduce()` z modułu `functools`. Więcej podobnych  narzędzi znajdziesz [tutaj](https://docs.python.org/3/library/functional.html). Szczególnie polecam [recepty modułu itertools](https://docs.python.org/3/library/itertools.html#itertools-recipes)."
   ]
  },
  {
   "cell_type": "markdown",
   "metadata": {
    "slideshow": {
     "slide_type": "slide"
    }
   },
   "source": [
    "## Kangur\n",
    "\n",
    "Zadanie z Kangura 2017, kl II szkoły podstawowej :-)\n",
    "\n",
    "> *Za każdą literę **A B C D E** wstawiamy liczbę o cztery większą, lub dwa razy większą niż poprzednia. Jeżeli A=1, to która z liczb nigdy nie będzie równa E?*\n",
    "> \n",
    "> *A) 16 B) 17 C) 22 D) 30 E) 36*\n",
    "\n",
    "Możemy to pytanie rozszerzyć: jak wygląda zbiór wszystkich możliwych wartości E? \n",
    "\n",
    "Rozwiązanie wykorzystujące *brute force* oblicza E dla wszystkich możliwych wyborów operacji między literami:\n",
    "```\n",
    "A, op1(A) --> B, op2(B) --> C, op3(C) --> D, op4(D) --> E\n",
    "```\n",
    "Każda z funkcji `op` w ciągu `(op1, op2, op3, op4)` ma jedną z dwóch możliwych postaci: *powiększ o cztery* lub *pomnóż przez dwa*. Gdy dany jest jeden taki ciąg i ustalona jest wartość A, to E może zostać obliczona. Pojawiają się zatem dwie kwestie: wykonanie iteracji po wszystkich możliwych wyborach `op` i obliczenie E dla zadanego A i ciągu operatorów.\n",
    "\n",
    "Narzuca się następujące, bezpośrednie rozwiązanie:"
   ]
  },
  {
   "cell_type": "code",
   "execution_count": null,
   "metadata": {},
   "outputs": [
    {
     "name": "stdout",
     "output_type": "stream",
     "text": [
      "[12, 14, 16, 17, 18, 20, 22, 24, 26, 28, 36, 40]\n"
     ]
    }
   ],
   "source": [
    "ops = [lambda x: x + 4, lambda x: 2 * x]\n",
    "A = 1\n",
    "wyniki = set() # Zbiór jest lepszy niż lista, gdyż nie zawiera powtórzeń.\n",
    "\n",
    "for op1 in ops:\n",
    "    for op2 in ops:\n",
    "        for op3 in ops:\n",
    "            for op4 in ops:\n",
    "                E = op4(op3(op2(op1(A))))\n",
    "                wyniki.add(E)\n",
    "\n",
    "print(sorted(wyniki))"
   ]
  },
  {
   "cell_type": "markdown",
   "metadata": {},
   "source": [
    "Ten program jest prosty i działa zgodnie z oczekiwaniami, nie jest jednak skalowalny - zmiana liczby liter oznacza konieczność usuwania/dopisywania pętli `for`.\n",
    "\n",
    "Spróbujmy zatem powyższy program uogólnić do funkcji `wartości_końcowe(A, liczba_liter, ops)` zwracającącej posortowaną listę wszystkich wartości końcowych. \n",
    "\n",
    "#### Testy"
   ]
  },
  {
   "cell_type": "code",
   "execution_count": null,
   "metadata": {},
   "outputs": [],
   "source": [
    "ops = [lambda x: x + 4]\n",
    "assert wartości_końcowe(A=1, liczba_liter=1, ops=ops) == [1]\n",
    "assert wartości_końcowe(A=1, liczba_liter=2, ops=ops) == [5]\n",
    "assert wartości_końcowe(A=1, liczba_liter=3, ops=ops) == [9]\n",
    "\n",
    "ops = [lambda x: x + 4, lambda x: 2 * x]\n",
    "assert wartości_końcowe(A=1, liczba_liter=1, ops=ops) == [1]\n",
    "assert wartości_końcowe(A=1, liczba_liter=2, ops=ops) == [2, 5]\n",
    "assert wartości_końcowe(A=1, liczba_liter=3, ops=ops) == [4, 6, 9, 10]\n",
    "assert wartości_końcowe(A=1, liczba_liter=5, ops=ops) == [12, 14, 16, 17,\n",
    "                                                          18, 20, 22, 24,\n",
    "                                                          26, 28, 36, 40]\n",
    "assert wartości_końcowe(A=10, liczba_liter=2, ops=ops) == [14, 20]\n",
    "assert wartości_końcowe(A=10, liczba_liter=3, ops=ops) == [18, 24, 28, 40]"
   ]
  },
  {
   "cell_type": "markdown",
   "metadata": {},
   "source": [
    "Jak to przy rozwiązaniach siłowych, algorytm jest bardzo prosty:\n",
    "```python\n",
    "def wartości_końcowe(A, liczba_liter, ops):\n",
    "    wyniki = set()\n",
    "    \n",
    "    for op_seq in <kolekcja z wyborami ciągów operatorów(liczba_liter, ops)>:\n",
    "        E = <ostatnia wartość ciągu dla zadanego (A, op_seq)>\n",
    "        wyniki.add(E)\n",
    "    \n",
    "    return sorted(wyniki)\n",
    "```\n",
    "Obliczenie ostatniej wartości ciągu łatwo wykonać iteracyjnie pętlą `for`, my jednak postąpimy bardziej \"funkcyjnie\" i wykorzystamy do tego celu funkcję `reduce()` z modułu `functools`:"
   ]
  },
  {
   "cell_type": "code",
   "execution_count": null,
   "metadata": {},
   "outputs": [],
   "source": [
    "from functools import reduce"
   ]
  },
  {
   "cell_type": "markdown",
   "metadata": {},
   "source": [
    "Zrobimy tak, gdyż w istocie zwykłe rozwiązanie iteracyjne wykorzystuje wzorzec implementowany właśnie przez funkcję `reduce()`. Zgodnie z [dokumentacją](https://docs.python.org/3/library/functools.html) `reduce()` jest równoważna z \n",
    "```python\n",
    "def reduce(function, iterable, initializer=None):\n",
    "    it = iter(iterable)\n",
    "    if initializer is None:\n",
    "        value = next(it)\n",
    "    else:\n",
    "        value = initializer\n",
    "    for element in it:\n",
    "        value = function(value, element)\n",
    "    return value\n",
    "```\n",
    "Kod źródłowy w module `functools` możesz podejrzeć [tutaj](https://github.com/python/cpython/blob/master/Lib/functools.py). Zwróć uwagę na wykorzystanie funkcji `iter()`. Obiekt `iterable` zostaje zamieniony na iterator `it`, gdyż w wierszu `value = next(it)` pobierana jest pierwsza wartość z `iterable`. Gdyby było wiadomo, że `iterable` jest sekwencją, to wystarczyłoby `value = iterable[0]`. Ponieważ jednak `reduce()` ma działać dla wszystkich obiektów iterowalnych, a nie tylko dla sekwencji, więc dopiero zamiana na iterator pozwala na pobranie pierwszej wartości. Słowo \"pierwszej\" oznacza tu \"takiej, od jakiej zacznie iterację instrukcja `for`\". W rzeczywistości kolekcja taka jak zbiór czy słownik nie posiada żadnego \"pierwszego\" elementu, gdyż nie jest uporządkowana i użytkownik w tym przypadku nie ma kontroli nad kolejnością wartości w iteracji.\n",
    "\n",
    "Oto kilka przykładów z funkcją `reduce()`.\n",
    "\n",
    "Obliczanie sumy:"
   ]
  },
  {
   "cell_type": "markdown",
   "metadata": {},
   "source": [
    "```\n",
    "1 2 3 4\n",
    "\n",
    "v = 1\n",
    "\n",
    "v = f(v, 2) = v + 2 = 1 + 2 = 3\n",
    "v = f(v, 3) = v + 3 = 3 + 3 = 6\n",
    "v = f(v, 4) = v + 4 = 6 + 4 = 10\n",
    "```"
   ]
  },
  {
   "cell_type": "code",
   "execution_count": null,
   "metadata": {},
   "outputs": [
    {
     "data": {
      "text/plain": [
       "10"
      ]
     },
     "execution_count": 7,
     "metadata": {},
     "output_type": "execute_result"
    }
   ],
   "source": [
    "# Suma (w tym przypadku lepsza jest wbudowana funkcja sum())\n",
    "reduce(lambda x, y: x + y, [1, 2, 3, 4])"
   ]
  },
  {
   "cell_type": "markdown",
   "metadata": {},
   "source": [
    "Iloczyn:"
   ]
  },
  {
   "cell_type": "markdown",
   "metadata": {},
   "source": [
    "```\n",
    "1 2 3 4\n",
    "\n",
    "v = 1\n",
    "v = f(v, 2) = v * 2 = 1 * 2 = 2\n",
    "v = f(v, 3) = v * 3 = 2 * 3 = 6\n",
    "v = f(v, 4) = v * 4 = 6 * 4 = 24\n",
    "```"
   ]
  },
  {
   "cell_type": "markdown",
   "metadata": {},
   "source": [
    "Iloczyn ze zmienioną wartością początkową:"
   ]
  },
  {
   "cell_type": "markdown",
   "metadata": {},
   "source": [
    "```\n",
    "1 2 3 4\n",
    "\n",
    "v = 10\n",
    "v = f(v, 1) = v * 1 = 10 * 1 = 10\n",
    "v = f(v, 2) = v * 2 = 10 * 2 = 20\n",
    "v = f(v, 3) = v * 3 = 20 * 3 = 60\n",
    "v = f(v, 4) = v * 4 = 60 * 4 = 240\n",
    "```"
   ]
  },
  {
   "cell_type": "code",
   "execution_count": null,
   "metadata": {},
   "outputs": [
    {
     "data": {
      "text/plain": [
       "240"
      ]
     },
     "execution_count": 8,
     "metadata": {},
     "output_type": "execute_result"
    }
   ],
   "source": [
    "# Iloczyn\n",
    "reduce(lambda x, y: x * y, [1, 2, 3, 4], 10)"
   ]
  },
  {
   "cell_type": "markdown",
   "metadata": {},
   "source": [
    "Kumulatywne wywołania funkcji:"
   ]
  },
  {
   "cell_type": "markdown",
   "metadata": {},
   "source": [
    "```\n",
    "+4 *2 *2 +4\n",
    "\n",
    "v = 1\n",
    "v = F(v, +4) = +4(1) = 5\n",
    "v = F(v, *2) = *2(5) = 2 * 5 = 10\n",
    "v = F(v, *2) = *2(10) = 2 * 10 = 20\n",
    "v = F(v, +4) = +4(20) = 20 + 4 = 24\n",
    "```"
   ]
  },
  {
   "cell_type": "code",
   "execution_count": null,
   "metadata": {},
   "outputs": [
    {
     "data": {
      "text/plain": [
       "24"
      ]
     },
     "execution_count": 9,
     "metadata": {},
     "output_type": "execute_result"
    }
   ],
   "source": [
    "# Nasz przypadek\n",
    "def dodaj4(x):\n",
    "    return x + 4\n",
    "\n",
    "def podwój(x):\n",
    "    return 2 * x\n",
    "\n",
    "op_seq = [dodaj4, podwój, podwój, dodaj4]\n",
    "A = 1\n",
    "\n",
    "# dodaj4(podwój(podwój(dodaj4(A))))\n",
    "reduce(lambda x, f: f(x), op_seq, A)"
   ]
  },
  {
   "cell_type": "markdown",
   "metadata": {},
   "source": [
    "Zatem funkcja obliczająca ostatnią wartość to po prostu:"
   ]
  },
  {
   "cell_type": "code",
   "execution_count": null,
   "metadata": {},
   "outputs": [],
   "source": [
    "def ostatnia_wartość(A, op_seq):\n",
    "    return reduce(lambda x, f: f(x), op_seq, A)"
   ]
  },
  {
   "cell_type": "markdown",
   "metadata": {},
   "source": [
    "Zastanówmy się teraz nad iteracją po wszystkich wyborach operatorów. W\n",
    "oryginalnym zadaniu mamy cztery pozycje na operator, każdy z operatorów zmienia się niezależnie w zakresie dwóch możliwości. To daje razem $2^4=16$ ciągów wybieranych z [iloczynu kartezjańskiego](https://pl.wikipedia.org/wiki/Iloczyn_kartezja%C5%84ski) czterech jednakowych zbiorów dwuelementowych. Iloczyn kartezjański i szereg innych obiektów kombinatorycznych zdefiniowany jest w module `itertools`:"
   ]
  },
  {
   "cell_type": "code",
   "execution_count": null,
   "metadata": {},
   "outputs": [],
   "source": [
    "from itertools import product"
   ]
  },
  {
   "cell_type": "markdown",
   "metadata": {},
   "source": [
    "Dokumentację `product()` znajdziesz [tutaj](https://docs.python.org/3/library/itertools.html#itertools.product). Zwróć uwagę, że `product()` jest \"leniwy\", zwraca iterator i jeśli chcesz obejrzeć jego zawartość, to musisz na nim wykonać (jawną lub nie) iterację.\n",
    "\n",
    "Oto kilka przykładów:"
   ]
  },
  {
   "cell_type": "code",
   "execution_count": null,
   "metadata": {},
   "outputs": [
    {
     "data": {
      "text/plain": [
       "[('A', 'A'), ('A', 'B'), ('B', 'A'), ('B', 'B')]"
      ]
     },
     "execution_count": 12,
     "metadata": {},
     "output_type": "execute_result"
    }
   ],
   "source": [
    "# Iloczyn kartezjański `AB` przez siebie\n",
    "list(product('AB', repeat=2))"
   ]
  },
  {
   "cell_type": "code",
   "execution_count": null,
   "metadata": {},
   "outputs": [
    {
     "data": {
      "text/plain": [
       "[('A', 'A', 'A'),\n",
       " ('A', 'A', 'B'),\n",
       " ('A', 'B', 'A'),\n",
       " ('A', 'B', 'B'),\n",
       " ('B', 'A', 'A'),\n",
       " ('B', 'A', 'B'),\n",
       " ('B', 'B', 'A'),\n",
       " ('B', 'B', 'B')]"
      ]
     },
     "execution_count": 13,
     "metadata": {},
     "output_type": "execute_result"
    }
   ],
   "source": [
    "# Trzykrotny iloczyn kartezjański `AB` przez siebie\n",
    "list(product('AB', repeat=3))"
   ]
  },
  {
   "cell_type": "code",
   "execution_count": null,
   "metadata": {},
   "outputs": [
    {
     "data": {
      "text/plain": [
       "[('A', 'X'), ('A', 'Y'), ('A', 'Z'), ('B', 'X'), ('B', 'Y'), ('B', 'Z')]"
      ]
     },
     "execution_count": 14,
     "metadata": {},
     "output_type": "execute_result"
    }
   ],
   "source": [
    "# Iloczyn kartezjański `AB` przez 'XYZ'\n",
    "list(product('AB', 'XYZ'))"
   ]
  },
  {
   "cell_type": "markdown",
   "metadata": {},
   "source": [
    "Teraz piętrowe pętle `for` postaci:\n",
    "```python\n",
    "for i1 in K1:\n",
    "    for i2 in K2:\n",
    "        for i3 in K3:\n",
    "            <instrukcje>\n",
    "```\n",
    "możemy zwinąć do jednej:\n",
    "```python\n",
    "for i1, i2, i3 in product(K1, K2, K3):\n",
    "    <instrukcje>\n",
    "```\n",
    "Kod stał się czytelny i skalowalny. Dzięki temu, że `product()` zwraca iterator, nie ma niebezpieczeństwa \"wejścia na pamięć\"."
   ]
  },
  {
   "cell_type": "code",
   "execution_count": null,
   "metadata": {},
   "outputs": [],
   "source": [
    "def wartości_końcowe(A, liczba_liter, ops):\n",
    "    wyniki = set()\n",
    "\n",
    "    for op_seq in product(ops, repeat=liczba_liter - 1):\n",
    "        E = ostatnia_wartość(A, op_seq)\n",
    "        wyniki.add(E)\n",
    "\n",
    "    return sorted(wyniki)"
   ]
  },
  {
   "cell_type": "markdown",
   "metadata": {},
   "source": [
    "Teraz zamiast zadanie rozwiązywać, możemy ułożyć nowe. Wszystko możemy w nim ustawić: wartość początkową, liczbę liter oraz ilość i rodzaj operacji. O rozkładzie końcowych wartości wiele mówi ich wykres: "
   ]
  },
  {
   "cell_type": "code",
   "execution_count": null,
   "metadata": {},
   "outputs": [
    {
     "data": {
      "text/plain": [
       "[<matplotlib.lines.Line2D at 0x7f3d83aab510>]"
      ]
     },
     "execution_count": 16,
     "metadata": {},
     "output_type": "execute_result"
    },
    {
     "data": {
      "image/png": "[encoded data removed]",
      "text/plain": [
       "<Figure size 1600x500 with 1 Axes>"
      ]
     },
     "metadata": {},
     "output_type": "display_data"
    }
   ],
   "source": [
    "from matplotlib import pyplot as plt\n",
    "\n",
    "X = wartości_końcowe(A=1, liczba_liter=8, ops=[dodaj4, podwój])\n",
    "\n",
    "plt.figure(figsize=(16, 5))\n",
    "plt.plot(X, ls='--', marker='o')"
   ]
  },
  {
   "cell_type": "markdown",
   "metadata": {},
   "source": [
    "**Zadanie.**\n",
    "\n",
    "> *Za każdą literę A1 A2 ... A10 wstawiamy liczbę o jeden większą, o pięć większą lub dwa razy większą niż poprzednia. Jeżeli A1=1, to która z liczb nigdy nie będzie równa A10?*\n",
    "> \n",
    "> *A) 768 B) 769 C) 770 D) 771 E) 772*"
   ]
  },
  {
   "cell_type": "markdown",
   "metadata": {},
   "source": [
    "### Ciekawostka\n",
    "\n",
    "Okazuje się, że wydajność iteracji po iteratorze zwróconym przez `product()` jest nieco mniejsza niż iteracji zagnieżdżonymi instrukcjami `for`. Niezbyt rozbudowana dyskusja na ten temat znajduje się [tutaj](https://stackoverflow.com/questions/24555457/itertools-product-slower-than-nested-for-loops).\n",
    "\n",
    "Pomiar wydajności:"
   ]
  },
  {
   "cell_type": "code",
   "execution_count": null,
   "metadata": {},
   "outputs": [],
   "source": [
    "seq = range(200)"
   ]
  },
  {
   "cell_type": "code",
   "execution_count": null,
   "metadata": {},
   "outputs": [
    {
     "name": "stdout",
     "output_type": "stream",
     "text": [
      "87.9 ms ± 3.38 ms per loop (mean ± std. dev. of 7 runs, 10 loops each)\n"
     ]
    }
   ],
   "source": [
    "%%timeit\n",
    "for i1 in seq:\n",
    "    for i2 in seq:\n",
    "        for i3 in seq:\n",
    "            pass"
   ]
  },
  {
   "cell_type": "code",
   "execution_count": null,
   "metadata": {},
   "outputs": [
    {
     "name": "stdout",
     "output_type": "stream",
     "text": [
      "212 ms ± 13.5 ms per loop (mean ± std. dev. of 7 runs, 1 loop each)\n"
     ]
    }
   ],
   "source": [
    "%%timeit\n",
    "for i1, i2, i3 in product(seq, repeat=3):\n",
    "    pass"
   ]
  },
  {
   "cell_type": "markdown",
   "metadata": {},
   "source": [
    "## Ścieżka o ekstremalnej sumie\n",
    "\n",
    "> *Dana jest prostokątna tablica:*\n",
    "```\n",
    "5  4  17 13 16 16 16 1  11 17 1  2  5  11 3  \n",
    "5  15 16 5  14 4  11 2  18 7  13 13 15 5  7  \n",
    "17 13 5  8  11 15 7  1  5  15 1  10 19 15 16 \n",
    "8  6  14 12 12 19 2  7  17 2  16 20 12 10 4  \n",
    "17 10 9  5  9  13 2  17 15 18 12 11 7  19 15 \n",
    "11 5  3  4  18 12 8  19 13 5  15 11 2  19 2  \n",
    "14 8  12 10 12 2  13 9  8  15 9  16 7  19 15 \n",
    "8  1  15 2  1  13 17 8  14 16 19 16 7  16 19 \n",
    "3  20 15 13 20 3  5  19 15 6  5  19 2  5  13 \n",
    "16 8  14 18 15 13 3  8  19 1  10 18 10 20 18\n",
    "```\n",
    "*Ustawiamy pionek w lewym górnym rogu (na liczbie 5). Pionek porusza sie po polach z liczbami wykonując ruchy \"o jedno pole w prawo\" lub \"o jedno pole w dół\". Pionek przemieszcza się w ten sposób od lewego górnego do prawego dolnego rogu, sumując przy tym liczby z pól, przez które przeszedł. Wyznacz maksymalną i minimalną sumę jaką da się w ten sposób uzyskać.*\n",
    "\n",
    "Rozwiązanie siłowe polega na przejściu wszystkich możliwych ścieżek. Jak je zakodować? Pomyśl o tym w ten sposób. Załóżmy, że tablica ma rozmiar `m` wierszy razy `n` kolumn. Zatem pionek musi wykonać `m - 1` kroków w dół i `n - 1` kroków w prawo. Łącznie `m + n - 2` kroków. Wystarczy przy tym wiedzieć, kiedy porusza się w dół (w prawo), gdyż wówczas podczas kroków pozostałych musi poruszać się w prawo (w dół). W takim razie, jeśli wśród `m + n - 2` kroków wybierzemy jakkolwiek `m - 1` kroków w dół, to automatycznie wybierzemy `n - 1` kroków w prawo (i odwrotnie). Oznaczając kroki numerami `1, 2, ..., m + n - 2` wybór `m - 1` kroków w dół oznacza wybór [kombinacji](https://pl.wikipedia.org/wiki/Kombinacja_bez_powt%C3%B3rze%C5%84) `m - 1` elementowej ze zbioru `m + n - 2` elementowego. Wynika stąd w szczególności, że liczba wszystkich ścieżek jest równa\n",
    "\n",
    "$$\n",
    "\\binom{m + n -2}{m - 1}\n",
    "$$\n",
    "\n",
    "lub, co na jedno wychodzi\n",
    "\n",
    "$$\n",
    "\\binom{m + n -2}{n - 1}\n",
    "$$\n",
    "\n",
    "Przykładowo, w tablicy pionek ma do wykonania 5 kroków:\n",
    "```\n",
    "5  4  17 13\n",
    "5  15 16 5\n",
    "17 13 5  8\n",
    "```\n",
    "Dwuelementowa kombinacja `1, 4` ze zbioru `1, 2, 3, 4, 5` koduje ścieżkę `DPPDP` i sumę \n",
    "```\n",
    "5 + 5 + 15 + 16 + 5 + 8\n",
    "```\n",
    "W tym przypadku liczba ścieżek jest równa\n",
    "\n",
    "$$\n",
    "\\binom{5}{2}=\\frac{5!}{2!3!}=\\frac{4\\cdot 5}{2}=10.\n",
    "$$\n",
    "\n",
    "`k` elementowe kombinacje bez powtórzeń z obiektu iterowalnego `it` zwraca funkcja `combinations()` z modułu `itertools`: "
   ]
  },
  {
   "cell_type": "code",
   "execution_count": null,
   "metadata": {},
   "outputs": [],
   "source": [
    "from itertools import combinations"
   ]
  },
  {
   "cell_type": "code",
   "execution_count": null,
   "metadata": {},
   "outputs": [
    {
     "data": {
      "text/plain": [
       "[(1, 2),\n",
       " (1, 3),\n",
       " (1, 4),\n",
       " (1, 5),\n",
       " (2, 3),\n",
       " (2, 4),\n",
       " (2, 5),\n",
       " (3, 4),\n",
       " (3, 5),\n",
       " (4, 5)]"
      ]
     },
     "execution_count": 22,
     "metadata": {},
     "output_type": "execute_result"
    }
   ],
   "source": [
    "list(combinations([1, 2, 3, 4, 5], 2))"
   ]
  },
  {
   "cell_type": "markdown",
   "metadata": {},
   "source": [
    "Wystarczy zatem każdą z takich kombinacji zamienić na ścieżkę i wykonać po niej przejście z sumowaniem wartości. \n",
    "\n",
    "Napiszemy funkcję generatora `sumy_z_tablicy(tab)` zwracającą iterator wszystkich sum.\n",
    "\n",
    "#### Testy"
   ]
  },
  {
   "cell_type": "code",
   "execution_count": null,
   "metadata": {},
   "outputs": [],
   "source": [
    "tab = [[1, 1, 1, 1, 1],\n",
    "       [1, 0, 1, 1, 1],\n",
    "       [1, 1, 1, 1, 1],\n",
    "       [1, 1, 9, 1, 1],\n",
    "       [1, 1, 1, 1, 1]]\n",
    "\n",
    "assert sorted(set(sumy_z_tablicy(tab))) == [8, 9, 16, 17]\n",
    "\n",
    "tab = [[1, 2, 3, 4],\n",
    "       [4, 3, 2, 1],\n",
    "       [1, 0, 0, 1]]\n",
    "\n",
    "assert max(sumy_z_tablicy(tab)) == 12\n",
    "assert min(sumy_z_tablicy(tab)) == 7"
   ]
  },
  {
   "cell_type": "markdown",
   "metadata": {},
   "source": [
    "Szkielet funkcji (kroki numerujemy od zera):\n",
    "```python\n",
    "def sumy_z_tablicy(tab):\n",
    "    m, n = <wymiary tablicy>\n",
    "    \n",
    "    for komb in combinations(range(m + n - 2), m - 1):\n",
    "        ścieżka = <ścieżka pochodząca od komb z krokami w dół>\n",
    "        yield <suma tab wzdłuż ścieżki>\n",
    "```\n",
    "Funkcje kodujące ścieżkę i obliczające sumę wzdłuż ścieżki definiujemy osobno:  "
   ]
  },
  {
   "cell_type": "code",
   "execution_count": null,
   "metadata": {},
   "outputs": [],
   "source": [
    "def wyznacz_ścieżkę(m, n, komb):\n",
    "    return ''.join('D' if k in komb else 'P' for k in range(m + n - 2))"
   ]
  },
  {
   "cell_type": "code",
   "execution_count": null,
   "metadata": {},
   "outputs": [
    {
     "data": {
      "text/plain": [
       "'DPPDP'"
      ]
     },
     "execution_count": 24,
     "metadata": {},
     "output_type": "execute_result"
    }
   ],
   "source": [
    "wyznacz_ścieżkę(3, 4, [0, 3])"
   ]
  },
  {
   "cell_type": "code",
   "execution_count": null,
   "metadata": {},
   "outputs": [],
   "source": [
    "def suma_wzdłuż_ścieżki(ścieżka, tab):\n",
    "    suma = tab[0][0]\n",
    "    i, j = 0, 0\n",
    "    \n",
    "    for kierunek in ścieżka:\n",
    "        if kierunek == 'D':\n",
    "            i += 1\n",
    "        else:\n",
    "            j += 1\n",
    "        \n",
    "        suma += tab[i][j]\n",
    "    \n",
    "    return suma"
   ]
  },
  {
   "cell_type": "code",
   "execution_count": null,
   "metadata": {},
   "outputs": [
    {
     "data": {
      "text/plain": [
       "54"
      ]
     },
     "execution_count": 26,
     "metadata": {},
     "output_type": "execute_result"
    }
   ],
   "source": [
    "tab = [[5,  4, 17, 13],\n",
    "       [5,  15, 16, 5],\n",
    "       [17, 13, 5,  8]]\n",
    "\n",
    "suma_wzdłuż_ścieżki('DPPDP', tab)"
   ]
  },
  {
   "cell_type": "markdown",
   "metadata": {},
   "source": [
    "Pora na naszą funkcję:"
   ]
  },
  {
   "cell_type": "code",
   "execution_count": null,
   "metadata": {},
   "outputs": [],
   "source": [
    "def sumy_z_tablicy(tab):\n",
    "    m, n = len(tab), len(tab[0])\n",
    "\n",
    "    for komb in combinations(range(m + n - 2), m - 1):\n",
    "        ścieżka = wyznacz_ścieżkę(m, n, komb)\n",
    "        yield suma_wzdłuż_ścieżki(ścieżka, tab)"
   ]
  },
  {
   "cell_type": "code",
   "execution_count": null,
   "metadata": {},
   "outputs": [
    {
     "data": {
      "text/plain": [
       "[53, 51, 54, 54, 50, 53, 53, 55, 55, 52]"
      ]
     },
     "execution_count": 28,
     "metadata": {},
     "output_type": "execute_result"
    }
   ],
   "source": [
    "tab = [[5,  4, 17, 13],\n",
    "       [5,  15, 16, 5],\n",
    "       [17, 13, 5,  8]]\n",
    "\n",
    "list(sumy_z_tablicy(tab))"
   ]
  },
  {
   "cell_type": "code",
   "execution_count": null,
   "metadata": {},
   "outputs": [
    {
     "name": "stdout",
     "output_type": "stream",
     "text": [
      "70\n",
      "[8, 9, 16, 17]\n"
     ]
    }
   ],
   "source": [
    "tab = [[1, 1, 1, 1, 1],\n",
    "       [1, 0, 1, 1, 1],\n",
    "       [1, 1, 1, 1, 1],\n",
    "       [1, 1, 9, 1, 1],\n",
    "       [1, 1, 1, 1, 1]]\n",
    "\n",
    "lst = list(sumy_z_tablicy(tab))\n",
    "print(len(lst))\n",
    "print(sorted(set(lst)))"
   ]
  },
  {
   "cell_type": "markdown",
   "metadata": {},
   "source": [
    "Pozostało przenieść tablicę do listy i rozwiązać zadanie. Kopiujemy najpierw tablicę do łańcucha (ewentualnie wczytujemy z pliku, gdyby była na dysku):"
   ]
  },
  {
   "cell_type": "code",
   "execution_count": null,
   "metadata": {},
   "outputs": [
    {
     "data": {
      "text/plain": [
       "[[5, 4, 17, 13, 16, 16, 16, 1, 11, 17, 1, 2, 5, 11, 3],\n",
       " [5, 15, 16, 5, 14, 4, 11, 2, 18, 7, 13, 13, 15, 5, 7],\n",
       " [17, 13, 5, 8, 11, 15, 7, 1, 5, 15, 1, 10, 19, 15, 16],\n",
       " [8, 6, 14, 12, 12, 19, 2, 7, 17, 2, 16, 20, 12, 10, 4],\n",
       " [17, 10, 9, 5, 9, 13, 2, 17, 15, 18, 12, 11, 7, 19, 15],\n",
       " [11, 5, 3, 4, 18, 12, 8, 19, 13, 5, 15, 11, 2, 19, 2],\n",
       " [14, 8, 12, 10, 12, 2, 13, 9, 8, 15, 9, 16, 7, 19, 15],\n",
       " [8, 1, 15, 2, 1, 13, 17, 8, 14, 16, 19, 16, 7, 16, 19],\n",
       " [3, 20, 15, 13, 20, 3, 5, 19, 15, 6, 5, 19, 2, 5, 13],\n",
       " [16, 8, 14, 18, 15, 13, 3, 8, 19, 1, 10, 18, 10, 20, 18]]"
      ]
     },
     "execution_count": 30,
     "metadata": {},
     "output_type": "execute_result"
    }
   ],
   "source": [
    "tab = '''5  4  17 13 16 16 16 1  11 17 1  2  5  11 3  \n",
    "5  15 16 5  14 4  11 2  18 7  13 13 15 5  7  \n",
    "17 13 5  8  11 15 7  1  5  15 1  10 19 15 16 \n",
    "8  6  14 12 12 19 2  7  17 2  16 20 12 10 4  \n",
    "17 10 9  5  9  13 2  17 15 18 12 11 7  19 15 \n",
    "11 5  3  4  18 12 8  19 13 5  15 11 2  19 2  \n",
    "14 8  12 10 12 2  13 9  8  15 9  16 7  19 15 \n",
    "8  1  15 2  1  13 17 8  14 16 19 16 7  16 19 \n",
    "3  20 15 13 20 3  5  19 15 6  5  19 2  5  13 \n",
    "16 8  14 18 15 13 3  8  19 1  10 18 10 20 18'''\n",
    "\n",
    "tab = [[int(k) for k in wiersz.split()] for wiersz in tab.splitlines()]\n",
    "tab"
   ]
  },
  {
   "cell_type": "markdown",
   "metadata": {},
   "source": [
    "Przy tym rozmiarze tablicy czas pracy zaczyna być zauważalny:"
   ]
  },
  {
   "cell_type": "code",
   "execution_count": null,
   "metadata": {},
   "outputs": [
    {
     "name": "stdout",
     "output_type": "stream",
     "text": [
      "CPU times: user 4.6 s, sys: 291 µs, total: 4.6 s\n",
      "Wall time: 4.63 s\n"
     ]
    },
    {
     "data": {
      "text/plain": [
       "338"
      ]
     },
     "execution_count": 31,
     "metadata": {},
     "output_type": "execute_result"
    }
   ],
   "source": [
    "%%time\n",
    "max(sumy_z_tablicy(tab))"
   ]
  },
  {
   "cell_type": "code",
   "execution_count": null,
   "metadata": {},
   "outputs": [
    {
     "name": "stdout",
     "output_type": "stream",
     "text": [
      "CPU times: user 4.66 s, sys: 4.08 ms, total: 4.66 s\n",
      "Wall time: 4.68 s\n"
     ]
    },
    {
     "data": {
      "text/plain": [
       "197"
      ]
     },
     "execution_count": 32,
     "metadata": {},
     "output_type": "execute_result"
    }
   ],
   "source": [
    "%%time\n",
    "min(sumy_z_tablicy(tab))"
   ]
  },
  {
   "cell_type": "markdown",
   "metadata": {},
   "source": [
    "Liczba ścieżek:"
   ]
  },
  {
   "cell_type": "code",
   "execution_count": null,
   "metadata": {},
   "outputs": [
    {
     "data": {
      "text/plain": [
       "817190"
      ]
     },
     "execution_count": 33,
     "metadata": {},
     "output_type": "execute_result"
    }
   ],
   "source": [
    "from math import factorial\n",
    "\n",
    "m = len(tab)\n",
    "n = len(tab[0])\n",
    "# Dzielenie całkowite, gdyż w symbolu Newtona\n",
    "# mianownik dzieli licznik.\n",
    "factorial(m + n - 2) // (factorial(m - 1) * factorial(n - 1))"
   ]
  },
  {
   "cell_type": "code",
   "execution_count": null,
   "metadata": {},
   "outputs": [
    {
     "data": {
      "text/plain": [
       "(10, 15)"
      ]
     },
     "execution_count": 34,
     "metadata": {},
     "output_type": "execute_result"
    }
   ],
   "source": [
    "m, n"
   ]
  },
  {
   "cell_type": "code",
   "execution_count": null,
   "metadata": {},
   "outputs": [
    {
     "data": {
      "text/plain": [
       "18795370"
      ]
     },
     "execution_count": 35,
     "metadata": {},
     "output_type": "execute_result"
    }
   ],
   "source": [
    "817190 * (m + n - 2)"
   ]
  },
  {
   "cell_type": "markdown",
   "metadata": {},
   "source": [
    "### Tablice o większych rozmiarach\n",
    "\n",
    "Liczba ścieżek w tablicy o rozmiarze 30x30 jest równa:"
   ]
  },
  {
   "cell_type": "code",
   "execution_count": null,
   "metadata": {},
   "outputs": [
    {
     "name": "stdout",
     "output_type": "stream",
     "text": [
      "30067266499541040\n",
      "3.01e+16\n"
     ]
    }
   ],
   "source": [
    "b = factorial(30 + 30 - 2) // (factorial(30 - 1) * factorial(30 - 1))\n",
    "print(b)\n",
    "print('{:.2e}'.format(b))"
   ]
  },
  {
   "cell_type": "markdown",
   "metadata": {},
   "source": [
    "W tym przypadku *brute force* nie wystarczy. Algorytm, który potrafi poradzić sobie z takimi i większymi tablicami, to [algorytm Dijkstry](https://pl.wikipedia.org/wiki/Algorytm_Dijkstry).\n",
    "\n",
    "A może spróbujesz rozwiązać problem [81](https://projecteuler.net/problem=81) z serwisu [Project Euler](https://projecteuler.net/)? :-)"
   ]
  }
 ],
 "metadata": {
  "anaconda-cloud": {},
  "kernelspec": {
   "display_name": "Python 3 (ipykernel)",
   "language": "python",
   "name": "python3"
  },
  "language_info": {
   "codemirror_mode": {
    "name": "ipython",
    "version": 3
   },
   "file_extension": ".py",
   "mimetype": "text/x-python",
   "name": "python",
   "nbconvert_exporter": "python",
   "pygments_lexer": "ipython3",
   "version": "3.11.3"
  }
 },
 "nbformat": 4,
 "nbformat_minor": 1
}
